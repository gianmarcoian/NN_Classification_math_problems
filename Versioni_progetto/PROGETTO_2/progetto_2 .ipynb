{
  "nbformat": 4,
  "nbformat_minor": 0,
  "metadata": {
    "colab": {
      "provenance": []
    },
    "kernelspec": {
      "name": "python3",
      "display_name": "Python 3"
    },
    "language_info": {
      "name": "python"
    }
  },
  "cells": [
    {
      "cell_type": "code",
      "execution_count": 1,
      "metadata": {
        "colab": {
          "base_uri": "https://localhost:8080/"
        },
        "id": "zmBzc4X6lL3Q",
        "outputId": "8cdf624d-3632-467b-90a3-4db3b1579011"
      },
      "outputs": [
        {
          "output_type": "stream",
          "name": "stdout",
          "text": [
            "2.11.0\n"
          ]
        }
      ],
      "source": [
        "import tensorflow as tf\n",
        "from tensorflow import keras\n",
        "\n",
        "import numpy as np\n",
        "from numpy import array\n",
        "\n",
        "print(tf.__version__)"
      ]
    },
    {
      "cell_type": "markdown",
      "source": [
        "Importo cartella di tutti gli esercizi matematici, zippata in dati.zip"
      ],
      "metadata": {
        "id": "AYprzdk3XQNO"
      }
    },
    {
      "cell_type": "code",
      "source": [
        "from zipfile import ZipFile\n",
        "file_name = \"dati.zip\"\n",
        "\n",
        "with ZipFile(file_name,'r') as zip:\n",
        "  zip.extractall()\n",
        "  print('Done1')"
      ],
      "metadata": {
        "colab": {
          "base_uri": "https://localhost:8080/"
        },
        "id": "0UVsBMlUlT2w",
        "outputId": "7ee78e78-f5c6-4fba-934e-7c94973086e6"
      },
      "execution_count": 2,
      "outputs": [
        {
          "output_type": "stream",
          "name": "stdout",
          "text": [
            "Done1\n"
          ]
        }
      ]
    },
    {
      "cell_type": "markdown",
      "source": [
        "Importo varie librerie, tra cui di rilievo numpy e pandas e ovviamente tensorflow->keras"
      ],
      "metadata": {
        "id": "97bYhsnfXWp7"
      }
    },
    {
      "cell_type": "code",
      "source": [
        "from tensorflow import keras\n",
        "import pandas as pd\n",
        "import re\n",
        "import numpy as np\n",
        "from tensorflow.keras.preprocessing.text import Tokenizer\n",
        "from tensorflow.keras.preprocessing.sequence import pad_sequences\n",
        "from tensorflow.keras.layers import Dense, Embedding, LSTM, Bidirectional, Flatten\n",
        "from tensorflow.keras.models import Sequential\n",
        "import matplotlib.pyplot as plt\n",
        "%matplotlib inline\n",
        "import os\n",
        "from sklearn.model_selection import train_test_split\n",
        "\n",
        "import tensorflow as tf\n",
        "from tensorboard.plugins import projector\n",
        "plt.style.use('ggplot')\n"
      ],
      "metadata": {
        "id": "x4Y5LdTKJC7F"
      },
      "execution_count": 3,
      "outputs": []
    },
    {
      "cell_type": "code",
      "source": [
        "tutti_gli_esercizi=[] #contenitore di tutte gli esercizi, sia di test che di training, mi servirà per fare embedding(non voglio che a stessi indici del vocabolario corrispondano parole diverse)\n"
      ],
      "metadata": {
        "id": "90vFH2uVHDs7"
      },
      "execution_count": 4,
      "outputs": []
    },
    {
      "cell_type": "markdown",
      "source": [
        "Leggo tutti i file di testo della cartella esercizi matematici, tramite un for itero ogni stringa di ogni file di testo e la metto in contenitori (1 per i dati di training, 1 per i dati di test e 1 per il validation set.\n",
        "\n",
        "Le etichette saranno poi un indice da 1 a 7 con la seguente mappatura:\n",
        "\n",
        "1) 3D geometric figures in spatial diagrams \n",
        "\n",
        "2) arithmetic\n",
        "\n",
        "3) crypto-arithmetic\n",
        "\n",
        "4) geometric figures in spatial diagrams OR puzzle\n",
        "\n",
        "5) spatial reasoning\n",
        "\n",
        "6) numbers in spatial diagrams\n",
        "\n",
        "7) temporal reasoning"
      ],
      "metadata": {
        "id": "7taV-3kjHMGx"
      }
    },
    {
      "cell_type": "code",
      "source": [
        "\n",
        "lista_tutti_esercizi=[]\n",
        "lista_labels=[]\n",
        "esercizio=\"\"\n",
        "'''\n",
        "2 vettori, uno per i testi e uno per le corrispettive etichette.  \n",
        "'''\n",
        "iter=1\n",
        "while(iter<=70):\n",
        "  esercizio=\"\"\n",
        "  with open(\"/content/Esercizi matematici_/train/3D geometric figures in spatial diagrams/\"+str(iter)+\".txt\", \"r\") as f:\n",
        "    parole_esercizio= f.readlines()\n",
        "    for line in parole_esercizio:\n",
        "      esercizio+=line\n",
        "  lista_tutti_esercizi.append(esercizio)\n",
        "  tutti_gli_esercizi.append(esercizio)\n",
        "  esercizio=\"\"\n",
        "  lista_labels.append(1)\n",
        "  \n",
        "  with open(\"/content/Esercizi matematici_/train/arithmetic/\"+str(iter)+\".txt\", \"r\") as f:\n",
        "    parole_esercizio= f.readlines()\n",
        "    for line in parole_esercizio:\n",
        "      esercizio+=line\n",
        "  lista_tutti_esercizi.append(esercizio)\n",
        "  tutti_gli_esercizi.append(esercizio)\n",
        "  esercizio=\"\"\n",
        "  lista_labels.append(2)\n",
        "\n",
        "  with open(\"/content/Esercizi matematici_/train/crypto-arithmetic/\"+str(iter)+\".txt\", \"r\") as f:\n",
        "    parole_esercizio= f.readlines()\n",
        "    for line in parole_esercizio:\n",
        "      esercizio+=line\n",
        "  lista_tutti_esercizi.append(esercizio)\n",
        "  esercizio=\"\"\n",
        "  lista_labels.append(3)\n",
        "\n",
        "  if(iter<45 or iter>49):\n",
        "    with open(\"/content/Esercizi matematici_/train/geometric figures in spatial diagrams OR puzzle/\"+str(iter)+\".txt\", \"r\") as f:\n",
        "      parole_esercizio= f.readlines()\n",
        "      for line in parole_esercizio:\n",
        "        esercizio+=line\n",
        "    lista_tutti_esercizi.append(esercizio)\n",
        "    tutti_gli_esercizi.append(esercizio)\n",
        "    esercizio=\"\"\n",
        "    lista_labels.append(4)\n",
        "\n",
        "  if(iter<16 or iter>17):\n",
        "    with open(\"/content/Esercizi matematici_/train/spatial reasoning/\"+str(iter)+\".txt\", \"r\") as f:\n",
        "      parole_esercizio= f.readlines()\n",
        "      for line in parole_esercizio:\n",
        "        esercizio+=line\n",
        "    lista_tutti_esercizi.append(esercizio)\n",
        "    tutti_gli_esercizi.append(esercizio)\n",
        "    esercizio=\"\"\n",
        "    lista_labels.append(5)\n",
        "\n",
        "  with open(\"/content/Esercizi matematici_/train/numbers in spatial diagrams/\"+str(iter)+\".txt\", \"r\") as f:\n",
        "    parole_esercizio= f.readlines()\n",
        "    for line in parole_esercizio:\n",
        "      esercizio+=line\n",
        "  lista_tutti_esercizi.append(esercizio)\n",
        "  tutti_gli_esercizi.append(esercizio)\n",
        "  esercizio=\"\"\n",
        "  lista_labels.append(6)\n",
        "\n",
        "  with open(\"/content/Esercizi matematici_/train/temporal reasoning/\"+str(iter)+\".txt\", \"r\") as f:\n",
        "    parole_esercizio= f.readlines()\n",
        "    for line in parole_esercizio:\n",
        "      esercizio+=line\n",
        "  lista_tutti_esercizi.append(esercizio)\n",
        "  tutti_gli_esercizi.append(esercizio)\n",
        "  esercizio=\"\"\n",
        "  lista_labels.append(7)\n",
        "\n",
        "  iter+=1\n"
      ],
      "metadata": {
        "id": "nF1Y7sEcHHmw"
      },
      "execution_count": 5,
      "outputs": []
    },
    {
      "cell_type": "code",
      "source": [
        "'''dati di test'''\n",
        "lista_tutti_esercizi_test=[]\n",
        "lista_labels_test=[]\n",
        "esercizio=\"\"\n",
        "iter=81\n",
        "while(iter<=116):\n",
        "  esercizio=\"\"\n",
        "  if(iter<=97):\n",
        "    with open(\"/content/Esercizi matematici_/test/3D geometric figures in spatial diagrams/\"+str(iter)+\".txt\", \"r\") as f:\n",
        "      parole_esercizio= f.readlines()\n",
        "      for line in parole_esercizio:\n",
        "        esercizio+= line\n",
        "    lista_tutti_esercizi_test.append(esercizio)\n",
        "    tutti_gli_esercizi.append(esercizio)\n",
        "    esercizio=\"\"\n",
        "    lista_labels_test.append(1)\n",
        "\n",
        "  if(iter<=111):\n",
        "    with open(\"/content/Esercizi matematici_/test/arithmetic/\"+str(iter)+\".txt\", \"r\") as f:\n",
        "      parole_esercizio= f.readlines()\n",
        "      for line in parole_esercizio:\n",
        "        esercizio+= line\n",
        "    lista_tutti_esercizi_test.append(esercizio)\n",
        "    tutti_gli_esercizi.append(esercizio)\n",
        "    esercizio=\"\"\n",
        "    lista_labels_test.append(2)\n",
        "\n",
        "  if(iter<=112):\n",
        "    with open(\"/content/Esercizi matematici_/test/crypto-arithmetic/\"+str(iter)+\".txt\", \"r\") as f:\n",
        "      parole_esercizio= f.readlines()\n",
        "      for line in parole_esercizio:\n",
        "        esercizio+= line\n",
        "    lista_tutti_esercizi_test.append(esercizio)\n",
        "    tutti_gli_esercizi.append(esercizio)\n",
        "    esercizio=\"\"\n",
        "    lista_labels_test.append(3)\n",
        "\n",
        "  if(iter<100):\n",
        "    with open(\"/content/Esercizi matematici_/test/geometric figures in spatial diagrams OR puzzle/\"+str(iter)+\".txt\", \"r\") as f:\n",
        "      parole_esercizio= f.readlines()\n",
        "      for line in parole_esercizio:\n",
        "        esercizio+= line\n",
        "    lista_tutti_esercizi_test.append(esercizio)\n",
        "    tutti_gli_esercizi.append(esercizio)\n",
        "    esercizio=\"\"\n",
        "    lista_labels_test.append(4)\n",
        "\n",
        "  if(iter<116):\n",
        "    with open(\"/content/Esercizi matematici_/test/spatial reasoning/\"+str(iter)+\".txt\", \"r\") as f:\n",
        "      parole_esercizio= f.readlines()\n",
        "      for line in parole_esercizio:\n",
        "        esercizio+= line\n",
        "    lista_tutti_esercizi_test.append(esercizio)\n",
        "    tutti_gli_esercizi.append(esercizio)\n",
        "    esercizio=\"\"\n",
        "    lista_labels_test.append(5)\n",
        "\n",
        "  if(iter<=100):\n",
        "    with open(\"/content/Esercizi matematici_/test/numbers in spatial diagrams/\"+str(iter)+\".txt\", \"r\") as f:\n",
        "      parole_esercizio= f.readlines()\n",
        "      for line in parole_esercizio:\n",
        "        esercizio+= line\n",
        "    lista_tutti_esercizi_test.append(esercizio)\n",
        "    tutti_gli_esercizi.append(esercizio)\n",
        "    esercizio=\"\"\n",
        "    lista_labels_test.append(6)\n",
        "\n",
        "  if(iter<=101):\n",
        "    with open(\"/content/Esercizi matematici_/test/temporal reasoning/\"+str(iter)+\".txt\", \"r\") as f:\n",
        "      parole_esercizio= f.readlines()\n",
        "      for line in parole_esercizio:\n",
        "        esercizio+= line\n",
        "    lista_tutti_esercizi_test.append(esercizio)\n",
        "    tutti_gli_esercizi.append(esercizio)\n",
        "    esercizio=\"\"\n",
        "    lista_labels_test.append(7)\n",
        "\n",
        "  iter+=1"
      ],
      "metadata": {
        "id": "QeRBNOZCHQdT"
      },
      "execution_count": 6,
      "outputs": []
    },
    {
      "cell_type": "code",
      "source": [
        "lista_tutti_esercizi_validation=[]\n",
        "lista_labels_validation=[]\n",
        "esercizio=\"\"\n",
        "'''\n",
        "\n",
        "VALIDATION\n",
        "\n",
        "'''\n",
        "iter=71\n",
        "while(iter<=80):\n",
        "  esercizio=\"\"\n",
        "  with open(\"/content/Esercizi matematici_/validation/3D geometric figures in spatial diagrams/\"+str(iter)+\".txt\", \"r\") as f:\n",
        "    parole_esercizio= f.readlines()\n",
        "    for line in parole_esercizio:\n",
        "      esercizio+=line\n",
        "  lista_tutti_esercizi_validation.append(esercizio)\n",
        "  tutti_gli_esercizi.append(esercizio)\n",
        "  esercizio=\"\"\n",
        "  lista_labels_validation.append(1)\n",
        "  \n",
        "  with open(\"/content/Esercizi matematici_/validation/arithmetic/\"+str(iter)+\".txt\", \"r\") as f:\n",
        "    parole_esercizio= f.readlines()\n",
        "    for line in parole_esercizio:\n",
        "      esercizio+=line\n",
        "  lista_tutti_esercizi_validation.append(esercizio)\n",
        "  tutti_gli_esercizi.append(esercizio)\n",
        "  esercizio=\"\"\n",
        "  lista_labels_validation.append(2)\n",
        "\n",
        "  with open(\"/content/Esercizi matematici_/validation/crypto-arithmetic/\"+str(iter)+\".txt\", \"r\") as f:\n",
        "    parole_esercizio= f.readlines()\n",
        "    for line in parole_esercizio:\n",
        "      esercizio+=line\n",
        "  lista_tutti_esercizi_validation.append(esercizio)\n",
        "  tutti_gli_esercizi.append(esercizio)\n",
        "  esercizio=\"\"\n",
        "  lista_labels_validation.append(3)\n",
        "\n",
        "\n",
        "  with open(\"/content/Esercizi matematici_/validation/geometric figures in spatial diagrams OR puzzle/\"+str(iter)+\".txt\", \"r\") as f:\n",
        "    parole_esercizio= f.readlines()\n",
        "    for line in parole_esercizio:\n",
        "      esercizio+=line\n",
        "  lista_tutti_esercizi_validation.append(esercizio)\n",
        "  tutti_gli_esercizi.append(esercizio)\n",
        "  esercizio=\"\"\n",
        "  lista_labels_validation.append(4)\n",
        "\n",
        "\n",
        "  with open(\"/content/Esercizi matematici_/validation/spatial reasoning/\"+str(iter)+\".txt\", \"r\") as f:\n",
        "    parole_esercizio= f.readlines()\n",
        "    for line in parole_esercizio:\n",
        "      esercizio+=line\n",
        "  lista_tutti_esercizi_validation.append(esercizio)\n",
        "  tutti_gli_esercizi.append(esercizio)\n",
        "  esercizio=\"\"\n",
        "  lista_labels_validation.append(5)\n",
        "\n",
        "  with open(\"/content/Esercizi matematici_/validation/numbers in spatial diagrams/\"+str(iter)+\".txt\", \"r\") as f:\n",
        "    parole_esercizio= f.readlines()\n",
        "    for line in parole_esercizio:\n",
        "      esercizio+=line\n",
        "  lista_tutti_esercizi_validation.append(esercizio)\n",
        "  tutti_gli_esercizi.append(esercizio)\n",
        "  esercizio=\"\"\n",
        "  lista_labels_validation.append(6)\n",
        "\n",
        "  with open(\"/content/Esercizi matematici_/validation/temporal reasoning/\"+str(iter)+\".txt\", \"r\") as f:\n",
        "    parole_esercizio= f.readlines()\n",
        "    for line in parole_esercizio:\n",
        "      esercizio+=line\n",
        "  lista_tutti_esercizi_validation.append(esercizio)\n",
        "  tutti_gli_esercizi.append(esercizio)\n",
        "  esercizio=\"\"\n",
        "  lista_labels_validation.append(7)\n",
        "\n",
        "  iter+=1\n"
      ],
      "metadata": {
        "id": "7VbWe3UyHTq3"
      },
      "execution_count": 7,
      "outputs": []
    },
    {
      "cell_type": "markdown",
      "source": [
        "Inserisco i dati in un dataFrame, DataFrame di Pandas, così che mi si faciliti la loro gestione, ottenendo un'indicizzazione che ricorda un foglo excel"
      ],
      "metadata": {
        "id": "5I8R7soRHbwY"
      }
    },
    {
      "cell_type": "code",
      "source": [
        "train_d={'esercizi':lista_tutti_esercizi,'etichette':lista_labels}\n",
        "test_d={'esercizi':lista_tutti_esercizi_test,'etichette':lista_labels_test}\n",
        "\n",
        "train_data = pd.DataFrame(data=train_d)\n",
        "test_data = pd.DataFrame(data=test_d)\n",
        "\n",
        "print(train_data)\n",
        "print(test_data)"
      ],
      "metadata": {
        "colab": {
          "base_uri": "https://localhost:8080/"
        },
        "id": "ymlO-PdpHYz3",
        "outputId": "bdaa0e37-45c9-4bd0-9f33-c531b1f0e4d2"
      },
      "execution_count": 8,
      "outputs": [
        {
          "output_type": "stream",
          "name": "stdout",
          "text": [
            "                                              esercizi  etichette\n",
            "0    La panchina che vedete in figura è stata\\ncost...          1\n",
            "1    Jacopo ha ottenuto 35 punti lanciando 4 frecce...          2\n",
            "2    Le cinque caselle bianche vanno completate con...          3\n",
            "3    Quanti sono i percorsi diversi che si possono ...          4\n",
            "4    Il tappeto rettangolare grigio che vedete in\\n...          5\n",
            "..                                                 ...        ...\n",
            "478  Scrivete nelle caselle lungo il perimetro del\\...          3\n",
            "479  Nove bambini — Alessandro, Bernardo, Clotilde,...          4\n",
            "480  Vista dall’alto, una torta è un disco perfetto...          5\n",
            "481  Scriviamo due numeri diversi di una cifra (da ...          6\n",
            "482  La lumaca Lilly vive in un bel giardino ma ama...          7\n",
            "\n",
            "[483 rows x 2 columns]\n",
            "                                              esercizi  etichette\n",
            "0    Emi dispone di 120 piccoli cubi tutti uguali: ...          1\n",
            "1    Moltiplica per 4 il numero del mese di nascita...          2\n",
            "2    Sistemate le cifre 1 (due volte), 2, 5 nella f...          3\n",
            "3    Matilde fa osservare a Mattia che vi sono 76 m...          4\n",
            "4    Desiderio ha trovato, nel solaio del nonno, la...          5\n",
            "..                                                 ...        ...\n",
            "170  Scrivete i numeri interi da 1 a 9 nelle nove c...          3\n",
            "171  Mattia ha disposto 12 fiammiferi sul suo tavol...          5\n",
            "172  Ognuno dei sette nani ha messo una mela su una...          5\n",
            "173  Con 12 fiammiferi, Lucia ha\\ncostruito una fig...          5\n",
            "174  Evidenziate alcune delle\\nlinee tratteggiate i...          5\n",
            "\n",
            "[175 rows x 2 columns]\n"
          ]
        }
      ]
    },
    {
      "cell_type": "code",
      "source": [
        "train_data['esercizi'] = train_data['esercizi'].apply(lambda x: x.lower()) # to lowercase\n",
        "train_data['esercizi'] = train_data['esercizi'].apply((lambda x: re.sub('[^a-z\\s]', '', x))) # remove all characters that are not in a-z\n",
        "train_data['esercizi'] = train_data['esercizi'].replace(r'\\n',' ', regex=True)\n",
        "\n",
        "\n",
        "test_data['esercizi'] = test_data['esercizi'].apply(lambda x: x.lower()) # to lowercase\n",
        "test_data['esercizi'] = test_data['esercizi'].apply((lambda x: re.sub('[^a-z\\s]', '', x))) # remove all characters that are not in a-z\n",
        "test_data['esercizi'] = test_data['esercizi'].replace(r'\\n',' ', regex=True)\n",
        "\n",
        "for i in range(len(tutti_gli_esercizi)):\n",
        "  tutti_gli_esercizi[i] = tutti_gli_esercizi[i].lower()\n",
        "  tutti_gli_esercizi[i] = re.sub('[^a-z\\s]', '', tutti_gli_esercizi[i])\n",
        "  tutti_gli_esercizi[i] = tutti_gli_esercizi[i].replace('\\n',' ')\n",
        "\n",
        "for i in range(len(lista_tutti_esercizi_validation)):\n",
        "  lista_tutti_esercizi_validation[i] = lista_tutti_esercizi_validation[i].lower()\n",
        "  lista_tutti_esercizi_validation[i] = re.sub('[^a-z\\s]', '', lista_tutti_esercizi_validation[i])\n",
        "  lista_tutti_esercizi_validation[i] = lista_tutti_esercizi_validation[i].replace('\\n',' ')\n",
        "\n",
        "print(train_data)\n",
        "print(test_data)\n",
        "print(tutti_gli_esercizi)\n",
        "print(lista_tutti_esercizi_validation)"
      ],
      "metadata": {
        "colab": {
          "base_uri": "https://localhost:8080/"
        },
        "id": "E6D6MIwKHdxU",
        "outputId": "cbb23dcc-c638-443f-a22c-b1c81e621821"
      },
      "execution_count": 9,
      "outputs": [
        {
          "output_type": "stream",
          "name": "stdout",
          "text": [
            "                                              esercizi  etichette\n",
            "0    la panchina che vedete in figura  stata costru...          1\n",
            "1    jacopo ha ottenuto  punti lanciando  freccette...          2\n",
            "2    le cinque caselle bianche vanno completate con...          3\n",
            "3    quanti sono i percorsi diversi che si possono ...          4\n",
            "4    il tappeto rettangolare grigio che vedete in f...          5\n",
            "..                                                 ...        ...\n",
            "478  scrivete nelle caselle lungo il perimetro del ...          3\n",
            "479  nove bambini  alessandro bernardo clotilde dav...          4\n",
            "480  vista dallalto una torta  un disco perfetto co...          5\n",
            "481  scriviamo due numeri diversi di una cifra da  ...          6\n",
            "482  la lumaca lilly vive in un bel giardino ma ama...          7\n",
            "\n",
            "[483 rows x 2 columns]\n",
            "                                              esercizi  etichette\n",
            "0    emi dispone di  piccoli cubi tutti uguali  blu...          1\n",
            "1    moltiplica per  il numero del mese di nascita ...          2\n",
            "2    sistemate le cifre  due volte   nella figura i...          3\n",
            "3    matilde fa osservare a mattia che vi sono  man...          4\n",
            "4    desiderio ha trovato nel solaio del nonno la t...          5\n",
            "..                                                 ...        ...\n",
            "170  scrivete i numeri interi da  a  nelle nove cas...          3\n",
            "171  mattia ha disposto  fiammiferi sul suo tavolo ...          5\n",
            "172  ognuno dei sette nani ha messo una mela su una...          5\n",
            "173  con  fiammiferi lucia ha costruito una figura ...          5\n",
            "174  evidenziate alcune delle linee tratteggiate in...          5\n",
            "\n",
            "[175 rows x 2 columns]\n",
            "['la panchina che vedete in figura  stata costruita da maria quanti mattoni ha usato maria per costruire la sua panchina ', 'jacopo ha ottenuto  punti lanciando  freccette con la prima aveva ottenuto  punti indicate gli altri tre punteggi ottenuti ', 'quanti sono i percorsi diversi che si possono seguire per leggere la parola maths nella figura  contate anche il percorso gi tracciato ', 'il tappeto rettangolare grigio che vedete in figura copre unarea di      piastrelle del pavimento purtroppo al suo interno si  creato un grande buco in figura si vedono le piastrelle che stavano sotto il tappeto di quante piastrelle  larea coperta dalla parte rimasta grigia del tappeto ', 'in ognuna delle tre seguenti sequenze una mano dispettosa ha cancellato un numero                        a dire il vero il numero mancante  sempre lo stesso qual ', 'alla  regata  di  castiglione  della  pescaia  hanno  partecipato  le  sei  imbarcazioni  che  vedete  in  figura   ognuna con un numero scritto sulla vela la somma dei numeri delle imbarcazioni classificatesi ai primi tre posti  uguale  a  e il numero della barca arrivata terza  il doppio di quella che si  classificata al secondo posto  qual  il numero dellimbarcazione che ha vinto la regata', 'la costruzione che vedete in figura in cui non ci sono buchi nascosti  composta da tanti cubetti verniciati allesterno di rosso escluse le  facce che poggiano sul pavimento quanti cubetti hanno solo  facce rosse', 'ciascuno dei dadi della figura ha sulle facce dei punti che vanno da  a  la somma dei punti su due facce opposte  sempre uguale a  qual  la somma dei punti sulle facce dei due cubi non visibili in figura', 'la figura rappresenta tre dischetti di cartone appoggiati alla rinfusa sul tavolo scrivete un  nella zona o nelle zone dove tutti e tre i dischetti si sovrappongono scrivete un  nella zona o nelle zone dove si sovrappongono solo due dischetti ', 'dividete il disco della figura con una retta in modo che risultino uguali le somme dei numeri contenuti in ciascuna delle due parti ', 'nelloperazione della figura ognuno dei tre simboli rappresenta una cifra diversa sapendo che il quadrato scuro vale  sapete dire quanto vale il cerchietto scuro', 'matteo ha  anni nathan suo fratellino ne ha  quanti anni avr nathan quando matteo ne avr il doppio di quelli che ha adesso ', 'guardate la costruzione nella figura qui sopra sembra una scala ma sotto ogni mattone che si vede non ci sono buchi nascosti la larghezza di ogni piano diminuisce rispetto a quello inferiore di due cubetti fino ad arrivare allultimo piano formato da un solo cubetto quanti cubetti poggiano sul tavolo ', 'i cammelli hanno due gobbe i dromedari una sola se in uno zoo si contano  gobbe e i cammelli sono  quanti saranno i dromedari ', 'quanti quadrati riuscite a vedere nella figura ', 'per   il   compleanno   di   jacob   la   mamma  ha  comprato  la  torta  che  vedete in figura e sulla quale sono state poste   fragole vedete anche i  due  tagli  fatti  dal  pap  di  jacob  che   ha   diviso   la   torta   in   tre  avendo cura di non toccare e tagliare le fragole fate  altri  due  tagli  rettilinei  senza  spostare  tra  un  taglio  e  laltro  le  fette  cos  ottenute  in  modo  da   avere alla   fine      partinon   necessariamente   della   stessa   forma contenenti ciascuna una fragola', 'mettete i numeri  nei mattoncini vuoti della piramide attenzione per al  e  piano i numeri scritti in un mattoncino devono essere uguali alla somma dei numeri scritti nei due mattoncini sui quali quel mattoncino si appoggia ', 'nel suo diario luca ha scritto laltro ieri sono andato in piscina e dopodomani che  il giorno prima di  quello  che  precede il sabato andr a trovare i nonniin  quale  giorno  della  settimana  luca    andato  in  piscina ', 'in   figura   vedete   un   solido   che quando  poggiato su un tavolo  ha  tutte  le  sue  facce  piane orizzontali  o verticali  quante facce ha al minimo questo solido', 'chiara ha pensato un numero e dice che  il pi piccolo numero che non comincia con zero ed  formato da quattro cifre pari scelte dunque fra      tutte diverse tra loro qual  il numero che chiara ha pensato ', 'quanti triangoli anche di diverse dimensioni riuscite a vedere nel gatto rappresentato in figura ', 'debora vuole dividere il cartone della figura in tante parti quadrate o rettangolariquante ne ottiene al minimo', 'mettete le cifre    e  nelle caselle ancora libere delladdizione riportata in figura in modo che loperazione sia giusta           ', 'la sveglia di luca perfettamente funzionante salvo per il fatto che una cifra nonsi illumina mai  questa notte luca si  svegliato una prima voltae sulla sveglia ha letto la seguente ora   h  minpoi si  svegliato una seconda volta   pi di  ora  ma meno di ore dopo la prima volta  e ha visto lora   h  min  che ora era quando luca si  svegliato  la prima volta', 'quanti  cubetti  sono  stati  utilizzati  per  costruire questa piramide', 'con le cifre di  si possono scrivere molti numeri sempre composti da cifre diverse nessuno comincia con  scrivete la differenza tra il pi grande e il pi piccolo dei numeri che avete scritto con le cifre di  ', 'collocate       nella       parte  ancora  bianca della scacchiera i  quattro  pezzi  attualmente  alla  sua  de  stra in modo da ricoprire completamente la scacchiera', 'un filo di ferro  stato piegato in modo da assumere la forma di ferro di cavallo che vedete in figura se tracciate due rette in quanti pezzi al massimo potete suddividere il vostro filo di ferro i pezzi ottenuti dopo aver tracciato la prima retta non possono essere spostati', 'dovete collocare tutte le cifre da  a  incluse nei cerchietti della figura per aiutarvi   e  sono state gi scritte in modo che le somme dei numeri collegati da un segmento siano sempre uguali a  quale numero in particolare avete scritto nel cerchietto in alto in mezzo  ', 'quando sono le  di notte lorologio del campanile battetre colpi tra il primo e il terzo di questi colpi passanoesattamente  secondi a mezzogiorno il campanile batte colpi quanti secondi passano tra il primo e lultimo dei colpidi mezzogiorno', 'angelo ama molto giocare con carta e forbici adesso ha a disposizione una striscia di carta che piega per due volte  di seguito come indicato nel disegno sottostante ottiene un rettangolo formato da quattro spessori di carta  prende poi le forbici e ritaglia due tacche a forma di semicerchio su due lati del rettangolo come in figura fatto questo  ridistende la striscia di carta dite quale delle tre strisce dispiegate vedi il foglio risposte  quella ottenuta da angelo', 'una cassetta piena di arance pesa kg se quando  piena a met pesa kg quanti kg di arance contiene quando  piena ', 'collocate     nel quadrato   i      pezzi   che adesso compaiono nella  figura  in  basso  in  modo  da  ricoprirlo completamente i        pezzi   possono   essere   ruotati        ma        non        capovolti', 'quale tra le sei forme numerate della figura ha una superficie uguale a quella del pesce', 'dovete scrivere nelle tre righe della griglia tre numeri ciascuno composto da due cifre per aiutarvi il   stato gi scritto le sei cifre devono essere tutte diverse e tali che il numero che si legger nella seconda riga risulti il doppio di quello della prima e che il numero della terza riga risulti il triplo di quello della prima quale numero in particolare avete scritto nella seconda riga ', 'il giorno   gennaio   stato il primo giorno del terzo millenniocompletate allora la seguente frase il   ottobre  sar il  esimo giornodel terzo millennionota riempite i puntini con il numero richiesto scritto incifre ricordando che il  e il  sono stati anni bisestili', 'luca possiede tre dadi uno blu uno bianco ed uno rosso ogni dado ha le facce numerate da uno a sei e ha un numero differente su ogni faccia inoltre la somma lei numeri sulle facce opposte vale sette luca vuole mettere in posizione i suoi tre dadi sul piano della figura  in modo che  ogni dado sia pesto sulla casella corrispondente al suo colore   a somma dei numeri sulle facce visibili a b c sia uguale a quella dei numeri sulle facce visibili d e f ed allo stesso  tempo uguale al numero sulla faccia laterale g in quanti e quali modi si possono sistemare i dadi di luca rispettando le condizioni imposte', 'debora e marco dividono sempre in parti uguali le loro spese ieri debora  andata dal macellaio e ha speso  euro marco al supermercato ha speso oggi  euro quanti euro deve dare debora a marco per pareggiare i conti ', 'la griglia in figura  composta da  quadretti quanti quadrati riuscite a vedere tracciati in figura e formati da  quadretti  per lato ', 'debora si  appassionata ad un gioco con ifiammiferi in cui seguemeticolosamente alcuneregole  alla prima mossa mette un fiammifero sul tavolo nella seconda alle sue estremit appoggia due nuovi fiammiferi  nel loro punto di mezzo con la terza mossa appoggia sempre nel loro punto medio  nuovifiammiferi alle  estremit libere   quando due estremit risultanomolto vicine come per esempio nelle situazioni indicate nella figura con delle frecce  queste non devono essere pi consideratecome libere e non possono quindi ospitare nuovi fiammiferi  nella quarta mossa continua il gioco con  nuovi fiammiferi quanti fiammiferi ci saranno sul tavolo dopo la sesta mossa', 'collocate  i  numeri  interi  da    a    nei   dischi   vuoti   in   modo   che   la differenza tra i numeri di due dischi vicini il  maggiore  meno  il  minoresia sempre uguale a  oppure a ', 'il  sara aveva  anni  mesi e  giorni quale sar la sua et il  ', 'una scatola di cartone ha la fonna di un tetraedro tagliamo questa scatola secondo tre spigoli che convergono net medesimo vertice e stirando bene le facce otteniamo lo sviluppo del tetraedro questo sviluppo e un quadrato ii cui lato misura  cm qual era ii volume della scatola di partenza', ' un recinto strano quello che lo zio gio riesce a preparare per le sue caprette ha la forma di un triangolo con tutti i lati lunghi  m se per reggere la recinzione lo zio gio deve mettere un palo verticale ogni due metri di quanti pali ha bisogno ', 'jacob ha trovato sette pezzi di carta identici tra loro tutti a forma di y come in figura a destra  li vuole sistemare magari ruotandoli e capovolgendoli nella griglia che compare a sinistra senza che si sovrappongano come fare', 'dividete la figurain tre parti che abbiano la stessa forma anche se nonhanno necessariamente la stessa dimensione', 'le caselle del triangolo in figura contengono tutti i numeri interi da  a  alcuni numeri sono stati gi scritti aiutate debora a completare la figura scrivendo i numeri in ogni casella in modo tale che la somma dei numeri che compaiono su uno stesso lato del triangolo sia sempre uguale a  ', 'il prossimo  gennaio jacob potr dire  il giorno dopo di dopodomani sar esattamente una settimana dopo il mio compleanno in quale giorno jacob compie gli anni', 'lavinia mette sul tavolo in un certo ordine un rettangolo di carta un cerchio due quadrati e un triangolo sempre di carta in figura vedete la composizione che ottiene qual  lordine nel quale lavinia ha messo le varie forme di carta sul tavolo cominciate a scrivere la lettera della forma che lavinia ha messo per prima sul tavolo e poi via via le altre fino a quella che lavinia ha messo per ultima sul tavolo', 'il numero   un numero palindromo perch lo si pu leggere allo stesso modo da sinistra a destra e da destra a sinistra qual  il pi piccolo numero palindromo successivo a  ', 'quanti triangoli riuscite a vedere nella figura ', 'i      fiammiferi   della   figuraformano      quadrati   quello grande e quattro piccoli trovate un modo di spostare di questi fiammiferi cos daformare adesso  quadratidisegnate la nuova figura nelfoglio risposte ', 'inserisci tutti i numeri      neicerchi liberi dellafigura in modo cheogni numero scrittoallinterno   di   untriangolo   sia   lasomma di quelli riportati nei suoi trevertici', 'carla  ha  un  orologio  che  rimane  indietro  tre  minuti  ogni  ora questa mattina lo ha messo a posto alle  che ora far il suo orologio domani mattina alle ', 'desiderio ha costruito il solido che vedete in figura incollando tra di loro alcuni cubetti bianchi poi ha dipinto di blu tutte le facce del solido comprese quelle della sua base inferiore alla fine preso da un raptus ha di nuovo separato i vari cubetti iniziali quanti di loro hanno esattamente una e una sola faccia bianca', 'lucia  attratta dalla sequenza di cifre  si  accorta che sommando tre cifre affiancate in questa sequenza ottiene sempre come risultato  quanti  ottiene al massimo in questo modo lucia ', 'seguendo  la  quadrettatura  quanti sono  i  quadrati  che  contengono  il  quadratino grigio  attenzione dovete contare anche lo stesso quadratino grigio ', 'seguendo le linee tratteggiate dividi la strana torta del disegno in  parti uguali tutte con la stessa forma', 'i  dischi della figura devono contenere tutti i numeri interi da  a   e  sono gi stati inseriti  in modo che   la somma dei numeri scritti su ogni lato del triangolo grande sia sempre la stessa la somma dei numeri scritti nei tre dischi grigi sia uguale a quella dei tre numeri scritti nei dischi bianchi collegati dalle linee tratteggiatecompleta il disegno scrivendo i numeri da  a ', 'domenica  marzo  milena festeggera il suo compleanno con due giorni di ritardo carla e nata dieci giorni dopo milena qual e ii giorno del compleanno di carla dare il giomo della settimana il giomo del mese e il mese', 'una fabbrica di dolci ha messo sul mercato una nuova ghiottoneria che vedete in figura lha chiamata trebon perch costituita da tre diversi strati con il gusto rispettivamente alla fragola alla mela e al lampone quanti sono tutti i diversi tipi di trebon che si possono fabbricare cambiando lordine dei tre strati', 'quanto vale il  di  ', 'quanti      diversi   verticali   e   orizzontali  si  possono  leggere  nella figura a lato', 'il puzzle che vedete in figura  formato da due pezzi identici evidenzia il contorno di divisione tra i due pezzi sapendo che uno  stato ribaltato ', 'la figura di sinistra rappresenta un quadrato magico la somma dei numeri scritti in ognuna delle tre righe delle tre colonne e delle due diagonali  sempre uguale a completa il secondo quadrato magico in modo che tutte queste somme siano sempre uguali a ', 'angelo desiderio renato e pietro hanno deciso di partecipare alla maratona di mathtown bravi tagliano tutti e quattro il  traguardo con il seguente risultato pietro arriva alle  renato arriva  minuti dopo   angelo arriva  minuti dopo desiderio che a sua volta arriva  minuti prima di renato   a che ora arriva lultimo dei quattro amici ', 'milena ha assemblato  cubetti formando un grande cubo che poi ha dipinto di blu lo vedete in figura non  per soddisfatta del risultato estetico smonta allora il grande cubo e risistema i suoi cubetti in modo che il grande nuovo cubo ora ottenuto abbia il minor numero possibile di facce blu visibili quante sono le facce blu che si vedono sul nuovo cubo di milena ', 'la nonna di federica ha  caramelle e altri  nipoti pi grandi di federica distribuisce le caramelle ai nipoti dandone alcune a federica poi una di pi al secondo nipotino ancora una di pi al terzo e cos via sino ad esaurire tutte le caramelle con il nono nipotino quante caramelle ha avuto federica ', 'quanti triangoli si trovano nella figura a lato', 'il  rettangolo  a  lato  contiene    puntitracciate  una  linea  retta  che  divida i  punti in due insiemi di  punti', 'riempite  le  caselle  bianche  dello  schema  in  modo  che  leggendo  le sue righe da sinistra verso destra o le  sue  colonne  dallalto  verso  il  basso   possiate   ritrovare   tutti   i   seguenti  numeri             ', 'lucky sprint il corridore ciclista che corre piu veloce della propria ombra esce di casa egli abita sul viale dalton dove i semafori che sono solo rossi o verdi e mai gialli sono distanziati esattamente di  m luno dallaltro i semafori sono sincronizzati in modo molto semplice diventano tutti rossi simultaneamente la durata del segnale rosso e di  secondi poi simultaneamente diventano tutti verdi la durata del segnale verde e di  secondi lucky impiega  minuto e  secondi per percorrere  m sia che parta da fermo sia che parta lanciato  luclcy non passa mai con un segnale rosso ma puo passare allistante preciso in cui cambia ii colore quanti semafori successivi al massimo puo attraversare lucky sprint', 'la piramide della figura  costituita da tanti cubetti tutti uguali tra loro quanti sono precisamente i cubetti che compongono la piramide', 'gli abitanti del pianeta degli xindi sono meno di  e il loro codice di riconoscimento  un numero di  cifre tutte diverse tra loro e diverse da zero i medici del pianeta sono subito riconoscibili perch hanno un codice in cui la cifra maggiore  il doppio di quella pi piccola che  dispari quanti sono i medici ', 'desiderio si diletta a costruire puzzle oggi ha realizzato quello disegnato a destra utilizzando soltanto dei pezzi quadrati  o rettangolariquanti pezzi ha utilizzato al massimo del tipo di quello rappresentato a sinistra   i pezzi possono essere girati', 'questo puzzle  formato da due soli pezzi sovrapponibili  disegna il contorno di questi due pezzi sapendo che uno potrebbe essere  stato ribaltato per aiutarti un primo tratto del contorno di separazione tra i due pezzi  stato gi tracciato', 'scrivete  i  numeri  interi  da      a      nelle   sette cellette di questo alveare per aiutarvi la cifra   stata gi inseritaattenzione      per      la      somma    di    tre    numeri    allineati       nelle       due       diagonali       e       nella       verticale     di     mezzo deve       sempre       essere       uguale   a      inoltre   i   numeri   situati   in   tre   caselle   attraversate   da   una   freccetta   devono   essere   in   ordine   crescente nel senso della freccetta', 'nina osserva due sorgenti di segnali laser che indicheremo con le lettere a e b questi segnali sono periodici e cosi brevi che possiamo consjderarli come lei punti di luce allistante zero nina osserva che i due segnali sono emessi esattamente allo stesso istante il laser a emette un segnale rosso senza contare il segnale  dellistante zero nina ne osserva  in  minuti esatti il laser b emette un segnale verde senza contare il segnale dellistante zero nina ne osserva  in  minuti esatti dopo unora e mezza di osservazione rigorosa e attenta nina non ha mai osservato delle coincidenze tra i due segnali comunque ella ha notato che alcuni segnali erano veramente molto vicini gli uni agli altri quali sono i numeri dordine dei segnali a e b si escludano i due segnali dellistante zero che sono  i piu vicini durante le osservazioni di nina quale scarto separa i due segnali schoooer', 'mim la formica si sposta su una struttura metallica senza mai fare inversione a u parte da uno qualunque dei  vertici e vuole ritornare ad esso passando almeno una volta per ciascuno dei suoi  spigoli la lunghezza di ogni spigolo  di un decimetro quale distanza in decimetri dovr percorrere al minimo mim', 'desiderio e liliana sono bravissimi a pelare le patate oggi ne hanno da pelare  kg desiderio se lavorasse da solo impiegherebbe  minuti liliana  pi veloce e da sola ci metterebbe  minuti quanti minuti impiegano desiderio e liliana mettendosi assieme a pelare le patate ', 'quanti rettangoli si possono contare nel disegno qui sopra attenzione un rettangolo puo essere costituito da altri rettangoli piu piccoli', 'milena deve colorare le piastrelle che  figurano  nel  disegno  vuole  per    fare    in    modo    che    due    esagoni   che    hanno   un   lato   in   comune   non   siano   mai   dello   stesso  colore  fai  anche  tu  come  milena       utilizzando    il    minor    numero di colori possibile quanti colori ti serviranno', 'abbiamo  cominciato  a  scrivere  il  numero    nella  griglia  del disegno voi  adesso  dovete sistemare in  qualche  modo  i  numeri       e    nelle  altre  quattro caselle in modo che la somma dei    tre    numeri    della    linea orizzontale    sia    uguale    alla somma   dei   tre   numeri   della linea verticale ', 'le macchine che controllano i biglietti della metropolitana di parigi non timbrano pi i biglietti come prima ma imprimono il numero del giorno dellanno a partire dal   gennaio a cui corrisponde il numerato   se si prende la metropolitana oggi  settembre quale numero viene stampato sul biglietto', 'una scatola a forma di parallelepipedo pu essere riempita completamente con dei cubi di  cm di lato se invece si mette nella scatola il pi grande numero di cubi di   di volume con i lati dei cubetti paralleli ai lati della scatola si riempie al massimo un  della scatola trovate il volume minimo della scatola che soddisfa tutte le precedenti condizioni', 'la calcolatrice di carla arrotonda i risultati che ottiene scrivendone solo la prima cifra dopo la virgola se per esempio il risultato di un calcolo   la calcolatrice scrive il numero  carla imposta il numero  e poi chiede alla calcolatrice di eseguire tre successive divisioni per  qual  lultimo risultato che dar la calcolatrice  ', 'nel giorno del suo compleanno nel  simone itor gioca sul suo computer ha predisposto una griglia quadrata su cui pu far muovere un animale che   inizialmente nella casella in alto a sinistra e sta guardando a destra per muoverlo deve cliccare sulle due seguenti icone  che lo fa avanzare di una casella nel verso in cui sta guardando che lo fa ruotare di un quarto di giro in senso di orario nella figura dellesempio la griglia  di x caselle e questa  la successione delle icone utilizzate per percorrere la traiettoria indicata nella figura sopra partendo dal centro della casella di partenza simone vuole passare dal centro di tutte le caselle della propria griglia quadrata prima di fermarsi nel mezzo dellultima casella sua figlia che lo guarda gli dice  ti rendi conto che devi ciccare al minimo tante volte quante indicate dal tuo anno di nascita quattro cifre  in che anno  nato simone', 'inserisci        nello        schema        disegnato a fianco tre tesserine di  un  puzzle   le  tre  tesserine  devono       essere       identiche possono per essere ruotate eo ribaltate  disegna il loro contorno', 'una griglia equiripartita e una griglia quadrata di lato n riempita con i numeri interi compresi tra  e n rispettando la regola seguente su nessuna linea di n case lie  verticale orizzontale o diagonale si trovano numeri ripetuti  nell esemp io della figura  si ha il caso n nella griglia di fig  alcuni numeri sono gia stati inseriti qual e ia sequenza dei numeri che compongono ia prima riga in grigio', 'maurizio il bisnonno di jos non  certamente centenario ma ha pi di  anni  tutto quello che possiamo dirvi  che un anno fa la sua et era un multiplo di otto  qual  let attuale di maurizio', 'in figura vedete sei pentagoni abcdef che poi anna ha incollato uno sopra laltro in che ordine li ha incollati dal basso quello pi in fondo fino allultimo che sta pi in alto ', 'luca ha messo da parte  euro nel suo gruzzolo ci sono solo monete da  euro da  euro e da  centesimi di euro il numero dei tre tipi di monete presenti nel gruzzolo di luca  lo stesso quante monete da  euro ha luca', 'nella famiglia gono si eseguono costruzioni geometriche solo con riga e compasso ogni ragazzo ha il suo poligono preferito alberto il pi giovane trova in un vecchio libro per tagliatori di pietra la regola per costruire un ennagono regolare nove lati  tracciare un cerchio di centro o e raggio di  cm tracciare due diametri tra loro perpendicolari ab e cd tracciare un arco di cerchio di centro a di raggio ao che interseca il cerchio in e tracciare un arco di cerchio di centro b di raggio be che incontra la semiretta od in f tracciare un arco di cerchio di centro f di raggio fa che interseca cd in g tracciare un arco di cerchio di centro c di raggio cg che taglia il cerchio in h riportare ch otto volte sul cerchio e unire i nove punti ottenuti alberto si prepara a disegnare il poligono poi  preso da un dubbio il poligono del giovane alberto gono  veramente regolare che margine di errore si ha prendendo ch per lato dellennagono regolare fornire la percentuale in pi o in meno ai decimi pi vicini', 'pap sistente ama giocare con i numeri il suo gioco preferito  quello di iniziare con un numero calcolare il prodotto delle sue cifre quindi ripetere la stessa operazione con il numero ottenuto e questo fino a quando ottiene un numero a sola cifra                                 si chiama persistenza di un numero del numero di tappe richiesti per ottenere un numero a una cifra cos la persistenza di    quella di    quella di    e di    pap sistente  particolarmente interessato ai numeri la cui persistenza  maggiore o uguale a  che chiama numeri consistenti qual  il pi piccolo numero consistente e quello successivo', 'una domenica il mio sarto riceve un pezzo di stoffa di  metri il giorno dopo luned taglia i primi  metri di seguito ne taglia  metri ogni giorno salvo la domenica successiva giorno di riposo in quale giorno della settimana avr fatto lultimo taglio', 'carla ha costruito la scatola di cartone che vedete in figura usando  rettangoli le pareti laterali e un pentagono come base poi si  messa a colorare le  pareti laterali e la base facendo comunque in modo che due facce che hanno un lato in comune non abbiano mai lo stesso colore quanti colori ha utilizzato al minimo', 'chiara ha acquistato un quaderno che costa  euro nel suo borsellino ha pi soldi di quanto le serve ha  pezzi da  euro e  pezzi da  centesimi deve stare attenta a come paga perch il cartolaio non ha nessuna moneta da darle di restoin quanti modi diversi pu pagare la cifra esatta di  euro', 'giocate ad un solitario su una tavola rettangolare  x n con n intero naturale non nullo allinizio si ha una e una sola pedina in ogni casella ad eccezione di una casella dangolo per saltare si fa passare una pedina sopra una vicina e la si posa in una casella vuota immediatamente vicina i salti si fanno orizzontalmente o verticalmente secondo la quadrettatura della tavola verso destra sinistra in alto o in basso mai in diagonale alla fine se giocate bene si pu restare con una sola pedina qual  il pi grande valore di n per il quale  impossibile rispondere  se pensate che questo valore non esista', ' il mio papi non sa pi cosa inventare dice giuseppe a matteo mi ha dato questa tavola da completare i dodici numeri da scrivere devono soddisfare le condizioni si o no di ogni riga e la condizione scritta nella intestazione delle colonne a e b mi ha poi promesso che se sono tutti giusti al mio compleanno che sar tra pochi giorni mi regaler un numero di franchi uguale alla somma dei dodici numeri allora    vedo vedo allora hai pensato a me  dividiamo a met daccordo dice matteo che completa cos correttamente la tabella quanti franchi ha guadagnato', 'nando percorre i  metri di un fiume favorito dalla sua corrente in  minuti nel lago del suo paese senza nessuna corrente avrebbe impiegato  minuti per percorrere la stessa distanza quanti minuti gli occorrono allora per percorrere i  metri del fiume in verso contrario rimontando la corrente si suppone che la forza e la velocit con cui rema siano sempre le stesse', 'per costruire uno spremilimoni elia ha tagliato orizzontalmente un grande cono retto in tre parti della stessa altezza poi ha rivoltato la parte di mezzo e ha incollato la parte superiore unendo i cerchi di base uguale mettendo la seconda dentro la prima infine ha incollato le due parti insieme con la terza ancora unendo i due cerchi di base uguale mettendo ancora la prima parte dentro la seconda come in figura il volume del cono grande era di  cm ii succo di limone pu occupare senza debordare il volume segnalato in grigio nel disegno qual  tale volume arrotondato in cm allintero pi vicino il volume di un cono  un terzo del prodotto della sua base per la sua altezza', 'considerate la data del  la somma delle sue cifre  uguale a    qual  la prima data successiva per cui lasomma delle cifre  uguale ancora a ', 'enrico vuole ricoprire completamente ii grande quadrato in figura mediante triangoli tutti identici a quello tratteggiato quanti triangoli sono necessari', 'oggi il nonno ha dipinto di rosso una grossa mattonella di legno le cui dimensioni sono le seguenti lunghezza drn  larghezza drn  e altezza drn  quando gli chiedo se puo utilizzarla per prepararmi lei cubetti mi risponde lo posso tagliare questa mattonella in  cubetti di  dm di lato a condizione pero che tu mi dica esattamente quanti di questi cubetti avranno una e una sola faccia rossa  che cosa rispondereste se foste al mio posto ', 'nella lista dei numeri qui sopra riportata eliminate due numeri la cui somma e  e la cui differenza vale  poi eliminate due numeri la cui somma vale  e il cui prodotto vale  n seguito eliminate due numeri la cui differenza vale  e il cui prodotto vale  infine eliminate due numeri tali che quando si divide luno per laltro il quoziente vale  ed il rcsto   quale numero rimane', ' cubetti bianchi della stessa dimensione sono stati assemblati per formare un grande cubo  ma c linquinamento e il primo giorno in cui il grande cubo viene esposto allaria uno e uno solo dei cubetti posti sulla sua superficie diventa tutto grigio ogni giorno successivo almeno finch resta un cubetto bianco linquinamento continua il suo lavoro ciascun cubetto bianco che si viene a trovare a contatto con una faccia di un cubetto grigio diventa anche lui tutto grigio a seconda dei casi quattro oppure cinque oppure sei cubetti si ritrovano grigi alla fine del secondo giorno se alla fine di un certo giorno il  dei cubetti  grigio quanti giorni occorrono complessivamente perch linquinamento renda grigio il  dei cubetti', 'frugolo ha costruito una piramide rappresentata in figura con tre cubi gialli quattro cubi neri e tre cubi bianchi in modo tale che due cubi dello stesso colore non si tocchino mai colorate le caselle che rappresentano i cubi neri', 'per sistemare le arance da mettere in vetrina e da  vendere  il  fruttivendolo  renato  ha  a  sua  disposizione  dei  vassoi  che  contengono    arance  oppure  altri  vassoi  pi  grandi  che  ne  contengono    sia  che  usi  sempre  i  contenitori  piccoli  sia  che  usi  sempre  quelli  grandi  riempiendoli  completamente  alla  fine  gli  rimane fuori  arancia  le  arance  che  renato  vuole  vendere  sono  meno di  ma quante sono esattamente', 'marianna la nipote di arianna celebre esperta in labirinti come lomonima sua illustre antenata si presenta allentrata a di un labirinto munita di una grossa matassa di filo e decide di esplorarlo completamente e di uscire dalla porta b lesplorazione deve comunque effettuarsi rispettando le seguenti condizioni   ogni corridoio deve essere percorso una volta interamente marianna svolgendo ii filo dietro di se puo passare piu volte per lo stesso incrocio ma la corda non deve mai incrociarsi  sovrapporsi disegnate sul foglio risposta un possibile percorso di marianna', 'dividete questi pini siamesi in cinque parti sovrapponibili', 'jacopo si diverte a scrivere la successione di numeri   in modo che la somma di cinque numeri consecutivi sia sempre uguale a  quale sar il esimo numero scritto da jacopo ventiquattresima edizione nazionale', 'con la sua bici da corsa desiderio raggiunge lamata fausta in  minuti mentre a piedi ci metterebbe  ora anche sua sorella liliana ha una bici non da corsa con la quale impiegherebbe  minuti a raggiungere fausta se fora la bici da corsa liliana pu prestare al fratello la sua domani desiderio ha appuntamento con fausta alle  esatte e sa che se non arriver in tempo fausta non laspetter e se ne andr per sempre parte allora in tempo con la bici da corsa ma una foratura  sempre in agguato in questo caso desiderio pu continuare a piedi oppure tornare a piedi da dove  partito prendere la bici di liliana e raggiungere cos fausta a che ora deve partire al pi tardi desiderio per essere sicuro di trovare fausta', 'il disegno rappresenta due viste di uno stesso cubo composto da ventisette cubi pi piccoli un numero pari di questi cubi pi piccoli sono neri mentre gli altri sono bianchi quanti sono i cubi neri', 'archie  ha  preso  molto  sul  serio  il  suo  nome  e  ha  deciso  che  da  grande   far   larchitetto   per   il   momento   si  limita  a  costruire  delle  torri  con  dei  cubi di  legno il primo giorno ha costruito una torre  di  un  piano  con  un   solo cubo la vedete a sinistra nella fig  il secondo giorno ha costruito  una  torre  tre  volte  pi  lunga  e  tre     volte  pi  alta  mettendole   poi   sopra   la   torre   del   primo   giorno   e   utilizzando quindi in totale  cubi la   vedete nella fig  il  terzo  giorno  ha  costruito  una  torre  lunga    cubi  e  alta    cubi e sopra le ha messo la    torre della fig quanti cubi in totale utilizza per questa torre del terzo giorno', 'dispongo di  monete allineate tutte voltate sul lato croce posso voltare in una sola mosse due monete posizionate una di fianco allaltra qual e il numero minimo di mosse che bisogna fare perch due mouete che si trovano vicino abbiano sempre lati diversi o testacroce o crocetesta  attenzione una mossa consiste nel voltare due monete contemporaneamente ', 'le pecore di billy bill hanno un appetito notevole casi per economizzare  jerba del suo prato billy costruisce per loro un recinto rettangolare ha utilizzato sette segmenti di staccionata lunghi rispettivamente  m  m  m  m  m  m  m che ha sistemato uno di seguito allaltro in modo da formare un rettangolo quale i area di uno dei possibili rettangoli espressa in metri quadrati', 'tre numeri razionali sono in progressione geometrica ma la stessa progressione diventa aritmetica quando si aumenta di  il secondo numero questa seconda progressione torna a essere geometrica se si aumenta di  lultimo suo termine quanto vale il primo numero delle varie progressioni', 'un bicchiere a forma di cono si trova sotto un rubinetto che gocciola sempre con la stessa velocit dopo un minuto il bicchiere che era inizialmente vuoto  pieno dacqua fino a un quarto della sua altezza quanto tempo occorre ulteriormente perch il bicchiere si riempia tutto', 'amerigo possiede due cubi identici e taglia uno di loro in sei piramidi uguali che hanno per base una faccia del cubo e per vertice il suo centro poi incolla queste sei piramidi sulle sei facce del secondo cubo facendo coincidere la base di ciascuna piramide con una faccia del cubo quante facce possiede il nuovo solido cos ottenuto', 'la bilancia che vedete in figura sta in equilibrio se ponete tre pesi su un piatto e due sullaltro quattro dei pesi della figura pesano rispettivamente  kg   kg   kg   kg  si sa  inoltre  che  il  rimanente  ha  lo  stesso  peso  di  uno  degli altri quanto vale questo peso ', 'mattia ha scommesso con matilde che riesce a fare in bicicletta il pi lungo percorso possibile nel suo quartiere rappresentato qui di fianco rispettando le regole seguenti mattia puo passare pi volte dallo stesso incrocio ma non  percorrere pi di una volta la stessa via quando questo non gli  pi possibile torna a piedi  date la lunghezza in ettometri hm del percorso fatto da mattia in bicicletta non si tiene conto della larghezza delle vie', 'i cittadini di dicetown vogliono regalare al loro  sindaco una magnifica scatola cubica le sei facce di questa scatola sono dei quadrati decorati lateralmente con una banda tricolore la banda presenta da una parte allaltra nellordine i seguenti colori rosso bianco blu bianco rosso lartigiano che ha realizzato la scatola aveva a disposizione dei quadrati di tre tipi tipo a tipo b e tipo c rappresentati nella figura sottostante egli ha fatto in modo che quando la scatola e chiusa la banda tricolore forma attomo al cubo ununica linea chiusa quanti quadrati di ogni tipo ha utilizzato ', 'la somma dei primi n termini di una progressione aritmetica  uguale per ogni valore di n n      a    quanto valgono il primo termine a e la ragione d di questa progressione nota una progressione aritmetica  una sequenza di numeri in cui ogni termine si ottiene dal precedente aggiungendo una costante d chiamata ragione            e cos via ad esempio       una progressione aritmetica in cui il primo termine a   e la ragione d vale ', 'sette gatti mangiano sette topi in sette minuti quanti gatti occorrono al minimo per mangiare  topi in  minuti', 'la figura a sinistra rappresenta una bipiramide si vedono  vertici da cui partono  spigoli e  vertici da cui invece partono  spigoli i  spigoli hanno tutti la stessa lunghezza  mm si pu tagliare la bipiramide  una pietra preziosa in  tetraedri identici  vedi figura a destra  in cui cinque dei sei spigoli sono ancora quelli della bipiramide qual  la lunghezza del sesto spigolo quello differente dagli altri  date la risposta in mm arrotondati al mm pi vicino', 'matteo  nato il  gennaio  nel  avr  anni e la somma delle cifre di quellanno  sar uguale a  la met della sua etin  quale  anno  la  somma  delle  cifre  dellanno  sar  invece uguale a un terzo dellet di matteo ', 'nel solaio della nonna anna ha trovato un vecchio puzzle su un piano era rimasta collocata una tessera a forma di croce le altre tessere erano in una scatoletta a fianco grigie da una parte e bianche dallaltra quella nascosta inserite le altre quattro tessere tracciandone il contorno sapendo che le potete ruotare ma non ribaltare il disegno deve risultare tutto grigio', 'ecco due immagini di uno stesso cubo le sue facce sono numerate in modo che le facce opposte abbiano sempre la stessa somma  quale numero  scritto sulla faccia opposta al  abbiamo disegnato anche lo sviluppo di un cubo se ti serve lo puoi ritagliare', 'cinque numeri interi positivi consecutivi sono tali che la somma dei quadrati dei due pi grandi  uguale alla somma dei quadrati degli altri tre quanto vale il pi grande dei cinque numeri', 'liliana ha festeggiato il suo compleanno il  marzo con due giorni di ritardo desiderio lha festeggiato lo stesso giorno anche se il suo compleanno cade  giorni dopo quello di liliana qual  il giorno del compleanno di desiderio', 'cera una volta un parallelepipedo aumentando la sua dimensione pi piccola di  cm e diminuendo quella pi grande di  cm si  per trasformato in un cubo che ha lo stesso volume del parallelepipedo iniziale qual  il volume di cui si parla', 'qual  il pi piccolo numero di  cifre tutte pari e tutte diverse tra loro attenzione   considerato una cifra pari e nessun numero comincia con  ', 'carla ha pavimentato tutta la sua stanza rettangolare utilizzando delle piastrelle quadrate della stessa dimensione contando le piastrelle usate si accorge che sul bordo della stanza ce ne sono tante quante al suo interno quante piastrelle ha utilizzato complessivamente carla sapendo che sono meno di ', 'la forma numero   stata realizzata con  fiammiferi per la costruzione della forma numero  che rappresenta due forme numero  unite sono stati usati solo  fiammiferi possiamo continuare in questo modo e realizzare le forme numero   ecc  quanti fiammiferi sarebbero necessari per realizzare la forma numero ', 'luca si diverte a scrivere i numeri positivi di tre cifre che risultano divisibili per  e la somma delle cui cifre  uguale a  quanti sono questi numeri', 'lorologio del videoregistratore di luca indica le  del mattino anche se adesso sono le  della sera prima il fatto  che quellorologio funziona male e va avanti pi veloce del  rispetto a un orologio normale a quale ora luca deve programmare il suo videoregistratore per registrare la sua trasmissione preferita che comincia domani alle ', 'la prima figura rappresenta dei solidi aventi la forma delle cifre da l a disposti su di un piano tutte le facce di queste solidi sono grigie tranne quella superiore che  bianca anna ruota questi solidi di un quarto di giro  o di mezzo giro  in senso orario o antiorario mantenendo la faccia bianca in alto poi li impila gli uni sugli altri in modo da ottenere una configurazione che vista di lato appare come nella seconda figura in quale ordine dal basso in alto anna ha impilato i suoi solidi', 'il    gennaio    si  scrive  come    liliana  trova  pi  interessante  il    dicembre   che scrive come  con le quattro cifre che si ripetono nello stesso ordine quale  sar  la  prima  data  successiva  al    dicembre    che  liliana  potr  scrivere  ancora con quattro cifre che si ripetono nello stesso ordine ', 'nel cubo della figura ciascuno spigolo  dotato di una pallina che contiene un certo numero di monete doro le  palline contengono dei numeri di monete che non si conoscono ma che si sa essere diversi tra loro e compresi tra  e  il gioco consiste nello scegliere un vertice e nel percorrere poi tre spigoli consecutivi raccogliendo le loro monete doro se i numeri delle monete doro cos raccolte sono in ordine crescente si vince la partita altrimenti la partita  persa quanti percorsi vincenti ci sono al minimo sul cubo nb due percorsi sono considerati distinti se differiscono almeno per uno spigolo', 'vicino allarcipelago dei marchesi c un isola deserta chiamata isola degli angeli che secondo la leggenda nasconde un grande tesoro questo tesoro fu sepolto al centro di un rombo i cui quattro vertici erano delle magnifiche palme queste quattro palme sono purtroppo ormai scomparse da tempo se siete tentati dallavventura due indizi possono aiutarvi a scoprire dove si nasconde il tesoro il primo indizio  la vecchia mappa rappresentata nel disegno mezza cancellata ma nella quale rimangono visibili dei frammenti di due lati del rombo il secondo indizio  la certezza che la roccia si trovava su una delle rette passanti per due palme situate sui vertici di uno stesso lato del rombo se doveste scavare sullisola degli angeli dove scavereste se ci sono pi punti possibili dite quanti sono e disegnatene due sul foglio risposte', 'nella sequenza di cifre  si possono leggere dodici numeri pari             come vedete si possono leggere anche numeri costituiti da pi cifre ma queste vanno considerate nello stesso ordine in cui compaiono nella sequenza iniziale e senza saltarne in mezzo nessuna seguendo le stesse regole quanti numeri dispari si possono leggere ', 'dopo aver coperto a velocit costante met della distanza che separa mathlandia dallisola di mate capitan renato decide di aumentare la velocit del suo traghetto del  il traghetto arriva cos a destinazione mezzora prima del previsto quanti minuti  durata in totale la traversata', 'il solido dellanno  un poliedro convesso la somma delle misure di tutti i suoi angoli salvo uno  di  gradi ha tre facce triangolari quanti vertici dai quali partono tre spigoli ha nota gli angoli addizionati sono quelli sulle facce poligonali un grado vale n radianti', 'desiderio  considera  un  numero  di  due  cifre  e  i  suoi  primi  undici  multipli  il  numero  stesso  il  numero moltiplicato per  il numero moltiplicato per  il numero moltiplicato per  eccecc fino al numero moltiplicato per  a questo punto si accorge che tutti questi undici multipli contengono almeno una cifra  qual era il numero di partenza', 'tutti i piccoli quadrati hanno lati della stessa lunghezza nello schema di destra  stato soppresso un piccolo quadrato nellangolo in alto a destra della griglia  x  in questa griglia si possono disporre senza sovrapposizioni e senza ribaltamenti tutti i pezzi presentati a sinistra tranne uno quale', 'giulia ha iniziato a suddividere la torta rappresentata qui a fianco vista dallalto con una sola suddivisione deve dividerla in due parti che abbiano la stessa area e siano costituite ognuna da alcuni quadrati interi virginia afferma che giulia puo continuare la suddivisione in quattro modi differenti disegnate le quattro possibili suddivisioni della torta', 'sulla lavagna sono scritti tutti i numeri interi da  a  inclusi sceglietene due cancellateli e al loro posto sulla lavagna scrivete la loro somma diminuita di  dopo che avete fatto questa operazione  volte quale numero rimarr scritto sulla lavagna', 'la musica di sottofondo di un grande negozio utilizza quattro brani a b c e d essi si susseguono senza interruzione e sempre in questo stesso ordine a ricomincia subito dopo d e cos via ognuno dei quattro brani dura un numero intero di minuti inferiore o uguale a  quando patrizia entra nel negozio sta suonando b che  iniziato da un minuto lei resta nel negozio esattamente unora e quando se ne va sta suonando a che  a sua volta iniziato un minuto prima a b e c durano rispettivamente   e  minuti quanti minuti dura d', 'oreste ha impilato  crespelle di taglia diversa nellordine in cui le ha cotte figura a sinistra prima di servirle in tavola bianca deve riordinarle in ordine di grandezza decrescente figura a sinistra unoperazione consiste nellinserire una paletta piatta sotto una crespella che non sia quella in cima alla pila e a rivoltare tutta la pila sovrastante composta da   o  crespelle al minimo quante operazioni deve compiere bianca per raggiungere lo scopo', 'se  sei  boscaioli  segano  sei  cipressi  in  sei  ore  quanto  tempo  occorrer  a  dieci  boscaioli  per  segare dieci cipressi ', 'prima di una partita di calcio veronica la fotografa vuole allineare gli undici giocatori di una squadra da sinistra a destra per la foto le altezze di tali giocatori tutte diverse fra loro sono date in cm dai numeri pari compresi fra  e  ogni giocatore tranne quello allestrema sinistra deve avere unaltezza al pi uguale a quella di ciascun giocatore alla sua sinistra aumentata di  cm ovvero se d  laltezza in cm di uno dei giocatori e s quella di uno qualsiasi dei giocatori alla sua sinistra allora d  s in quanti modi veronica pu allineare gli undici giocatori', 'ulisse spinelli possiede un campo a forma di un poligono di otto lati le cui misure sono rispettivamente  m  m  m  m  m  m  m  m in questo ordine inoltre due lati consecutivi sono sempre perpendicolari qual e la superficie del campo di ulisse spinelli si richiede la risposta in metri quadrati', 'renato possiede pi di  macchinine che adesso vuole numerare per questo ha comprato le cifre autoadesive          dove il  capovolgendolo pu servire a rappresentare anche il  di ogni cifra autoadesiva ha comprato venti esemplari in tutto  se renato numera le sue macchinine a partire dal numero  e prosegue nellordine senza saltare nessun numero quale sar il primo numero per il quale non ha pi cifre autoadesive a sua disposizione', 'una macchina viaggia su unautostrada alla velocit costante di  kmh essa sorpassa un camion che viaggia ad una velocit costante di  kmh la lunghezza della macchina   m quella del camion  m quanti secondi passano fra listante in cui lestremit anteriore della macchina coincide con lestremit posteriore del camion e quello in cui lestremit posteriore della macchina coincide con quella anteriore del camion si arrotondi al centesimo di secondo pi vicino', 'numerate ciascuno dei quattro vertici del tetraedro indicati da dei cerchi nella figura e ciascuno dei sei lati indicati da dei quadrati nella figura in modo che  il numero di ogni lato sia uguale alla somma dei numeri dei due vertici che esso congiunge pi  per esempio due vertici numerati  e  siano collegati da un lato numerato   tutti i numeri interi fra  e  tranne uno siano utilizzati  i numeri dei vertici a b c e d siano in ordine crescente si noti che la figura rappresenta un solido e il segmento tratteggiato rappresenta quindi un lato nascosto', 'nel mazzo di  carte ce ne sono  rosse e  nere adesso il mazzo viene separato in due mazzetti  il primo di  carte il secondo di  se il primo contiene  carte rosse quante nere ci sono nel secondo mazzetto', 'sono date diverse griglie quadrate di diverse dimensioni in ogni griglia alcune caselle sono grigie in modo che in ogni quadrato di  x  caselle preso nella griglia almeno una casella e al massimo tre siano colorate di grigio inoltre tutte le caselle grigie sono collegate fra loro hanno un lato in comune e formano una figura senza caselle bianche allinterno ad esempio in una griglia  x  le caselle colorate in grigio saranno almeno  mentre in una griglia  x  saranno almeno  si consideri una griglia n x n in cui un tale insieme contiene  caselle grigie quanto vale n', 'cnossos vuole costruire un labirinto in questo rettangolo di  m per  m le barriere che puo montare devono seguire la quadrettatura ed essere imitate dagli incroci della stessa quadrettatura quanti metri di barriere al massimo possono essere sistemate rispettando le seguenti regole  da ogni casella si possa raggiungere o lentrata o luscita  vi sia almeno un percorso che dallentrata raggiunga luscita  ', 'carla e milena hanno la passione dei numeri carla scrive la seguente sequenza              e osserva che ogni suo numero  un divisore o un multiplo del precedente milena non vuole essere da meno e scrive allora unaltra sequenza di sette numeri diversi da  e tutti diversi tra loro che finisce con  il pi grande dei numeri scritti da milena nella quale ancora una volta ogni elemento  un divisore o un multiplo del precedente scrivete la sequenza di milena', 'sei coinquilini dividono due bagni in cui passano rispettivamente      e  minuti ogni mattino ognuno di essi utilizza solo un bagno e ogni bagno  utilizzato da una sola persona alla volta ognuno deve essere pronto alle otto a che ora al pi tardi occorre cominciare a occupare un bagno', 'le scatolette di tonno sono dei cilindri retti uguali ira loro aventi un diametro doppio della loro altezza esse state disposte in casse cubiche per una spedizione ogni scatoletta deve avete una faccia interamente a contatto con una faccia della cassa la figura di sinistra illustra la disposizione di tre scatolette nella cassa cubica pi piccola tra quelle che possono contenerle la figura di destra illustra la disposizione di sei scatolette nella cassa cubica pi piccola fra quelle che possono contenerle occorre aumentare il lato della scatola rappresentata a sinistra esattamente di un millimetro per ottenere la scatola rappresentata a destra qual  in millimetri approssimato al numero intero pi ricino il diametro di una scatoletta di tonno se necessario si approssimi  con  ', 'un bicchiere pieno dacqua pesa  grammi lo stesso bicchiere pieno dacqua solo a met pesa  grammiquanto pesa il bicchiere vuoto', 'biagio ritaglia un quadrato di un metro di lato in rettangoli egli procede per fasi in ogni fase sceglie una direzione orizzontale o verticale e taglia tutti i rettangoli inclusi i quadrati in quella direzione ad esempio dopo la terza fase la somma dei perimetri degli otto rettangoli semplici ottenuti pu essere di  metri disegno in alto o di  metri disegno in basso biagio ha realizzato questo lavoro su tre quadrati proseguendo su ciascuno per lo stesso numero di fasi per ciascuno dei quadrati ha poi calcolato la somma dei perimetri dei rettangoli che ha ottenuto dopo lultima fase il totale delle tre somme   metri quante fasi comporta ogni ritaglio', 'parto dallangolo a nella direzione indicata dalla freccia alla prima rotonda incontrata prendo la prima strada a sinistra  alla seconda rotonda incontrata prendo la prima strada a destra  alla successiva rotonda  ancora una volta prendo la prima a   sinistra  poi la prima a destra  ecc   continuo prendendo alternativamente la strada alla mia sinistra e alla mia destra dopo quanti passi torno in a ciascun segmento tra due rotonde rappresenta un passo  rispondere a  se si pensa che sar impossibile per me tornare in a', 'la griglia deve contenere due volte ogni numero da  a  uno per casella un  un l e un  sono gi stati scritti i sei numeri di due cifre indicati dalle parentesi graffe in alto devono essere tutti differenti fra loro e ordinati dal pi piccolo al pi grande da sinistra a destra i quattro numeri di tre cifre indicati dalle parentesi graffe in basso devono anchessi essere tutti differenti fra loro e ordinati dal pi piccolo al pi grande da sinistra a destra quale numero apparir nelle prime tre caselle', 'anna chiara e milena sono tre amiche che vivono insieme e che devono andare a trovare altre tre amiche che vivono a  km da loro come fare per metterci meno tempo possibile  tenete presente che anna  lunica che pu guidare un motorino a due posti che viaggia a  kmh  per il resto chiara corre e tiene una media di  kmh mentre milena non corre ma  camminando di buon passo viaggia a  kmh qual  il tempo minimo espresso in minuti per il quale anna chiara e milena arrivano simultaneamente dalle loro amiche', 'sulle facce di un cubo sono state poste delle lampade su ognuna delle  facce se ne contano esattamente  poste sul bordo in modo che tra ciascuna lampada e la successiva ci sia la stessa distanza in totale quante lampade ci sono al minimo', 'e una sveglia che illuminandosi segnala tutte le ore e i minuti a partire da  fino a  quante volte in  ore illuminandosi indica contemporaneamente uno  un  e due ', 'una mossa consiste nel cambiare colore dal bianco al grigio o dal grigio al bianco a tre caselle consecutive su una riga o una colonna si deve partire dalla griglia a sinistra e senza mai operare due volte sulle stesse tre caselle si deve ottenere la griglia a destra tracy ci  riuscita in tre mosse ripartendo dalla griglia a sinistra tony ci  riuscito in un numero diverso di mosse in quante mosse', 'dividete la seguente figura in otto parti della stessa forma direttamente sovrapponibili o dopo un ribaltamento', 'diciassette numeri interi strettamente positivi diversi fra loro uno per casella i cinque numeri posti nella riga orizzontale e nelle colonne verticali devono formare quattro successioni aritmetiche cio sequenze ordinate in cui da ogni numero si ricava il successivo addizionando una costante positiva o negativa per esempio      al minimo qual  il numero pi grande che matilde scriver nella griglia', 'pietro abita ad unestremit di una lunga stradain pianoe la sua scuola si trova allaltra estremit della stessa strada la palestra dove si reca con una certa frequenza  a met cammino tra casa e scuola quando lascia la scuola a mezzogiorno riesce ad essere a casa per le  se riparte da casa alle  a che ora arriver in palestra', 'fabiola ha appena fotocopiato in tre esemplari tre pagine originali numerate da  a  purtroppo ha dimenticato di attivare la funzione di ordinamento automatico e ha ottenuto una pila di fotocopie non ordinate dallalto in basso si trovano le tre copie della pagina  poi quelle della pagina  poi quelle della pagina  una mossa consiste nel prendere un numero qualsiasi di fogli dallalto di una pila eventualmente tutti i fogli della pila e nel posarli su unaltra pila eventualmente vuota senza cambiare lordine al minimo in quante mosse fabiola pu ottenere tre pile ordinate ognuna della quali includa una copia della pagina  poi una della pagina  poi una della pagina  note la posizione di una di queste pile pu essere quella della grande pila non ordinata di partenza', 'chiara ha due fratellini pi piccoli di lei il prodotto delle et deitre bambini  uguale a  la loro somma   qual  let di chiara ', 'ogni rotta deve seguire le linee tratteggiate sulla carta marina della figura cristoforo vuole andare dal vertice in alto a sinistra a quello in basso a destra seguendo una rotta di lunghezza minima in quanti modi lo pu fare', 'gli archeologi hanno recentemente trovato un gioco che teneva impegnati i troiani forse anche durante il famoso assedio della loro citt ecco le regole di questo gioco   ogni tripletta di gettoni dello stesso colore pu essere sostituita da un unico gettone dello stesso colore nella casella immediatamente a sinistra  due gettoni di colore diverso si annullano dalla posizione di partenza indicato nella figura trovare il numero minimo di gettoni e la loro posizione alla fine del gioco', 'il quadrato magico di drer contenuto nella sua famosa melancholia ha una particolarit la somma di due numeri simmetrici rispetto al centro del quadrato  sempre uguale alla met della somma magica ovvero a  trovate un altro quadrato magico x con i numeri  e  scritti in questo ordine al centro della quarta riga che goda della stessa propriet', 'di candele carla ne ha  e ogni due ore ne accende una ogni candela rimane accesa prima di spegnersi consumata esattamente otto ore per quante ore  candele e solo  rimangono contemporaneamente accese', 'si impilano dei cubi uguali su uno schema x una pila deve occupare perfettamente una casella dello schema una casella pu essere vuota e si possono quindi avere meno di  pile si deve ottenere un sistema di pile che visto lateralmente da a e da b appare come nel disegno a destra per esempio si possono utilizzare  cubi per formare le  pile  di  cubi  di  cubi e  di un cubo illustrate a sinistra al minimo quanti cubi si devono utilizzare', 'nando ha due fratellini pi piccoli di lui il prodotto delle et dei tre ragazzi  uguale a  la loro somma   qual  let di nando ', 'jacob entra nel labirinto della figura dalla porta a e prende il primo cammino a sinistra poi gira a destra e successivamente nellordine a destra a sinistra a destra a sinistra a sinistra a destra a sinistra a sinistra a sinistra a destra a destra a sinistra a sinistra a destra a destra e infine per uscire definitivamente dal labirinto a sinistra da che porta jacob esce dal labirinto', 'su una regolare pallina da golf ognuno dei  alveoli disposti in triangoli  circondato da sei alveoli con leccezione di alcuni di essi che sono circondati solo cinque alveoli quanti alveoli sono circondati da altri cinque alveoli', 'unoperazione magica su un numero la cui rappresentazione decimale non termina per la cifra  consiste nelladdizionarlo con il lo stesso numero ma letto da destra a sinistra per esempio unoperazione magica applicata a  produce il numero  giovanni sceglie un primo numero e vi applica unoperazione magica in modo da ottenerne un secondo poi ancora unoperazione magica su questo secondo numero in modo da ottenerne un terzo e cos via il sesto numero ottenuto da giovanni in questo modo   qual  il primo numero scelto da giovanni', 'sciando a  kmh arriverei alla fine del mio percorso alle  sciando a  kmh arriverei a destinazione alle  che velocit costante devo tenere se voglio arrivare alle ', 'kurt realizza con dei segmenti rigidi larmatura di un cubo gonfiabile il cui lato misura  cm tale armatura deve essere un pezzo unico e congiungere tutti i vertici del cubo i punti indicati da un circoletto nero nella figura la figura a destra mostra unarmatura realizzata con sette segmenti la cui lunghezza totale   cm la figura a destra illustra unarmatura realizzata con  segmenti al minimo in cm arrotondata allintero pi vicino qual  la lunghezza totale di tali segmenti', 'scrivete il pi piccolo numero pari di tre cifre tale chela somma delle sue cifre sia uguale a ', 'nella figura di destra vedete un circuito chiuso se lo si percorre tutto si passa una e una sola volta per i centri delle  regioni della quadrettatura ripetete loperazione disegnate un circuito chiuso con i lati orizzontali o verticali che passa una e una sola volta per i centri dei  quadretti con la figura di sinistra dove tre lati sono stati gi disegnati e non possono essere modificati', 'avete a disposizione quattro colori  nero blu b bianco e rosso r dovete utilizzarli in modo che ogni quadrato sia bicolore il centro ed il contorno di ognuno devono essere di colori diversi e ogni riga ogni colonna e ognuna delle due diagonali abbia centri di colore diverso e cornici di colore diverso completare la colorazione', 'i termini di posto    e  di una sequenza s sono rispettivamente    e  i termini di s di posto n con n divisibile per cinque ovvero i termini di posto     formano una sequenza s uguale a s se si cancellano da s tutti i termini di s i termini restanti formano una sequenza s anchessa uguale a s ognuna delle tre sequenze  quindi   potrete verificare che il termine di posto    quale posto avr il primo termine successivo diverso da ', 'mim e i suoi due amici hanno uno scooter a due posti quando trasporta una o due persone la sua velocit  di  kmh ognuno dei tre amici si sposta a piedi con una velocit di  kmh quanto tempo impiegheranno al minimo per percorrere una distanza di  km si risponda indicando il tempo in ora e in minuti da o a  arrotondato allintero pi vicino se necessario', 'abbiamo  piccoli cubi di taglia uguale  sono colorati in bianco e  in nero quanti grandi cubi diversi x si possono formare assemblando questi  cubi nota il grande cubo a sinistra e il grande cubo in mezzo sono considerati uguali fra loro posto che  possibile passare da uno allaltro tramite una rotazione nello spazio invece il grande cubo in mezzo  diverso da quella a destra il centro di un grande cubo pu essere occupato da un cubetto nero', 'i signori teorema hanno tre figli carla milena e luca lasomma delle et delle due ragazze  di  anni quella delle et di tutti e tre i figli  invece di  anni quanti anni ha luca', 'angelo e renato intendono visitare un museo composto da  stanze con i passaggi dalluna allaltra come indicati in figura quanti percorsi diversi ci sono che permettono ad angelo e renato di visitare il museo dallentrata alluscita passando una e una sola volta per tutte le sue  stanze', 'il quadrato grande che ha unarea di  cm   stato diviso in nove quadrati uguali poi il quadrato centrale cos ottenuto  stato a sua volta diviso in nove quadratini uguali a questo punto  stata disegnata la stella che vedete e che unisce alcuni punti della precedente suddivisione e qualche punto medio dei nove quadrati quale  in cm larea della stella', 'inserite tre segni di addizione  tra le cifre che vanno da  a  senza cambiare il loro ordine in modo che il risultato del calcolo sia uguale a        ', 'unepidemia di una strana malattia che fa crescere dei bernoccoli ha colpito il paese della matematica il numero dei malati al primo giorno era m quello al secondo giorno m quello al terzo giorno m poi per j maggiore o uguale a  mj si ottiene per ricorrenza calcolando il resto della divisione per  tra  e  mjmjmj si avr quindi m m m m m m etc se per disgrazia lepidemia dovesse durare pi di  anni e mezzo quale sarebbe il numero dei malati al  giorno ovvero m', 'disponiamo di un dado cubico usuale le facce sono numerate da  a  la somma dei numeri su facce opposte  sempre  a riposo la faccia non visibile in basso deve sempre occupare perfettamente una quadrato della quadrettatura regolare x fissa una mossa consiste nel ruotare il dado di  intorno a un suo spigolo al minimo quante mosse sono necessarie per spostare il dado dalla posizione di sinistra a quella di destra nota lorientazione del numero scritto sulle facce una cifra nella figura non  presa in conto', 'scrivete il pi grande numero dispari di tre cifre taleche la somma delle sue cifre sia uguale a ', 'qual  il numero minimo di pedine che bisogna collocare su una scacchiera di x caselle in modo che ciascuna retta che passa per il centro di una casella e coincide con una delle due diagonali della scacchiera oppure  parallela ad un suo lato o a una delle sue due diagonali incontri almeno una pedina', 'ii contadino giovanni possiede un campo quadrato che vorrebbe suddividere in quattro parti della stessa fonna ciascuna parte contenente una pianta di pero indicata nel disegno con la lettera p e una pianta di ciliegio indicata con la lettera c  aiutate giovanni a compiere suddivisione mettendo in evidenza contorni delle quattro parti', 'le pagine di un libro sono numerate come dabitudine  ecc c per una particolarit una delle cifre che figura nel numero dellultima pagina compare complessivamente  volte nei numeri di tutte le pagine del libro ma solo  volte se il libro contenesse  pagine di meno di quante pagine  il libro', 'una navicella spaziale va dalla terra alla luna in linea retta nello spazio senza mai tornare su se stessa la lunghezza totale del tragitto  di  metri ogni giorno la navicella percorre un tragitto la cui lunghezza in metri risulta dalla divisione di tale lunghezza totale per un numero intero per delle ragioni scientifiche le distanze percorse ogni giorno sono tutte diverse fra loro dopo  giorni  la navicella si trova a una distanza non nulla dalla luna qual  al minimo tale distanza in metri se necessario si arrotondi il risultato al numero intero pi vicino ', 'con ciascuna mossa anna sposta un cubo dal piedistallo dove si trova a quello vicino alla sua destra o alla sua sinistra mai per in nessuna fase del gioco il cubo  pu trovarsi sopra al cubo  quante mosse sono necessarie ad anna al minimo per ricostruire la torre sul piedistallo c', 'ho scritto un numero di due cifre che non termina per zero poi ho cancellato la prima cifra quella delle decine infine ho moltiplicato il numero rimasto di una sola cifra per  sorpresa  ritrovo il numero dal quale ero partitoqual era questo numero ', 'il cavallo del gioco degli scacchi si muove come indicato nella figura considerando un rettangolo di  x  caselle esso va da una casella dangolo a quella nellangolo opposto pu andare in tutte le direzioni a condizione che non esca dalla scacchiera un cavallo visita una e una sola volta tutte le caselle di una scacchiera  x  le caselle della scacchiera sono numerate da  a  nellordine in cui il cavallo le occupa parte dalla casella  passa alla  poi alla  e cos via fino alla  quattro caselle sono gi state numerate marcate con una croce la casella numero ', 'eric naso rosso era un famoso pirata aveva percorso in lungo e in largo ii mar dei caraibi accumulando un ingente tesoro che aveva nascosto sullisola dei ducati poco prima di morire aveva chiamato a se il proprio figlio per dargli indicazioni circa la posizione del tesoro disse  su questa isola si trovano unenorme roccia r sulla mappa e un albero centenario a sua mappa distanti un chilometro tra loro ji tesoro si trova al vertice de triangoo che ha un lato sulla retta ar un angolo di  con vertice r un lato di  metri e un altro di  metri   purtroppo eric e spirato prima di poter dire altro sul foglio risposta indicate ii numero delle possibili posizioni del tesoro e disegnatele nota abbiamo controllato ii tesoro non si trova in r', 'inserite quattro segni di addizione  tra le cifre che vanno da  a  senza cambiare il loro ordine in modo che il risultato del calcolo sia uguale a        ', 'debora parte dalla stazione di milano centrale alle  il suo treno percorre  km fino a gallarate alla velocit media di  kmh poi si ferma  minuti poi ancora da gallarate a cald sul lago maggiore il suo treno tiene la media di  kmh per i restanti  km a che ora debora arriver alla stazione di cald', 'amerigo ha sviluppato la superficie laterale di un cubo appoggiandola sul piano allinterno di un quadrato di  cm di lato lo sviluppo della superficie laterale del cubo  un pezzo unico composto da  quadratini quanto misura al massimo il lato del cubo di amerigo', 'quanti  numeri  di  tre  cifre  tutte  diverse  si  possono  formare utilizzando le cifre   e ', 'in figura vedete la pianta di un appartamento un po strano composto da quattro stanze senza porte e separate da pareti rappresentate dalle linee pi marcate mettete delle lampadine nel centro di alcuni quadratini in modo che  ogni riga e ogni colonna del disegno abbiano una e una sola lampadina  ci sia una lampadina in ogni stanza  tutta la superficie di ogni stanza sia direttamente illuminata dalla lampadina di quella stanza', 'cristina fa delle torte di una forma veramente originale quella rappresentata nella figura qui sopra le sue torte sono previste per quattro persone trovate ii modo di tagliare la torta di cristina in quattro parti pcrlettamente sonapponibili', 'immaginate di avere alcune tessere di domino tutte diverse fra loro ovvero tali che ognuna di esse reca una diversa coppia di numeri indipendentemente dal loro ordine nessuna delle quali  doppia ovvero reca due volte lo stesso numero recanti i numeri da  a  le tessere di domino devono essere disposte in tal modo che la parti che si toccano recano lo stesso numero dovete disporre sei tessere sulla griglia raffigurata in figura in modo che la somma dei sei numeri che recano le prime tre a sinistra sia uguale alla somma dei sei numeri che recano le seconde tre a destra completate lo schema in modo che rappresenti la disposizione delle vostre tessere', 'nel nostro condominio vivono tre individui il primo  un tipo avaro e ogni sera accende la luce della sua camera solo per unora dalle  alle  il secondo soffre invece dinsonnia e tiene accesa la luce della camera dalle  alle  del mattino successivo per ben sei ore il terzo  un tipo curioso tiene accesa la luce della sua camera quando  accesa la luce di almeno uno dei due condomini oppure quando una di queste luci  stata spenta al massimo da unora in una giornata di  ore per quante ore le luci delle tre camere risultano tutte spente diciottesima edizione nazionale', 'il fratellino di matilde ha disposto  cubi sul tappeto della sala quanti fra questi cubi ne toccano esattamente altri tre nota si considera che due cubi si toccano solo se sono in contatto tramite lintera faccia', 'desiderio comincia a eseguire le moltiplicazioni  x   x   x   x  ecc  si  rende  cos  conto  che  contrariamente  ai  primi  due  risultati quello di  x  si scrive con cifre tutte diversequal    il  risultato  successivo  che  possiede  la  stessa  propriet di scriversi con cifre tutte diverse', 'una rana si trova sulla pietra bianca della figura da qui si sposta orizzontalmente o verticalmente ma solo passando da una pietra a unaltra non pu nemmeno nei suoi movimenti saltare qualche pietra e se ripassa da una pietra sulla quale si era gi posata deve fermarsi disegnate il tragitto che la rana ha fatto per visitare tutte le pietre e tornare alla fine al suo punto di partenza', 'per realizzare un recinto su un foglio quadrettato basta annerire alcuni quadratini del foglio in modo da circondare uno o piu quadratini i quadratini neri del recinto possono toccarsi per un vertice o per un lato con  quadrati neri si puo includere un quadrato della quadrettatura con  quadrati neri si possono includere due quadrati qual e ii numero massimo di quadrati della quadrettatura che si possono includere disponendo  quadrati neri', 'con dieci tessere del domino da  a  anna vuole realizzare una catena ha gi sistemato sette tessere e le ha sistemate in modo tale che i numeri vicini di due diverse tessere abbiano sempre una differenza uguale a  come vedete in figura adesso deve sistemare ancora tre tessere    ma vuole sempre rispettare questa regola quale tessera metter nella catena dove c il punto di domanda per poterle sistemare tutte tenete presente che la tessera  ad esempio pu anche essere vista come ', 'desiderio il pap di nadia ha  anni jacob il fratello di nadia ha  anni mentre la mamma fausta ne ha  pi della figlia quando desiderio avr il doppio dellet di jacob fausta e nadia avranno complessivamente  anni quanti anni ha oggi nadia', 'le facce di un dado sono numerate da  a  in modo tale che la somma dei numeri su facce opposte  sempre  i tre dadi della figura sono uguali due facce in contatto devono avere lo stesso numero il prodotto della cifra indicata nella faccia visibile in alto a sinistra moltiplicato dal numero formato dalle due cifre indicate nelle facce visibili in alto a destra  uguale al numero formato dalle tre cifre indicate nelle facce visibili sotto non si tenga conto della faccia grigia ritrovate il numero indicato nelle facce visibili a parte la grigia', 'oggi allasilo di luca i piccoli giocano con  delle  scatole  a  forma  di  cubo  che  mettono  luna  sullaltra   in  modo  che  il  lato   di   una   scatola   misuri   sempre   un   centimetro  in  meno  di  quello  della  scatola  su  cui si appoggialuca  ha  dieci  scatole  il  lato  della  pi  grande   misura      cm    la   sua   piramide      costruita   utilizzando  tutte  le  scatole  impilate  dalla  pi  grande  alla  pi piccola   quale  laltezza della piramide di luca ', 'in quante mosse al minimo riuscite a spostare i cinque gettoni della riga in alto tre gettoni grigi e due bianchi portandoli nellallineamento della riga sottostante grigiobiancogrigiobiancogrigio senza buchi tra un gettone e laltro il tipo di mossa consentito  quello di spostare due gettoni che si toccano mentre loro si spostano gli altri restano fermi  verso destra se c dello spazio reso libero o allestremit destra della fila saltando altri gettoni quelli che muovete devono sempre rimanere a contatto tra loro e non potete neppure cambiare la loro reciproca posizione dei due gettoni che muovete quello a sinistra rimane a sinistra quello a destra rimane a destra', 'una spugna semicircolare ha il diametro che misura  cm nella figura qui sopra la vista e dallalto si fa scivolare questa spugna imbevuta di un prodotto per la pulizia senza schiacciarla sol pavimento nellangolo di una stanza in modo che il diametro ab rimanga costantemente in contano con i due lati dellangolo retto quale sar larea pulita dalla spugna fornire larea in cm arrotondata al cm piu vicino', 'nando scrive come primo numero  che  lanno in cui si  tenuta la prima edizione dei campionati internazionali di giochi matematici poi ottiene e scrive il secondo numero aggiungendo a  una delle sue cifre  o  o  o  va avanti e sceglie una cifra del secondo numero che aggiunge allo stesso secondo numero per ottenerne e scriverne un terzo dopo aver ripetuto pi volte il procedimento  sceglie una cifra dellultimo numero scritto e la aggiunge allo stesso per ottenere il successivo  alla fine ottiene e scrive  quanti numeri ha scritto al minimo nando', 'per andare dalla citt di mathville a quella di geocity che dista  km angelo e pietro hanno a disposizione una bicicletta una sola per su cui non possono salire in due angelo cammina ad una velocit di  kmh e in bicicletta tiene la velocit di  kmh quella di pietro invece a piedi  di  kmh e di  kmh in bicicletta se partono insieme alle  da mathville a che ora al pi presto arriveranno insieme a geocity', 'il solido di ottavio ha otto facce ognuna delle quali  un triangolo si deve scrivere un numero da i a  su ogni faccia utilizzandoli tutti la somma dei numeri scritti su ognuna delle quadruple di triangoli con un vertice comune deve essere la stessa scrivere i cinque numeri che mancano', 'il  quaderno  di  nando  ha  tutte  le  pagine  numerate  comincia con la pagina  quella della copertina e poi prosegue via  via fino  al  retro  della  copertina  sfogliando  le  varie pagine  e guardando  la  loro  numerazione   nando  legge  la  cifra   esattamente  volte quante pagine ha il quaderno di nando', 'guardate in figura il triangolo equilatero grigio abc il cui lato misura  cm adesso comincia il ballo con una prima mossa si fa ruotare il triangolo facendo perno sul punto b fino quando il punto c si trova per la prima volta sulla iniziale direzione ab il ballo prosegue con una seconda mossa ruotiamo il triangolo facendo adesso perno su c fino quando il punto a si trova per la prima volta sulla iniziale direzione ab quante mosse al minimo bisogna effettuare perch la lunghezza del tragitto percorso da a nel piano superi i  cm', 'papa cesarin possiede un terreno vicino a bergamo avente la forma di un pentagono non regolare questa pentagono ha due grandi lati consecutivi perpendicolari misuranti entrambi  m e tre lati piu piccoli aventi la medesima lunghezza uno di questi lati piu piccoli risulta parallelo a uno dei due lati grandi daltra parte il terreno di cesario ha larea di un mezzo ettaro quaj e il perimetro del terreno di cesario  scrivere il valore del perimetro arrotondato al metro piu vicino ', 'scrivete in ordine crescente tutti i numeri naturali per i quali la somma delle cifre vale               in questa sequenza quale posto occuper il numero ', 'nando ha  volte let di suo nipote ma se si invertono le due cifre di ciascuna et la nuova et del nipote diventa  volte quella nuova di nando quanti anni ha davvero  nando ', 'un grande cubo  x  x   composto da  piccoli cubi identici un piano perpendicolare a una diagonale del cubo passa dal suo centro quanti piccoli cubi interseca', 'oggi  milena  deve  preparare  delle  tortine  con  le  fragole  pu utilizzare  al  massimo    stampi  piccoli    stampi  medi  e   grandi in  ogni  modello  piccolo  mette    fragole  in  ogni  modello medio mette  fragole in ognuno di quelli grandi  milena per vuole utilizzare tutte le  fragole che ha raccolto quanti stampi e di che tipo deve utilizzare', 'quattro pozzi petroliferi si trovano in quattro punti del deserto  abcd allineati in questo ordine da sinistra a destra e distanziati ciascuno di  km quando i pozzi situati in b e in c prendono fuoco viene creata attorno a loro una zona di sicurezza per cui  vietato trovarsi a meno di  km da b e c qual  allora la distanza al minimo che bisogna percorrere per andare da a a d', 'adriano ha colorato la mappa di un continente immaginario al centro si trova un lago intorno al quale sono collocati  paesi come illustrato dal disegno i numeri     rappresentano quattro colori diversi e sappiamo che adriano ha utilizzato tre volte il colore  tre volte il colore  quattro volte il colore  quattro volte il colore  realizzate a colori la mappa di adriano', 'le poltrone di una sala cinematografica sono complessivamente numerate da  a  partendo dalla prima fila quella pi vicina allo schermo e da sinistra a destra cos ad esempio la poltrona n  si trova allintersezione della prima fila con la seconda colonna sapendo che le varie file hanno tutte lo stesso numero di poltrone qual  il numero della poltrona che si trova allintersezione della esima fila con la esima colonna', 'abbiamo gi visto che il prof pitagoris ha quattro figliha anche quattro nipoti che sono tali che la somma delle et del pi piccolo e del pi grande  uguale alla somma delle et dei due figli intermedi il prodotto di queste ultime  per il doppio del prodotto delle et del pi piccolo e del pi grande qual  let del maggiore che ha comunque meno di  anni ', 'ciascuno di questi due oggetti  costituito da sei piccoli cubi di un centimetro di lato assemblati insieme dopo averli eventualmente girati eo spostati si incollino insieme questi due oggetti in modo che la superficie del solido cos composto sia minima su quante facce si deve mettere la colla si noti che due facce in contatto devono entrambe avere della colla e che si deve mettere della colla solo su facce che si devono incollare fra loro', 'jacob  abita  in  una  via  molto  lunga  al  numero   tutte  le case  della  via  sono  numerate  in  ordine  dal  numero    senza saltare  nessun  numero  e  senza  utilizzare  numeri  bis  le  case situate  sul  lato  sinistro  hanno  i  numeri  dispari  quelle  sul  lato destro i numeri pari di fronte alla casa n c la casa n di fronte al n c il n e cos via rientrando da scuola e partendo dal numero  jacob guarda a sinistra e conta tutti i  che vede quanti ne conta', 'guardate la figura avvicinando i due quadrati orizzontalmente cio parallelamente a una delle loro due diagonali e sovrapponendoli parzialmente potete formare tre quadrati come appunto vedete nella seconda riga della figura quanti quadrati ottenete al massimo se ripetete la stessa operazione partendo ora con tre quadrati ', 'nella propriet del sig perfezionista che si puo rappresentare come un quadrato suddiviso in  quadrettini  si trovano  magnifi cedri del libano avendo  figlie molto gelose le une delle altre vuole dividere la sua  propriet rispettando le condizioni seguenti la propriet viene suddivisa in  parti di stessa supericie ogni figlia ha una parte che comprende un cedro le forme delle  parti delle figlie sono sovrapponibili il sig perfezionista conserva un terreno di forma diversa con un cedro e che tocca con un lato il terreno di ogni figlia il terreno di ogni figlia tocca con un lato il terreno di esattamente  sue sorelle aiutate questo bravuomo a fare una divisione della propriet che corrispona a tutte queste condizioni  ', 'a jacob sta antipatica la cifra  cos ha numerato il primo libro della sua biblioteca con  il secondo con  il terzo con  e cos via  sempre saltando i numeri con la cifra  qual  il numero del esimo libro numerato da jacob', 'carla ha festeggiato il suo compleanno di domenica il  marzo con due giorni di ritardo rispetto alla data esatta milena  nata in un altro anno dieci giorni dopo qual  il giorno del compleanno di milena', 'una scatola dispari  un parallelepipedo rettangolo le cui tre dimensioni misurano un numero intero dispari di centimetri riempiamola con il maggior numero possibile di cubi con lato di  cm disponendo gli spigoli dei cubi parallelamente a quelli della scatola qual  il volume della scatola sapendo che i cubi ne occupano il  quante soluzioni ammette il problema', 'quanti  numeri  di  tre  cifre   diverse      puoi scrivere  utilizzando  i  tre  timbri della figura ', 'in figura vedete collocati tre gettoni che hanno la cifra  tre gettoni con la cifra  e altri tre gettoni con la cifra  una mossa consiste nello scambiare tra loro le posizioni di due gettoni quante mosse saranno necessarie al minimo per ottenere una disposizione di gettoni tale che le somme dei numeri di ciascuna riga di ciascuna colonna e di ciascuna delle due diagonali siano sempre uguali a ', 'milena si diverte a colorare le caselle della figura a lato che assomigliano alle cellette di un alveare le colora stando attenta che ciascuna casella colorata tocchi esattamente due altre caselle colorate quante caselle pu colorare al massimo', 'il  febbraio   stata una data palindroma perch si scrive come  che si legge allo stesso modo da sinistra a destra e da destra a sinistra qual  stata la successiva data palindroma', 'i tre batteristi del complesso musicale suonano in questo momento contemporaneamente i loro strumenti tra quanti secondi li suoneranno di nuovo contemporaneamente per la prima volta sapendo che il primo musicista batte la sua batteria ogni  secondi il secondo ogni  secondi e il terzo ogni  secondi', 'abbiamo misurato gli spigoli della piramide a base rettangolare che vedete in figura che pure non rispetta le proporzioni ab   m  ac   m  ad   m poi ci siamo stancati quanto misura lo spigolo ae', 'jacob  un ragazzo generoso e vuole dividere la sua tortina rotonda divisa in spicchi con i compagni ne d la met a guido    che   a   sua   volta  d  la  met  di  quello  che  riceve  a  giacomo   che   non   ha  molta  fame  e  restituisce allora    la met  di  quello  che  ha ricevuto a guidoquanti spicchi della  tortina  manger guido', 'sulla miniscacchiera della figura sono consentite solo due mosse  lo spostamento di una pedina da una casella ad unaltra adiacente per un lato se questa  libera  il salto di una pedina qualunque sia il suo colore sempre che la casella nella quale si arriva dopo il salto sia libera in quante mosse al minimo si possono scambiare le pedine bianche con quelle nere', 'le lunghezze delle tre dimensioni di un parallelepipedo rettangolo sono in progressione aritmetica e la loro somma  uguale a  m la superficie totale del parallelepipedo   m qual  il volume del parallelepipedo', 'amerigo desiderio michele e renato hanno partecipato a una corsa campestre in cui erano gli unici concorrenti quanti sono i possibili ordini darrivo sapendo che tutti i nostri quattro atleti sono arrivati al traguardo che non ci sono stati exaequo e che in ogni modo michele  arrivato prima di renato', 'jacob luca e francesco hanno insieme  anni tra quanti anni ne avranno insieme ', 'le pulci  si sa  saltano la nostra pulce mim partendo da d vuole arrivare ad a la sua caratteristica  che salta dal centro di una faccia di un cubo a quello di una faccia adiacente senza passare mai due volte dalla stessa faccia inoltre mim non passa mai da una faccia non visibile nel disegno in quanti modi mim pu allora saltare da d a a ', 'rosi e angelo dividono le loro spese sempre in parti uguali ieri rosi  andata al supermercato e ha speso  euro oggi angelo ha fatto altre spese per  euro quanti soldi angelo deve dare a rosi per pareggiare i conti ', 'desiderio si trova nel punto a e deve raggiungere il punto b nel modo pi breve possibile deve per tener presente dei sensi unici indicati in figura con una freccia disegnate il tracciato pi breve che pu percorrere da a a b', 'i cerchi che vedete in figura sono tra loro tangenti ne vedete  bianchi uguali tra di loro in mezzo c un disco centrale che  la riproduzione identica in piccolo di tutta la figura e cos via sempre pi in piccolo quale frazione dellintera figura  quella pi scura', 'in una lista di cinque numeri il primo   e lultimo  il prodotto dei primi tre a sinistra  incluso   il prodotto dei tre numeri di mezzo   il prodotto dei tre ultimi numeri a destra incluso    scrivere i numeri mancanti nelle caselle vuote', 'alle  lorologio del campanile ci mette  secondi per suonare i tre colpi quanti secondi ci metter per suonare le  ', 'per la sua festa la mamma di chiara e anna riceve dalle figlie un regalo imballato in una scatola a forma di parallelepipedo rettangolo le cui dimensioni sono tutte dei numeri interi di centimetri la lunghezza del nastro utilizzato intorno al pacchetto senza contare il fiocco  espressa in centimetri   uguale alla met della misura della superficie della carta da regalo superficie totale del parallelepipedo espressa in centimetri quadrati quali sono le tre dimensioni del pacchetto indicate in ordine crescente', 'la mia famiglia e formata dal papa la mamma i  miei fratelli le mie sorelle me e      i miei pesci rossi ci sono in tutto  mani e  bocche per fortuna solo i  pesci rossi sono semamani quanti pesci rossi abbiamo in famiglia  ', 'dividete il quadrato della figura in sei regioni disegnandone il contorno composte rispettivamente da  quadratino  quadratino  quadratini  quadratini  quadratini e  quadratini la suddivisione deve essere fatta in modo che i quadratini che formano una regione siano tra di loro contigui per un lato la regione non deve avere buchi in mezzo nella figura il numero di quadratini che compongono una regione  scritto in uno dei quadratini di quella regione', 'carlina scrive  su una lavagna questo  il primo numero di una serie ogni numero della serie  la somma del quadrato delle cifre che compongono il numero precedente in scrittura decimale il secondo numero sar quindi  posto che  il terzo numero sar  posto che  il quarto sar  posto che   il quinto numero sar  posto che  quale sar il  numero', 'ho  volte let che luca aveva quando io avevo let di luca adesso qual  allora let di luca adesso se io ho  anni ', 'nel fienile di suo nonno matilde trova una piramide a base quadrata in legno i suoi vertici sono leggermente smussati allora matilde decide di tagliarli via in modo netto con una sega quanti spigoli possiede il solido che ottiene in tal modo ', 'qual e ii piit grande numero intero formato da tre cifre pari tutte diverse ', 'i centri dei quadrati pi piccoli scuri in figura situati dentro il quadrato pi grande sono allineati lungo una delle due diagonali del quadrato pi grande qual  larea di questo quadrato sapendo che ognuno dei quadrati scuri ha unarea di  cm', 'abbiamo cinque carte numerate da  a  disponile una per casella sulla seconda riga del tappeto rappresentato in grigio in modo che il numero scritto su quattro fra queste sia maggiore di quello indicato nella casella sopra di esse nella prima riga', 'da solo donato ci metterebbe  ora a scolarsi il contenuto di una damigiana di vino marco  ore michele  ore se si mettono insieme a bere quanto tempo ci mettono a terminare la damigiana', 'si vuole costruire una scatola di cartone a forma di cubo senza una faccia la scatola non ha coperchio per questo si deve piegare un foglio di cartone e si utilizzano i quattro quadrati grigi rappresentati nella figura pi uno dei quadrati bianchi mettete una croce su tutti i quadrati bianchi che possono', 'guido ha trovato cinque coccinelle e le ha allineate sul prato purtroppo per due volano via e sulle tre coccinelle restanti si vedono solo  puntini quali sono le lettere che indicano le coccinelle che sono volate via', ' semplice suddividere il quadrato della figura di  cm x  cm in nove quadrati pi piccoli tutti uguali tra loro adesso invece provate a dividere il quadrato della figura seguendo le linee tratteggiate in nove quadrati che non abbiano tutti la stessa area in questo caso quanto vale al massimo larea del quadrato di area maggiore tra i nove', 'debora scrive il numero  gli aggiunge  e ottiene  poi invertendo le sue cifre scrive  gli aggiunge  e trova  riparte invertendo le cifre dellultimo risultato ottenuto  scrive  gli aggiunge  e trova  cos facendo e continuando scrive compreso quello iniziale i numeri  quanti sono i numeri di questa sequenza necessari per arrivare a scrivere  compreso ', 'per sapere che ora  questa mattina basta aggiungere al tempo che manca a mezzogiorno i due quinti del tempo passato da mezzanotte che ora  ', 'si formi un cubo      impiegando  dadi uguali ogni dado presenta un numero diverso da  a  su ognuna delle sue facce e la somma dei numeri sulle facce opposte  sempre  qual  al minimo la somma di tutti i numeri che risultano visibili sulle facce del cubo', 'fabrizio      abbastanza bravo    nel    gioco    delle    freccette    sul    bersaglio    disegnato     a     lato     ha      realizzato              punti         angelo    un  po  meno  capace  ha  realizzato     soltanto          punti    lanciando    quattro    freccette   che   hanno   tuttavia   raggiunto   tuie   il   bersaglio disegnate   dove    sono   arrivate   le   freccette di angelo', 'la distanza tra due punti della figura vicini su una stessa riga in orizzontale  di  cm la stessa distanza c tra due punti vicini su una stessa colonna in verticale quanti segmenti lunghi  cm si possono tracciare congiungendo due dei  punti della figura', 'utilizzate le cifre da l a  per formare un numero di  cifre tutte diverse senza cambiarne lordine ogni copia di cifre scritte di seguito luna allaltra deve formare un numero a  cifre uguale al prodotto dei due numeri a  cifra eventualmente uguali', 'al via di un circuito automobilistico si presentano due vetture che partono insieme per fare un giro completo quella pi veloce ci mette  minuti quella pi lenta  minuti dopo quanti minuti la vettura pi veloce raggiunger di nuovo laltra per la prima volta', 'mattia dispone dun gran numero di cubi bianchi uguali su ogni faccia di ognuno di essi traccia una diagonale quanti cubi diversi fra loro otterr al massimo nota la figura mostra le facce visibili di  cubi di mattia attenzione alcuni fra questi tre cubi potrebbero non essere diversi dopo una rotazione nello spazio per cubi diversi intendiamo cubi che sono fra loro diversi quale che siano la loro posizione rispettive', 'in francia  non so se lo sapete  i voti si danno in ventesimi leggete questo dialogo tra pinocchio e suo padre a proposito dei  suoi risultati scolastici ma attenzione  pinocchio ha preso la pessima abitudine di non dire mai la verit geppetto        hai  preso  pi  di    nella  verifica  di  matematica  pinocchio   no papg   allora hai ovviamente preso meno di   p   no papg   non capisco ma il tuo voto  un numero pari  p   s papche  voto  ha  preso  pinocchio    si  tratta  di  un  numero intero ', 'in figura vedete tre cerchi parzialmente sovrapposti colorate le parti del piano dove due dei tre cerchi e solo due si sovrappongono', 'mattia ha scelto tre numeri di  cifre ha addizionato tali tre numeri poi ne ha calcolato il prodotto la somma dei tre numeri si scrive xy con x la cifra delle decine e y quella delle unit e il loro prodotto si scrive xy con x la cifra delle migliaia e y quella delle decine le altre due cifre sono degli zeri qual sono in ordine crescente i tre numeri scelti da mattia', 'siamo in una delle aule dove si svolge la finale nazionale dei campionati di giochi matematici tra le  e le  di pomeriggio il disegno mostra in questo istante i quattro orologi che sono presenti nellaula uno  fermo dei tre che funzionano uno  indietro di meno di unora un altro indica lora esatta e un altro ancora  avanti di meno di unora che ore sono in questo momento', 'una formica parte da un vertice di un cubo ogni suo movimento consiste nellandare da un vertice del cubo  un altro seguendo uno spigolo giunta a un vertice la formica sceglie a caso lo spigolo da seguire fra i tre che partono da quel vertice ogni scelta  indipendente dalla altre qual  la probabilit che la formica sia passata da tutti gli otto vertici del cubo dopo aver compito sette movimenti il vertice di partenza conta fra i vertici da cui la formica  passata sia dia la risposta sotto forma di frazione irriducibile', 'su un grande foglio di carta jacob ha disegnato parecchi quadrati e parecchi triangoli conta i lati delle figure disegnate tutte separate e ne trova  quanti sono i triangoli di jacob', 'avete  gettoni potete occupare ogni casella di una scacchiera x con un solo gettone ma dovete farlo in modo che ogni casella con un gettone sia adiacente lungo uno dei suoi lati a  o  caselle con un gettone anche se  possibile che una casella adiacente a  o  caselle con un gettone resti vuota la figura mostra una possibile configurazione di  gettoni sulla scacchiera piazzate sulla scacchiera il maggior numero possibile di gettoni e indicate questo numero', 'tagliate un quadrato con una retta che divida il bordo del quadrato in due parti lunghe rispettivamente  cm e  cm questa retta divide un lato del quadrato in due segmenti lunghi  cm e  cm e laltro lato in due segmenti lunghi  cm e  cm qual  larea della pi piccola delle due parti in cui la retta divide il quadrato il problema ammette due soluzioni  sufficiente che ne diate una', 'apollonia gioca a un gioco matematico scrive un numero poi al lato di esso scrive il numero dei numeri diversi che si possono leggere in questo numero poi ricomincia con questultimo numero e cos di seguito fino scrivere  per esempio comincia scrivendo  poi scrive  al lato perch in  legge i cinque numeri diversi seguenti    e  ma non  in quanto occorre che le cifre che compongono il numero letto siano poste di seguito luna allaltra poi ricomincia con  nel quale pu leggere il solo numero  quindi al lato di esso scrive  e si ferma ella ha quindi scritto di seguito tre numeri      oggi giocando al suo gioco apollonia ha scritto  numeri qual  il numero pi piccolo dalla quale pu essere partita', 'enrico ha  figli i  pi grandi hanno solo un anno di differenza luno dallaltro se moltiplicate le loro et e aggiungete a questo prodotto let del pi piccolo ottenete il quadrato dellet della moglie di enrico qual  let del pi piccolo dei figli di enrico', ' x  x  cubetti incollati tra di loro partendo dalle tre facce visibili abbiamo attraversato il cubo da una parte allaltra levando delle file intere di cubetti nella direzione indicata dalle frecce sapendo che ogni cubetto pesa  grammi qual  il peso del cubo bucatocio dei cubetti rimasti', 'il numero   un numero di quattro cifre la cui somma  compreso questo esempio quanti sono i numeri di quattro cifre per cui  uguale a  la somma delle cifre che li compongononota  nessun numero pu cominciare per zer', 'prima di lanciare un programma informatico giuseppe contamina un certo numero di caselle di una scacchiera x per esempio colorandole di rosso poi il computer esegue il programma simulando un contagio tappa dopo tappa ogni casella non contaminata adiacente lungo un lato a esattamente due caselle contaminate viene a sua volta contaminata al minimo quante caselle giuseppe deve contaminare allinizio perch le  caselle della scacchiera siano tutte contaminate dopo un certo numero di tappe', 'trina vuole colorare ciascuno dei diciassette lati dei triangoli in un colore scelto fra blu giallo o rosso i lati di ciascun triangolo devono essere di colori diversi trina vuole inoltre che i lati colorati in blu siano il doppio di quelli colorati in giallo quanti lati trina colorer in rosso', 'la somma dei quadrati di tre numeri dispari consecutivi  un numero di quattro cifre uguali tra loro qual  il pi piccolo dei tre numeri dispari ', 'se ci si mette un minuto e mezzo per tagliare un albero con il tronco di diametro costante in due parti quanti minuti occorrono per tagliare lo stesso albero in cinque parti', 'se si incollano adeguatamente due parallelepipedi rettangoli uguali si pu ottenere un parallelepipedo rettangolo non cubico che ha unarea totale di  cm si pu per ottenere anche un cubo quale sarebbe il volume di questo cubo', 'al torneo di bocce di bordeaux ad eliminazione diretta partecipano  giocatori in ogni incontro a due chi vince elimina lavversario e la tradizione vuole che ogni vincitore offra un bicchiere di vino rosso al perdente e beva con lui ogni bicchiere di vino costa  franchi quanti franchi incassa ii bar alla fine del torneo grazie a questa tradizione', 'la figura rappresenta in sezione verticale la tana di talpy la talpa andando dallentrata t della tana in alto fino alla stanza c a destra talpy deve percorrere le gallerie indicate dalle frecce nel senso di tali frecce sui  percorsi possibili che portano da t a c senza passare due volte dalla stessa galleria n dallo stesso incrocio quanti passano dallangolo in basso a sinistra indicato da  ', 'il grande triangolo equilatero rappresenta le mura del castello brillante visto dallalto i tre triangoli equilateri piccoli rappresentano le tre torri con una superficie di  m ciascuna lesagono bianco rappresenta la corte interna del castello con un perimetro uguale alla somma dei perimetri delle tre torri qual  la superficie della corte in m arrotondata allintero pi vicino', 'fabrizio deve stampare le carte che portano impressi i numeri interi da  a  ci sono per certe carte che permettono di leggere simultaneamente due diversi numeri  come nel caso della figura con  e   a seconda di come vengono orientane le cifre a doppia lettura sono  in questo caso anzich due carte se ne stampa una sola seguendo questo criterio quante carte si devono stampare in tutto ', 'chiara  molto impegnata perch stasera deve ricevere degli amici a cena deve ancora lavorare al pc per  minuti poi la stampante lavorer da sola per altri  preparare la lavastoviglie ci metter un quarto dora poi la macchina andr da sola per unora e fare la doccia in  minuti ma prima della doccia deve lavare per terra bisogna preventivare altri  minuti quanto minuti le servono come minimo', 'matilde ha messo  carte sulla tavola una dopo laltra in che ordine lo ha fatto ', 'gianfranco zero odia la cifra zero cosi invece di scrivere  dieci scrive  x  allo stesso modo    invece di  cento ha labitudine di scrivere  x  qual e il piu piccolo numero della forma    dove i puntini sostituiscono degli zeri che gianfranco non potra scrivere come un prodotto di due numeri interi senza che appaia iodiata cifra vale a dire lo zero', 'usando quattro dei  tetramini della figura assemblandoli senza buchi n alcuna sovrapposizione milena  riuscita a formare un quadrato di  caselle indicate la lettera del tetramino che milena ha lasciato da parte', 'cleo vuole costruire una piramide con  cubi blu  cubi gialli e  cubi rossi i piani della piramide sono numerati da  a  a partire dal basso il numeri dei cubi di ogni piano  uguale al complemento a  del numero del piano per esempio il  piano conta  cubi ogni piano deve contenere cubi di un solo colore due piani consecutivi non hanno mai cubi dello stesso colore uno dei tre colori non appare per quattro piani consecutivi qual  la somma dei numeri di questi quattro piani', 'disponendo queste quattro carte fianco a fianco come nel disegno si legge il numero  qual  il numero massimo che si pu formare disponendo queste quattro carte fianco a fianco in un altro ordine', 'un atleta corre i  metri in  secondi in che tempo correr  metri se su questa lunghezza tiene la stessa velocit media', 'un cubo di  cm di lato e stato fabbricato incollando insieme dei piccoli cubi da un centimetro di lato qual  il maggior numero di piccoli cubi visibili da un solo punto di vista ', 'ii signor nando gestore di alcuni distributori automatici di bevande ogni sera gioca nel modo seguente contando lincasso della giomata mette tutte le monete da  lire sul tavolo la faccia che contiene una testa rivolta verso ii basso si supponga che tutte le monete abbiano una faccia con una testa poi sceglie un numero intern n rninore del numero totale delle monete da  lire di cui dispone in seguito ribalta esattamente n inonete scelte arbitrariamente e poi ripete questo ribaltamento di n monete quante volte vuole ii suo scope e quello di fare apparire tutte monete con la figura della testa rivolta verso lalto ii gioco non sempre gli riesce oggi il sig nando ha davanti a se  monete da  lire tutte con la figura della testa verso ii basso ed ha fissato n   quante volte al minimo dovra ribaltare  monete affinche le  monete presentino tutte la figura della testa rivolta verso i alto ', 'nella scacchiera della figura si entra dalla casella con il n e si esce da quella con il n ci si pu muovere solo verso destra e verso il basso e non si pu passare due volte per la stessa casella sommando i numeri delle caselle attraversate qual  la somma pi grande che si pu ottenere', 'sia abcd un quadrato i cui lati sono lunghi  cm si prenda un punto i sul lato dc un punto j su ia un punto k su jb e un punto l su kc in modo che i rapporti cicd ijia jkjb e klkc siano tutti uguali a  qual  in cm arrotondata allintero pi vicino la superficie del quadrilatero grigio ijkl', 'i termini della successione di prospero giffoni sono dei numeri interi di  cifre ogni termine distinto dal pi piccolo della successione  ottenuto moltiplicando il precedente per un numero  non necessariamente intero ma pi grande di  che  sempre lo stesso se il numero dei termini della successione  il pi grande possibile qual  il pi grande fra questi termini', 'due ore fa era passato dalluna di pomeriggio lo stesso tempo che mancava per arrivare alluna di notte che ora  adesso', 'giulia ha fabbricato questo solido utilizzando due piramidi a base triangolare infilate luna nellaltra quanti sono i piccoli triangoli che compongono la sua superficie ', 'per un pross anniversario della sua fondazione la ffjm federazione francese di giochi matematici vuol fare apporre una targa dedicata al matematico ignoto contro ii muro estemo di un importante monumento ii nome de monumento e ancora segreto b la pesante targa di marmo avra la forma di un triangolo rettangolo i cui cateti i lati che formano langolo retto misurano rispettivamente  m e  m per essere fissata nella sua posizione definitiva questa targa sara dapprima posata al suolo con lipotenusa jipotenusa coincide con ob nel disegno  sara poi sollevata da una gru ii vertice relativo allangolo a si sposta lungo ii segmento oa mentre ii vertice dellaltro angolo acuto scivola sul terreno finche lipotenusa coincide con oa vedere la figura nel corso della posa in opera della targa quale sara la lunghezza de cammino percorso dal vertice c relativo allangolo retto ', 'un buon percorso per visitare un museo  quello che dallentrata alluscita passa per tutte le sale una sola volta sotto vedete un esempio di buon percorso disegnate un altro buon percorso diverso da quello del precedente esempio', 'su unimmagine della piramide di toutanmathon la superficie di ognuno dei quindici quadrati   cm la frontiera fra la parte in ombra e la parte al sole  data da un segmento che parte dal vertice in alto a sinistra del quadrato pi in alto e arriva al vertice in basso a destra del quadrato pi in basso a destra qual  in cm la superficie della parte al sole ovvero la superficie bianca', 'arianna parte da  poi rimpiazza iterativamente tutti i  con  tutti gli  con  e tutti gli  con  e ottiene cos successivamente       per convenzione da sinistra a destra la cifra che occupa la posizione    quella di posizione    quella di posizione    quella di posizione    quella di posizione    quali sono le nove cifre che occupano le posizioni da  a  limiti inclusi', 'due candele hanno la stessa lunghezza ma la prima si consuma interamente e in modo regolare in  ore mentre la seconda brucia interamente anchessa in modo regolare in sole  ore carla accende le candele a mezzogiorno e quando decide di spegnerle lo fa per entrambe nello stesso istante verifica allora che la parte restante della prima candela  quattro volte pi lunga di quel che resta della seconda candela a che ora carla ha spento le due candele', 'paperone possiede quattro tipi di lingotti doro i lingotti a quelli b quelli c e quelli d e per ognuno d questi tipi ne possiede uninfinit si tratta di parallelepipedi con la stessa densit e con le dimensioni seguenti in centimetri    e  per i lingotti a    e  per i lingotti b    e  per i lingotti c    e  per i lingotti d prendendo insieme quattro lingotti a un lingotto b quattro lingotti c e due lingotti d paperone ottiene esattamente una quantit doro uguale a  cm qual  al massimo in cm la quantit doro che paperone non pu ottenere esattamente', 'in una dozzina di uova ci sono dodici uova in una grossa di uova ci sono dodici dozzine di uova  il famoso maestro di cucina lecoq aveva ordinato quattordici grosse di uova contando le uova ricevute osserva che sono  quante uova mancano al signor lecoq', 'si deve disporre un numero dispari compreso fra  e  di gettoni neri in uno schema x in modo tale che ogni casella sia vuota o contenga un solo gettone ogni riga e ogni colonna includa un numero dispari di gettoni   o  in quanti modi lo si pu fare incluso quello rappresentato come esempio', 'il pannello di segnalazione stradale che nel paese della matematica obbliga ad andare a destra vedi la freccia al centro  un grande esagono regolare contenente cinque esagoni regolari bianchi pi piccoli e tutti uguali fra loro la sua superficie  di  dm ogni contatto fra due esagoni interni  dato da un segmento di lunghezza non nulla qual  in dm arrotondata allintero pi vicino la superficie totale delle sei superfici grigie', 'sergio possiede i quattro gettoni che compaiono in figura con i quali ha formato il numero  disponendoli in altro modo pu naturalmente formare altri numeri quanti altri numeri di  di  e di  cifre pu complessivamente formare  nota  un numero di   o  cifre non pu cominciare con ', 'nella nostra famiglia ci sono  figli che non sono tutti gemelli pur essendoci stato solo un parto gemellare o plurigemellare sono tutti nati il primo gennaio e al  gennaio  la somma delle loro et  uguale al loro prodotto quali sono le et dei  figli della nostra famiglia', 'sara ha trovato nel solaio del nonno una piramide di legno regolare a base quadrata riprodotta nella figura di sinistra  chiss a cosa sar servita appassionata di bricolage decide di decapitaretutti i vertici della piramide intervenendo ogni volta a una distanza dal vertice pari a  della lunghezza degli spigoli originali come nella figura di destra quanti spigoli avr lexpiramide del nonno quando sara sar intervenuta su tutti i suoi vertici ', 'irma moutte ha visitato lo zoo di la dfense  ha visto solo degli elefanti africani ed asiatici quelli africani hanno orecchie grandi quelli asiatici hanno orecchie piccole ogni elefante ha quattro zampe una coda due orecchie una proboscide e due zanne irma ha osservato che il numero di zampe di elefante aumentato del numero di proboscidi   sapendo che in questo zoo il numero di elefanti africani  il doppio degli elefanti asiatici quante sono le orecchie grandi degli elefanti dello zoo', 'una volta riempito questo schema di parole crociate deve contenere sei parole di tre lettere tre si leggono orizzontalmente da sinistra a destra e tre verticalmente dallalto in basso queste sei parole sono formate solo dalle lettere a e b e sono tutte diverse tra loro inoltre la parola aaa non compare mai riempite lo schema', 'un pavimento di una stanza quadrata di  dm di lato  interamente ricoperto da piastrelle quadrate che possono essere di  dm oppure di  dm oppure ancora di  dm di lato quante piastrelle quadrate di  dm di lato saranno necessarie al minimo per ricoprire lintero pavimento', 'allinizio del gioco laura e matteo mettono sul tavolo  euro ciascuno il gioco ha inizio con laura che scrive una cifra scelta tra  e  inclusi poi matteo ne aggiunge unaltra e cos via le cifre possono essere anche ripetute ogni volta che matteo ha giocato i due amici verificano se le cifre scritte formano un numero multiplo di   se non lo  laura prende  euro dal tavolo e il gioco continua se invece lo  matteo prende tutto quello che c sul tavolo e il gioco finisce quale deve essere la prima cifra scritta da laura se vuole essere sicura di prendere dal tavolo pi di quanto aveva messo indipendentemente da come gioca matteo', 'esuccesso un lunedi dello scorso inverno ogni mattina lautista dellazienda partiva dagli uffici per andare a prendere alle  in punto il megadirigente nella sua villa fuori citt e portarlo nel suo megaufficio dove arrivava con cronometrica puntualit sempre alla stessa ora quel lunedi il megadirigente non ha visto arrivare il suo autista dimenticando che durante il weekend lora legale era stata abolita e detestando aspettare alle  precise si mette in moto a piedi dirigendosi verso lufficio lautista che era partito alla solita ora e procede con la stessa velocit lo incontra lungo il tragitto lo fa salire torna immediatamente indietro e deposita il suo prezioso megadirigente  minuti prima del solito quanti minuti ha camminato il megadirigenteprima di essere raccolto dal suo autista ', 'quanto misura il percorso pi breve per una formica che si trova in a e vuole raggiungere il punto b muovendosi lungo le facce del parallelepipedo in figura  dovete approssimare lsoluzione per difetto arrestandovi alla prima cifra decimale', 'gli scheletri dei dinosauri del museo di storia naturale sono numerati a partire dal  per la numerazione sono state utilizzate una o pi etichette su ciascuna etichetta  scritto un numero tra  e  due di queste etichette sono rappresentate nella figura sappiamo sono state utilizzate  etichette con il numero  e  recante il numero  quanti scheletri di dinosauro ci sono nel museo se ci fossero pi risposte possibili darle tutte', 'consiste in una striscia illimitata di caselle numerate     c anche un numero illimitato di gettoni e a sua volta ogni casella pu contenere un numero illimitato di gettoni allinizio del gioco per  presente un solo gettone collocato nella casella con il numero  sono possibili due tipi di mosse   si raddoppia un gettone non situato nella casella con il numero  sostituendolo con due gettoni collocati nelle caselle adiacenti uno alla sua sinistra uno alla sua destra  si elimina un gettone raggruppandone due e sostituendoli con un gettone posto nellunica casella compresa tra le due si vince quando si riesce ad avere un solo gettone e questo  posto nella casella con il numero  con quante mosse al minimo si pu vincere  rispondete  se pensate che la domanda sia impossibile', 'prendete come unit di misura il lato della quadrettatura interna al quadrato grande e scrivete larea della parte comune in grigio nella figura al triangolo e al quadratino interno al triangolo grande', 'oggi matilde ha  anni suo fratellino ne ha  e sua madre  matilde scrive la sua t  poi addiziona fra loro le cifre che compongono questo numero poi moltiplica il risultato per  e scrive il risultato della moltiplicazione  poi ricomincia allo stesso modo a partire da tale numero addiziona fra loro le cifre che compongono questo numero poi moltiplica il risultato per  e scrive il risultato della moltiplicazione  matilde ha cos scritto tre numeri   e  quale sar il  numero che scriver matilde', 'desiderio  italiano e per indicare un giorno dellanno scrive prima la data del giorno e poi il mese ad esempio scrive  per indicare il  gennaio il suo amico inglese jacob  invece abituato a scrivere prima il mese e poi il giorno per lui  significa il  marzo per queste ragioni  successo un bel pasticcio il  gennaio del  desiderio aveva dato appuntamento a jacob per un certo giorno del primo semestre dellanno scritto allitaliana jacob lha letto allinglese e i due non si sono incontrati quale i possibile i giorno i aveva scritto desiderio perch la differenza con quanto capito da jacob sia la massima possibile ma inferiore alla met di un anno', 'carla ha preso una bella zucca e ha fatto quattro tagli con un coltello affilato come indicato nella figura in quanti pezzi la zucca  stata tagliata ', 'una caraffa contiene un litro di caff con un bicchiere si tolgono  cl di caff e si aggiungono  cl di latte poi si mescola per bene dopo questa manipolazione iniziale si ricomincia con il bicchiere si tolgono  cl del nuovo contenuto poi si aggiungono  cl di latte e si mescola quante volte al minimo si deve effettuare questa operazione togliere  cl del contenuto della caraffa quindi aggiungere  cl di latte in modo che la caraffa contenga pi latte che caff', 'spiro disegna una spirale su un foglio quadrettato in modo regolare senza levare la matita dal foglio e seguendo la quadrettatura parte dallorigine  e si sposta di ununit verso destra raggiungendo la posizione  di coordinate  poi si sposta verso lalto fino a quando pu piegare a sinistra poi va verso sinistra fino a raggiungere lasse verticale poi si sposta di ununit verso lalto poi va verso destra fino a che pu tornare in basso poi va verso il basso fino allasse orizzontale poi si sposta di ununit verso destra e cos via come indicato in figura il punto nero corrisponde alla posizione  di coordinate  quali sono le coordinate della posizione ', 'in figura vedete due rettangoli parzialmente sovrapposti che hanno le stesse dimensioni e un vertice in comune tenendo conto delle informazioni riportate in figura  cm  cm e due segmenti indicati come uguali calcolate larea della parte pi scura', 'lanagramma di un numero  un numero composto dalle stesse cifredisposte in ordine eventualmente diverso per esempio il numero  ha quattro anagrammi   e  la scrittura di un numero intero non comincia mai per  adesso avete un numero di tre cifre che ha almeno un anagramma multiplo di  almeno un anagramma multiplo di  almeno un anagramma multiplo di   almeno un anagramma multiplo di n e almeno un anagramma multiplo di n dove n  il valore pi grande possibile qual  questo numero di tre cifre sapendo che le sue cifre sono disposte in ordine decrescente', 'un fabbro dispone di  pezzi di catena separati costituiti ognuno da due anelli intrecciati fra di loro  il fabbro impiega un quarto dora per aprire un anello e un quarto dora per chiuderlo di quanto tempo avr bisogno al minimo per formare una catena di un solo pezzo di  anelli chiusi ', 'gli scolari della classe di sara hanno costruito  cubetti con lo spigolo di  cm  completamente rossi e  completamente bianchi con santa pazienza la maestra incolla tra di loro i  cubetti e ottiene un parallelepipedo rettangolo quale sar al minimo larea rossa visibile sulle facce del parallelepipedo ', 'trova una serie di quattro numeri interi positivi non nulli tutti diversi  tali che  due di loro hanno per somma   due di loro hanno per differenza   due di loro hanno per prodotto   due di loro hanno per  quoziente se ci sono pi risposte darle tutte sul modulo di risposta scrivere i quattro interi in ordine crescente', 'nel gioco degli scacchi la regina si pu spostare orizzontalmente o verticalmente o in diagonale di un qualunque numero di caselle a condizione che non trovi nessun altro pezzo sul suo percorso cos la regina posta nella miniscacchiera della figura di destra pu spostarsi in tutte le caselle grigie annerite quattro caselle della miniscacchiera della figura di sotto dove collocate quattro regine in modo che nessuna di loro con una mossa possa spostarsi nella casella indicata con x', 'numerate le sette regioni della figura con i numeri interi da  a  il  a dire il vero  stato gi inserito in modo tale che due regioni che si toccano non abbiano due cifre consecutive quale cifra va in a', 'i biglietti della lotteria del matematico sono numerati senza alcuna interruzione da  a  i biglietti vincenti sono quelli il cui numero pu essere separato con un trattino in modo che la somma delle cifre scritte a sinistra del trattino sia uguale alla somma delle cifre alla sua destra ad esempio i numeri   e  sono vincenti perch         milena acquista due biglietti con due numeri consecutivi di  cifre e con grande gioia ottiene due premi i suoi due biglietti sono infatti vincenti e uno dei due numeri  il quadrato di un numero intero qual  il pi piccolo dei due numeri', 'la prova generale dei campionati internazionali di giochi matematici si  svolta lotto marzo esattamente una settimana prima della competizione una sola delle cifre che formano la data   dispari qual  la data precedente formata unicamente da cifre dispari ', 'terniate la termite a scavato tre gallerie che attraversano un grande cubo di legno esse hanno delle pareti piane e parallele alle facce del cubo ognuna di esse ha una sezione a fonna di pentamino una fonna ottenuta componendo cinque quadrati uguali adiacenti lun laltro la loro entrata e indicata in nero nelle figura   quanti piccoli cubi fra quelli che formano ii cubo piu grande secondo lo schema delle figura termate ha cosl tolto dal grande cubo', 'il signor giuseppe dimpresa deve  miliardi di scudi allo stato allispettore delle tasse venuto di persona a sollecitarlo  ha risposto in ordine di importanza crescente ho diritto ad alcuni sconti su questa somma prima uno sconto di a per aver  avviato lattivit poi b per la modernizzazione delle mie strutture c perch opero in un settore trainante e infine un d  come premio allesportazione a b c d sono quattro numeri interi e vero riconosce lispettore fatti tutti i calcoli   dovrete pagare solo  mila scudi  deve essersi sbagliato io ho calcolato molto meno di  miliardi  niente affatto   rispose luomo esperto  lei che  in errore scontando a  b  c  d io ho calcolato uno sconto di a su  miliardi e uno  sconto del b su quello che vi resta da darci e cos via  per questo il risultato  diverso quale somma pensava di dover pagare allo stato il signor dimpresa se ci sono pi risposte possibili scriverle tutte', 'quanti rettangoli vedete tracciati in figura attenzione  un quadrato  un particolare rettangolo ', 'una retta divide il piano in due regioni in quante regioni al massimo  rette dividono un piano', 'i tre numeri interi ab e c con abc sono in progressione aritmetica inoltre i numeri ab bc e ca sono tutti e tre dei quadrati quanto valgono abc', 'dalla stazione di math city  a mezzogiorno partono contemporaneamente quattro treni diretti rispettivamente a milano roma bari venezia quelli per milano partono poi ogni  minuti quelli per roma ogni  minuti quelli per bari ogni  minuti quelli per venezia infine ogni  minuti a che ora dopo mezzogiorno per la prima volta i quattro treni partiranno di nuovo contemporaneamente ', 'ecco quattro solidi formati da piccoli cubi qual  quello che si incastra esattamente con il solido a lato formando un grande cubo', 'un numero  chiamato complementato se  uguale al prodotto dei complementi a  delle sue cifre  per esempio non  complementato perch             diverso da  per contro il   complementato perch     cos come    ecc  trova i numeri non complementati che non finiscono con degli zeri', 'un quadrato magico x  uno schema quadrato di  caselle disposte su tre righe e tre colonne tale che la somma dei numeri di qualsiasi riga di qualsiasi colonna e di ognuna delle due diagonali  sempre uguale un quadrato magico di questo tipo  stato scomposto in cinque pezzi come indicato in figura ricostruite il quadrato magico senza girare i pezzi', 'seguendo le linee punteggiate dividete la figura in  parti sovrapponibili eventualmente con qualche ribaltamento o rotazione', 'scegliete un numero naturale che sia al massimo di tre cifre e scrivetelo poi sommate i quadrati delle sue cifre  otterrete un secondo numero con lui ricominciate loperazione che consiste nelladdizionare i quadrati delle cifre e scrivere il risultato fino a che quello che dovreste scrivere non sia uguale a un numero gi scritto ad esempio       quale numero dar la lista pi lunga', 'quattro bus circolano su un tragitto circolare lintervallo fra il passaggio di due di loro  di  minuti  se si vuole ridurre questo intervallo a  minuti quanti bus devono essere aggiunti su questo tragitto', 'ecco lo schema in pianta di dado a  facce se la faccia a tocca la tavola sulla quale il dado  posato quale faccia  rivolta verso lalto', 'determinare il pi piccolo numero positivo r avente la seguente propriet se si pu coprire completamente un triangolo con un cerchio di raggio  cm allora  anche possibile coprirlo completamente con  dischi di raggio r in cm dare la risposta in centimetri eventualmente approssimato al centesimo ', 'quanti triangoli si vedono in figura ', 'i due ottagoni regolari della figura rappresentano le lenti di un paio di occhiali larea totale delle due lenti  di  cm qual  larea della parte grigia', 'scrivete uno dopo laltro i numeri interi da  a    a questo punto dal precedente elenco cancellate venti cifre qual  il numero maggiore che vi pu rimanere', 'sergio appassionato di musica e di informatica si diverte a creare dei ritmi musicali con il computer e programma i seguenti suoni   un clac che parte regolarmente ogni  secondi  un pring che parte regolarmente ogni  secondi  un toc che parte regolarmente ogni  secondi sergio avviando il programma sente immediatamente e contemporaneamente i tre suoni ha proprio le orecchie buone  dopo quanti secondi sergio sentir di nuovo i tre suoni esattamente insieme ', 'in un grande cubo costruito utilizzando  cubetti incollati insieme creiamo tre gallerie che lattraversano da una parte allaltra vedi disegno se il volume di ogni cubetto  di  cm qual  il volume del cubo grande bucato', 'le gare della federazione francese joutes marine ffjm hanno avuto questanno un grande successo larrivo alla terza boa  stata fortemente combattuto giudicate voi poco prima dellarrivo kevin tamaran e didier riveur sono esattamente alla stessa distanza dalla boa il terzo pierre dalo nella scia di k tamaran non pu vedere la terza boa daltra parte kevin  alla stessa distanza da d riveur e da p dalo tutte le distanze che separano tra loro i concorrenti tra di loro e tra le loro distanze rispetto allarrivo sono dei numeri interi di miglia marine qual  al minimo la distanza tra pierre e larrivo dare la distanza in miglia marine', 'mattia ha disposto  piccoli quadrati identici come in figura propone a matilde di formare con essi un grande quadrato quanti piccoli quadrati matilde dovr spostare al minimo per formare un grande quadrato', 'ii vecchio giuseppe e fiero de suo terreno in cui ha piantato cinque ulivi e cinque mandorli sentendosi prossimo alla fine vuole lasciare in eredita a ciascuno dei suoi cinque figli una parte de suo terreno ognuno di essi avra una porzione della stessa area e della stessa forma contenente un mandoro e un ulivo  disegnate la partizione che rispetta tale condizione ', 'inserite i numeri       nelle caselle vuote della figura in modo che ogni numero scritto nelle caselle rettangolari sia la somma dei due numeri con cui  collegato direttamente', 'jacob in vacanza al mare si dedica al suo hobby preferito  le pesca il primo giorno pesca  pesce il secondo giorno  pesci il terzo giorno  pesci nei giorni successivi pesca  pesci al giorno fino al terzultimo giorno della sua vacanza quando jacob pesca soltanto  pesci il penultimo giorno  lultimo giorno solo  durante lintera vacanzajacob ha pescato in tutto  pesci  quanti giorni  durata la vacanza al mare di jacob', 'ecco un cubo formato da  cubi piu piccoli un lungo ago lo ha trafitto lungo une delle sue diagonali maggiori quanti piccoli cubi ha trafitto ', 'robertino e molto felice scavando un buco sulla spiaggia ha scoperto un tesoro composto di grossi diamanti e di monete doro contando si e accorto che le monete erano il doppio dei diamanti suo padre ppena uscito dallacqua gli dice che un diamante vale il doppio di una moneta doro robertino che sa che il tesoro comprende  diamanti e che una moneta doro vale  franchi vorrebbe conoscere il vruore aei suo tesoro sopra utto a opoche il suo papa gli ha promesso di cambiarlo in caramelle  quanti franchi vale ii tesoro', 'quanti quadrilateri veri non intrecciati e interamente disegnati vi sono nella figura nota un quadrilatero vero non ha tre vertici allineati', 'il disegno rappresenta un diamante composto da quarantuno piccoli quadrati  x  annerite il pi piccolo numero possibile di quadrati in modo che nessuno dei ventiquattro quadrati  x  che essi formano risulti completamente bianco ovvero che almeno uno dei quattro quadrati pi piccoli che lo compongono sia stato annerito', 'nicoletta gioca al gioco seguente parte da un numero diverso da zero che scrive su un foglio poi opera su tale numero secondo le regole che seguono e ottiene un altro numero scrive questaltro numero e opera su di esso allo stesso modo si ferma solo quando ottiene il numero  ecco le regole se scrive un numero pari lo divide per  se scrive un numero dispari lo moltiplica per  e poi aggiunge  al risultato ottenuto cos se parte a esempio da  ottiene la serie seguente       quanti numeri conterr la serie di numeri pi lunga che pu scrivere partendo da un numero minore o uguale a ', 'quando mio figlio avr  anni in pi di quelli che ha adesso avr let che io avevo nellanno in cui avevo  volte la sua et daltra parte quando avr raggiunto la mia et di adesso insieme avremo  se sar ancora a questo mondo   volte let che aveva quando avevo  volte la sua et quale  oggi let di mio figlio', 'i finalisti di un concorso vincono dei blocchi di cioccolata massiccia della forma di un parallelepipedo ii blocco vinto del primo ha la stessa altezza di quello vinto dal secondo ma la larghezza e la lunghezza dei due blocchi sono diverse le altezze le larghezze le lunghezze e le diagonali delle facce sono tutte dei numeri interi di centimetri sappiamo che ii volume del blocco del primo e uguale a  volte quello del blocco del secondo trovate le dimensioni del blocco del primo sapendo che ii suo volume e ii piu piccolo possibile', 'un giomo sulla spiaggia di cesenatico il bagnino conta in tutto  ombrelloni rossi e un numero maggiore di ombrelloni verdi e cosi pure di ombrelloni gialli ma egli nota ugualmente che la differenza tra gli ombrelloni rossi e quelli gialli e la stessa che ce tra gli ombrelloni gialli e quelli verdi sappiamo che quel giomo sulla spiaggia cerano in tutto  ombrelloni tra rossi gialli e verdi quanti ombrelloni verdi ha contato quel giorno ii bagnino che non e daltonico', 'quanti triangoli vedi in figura', 'pra e tom hanno ricevuto in eredit un prato ciascuno i due prati hanno la stessa area essi hanno la forma di triangoli isosceli le cui basi misurano rispettivamente  m e  m gli altri quattro lati sono tutti uguali fra loro quanto misurano in metri si noti che la figura non rispetta le proporzioni', 'scrivete uno dopo laltro i numeri interi da  a    a questo punto dal precedente elenco cancellate venti cifre qual  il numero maggiore che vi pu rimanere', 'nel primo giorno di vacanza jacob risolve uno schema di sudoku poi ogni giorno seguente  fino alla fine delle vacanze  ne risolve uno in pi del giorno prima ne risolve due il secondo giorno tre il terzo giorno ecc ogni giorno jacob  che  un tipo preciso  segna sulla sua agenda il numero degli schemi risolti e al ritorno dalle vacanze constata che c stato un periodo di almeno due giorni consecutivi durante i quali ha risolto esattamente  schemi in tutto qual  questo periodo dare tutte le soluzioni indicando il numero del primo e dellultimo giorno del periodo costituito da giorni consecutivi', 'un prisma retto a base esagonale pieno e appoggiato al suolo la sua altezza e il lato della sua base sono lunghi entrambi  cm una formica  si trova in a e vuole andare in b  impiegando ii cammino piu corto che distanza percorrera la formica ', ' fattore giovanni ha molti sacchi di grano e  gatti voraci ma il suo granaio e infestato da topi anchessi assai voraci ogni topo e capace di divorare in una notte un quarto di un sacco di grano ma si tratta di topi intelligenti ed economi che non inizieranno mai a rosicchiare un nuovo sacco di grano prima di aver completamente mangiato il contenuto del sacco gia intaccato comunque fortunatamente per giovanni tutte le mattine ognuno dei suoi  gatti mangia un topo ieri sera si potevano contare  opi quando tutti i topi saranno stati mangiati dai gatti quanti sacchi di grano avra perduto giovanni si deve supporre che giovanni possieda  abbastanza grano perche i topi che  mangiano solo di notte lo facciano a  sazieta nel periodo considerato non ci sono state nuove nascite tra gatti e topi e gli unici topi morti sono quelli mangiati dai gatti', 'francesco entra nel labirinto disegnato in figura in alto a sinistra dopo aver visitato tutte le stanze uscir da quella in alto a destra nel suo percorso utilizzer i corridoi che collegano le stanze ma non potr tornare indietro n passare due volte dalla stessa stanza disegnate il percorso di francesco', 'la nuova bandiera del paese di mat ha la forma di un grande rettangolo dentro il quale sono disegnati tredici rettangoli pi piccoli tutti uguali fra loro in bianco nella figura che rappresentano le diverse regioni dello stato la loro larghezza  di  cm il rapporto fra la loro larghezza e la loro lunghezza  uguale a quello fra la larghezza e la lunghezza del rettangolo grande qual  larea della superficie restante del rettangolo grande in grigio nella figura in cm e arrotondata allintero pi vicino', 'la somma di  numeri consecutivi  uguale a  quanto vale il maggiore di questi numeri', 'nella nostra famiglia ci sono  figli che non sono tutti gemelli pur essendoci stato solo un parto gemellare o plurigemellare sono tutti nati il primo gennaio e al  gennaio  la somma delle loro et  uguale al loro prodotto quali sono le et dei  figli della nostra famiglia', 'quatro piccoli cubi sono stati incollati cos alessio prende in mano questo solido e conta tutte le facce dei piccoli cubi che pu vedere quante ne conta ', 'alberto sta facendo una discesa ogni volta che attraversa una casella guadagna un numero di punti uguale a quelli segnati nella stessa casella discendendo non puo che andare su una delle due caselle situate al di sotto della casella dove si trova determinate ii percorso che gli consente di ottenere ii punteggio massimo ', 'quanti rombi piccoli o grandi si possono contare nel disegno', 'il disegno rappresenta un segnale stradale che indica uno svincolo autostradale nel paese di mat il triangolo pi grande  equilatero la sua area  di  dm la figura  simmetrica rispetto allasse verticale passante per il vertice superiore di tale triangolo il triangolo pi piccolo fra i dieci i cui tre vertici sono scelti fra i cinque punti indicati da un disco nero sul disegno  il pi grande possibile qual  la sua area in dm arrotondata allintero pi vicino se necessario si prender  e  si noti che la figura non rispetta le proporzioni', 'scriviamo i numeri interi nel loro ordine naturale a partire da i poi sbarriamo dei successioni di numeri sempre lasciando un numero non sbarrato tra due successioni di numeri sbarrati l successioni di numeri sbarrati sono composte ri spettivamente da  numeri  numero  numeri  numeri  numeri  numeri  numeri  numeri  numeri  numeri etc quale sara ii esimo numero non sbarrato ', 'esuccesso un lunedi dello scorso inverno ogni mattina lautista dellazienda partiva dagli uffici per andare a prendere alle  in punto il megadirigente nella sua villa fuori citt e portarlo nel suo megaufficio dove arrivava con cronometrica puntualit sempre alla stessa ora quel lunedi il megadirigente non ha visto arrivare il suo autista dimenticando che durante il weekend lora legale era stata abolita e detestando aspettare alle  precise si mette in moto a piedi dirigendosi verso lufficio lautista che era partito alla solita ora e procede con la stessa velocit lo incontra lungo il tragitto lo fa salire torna immediatamente indietro e deposita il suo prezioso megadirigente  minuti prima del solito quanti minuti ha camminato il megadirigenteprima di essere raccolto dal suo autista ', 'ecco il modello di un cubo recante un simbolo su ognuna delle sue facce tale cubo  rappresentato pi volte qui sotto ma certi simboli sono stati cancellati ritrova i simboli mancanti ', 'martino vuole divertirsi con i soldatini di piombo schiera cosi i due eserciti nemici da una parte  soldatini rossi i suoi preferiti dallaltra  soldatini verdi e  soldatini blu ad ogni assalto sul campo di battaglia restano due soldatini verdi un soldatino blu e uno rosso preso dai rimorsi martino decide che tra due assalti successivi i verdi ed i blu riceveranno sistematicamente in rinforzo un numero di soldatini verdi uguale al numero dei blu superstiti dopo quanti assalti una delle due armate sara annientata quale sara ii colore dei vincitori e quanti soldatini gli resteranno', 'il grande rettangolo nella figura rappresenta una spiaggia di sabbia in cui  nascosto un tesoro il piccolo rettangolo grigio rappresenta la mappa della spiaggia appoggiata sul suolo e girata di  gradi in senso antiorario la quadrettatura del grande rettangolo  regolare il lato di ogni quadratino misura  m la scala della carta   il tesoro si trova in un punto della spiaggia che coincide con la sua stessa immagine sulla carta quali sono in centimetri le coordinate orizzontale e verticale calcolate a partire da unorigine posta nel vertice basso a sinistra del punto in cui si trova il tesoro ', 'ognuno dei sette punti rappresenta una stella della costellazione di mat le stelle sono collegate fra loro da segmenti immaginari che possono intersecarsi ogni stella  collegata allo stesso numero di altre stelle e nessuna  collegata a tutte le altre quanti segmenti devono essere aggiunti a quelli gi tracciati nel disegno', 'ii direttore di un hotel di  camere e superstizioso rifiuta di utilizzare la cifra portasfortuna  ha dato a una camera ii numero i a unaltra ii  e cosi via saltando pero tutti i numeri che si scrivono usando la cifra   cosl la terza camera porta ii numero  che numero ha dato alla quarantesima camera', 'da terra un pallone viene lanciato verticalmente verso lalto con la velocit di  ms supponendo nulla la resistenza dellaria e ponendo g ms dopo quanti secondi il pallone si trover ad unaltezza di  m da terra', 'ecco un cubo a cui  stato tagliato un angolo tagliate ora allo stesso modo gli altri sette angoli del cubo quante facce ha il solido cos ottenuto ', 'simone di monfort allinizio del xiii secolo domando al famoso numerologo nostradaplus quali sarebbero stati gli  anni importanti    mago rispose con queste parole sibilline quello che dico vale per i prossimi anni come per quelli piu lontani a venire gli anni importanti di quattro cifre saranno quelli la cui scrittura decimale a b c d verifica la seguente proprieta ab cdbc in effetti nel  simone di monfort comincio la sua famosa crociata contra gli albigesi e       quanti anni importanti di quattro cifre ci sono quali saranno i prossimi due anni importanti dopo ii  seguendo le indicazioni di nostradaplus', 'nove bambini  alessandro bernardo clotilde davide elsa federico gabriella hildegard e ineshanno tutti un pettorale con un numero diverso lordine in cui i numeri sono assegnati  lo stesso di quello alfabetico dei loro nomi il numero assegnato a alessandro  pi piccolo di quello assegnato a bernardo che  a sua volta pi piccolo di quello assegnato a clotilde etc ogni bambino prende posto in una casella di un quadrato    disegnato per terra con un gesso ogni casella  occupata da un solo bambino il quadrato  magico i numeri dei pettorali dei bambini disposti su una stessa riga una stessa colonna una stessa diagonale  sempre la stessa il quadrato  orientato in modo che il numero del pettorale del bambino posto nella casella in alto a sinistra  il pi piccolo fra quelli disposti nelle quattro caselle poste ai quattro vertici del quadrato mentre il numero del pettorale del bambino posto nella casella in alto a destra  pi piccolo del numero del pettorale del bambino posto nella casella in basso a sinistra trovate il posto di ogni bambino nota rispondete scrivendo le iniziali dei nomi bambini nelle caselle dello schema', 'vista dallalto una torta  un disco perfetto con un raggio di  cm alberto la divide in quattro parti con due tagli rettilinei e perpendicolari il cui punto di intersezione si trova a  cm dal centro sissi sceglie per s le due parti opposte colorate in grigio nel disegno mentre alberto tiene per s le altre due la differenza fra larea totale delle parti scelte da sissi e quelle tenute da alberto  la maggiore possibile qual  questa differenza espressa in cm e arrotondata al numero intero pi vicino nota la figura non rispecchia la soluzione del problema', 'scriviamo due numeri diversi di una cifra da  a  per esempio  e  vedi colonna a lato scriviamo in seguito la cifra delle unit della loro somma  poi ricominciamo con le due ultime cifre scritte      scriviamo  e continuiamo allo stesso modo      scriviamo  ecc  ci accorgiamo che otteniamo un elenco di dodici cifre il periodo             che si ripeter allinfinito una diversa scelta dei primi due numeri porterebbe naturalmente ad una situazione diversa da quante cifre  composto il periodo pi breve possibile', 'la lumaca lilly vive in un bel giardino ma ama arrampicarsi su un muro la mattina sale di  cm il pomeriggio esausta si addormenta e scende di  cm il muro  alto  m in quanti giorni lilly raggiunger la sommit del muro', 'emi dispone di  piccoli cubi tutti uguali  blu e  bianchi li vuole utilizzare per costruire con della colla un grande parallelepipedo rettangolo la sua superficie sar formata interamente dalle facce dei piccoli cubi al minimo quante facce visibili dei piccoli cubi saranno blu', 'moltiplica per  il numero del mese di nascita di maggie al prodotto aggiungi la differenza tra  ed il numero di questo mese dal nuovo risultato togli il doppio della somma tra  il solito numero del mese di nascita sapendo che questo ultimo risultato   in che mese  nata la divina maggie quante soluzioni ammette il problema', 'sistemate le cifre  due volte   nella figura in modo che laddizione sia esatta          ', 'matilde fa osservare a mattia che vi sono  maniere diverse di disporre tre pedoni non allineati su di una scacchiera x in modo che una casella contenga un solo pedone e alloray gli chiede mattia se si moltiplica questo numero per  si ottiene il prodotto delle nostre eta ovvero ii prodotto di  e  mattia riflette un attimo poi fa osservare a matilde che so si moltiplica per  ii numero delle maniere diverse di disporre tre pedoni non allineati su di una scacchiera x si ottiene un numero notevole qua e questo numero', 'desiderio ha trovato nel solaio del nonno la tavola che vedete in figura un pezzo unico in cui sono disegnati cinque quadrati la vuole tagliare in tanti pezzi che riassemblati sempre nel piano formino un unico grande quadrato desiderio vuole anche procedere con il minimo numero possibile di tagli tracciate in figura i tagli operati da desiderio', 'mauro ha scritto in fila i numeri interi positivi fino a           adesso gli viene chiesto di cancellare  cifre dal precedente allineamento in modo da ottenere il numero pi grande possibile  potete aiutarlo ', 'ecco come si sviluppa questa variet di cactus ogni nuovo germoglio produce lanno seguente tre nuovi germogli vedi figura di questi tre nuovi germogli uno fiorisce e cade gli altri continuano a crescere fino allanno seguente in cui si riproduce lo stesso processo di crescita il mio cactus avr dunque prima della fioritura  dodicesima edizione nazionale germogli in totale alla fine del secondo anno  germogli alla fine del terzo  alla fine del quarto anno quanti germogli avr in totale il mio cactus  sempre che si mantenga in buona salute   alla fine del sesto anno prima della fioritura', 'un tricubo  lunione di tre cubetti identici vedi figura con  tricubi a forma di l amelia nota che  possibile ricostituire un grande cubo  dopo aver costruito questo grande cubo si diverte a colorare in blu le  grandi facce ossia  cubetti poi smonta il suo grande cubo e con gli stessi  tricubi cerca di ricostituirne un altro in modo che appaia il minor numero possibile di quadratini blu sulle sei facce grandi  qual  il numero minimo di questi quadratini blu', 'il nonno di noemi  nato nel  secolo la somma delle cifre del suo anno di nascita  divisibile per  la nonna di noemi ha un anno in meno del nonno ma anche la somma delle cifre del suo anno di nascita  divisibile per  insieme hanno pi di  anni in che anno  nato il nonno di noemi', 'in ognuna delle undici caselle della striscia si scrive un numero nella prima si scrive  nellundicesima si scrive  la somma di tutti questi numeri diversi da  e da    la somma di quattro numeri scritti in quattro caselle consecutive  sempre  che numero si scrive nella sesta casella', 'trova un modo per ricoprire esattamente ovvero interamente e senza debordare ii reticolo a fianco utilizzando senza sovrapporli uno o piu esemplari scelti fra i pezzi rappresentati a sinistra', 'il grande rettangolo della figura  uno degli ultimi quadri del pittore recht tangolo oltre alle misure dei lati del rettangolo bianco  e  dm si sa che lunghezza e larghezza di ciascun piccolo rettangolo grigio sono espresse da un numero intero di dm e che le aree di questi rettangoli grigi sono uguali tra loro qual  al minimo larea di un piccolo rettangolo grigio', 'angelo il salumiere trova su un imballaggio un numero in codice incredibilmente lungo grosso modo  cifre decide allora di affettarlo in tranches di  cifre partendo da destra e sommando poi le varie tranches ad esempio se il numero termina con   scrive        ottiene cos il numero  il giorno dopo non soddisfatto del procedimento applica al numero incredibilmente lungo un altro metodo  scrive la sua prima cifra sempre partendo da destra le toglie la seconda aggiunge la terza toglie la quarta  e cos via nellesempio precedente avrebbe scritto              ottiene cos un numero positivo di una sola cifra quale', 'carla ha un orologio che rimane indietro tre minuti ogni ora questa mattina lo ha messo a posto alle  che ora far il suo orologio domani mattina alle ', 'un acquario messo su un tavolo ha la forma di un parallelepipedo rettangolo di  cm di altezza lo si riempie di acqua fino al bordo e poi lo si fa girare intomo ad uno degli spigoli della base in modo che ii fondo formi un angolo di  con ii piano del tavolo in questo modo un terzo del suo contenuto si rovescia sul tavolo ora lo si riempie di nuovo fino al bordo e lo si fa ruotare attomo allaltro spigolo della base in modo da formare aneora un angolo di  con ii piano del tavolo in questo modo sono ora i  del contenuto che si rovesciano sul tavolo qual e ii volume dellacquario in cm', 'costruito la curiosa macchina rappresentata in figura a parte i due lunghi listelli tutti gli altri hanno la stessa lunghezza se riuscite a trovare lutilit di questo attrezzo certamente riuscire a trovare la misura in gradi dellangolo b sapendo che langolo d  di  nella figura le misure degli angoli non sono corrette', 'disponete i numeri interi fra  e  nei dieci dischi le dieci somme dei numeri inseriti in ogni tripla di cerchi allineati devono essere uguali', 'ogni cerchio rappresenta un isola delle coste de paese della matematica ogni isola deve essere collegata a unaltra da un numero di ponti uguale alla cifra scritta nel cerchio che la rappresenta in funzione della popolazione che vi abita due isole diverse possono essere collegate solo orizzontalmente o verticalmente tramite un ponte o due ponti i ponti sono diritti collegare le isole fra loro in modo che si possa andare da ognuna di essa a ogni altra attraverso i ponti che le collegano', 'riuscite a suddividere la figura in due parti della stessa forma e della stessa area', 'il numero   un numero palindromo perch lo si pu leggere allo stesso modo da sinistra a destra e da destra a sinistra  inoltre i numeri di due cifre consecutive che si possono leggere in questo numero      sono tutti diversi trovate il numero palindromo pi grande che abbia la stessa propriet e nel quale si possano leggere solo i numeri   e ', 'a quanti minuti corrispondono  di ora', 'thomas thematik ha costruito tramite cubi una curiosa piramide a forma di scala la larghezza degl scalini diminuisce di  cubi ogni volta che si sale di un gradino fino allultimo gradino fatto da un solo cubo un esempio con quattro scalini  il seguente la piramide di thomas invece ha otto scalini quanti cubi ha usato thomas', 'da uno studio statistico relativo ai  fogli risposte date dai concorrenti delle categorie hc gp e l alain informa alex incaricato di fare i calcoli relativi che il problema   stato sbagliato  esattamente dal  degli hc  esattamente dal  degli l  esattamente dal  dei gp alex fa i calcoli per sapere quanti concorrenti tra i  hanno sbagliato il problema  a seguito di una verifica anche alain fa i calcoli e trova un numero di concorrenti che hanno sbagliato il problema  il doppio di quello di alex prima i accorgersi di avere invertito le percentuali degli hc con quelle dei gp quanti erano i fogli risposta della categoria l', 'riempite i cerchi vuoti di questa figura in modo che ogni serie di quattro cerchi allineati sia tale che i cerchi che la compongono contengano tutti i numeri da  a ', 'questo gioco si gioca a due con tre pedine nere che devono essere disposte nella spirale rappresentata nella figura lorigine grigia e la sola casella che possa contenere piu di una pedina le altre undici caselle sono bianche allinizio vengono disposte ogni pedina su una casella bianca poi a turnosposta una pedina di tante caselle quante egli voglia nella direzione della casella grigia saltando eventualmente una delle altre pedine o entrambe ma sempre in modo che la casella di arrivo sia una casella bianca vuota o la casella grigia ii giocatore che non puo piu giocare perde abbiamo gia disposta una pedina nella casella di entrata della spirale disponete le altre due ii giocatore che gioca come secondo possa giocare in modo da essere certo di vincere', 'guardate la figura  tutti i numeri abxyz che indicano varie lunghezze misurate in cm sono numeri interi inoltre xy e z sono numeri consecutivi y  di loro il pi grande quanto vale al minimo larea del triangolo', 'secondo la logica matematica pensata da edoardo che numero metteresti in cima al podio', 'leri milena mi ha detto dopodomani sara ii  dicembre oggi mi chiedo che giorno del mese sara domani sai rispondere ', 'un architetto ha deciso per addobbare una citt di realizzare una piramide di  piani formata da cubi in legno tutti uguali larchitetto sa che dovr rivestirla con vernice per proteggerla dalle intemperie perci fa realizzare uno schizzo al  di un cubo della piramide si rende cos conto che il cubo ridotto pesa  g e verniciato  g quale sar il peso della piramide verniciata nb soltanto le parti visibili della piramide verranno verniciate da trascurare la vernice sugli spigoli dare il risultato in kg arrotondato al g', 'jos non ha capito assimilato la regola da seguire per sommare le frazioni ecco come procede jos prima moltiplica tra loro le due frazioni poi sottrae tale prodotto dal numero  oggi applicando questo metodo tra due frazioni irriducibili in cui i numeratori e i denominatori sono numeri interi maggiori di  e minori di  ha sorprendentemente ottenuto il risultato esatto quali sono in ordine crescente le due frazioni di jos', 'i sei cerchi inclusi in questa stella devono contenere i sei numeri da  a  a lato di ogni cerchio  scritta la somma dei numeri contenuti nei cerchi collegati direttamente a questo cerchio da un segmento completate la stella scrivendo i numeri in ogni cerchio', 'le lettere f j o m sono scritte sulle facce di un dado cubico tale dado rotola su una scacchiera x in modo tale da passare una e una sola volta per ogni casella ii dado comincia a rotolare dalla casella superiore sinistra e termina nella casella inferiore destra per certe caselle abbiamo avuto ii empo di annotare quale lettera fosse scritta sulla faccia superiore de dado nel momento del passaggio completate jo schema del dado', 'in figura vedete tre cerchi tangenti a due a due i cui raggi sono proporzionali a  qual  il rapporto tra larea della zona grigia e quella del cerchio grande', 'valeria ha iniziato a scrivere questa lunga serie di numeri seguendo una precisa regola  riga      riga      riga      riga      riga     quali numeri ha scritto valeria nella  riga', 'un aereo che parte alle  da mathville ora locale arriva a mezzogiorno dello stesso giorno a mathcity ora locale al ritomo invece se laereo parte alle  ora locale arriva in serata alle  la durata del viaggio e la stessa ma le due citta non sono evidentemente situate nello stesso fuso orario quando e mezzogiorno a mathcity che ore sono a mathville', 'simone matto per il bricolage ha comprato una sega nuova questattrezzo ultima novit permette di realizzare tagli perfettamente piani e possiede una lima tanto fine da rendere trascurabile lo spessore del taglio per provare la sega simone prende un cubo di legno ed effettua diversi tagli senza muovere i pezzi ha quindi ottenuto i risultati qui sotto rappresentati le sei facce del cubo hanno lo stesso aspetto quanti pezzi ha potuto ottenere al massimo', 'sulla costa toscana del mare tirreno si  svolto un curioso balletto nautico a b e c sono tre boe disposte come nella figura la distanza tra la boa a e la boa b  di  miglia nautiche una barca a vela v parte da b nellistante preciso in cui due altre barche a vela w e x partono da c la velocit di queste tre barche  costante v viaggia in direzione di a raggiungendo questa boa esattamente in unora w che parte da c segue la direzione della retta ac allontanandosi da a la vela x si muove in modo che in ogni istante il quadrilatero formato da b da v da w e da lui stesso sia sempre un parallelogramma si chiede arrotondata al centesimo pi vicino la velocit in nodi della vela x per eventuali calcoli utilizzare i valori  per   per   per   nodo   miglioh  miglio nautico   m', 'matilde ha scritto quattro operazioni     poi precisa a mattia i che il punto interrogativo rappresenta sempre lo stesso numero ii che i quattro risultati di queste addizioni si scrivono usando cifre tutte fra loro tutte diverse mattia ha trovato il numero rappresentato da punto interrogativo fate lo stesso anche voi', 'anna e chiara a turno sistemano nella struttura riportata a lato una tessera del domino un rettangolo che occupa esattamente due caselle libere della scacchiera perde chi non riesce pi a piazzare alcuna tessera comincia anna come deve giocare per essere sicura di vincere qualunque sia il gioco di chiara annerite le  caselle occupate dalla prima tessera sistemata da anna rispondete invece  se pensate che non esista alcuna strategia sicuramente vincente per anna', 'i muri di una capanna formano in sezione orizzontale un rettangolo la cui lunghezza   volte la larghezza la capra bianchina pu essere legata in un punto qualsiasi sul perimetro esterno della capanna con una catena lunga come il semiperimetro della capanna stessa larghezza pi lunghezza si trascurano le altezze verticali e i nodi della catena se bianchina  legata in un vertice del rettangolo come rappresentato in figura in cui il punto in cui essa  legata  indicato da una croce allora la superficie su cui pu muoversi rappresentata dallarea grigia sulla figura  di  m se bianchina fosse legata in un altro punto quanto sarebbe al minimo la superficie su cui potrebbe muoversi', 'dopo aver scritto  volte il numero  mirko cancella  cifre e somma i tre nuovi numeri cos ottenuti esempio da    cancellando  cifre pu ottenere      quali sono i tre numeri se vuole che la loro somma sia  ', 'tre percussionisti si allenano a battere il ritmo insieme iniziano nello stesso istante ii primo batte la sua gran cassa ogni  secondi ii secondo batte il suo tamburo tutti i  secondi ii terzo batte il suo bongos ogni  secondi quanto tempo sara necessario perche tornino a battere insieme i loro strumenti', 'questo dado ha quattro facce identiche  non trasparenti numerate da  a  lo si pone con la faccia  sulla casella di un esagono vedi la figura a lato vista dallalto  poi si fa ruotare il dado attomo ad  uno dei suoi lati in modo d spostarsi successivamente sulle caselle b c d e fino in f su quale faccia sar allora appoggiato', 'la zia natalina riceve a casa sua i tre piccoli nipoti chiara giovanni e patrizia allora della merenda distribuisce delle caramelle gioyanni ne riceve tante quante chiara ma patrizia ne riceve due in piu di giovanni la zia natalina ha distribuito in tutto  caramelle quante caramelle ha ricevuto ciascuno', 'scriviamo i sette numeri da  a  nelle caselle dello schema un numero per casella due numeri scritti in due caselle con un lato in comune totalmente o parzialmente non devono mai avere una differenza uguale a  in quanti modi si pu completare lo schema', 'ordina le figura qui sotto in modo che la loro area sia crescente', 'supponi di avere dodici pentamini pezzi a  caselle quadrate delle forme rappresentate nella prima figura questi possono essere ribaltati allinizio piazziamo il pentamino a i il secondo nella prima figura allestrema destra di una scacchiera x vedi la seconda figura in cui questo pentamino  rappresentato in grigio poi a passo a passo piazziamo uno degli  pentamini restanti sulla stessa scacchiera senza occupare le caselle annerite e senza sovrapporli n totalmente n parzialmente in questo modo sar possibile coprire lintera scacchiera caselle annerite a parte con tutti i pentamini salvo due tracciate le linee di separazione corrispondenti', 'dominco conta ad alta voce      poi continua a mente e finisce ad alta voce con    quanti numeri ha contato a mente ', 'gli scienziati della nasa si collegano ogni giorno con il loro robot che si trova sul pianeta marte e lanciano un appello radio nel momento in cui per il robot sorge il sole la rotazione di marte su se stesso  un po meno veloce di quella della terra e quindi una giornata su marte dal sorgere del sole di un giorno a quello successivo dura  ore lappello radio della nasa di luned  febbraio ha avuto luogo alle  del mattino qual  il giorno successivo in cui gli scienziati hanno potuto lanciare il loro appello di nuovo alle  del mattino', 'per scivere ffjm federazione francese di giochi matematici con dei cubetti rosi ha utilizzato  cubetti li ha incollati come nel disegno riprodotto sopra incollando fra lore le facce adiacenti ciascuno dei  trattini pi marcati indica dove sono stati incollati i cubetti rosi decide infine di vrniciare tutte le facce non incollate dei cubetti quante facce dei cubetti dovr verniciare', 'tommaso conta tutte le cifre  che sono necessarie per la numerazione delle pagine di un bel libro che gli hanno regalato le pagine sono numerate nellordine a partire dalla pagina  senza saltare alcun numero e senza contare le pagine di copertina tommaso ha notato che la cifra  e stata utilizzata  volte qual e ii numero dellultima pagina numerata del libro di tommaso', 'passate da un numero a un altro in senso orario i o togliendo una cifra dalla sua scrittura decimale se ne ha almeno due senza cambiare lordine delle altre se sono pi di una ii oppure moltiplicandolo per un fattore intero sempre lo stesso qual  questo fattore si noti che tutti i numeri devono essere interi e diversi da zero e la loro scrittura decimale non deve mai cominciare per  quante soluzioni ammette il problema', 'la galassia in cui si nasconde il nemico  nera e comprende cinque caselle ogni galassia amica  bianca e comprende quattro caselle le navicelle spaziali occupano una casella e non si toccano mai fra loro neppure in diagonale esse sono rappresentate da dei cerchi neri saprete disporne cinque in modo che ogni galassia amica ogni riga e ogni colonna dello schema ne contengano una e una sola', 'il triangolo equilatero e il quadrato che appaiono nella figura il primo con un vertice rivolto verso il basso e la base orizzontale e il secondo con una diagonale orizzontale e una verticale parzialmente sovrapposto al primo sono iscritti nello stesso cerchio e hanno in basso un vertice in comune  tre triangoli grigi sopra la linea orizzontale tratteggiata rappresentano in sezione verticale e vista frontale la parte superiore di un caso di samurai il totale delle loro aree   cm i due triangoli grigi sotto la linea punteggiata orizzontale rappresentano le protezioni laterali del casco qual  in cm approssimati al numero intero pi vicino se necessario il totale delle aree di questo due triangoli', 'michele ha lhobby di costruire piramidi di numeri quale sar lultimo numero scritto quando avr completato la ventesima riga di questa piramide', 'se sei seghe segano sei alberi in sei ore lavorando contemporaneamente quanti minuti ci metteranno sedici seghe per segare dodici alberi', 'per prevedere ii futuro christine thal detta chris maga di professione utilizza una palla di cristallo molto strana che ci descrive nel modo seguente quando  illuminata dallalto la sua ombra proiettata su un piano orizzontale situato sotto e un disco circolare pieno quando  illuminata dalla destra la sua ombra proiettata su un piano verticale situate a sinistra e un disco circolare pieno identico al primo quando  illuminata dal davanti la sua ombra proiettata su un piano verticale situato dietro e un disco circolare pieno identico agli altri due lnoltre fra tutti gli oggetti che hanno queste caratteristiche  quello che ha il piu grande volume di quante facce non necessariamente piatte si compone la palla di chris thal', 'come ogni domenica nicola si reca dai nonni incontra dapprima la nonna che gli da  lire di mancia poi il nonno che come tutte le volte raddoppia il denaro che si trova nelle tasche di nicola esce dalla casa dei nonni con  lire in tasca con quanti soldi nelle tasche nicola sarebbe uscito dalla casa dei nonni se avesse incontrato prima ii nonno anziche la nonna', 'collocate i numeri interi da  a  considerati una e una sola volta in modo che sempre la somma di tutti i numeri che stanno su uno stesso segmento sia uguale a ', 'si possono ricoprire perfettamente certi rettangoli con delle tessere rettangolari la cui larghezza  di una unit e la cui lunghezza  di  unit la figura mostra uno di tali rettangoli per il quale la somma dei perimetri delle tessere che lo ricoprono  doppia del suo stesso perimetro qual  larea del rettangolo non quadrato di questo tipo per il quale la somma dei perimetri delle tessere  tripla del suo stesso perimetro', 'la figura rappresenta la facciata di una casa tre crepe dividono la facciata in tre superfici esattamente sovrapponibili eventualmente dopo un ribaltamento ogni segmento di crepa va da un punto indicato nella figura a un punto vicino in orizzontale verticale o diagonale tracciate le linee che rappresentano le crepe', 'quando un libro lo annoia enrico si diverte a sommare i numeri delle sue pagine da  fino allultima ha fatto cos con lultimo libro e ha trovato come somma  poi per si  accorto di aver saltato due pagine perch incollate tra di loro qual era la prima pagina saltata ', 'quando  sulle scale mobili renato ha labitudine di non stare fermo e di salire ugualmente gradino dopo gradino ad una velocit costante  un gradino al secondo impiega cos  secondi ad arrivare in cima un giorno distratto per salire prende le scale mobili che scendono con la stessa velocit con cui salgono e impiega  minuti per raggiungere la cima quanti sono i gradini della scala mobile quando  ferma', 'abbiamo un blocco cubico di torrone con laiuto di unaccetta da cucina si danno dei colpi a questo cubo ottenendone un torroncino a forma di tetraedro i vertici di questo torroncino sono i centri di quattro facce del cubo iniziale  volume del torroncino e di  dm qual  il volume delle parti tolte dal cubo iniziale in dm', 'una calcolatrice ha solamente due tasti  x quando la si accende sullo schenno compare il numero  quanti tasti bisogna premere al minimo affinche sullo schermo compaia ii numero  ', 'guardate la bilancia che compare in figura e trascurate i pesi di tutti gli elementi che la compongono e naturalmente anche dei due segni  e   i sei piatti della bilancia  tra cui quello che appoggia sul basamento triangolare  sono distanziati regolarmente tra loro ognuno di loro sopporta un peso indicato per il momento con    sostituite ad ogni  un peso espresso da un numero intero di kg eventualmente ripetuto scelto tra     in modo che la bilancia sia in equilibrio e che laddizione sia esatta nelladdizione i due  al secondo membro saranno letti come un numero di due cifre per quanto riguarda la condizione di equilibrio nellesempio a fianco essa  verificata perch risulta x  x  x', 'due scolari giocano sullo schema quadrettato tracciato nel cortile di ricreazione il gioco consiste nel partire dal punto indicato nello schema spostandosi lungo le righe tracciate senza mai ripassare due volte sullo stesso tratto e nel ritornare poi al punto di partenza eleonora sostiene che pu compiere un percorso composto da venti segmenti puoi indicare questo percorso disegnandolo sullo schema', 'mathcity  un villaggio a pianta quadrata dove ogni lato  lungo  km le sue vie la loro larghezza  trascurabile lo dividono in blocchi anchessi quadrati di  m di lato il percorso dellautobus di mathcity  un circuito chiuso di  km di lunghezza qual  al massimo larea in km situata allinterno di questo circuito', 'seguendo la piantina guido ha visitato tutte le sale del museo dalla prima alla nona nellordine senza mai passare due volte per la stessa sala completate il disegno scrivendo i numeri mancanti', 'i nove figli del dott settembre sono nati distanziati tutti di uno stesso numero di anni  nel  il quadrato dellet del dott settembre era uguale alla somma dei quadrati delle et dei suoi nove figli  qual  oggi nel  let del dott settembre', 'in figura vedete un solido che quando  poggiato su un tavolo ha tutte le sue facce piane orizzontali o verticali quante facce ha al minimo questo solido', ' professor girasole ha appena creato una nuova specie di girasoli essi hanno tutti il gambo che misura  cm di lunghezza e che per seguire il cammino del sole sincurvano fonnando un quarto di cerchio i fiori e i rispettivi gambi fanno un giro completo su se stessi in  ore  professore yorrebbe conoscere la distanza percorsa da un fiore di girasole durante una giornata aiutatelo a trovare la soluzione fornite la risposta arrotondata al centimetre', 'alcune cifre di questa addizione sono state cancellate a voi trovarle scrivete il numero completo della prima riga         ', 'la figura grande a lato rappresenta una trottola vista di profilo sapreste disporre i sei tetramino figure formate da quattro quadrati pi piccoli diverse dal quadrato che vi  dato in grigio senza rivoltarle sulla faccia opposta e senza sovrapporle n lasciare spazi vuoti', 'in figura vedete un trapezio isoscele le cui basi misurano  e  cm e i cui lati sono tangenti a una circonferenza qual  in cm larea del cerchio', 'scriviamo senza ripetizioni tutti i numeri naturali cio i numeri dellinsieme  in modo tale che ogni numero a partire dal secondo sia uguale al precedente aumentato di  oppure al precedente diminuito di  date i primi sei numeri della lista', 'il  gennaio  federico aveva il doppio dellet di leone il  gennaio  federico aveva invece  anni pi di leone quale et avr federico il  gennaio ', 'la panchina che vedete in figura  stata costruita da maria quanti mattoni ha usato maria per costruire la sua panchina', 'quattro ruote dentate ruotano su wl lunge nastro formate di  caselle quadrate identiche nwnerate da a la prima ruota dentata punzona buca una casella ogni  a paire dalla casella n  la seconda ruota punzona una casella ogni  a patire dalla casella n  la terza ruota punzona una casella ogni  a partire dalla casella n  la quarta ruota infine pwzona una casella ogni  a partire dalla casella n  alforche tutte le ruote hanno percorso tutto ii nastro quante caselle resteranno non punzonate', 'completate i dischi vuoti dello schema in modo da rispettare le seguenti regole   i dieci numeri devono essere tutti diversi e il maggiore    in ogni piccolo quadrato i due prodotti incrociatidevono dare lo stesso risultato nellesempio a fianco abbiamo  x    x   ', 'a turno ognuno dei due giocatori preleva sia da una riga sia da una colonna un pedone o pi pedoni ognuno dei numeri cerchiati indica un solo pedone il giocatore che preleva lultimo pedone perde immaginate di essere il primo a giocare quale i pedone i prelevereste per essere sicuri di vincere rispondete indicando il i numero i che indicano il i pedone i che prelevereste rispondete  se pensate che non esista strategia vincente per il primo giocatore', 'con  tagli rettilinei michele divide in parti la pizza della figurasenza spostare nessuna fetta dopo ciascun taglio quante parti non necessariamente della stessa forma o dello stesso peso otterr al massimo', 'fra questi numeri ve ne sono   due la cui somma   e la cui differenza    due la cui differenza   e il cui prodotto     due la cui somma    il cui prodotto     due che sono tali che se si divide il piu grande per il piu piccolo si trova  con il resto di  qual  lintruso ', 'il film  cominciato alle  ed  finito alle  quanto  durato', 'la costruzione che vedete in figura in cui non ci sono buchi nascosti  composta da tanti cubetti verniciati allesterno di rosso escluse le  facce che poggiano sul pavimento quanti cubetti hanno solo  facce rosse', 'francesco e giuseppe giocano a un gioco con dei cerini vi sono in tavola  cerini ogni giocatore a tumo deve prendeme  o  o  o  o  a sua scelta vince chi quando non vi sono piu cerini in tavola si trova in mano un numero pari di cerini inizia il gioco francesco puo essere certo della vittoria in caso affermativo quale deve essere la sua prima mossa se vuole vincere qualunque sia la mossa del suo avversario rispondere  se pensate che sia giuseppe a vincere', 'nella piramide della figura il numero di ogni mattone  il prodotto dei numeri dei due mattoni su cui poggia quale  il numero positivo da inserire nel mattone mediano del livello pi basso', 'liliana vuole raggiungere laltra parte dello stagno salta di ninfea in ninfea spostandosi da una pianta a quella vicina orizzontalmente o verticalmente deve seguire per la regola di saltare soltanto su una ninfea contrassegnata da un numero primo indica il percorso seguito da liliana', 'nella stella regolare a  punte in grigio nel disegno i lati hanno tutti la stessa lunghezza e gli angoli nelle  punte sono tutti retti al suo interno si  tracciata unaltra stella regolare a  punte in bianco nel disegno i cui lati hanno la stessa lunghezza di quelli della stella grigia e i cui angoli interni misurano  oppure  trovate il rapporto tra larea della stella bianca e larea della stella grigia', 'matilde scrive i numcri  e  come nel disegno poi si da la regola segucnte   o raddoppia lultimo numero scritto e scrive il risultato nel cerchio seguente   o somma gli ultimi due numcri scritti e scrive il risultato nel cerchio segucnte ii suo scopo  di arrivare a scrivcre  o almeno un numero il piu vicino possibile a  matilde si ferma dopo aver raggiunto ii suo scopo quale la successione di numeri scritti da matilde  ', 'eliana melina e geraldina si sono date appuntamento alle ore  al parco eliana e arrivata con un quarto dora di ritardo melina e arrivata con tre minuti di anticipo e geraldina e arrivata due minuti dopo eliane a che ora si sono ritrovate le tre amiche ', 'guardate la costruzione nella figura qui sopra sembra una scala ma sotto ogni mattone che si vede non ci sono buchi nascosti la larghezza di ogni piano diminuisce rispetto a quello inferiore di due cubetti fino ad arrivare allultimo piano formato da un solo cubetto quanti cubetti poggiano sul tavolo', 'paola gioca a salterello ed e appena arrivata su una casella tra quelle indicate nella figura la somma dei numeri scritti nelle caselle poste a sinistra di quella che paola ha  raggiuito e uguale a quella dei numeri posti alla sua destra su quale casella si trova paola', 'completate la seguente addizione inserendo al posto dei puntini una e una sola volta le cifre                              ', 'trova un percorso per attraversare questo labirinto sapendo che puoi muoverti in orizzontale o verticale in caselle contigue non puoi passare piu volte per una stessa casella la somma dei numeri delle caselle attraversate deve essere uguale a ', 'quanto vale in cm larea occupata dalla lettera n sapendo che ogni quadrato ha il lato di  cm', 'una successione de  cifre  scritta come qui sopra matilde decide di scrivere dei numeri di  cifre ricopiando nel loro ordine  cifre di seguito come per esempio  quanti numeri a tre cifre differenti  compreso  puo scrivere ', 'io sono nato il  giugno la mia amica peggy  nata il  maggio questanno il suo compleanno  un mercoled trova il giorno del mio compleanno', 'amerigo vuole dividere il blocco che vedete in figura nei suoi  cubetti tutti uguali tra loro con quanti tagli rettilinei al minimo pu ottenere i  cubetti sapendo che tra un taglio e laltro pu risistemare i pezzi ottenuti come vuole', 'lultimo cd dei mathsinger costa un numero intero di franchi pur non avendo ii portafoglio vuoto matteo non puo acquistarlo poiche gli mancano  franchi anche matilde non puo comprarlo in quanto le mancano  franchi per pagarlo matilde e matteo decidono allora di mettere in comune i loro franchi ma anche in questo caso non hanno sufficienti franchi per comprarlo quanti franchi costa ii cd dei mathsinger', 'al posto delle lettere sostituite dei numeri scelti tra  in modo che la somma sia giusta a b d e  a c c   b  b ', 'la tavola x qui riprndotta rappresenta un circuito dove si svolge una gara di rimbalzino ii cerchio disegnato in alcune caselle indica una buca ii gioco consiste nel sistemare  pareti elastiche che fanno rimbalzare la pallina ad angolo retto partendo da una buca urtando una sola parete elastica si deve arrivare alla buca successiva da questa si riparte verso una nuova buca e cosi di seguito fino a tornare alla buca di partenza dopo aver toccato tutte le caselle una e una sola volta', 'la figura rappresenta una pista di autoscontro con lentrata in basso a sinistra dove soko parcheggia le sue auto rappresentate dalle caselle grigie le altre caselle sono vuote le vetture si possono spostare verso una casella vuota adiacente in tutte le direzioni quando soko avr finito di parcheggiare le sue auto la casella in basso a sinistra dovr risultare vuota e a partire da tale casella  deve poter spostarsi verso ogni altra casella vuota inoltre deve poter spostare verso la porta ogni auto senza doverne spostare nessunaltra la figura illustra un parcheggio appropriato per sei auto al massimo quante auto soko potr parcheggiare sulla sua pista in modo da rispettare le condizioni indicate', 'lapertura di una cassaforte  comandata da un codice di sei cifre sul numero di partenza  si possono fare i seguenti cambiamenti  si possono sostituire un  e un  che si seguono in questordine con    si possono sostituire un  e un  che si seguono in questordine con   il codice che permette di aprire la cassaforte  il numero pi piccolo che si pu ottenere  qual  questo codice', 'solo uno degli orologi indica lora esatta dellappuntamento tra due agenti del comitato italiano giochi matematici cigm trova lora dellappuntamento di mattina sapendo che  un orologio  avanti di  minuti  un orologio  indietro di  minuti  un orologio  avanti di  minuti', 'il disegno ti mostra  cubetti   pi grandi e  pi piccoli ogni cubetto piccolo  inserito tra due cubetti grandi  la costruzione ha cinque pianiluca vuole realizzare una costruzione dello stesso tipo ma di  piani di quanti cubetti ha bisogno in tutto', 'anna dice sono la sesta tra i figli della mia famiglia e i miei fratclli sono almeno tanti quanti le mie sorelle da parte sua il fratello minore gianni aggiunge io invece ho almeno il doppio di sorelle che di fratelli quanti sono i figli e le figlie della famiglia di anna e gianni', 'in questa moltiplicazione corretta ognuna delle cifre da  a  appare esattamente una volta tutte le cifre maggiori di  sono state cancellate ricostruite loperazione', 'un mostro si e installato  all interno del labirinto della citta della matematica ludovico deve raggiungere massimo che si trova all estremo opposto del labirinto certi percorsi sono protetti ludovico e sicuro di essere al riparo dal mostro solo se segue dei cammini formati da segmenti ognuno dei quali e perpendicolare al segmento precedente ludovico vorrebbe ritrovare ii suo amico ii piu rapidamente possibile e in piena sicurezza quanti sono i percorsi possibili ', 'la figura rappresenta un campo da dividere posto intorno allo stagno rappresentato dalla casella nera ogni parte in cui il campo sar diviso dovr contenere un albero rappresentato da un cerchio nero tutte le parti devono avere la stessa superficie quattro caselle ma esse devono avere tutte delle forme diverse anche a meno di un ribaltamento tracciate le linee di divisione lungo la quadrettatura', 'desiderio ha scritto tre numeri primi e ha notato che il loro prodotto  uguale a  volte la loro somma quali sono in ordine crescente questi tre numeri', 'angelo desiderio renato e pietro hanno deciso di partecipare alla maratona di mathtown bravi tagliano tutti e quattro il traguardo con il seguente risultato  pietro arriva alle  renato arriva  minuti dopo angelo arriva  minuti dopo desiderio che a sua volta arriva  minuti prima di renato a che ora arriva lultimo dei quattro amici ', 'quanti cubetti sono occorsi per costruire la piramide del disegno tenete presente che ogni piano della piramide  un quadrato e che in ogni piano i cubetti sono disposti solo lungo i bordi in mezzo c un buco', 'sul bordo di uno stagno  circolare sono piantati  magnifici salici sui cui rami si trovano dei passeri il cui numero totale e inferiore a  ad un certo momento un passero e passato dal primo al secondo salice due passeri sono in seguito passati dal secondo al terzo salice poi tre dal terzo al quarto quattro dal quarto al quinto ed infine cinque passeri si sono spostati dal quinto salice al prirno dopo questi trasferimenti vi era lo stesso numero di passeri su ciascuno dei cinque salici dite il numero dei passeri posati su ciascuno dei cinque salici prima di tutti i trasferimenti', 'completate la frase scritta nel riquadro mettendo delle cifre al posto dei puntini di sospensione in modo che la frasi risulti vera', 'si vuole deviare il raggio laser impiegando degli specchi il  cui funzionamento e raffigurato a lato ii raggio laser puo far scoppiare dei palloni attraversandoli come nell esempio a fianco disponi esattamente  specchi nello schema raffigurato a fianco in modo da far scoppiare tutti i palloni', 'la lunghezza dun lato di un quadratino di una quadrettatura regolare  di  cm la figura rappresenta un cerchio il cui raggio misura cm un semicerchio il cui raggio misura  cm un altro semicerchio il cui raggio misura  cm tutti centrati in un vertice del quadratino qual  in cm la superficie del quadrilatero colorato in grigio', 'renato scrive dei numeri di due cifre  da  a  compresi questi due tali che    la cifra delle decine e quella delle unita non siano mai uguali la cifra delle decine e quella delle unita non siano mai consecutive per esempio non scrivera i nudleri  o  in quanto non soddisfano questa condizione quanti numeri diversi potra al massimo scrivere renato rispettando queste condizioni ', 'nando  un appassionato di rompicapo e spiega cos let di suo figlioper ottenere la sua et attuale dovete prendere tre volte let che avr tra due anni e sottrarle tre volte la sua et di tre anni fa qual  let del figlio di nando', 'cinque giocatori a b c d e giocano alla cannuccia piu corta su  cannucce chi prende la piu cona perde prima di ogni panita ciascuno dei  giocatori punta una cena somma di denaro che pone davanti a se all inizio del gioco a punta piu di b che punta piu di c il quale punta piu di d che a sua volta punta piu di e ogni partita determina un solo perdente ogni perdente deve pagare una cifra pari alla puntata di ogni suo awersario prendendo i soldi dalla sua puntata oppwe se la puntata e insufficiente dal proprio portafoglio in questo ultimo caso pero e costretto ad abbandonare il gioco dopo  partite consecutive  dopo la puntata iniziale non sono state effettuate altre puntate nessun giocatore ha abbandonato ii gioco ogni giocatore ha perso una volta e ciascuno ha davanti a se la somrna di l  quali erano nellordine da a a e le puntate iniziali dei  giocatori', 'disponete le cifre    e  nei quattro vertici liberi della stella in modo che se calcolate le somme dei numeri collegati da ognuno dei cinque segmenti che formano la stella le somme ottenute siano date da  numeri che si seguono immediatamente lun laltro', 'ii disegno di sinistra mostra cinque stanze disposte allintemo di un rettangolo  la zona grigia e vuota si possono muovere i polimeni facendoli scivolare sul piano allintemo del rettangolo senza mai sovrapporli si muovono uno dopo laltro e uno spostamento continua di un solo polimeno vale sempre per un solo movimento anche se combina dei movimenti orizzontali con lei movimenti verticali qual e ii numero minimo di movimenti necessari perche ii tetramino quadrato possa evadere e si possa passare dalla posizione indicata nel disegno di sinistra a quella indicata nel disegno di destra ', 'nelle acque territoriali del paese di matematica le navi devono issare a tribordo sullalbero pi avanzato  la bandiera di cortesia rappresentata in figura il quadrilatero abcd ha una superficie di  dm il quadrilatero pqrs in grigio nella figura  ottenuto prendendo p fra a e b q fra b e c r fra c e d s fra d e a in modo tale che apab  bqbc  crcd  dsda  un numero razionale quoziente di due interi strettamente compreso fra  e  posto che p sia distinto da a e b dite qual  la superficie del quadrilatero pqrs sapendo che si tratta di un numero intero di dm', 'sullo schermo del suo computer desiderio ha scritto le cifre  si diverte poi a inserire tra due cifre consecutive presenti sul suo schermo  cioe tra l  e il  tra il  e il  tra il  e il  tra il  e il  un segno  un segno  oppure  niente del tutto puo cosi ottenere per esempio la scrittura  oppure  quante sono tutte le scritture possibili', 'unanatra selvatica impiega  giorni per andare dalla norvegia al marocco e  giorni per andare dal marocco alla norvegia si suppone che tutte le anatre volino in linea retta e a velocit costante due anatre partono insieme una dalla norvegia e laltra dal marocco dopo quanto tempo si incontreranno in volo dare la risposta in giorni ore e minuti', 'renato ha  anni amerigo ne ha due di meno quale sar let di amerigo quando renato avr dieci volte let che ha adesso', 'disponete tutti i numeri da  a  mettendone uno in ogni cerchio la somma dei numeri lungo ognuna delle  linee tracciate deve sempre essere la stessa il numero che occupa la casella a deve essere minore di quello che occupa la casella b e questo a sua volta minore di quello che occupa la casella c', 'un classico dado la somma dei punti di due facce opposte  uguale a  si trova inizialmente sulla casella in basso a sinistra di una scacchiera  x  uno spigolo del dado ha la stessa lunghezza di un lato di una casella ad ogni movimento il dado gira intorno ad uno spigolo verso la casella adiacente ma soltanto verso destra o verso lalto mai verso sinistra o verso il basso per un osservatore fisso e senza contare la casella di partenza quante caselle della scacchiera pu raggiungere il dado trovandosi orientato esattamente come sulla casella di partenza  la cifra  sopra  visto di fronte e  a destra', 'la figura rappresenta un gelato in un cono vi sono tre diversi sapori rappresentati da altrettante figure sovrapponibili esattamente le une alle altre eventualmente dopo un ribaltamento ritagliate il gelato lungo le linee della quadrettatura in modo da far apparire i tre sapori', 'ii prodotto di due numeri interi positivi consecutivi e sempre divisibile per  il prodotto di  numeri consecutivi e sempre divisibile per  per  e per  il prodotto di  numeri consecutivi e  scrivete ii massimo numero per cui e sempre divisibile il prodotto di  numeri consecutivi', 'i millepiedi adulti impiegano un secondo per togliersi una scarpa mentre i loro figli ci mettono due secondi una famiglia di millepiedi  composta da padre madre e tre figli i genitori quando sono scalzi possono aiutare i loro figli ogni millepiedi pu togliere solo una scarpa per volta a se stesso o ad un figlio che intanto continua le sue operazioni quanto tempo ci metter la nostra famiglia di millepiedi al minimo per togliersi tutte le scarpe', 'liliana rivende a  euro una collana che aveva acquistato lestate precedente non le piace pi vendendola ci perde rispetto a quanto aveva speso per comprarlail rapporto tra gli euro persi e quelli spesi per lacquisto  numericamente uguale a un centesimo di quelli spesi per lacquisto quanti euro ha perso liliana sapendo che sono pi di  ', 'mettete i numeri interi da  a  nelle caselle della griglia un numero per casella in effetti due hanno gi trovato la loro sistemazione attenzione per  per ogni numero diverso da  quello immediatamente superiore va collocato in una casella adiacente che ha cio con la precedente un lato in comune', 'la figura rappresenta una stella a cinque raggi disegnata su una quadrettatura regolare x la superficie di ogni quadratino della quadrettatura  di  mm qual  la superficie in mm della stella arrotondata allintero pi vicino se necessario', 'per aprire una cassaforte occorre conoscere nellordine le tre cifre da  a  del codice ecco i tentativi di qualcuno che ci ha provato      tutte le cifre sono sbagliate     una sola cifra e corretta ed e messa al posto giusto     una sola cifra e corretta ma non e al posto giusto     una sola cifra e corretta ma non e al posto giusto     una sola cifra e corretta ed e messa al posto giusto riuscite ad aprire la cassaforte', 'piero  un bravo imbianchino per imbiancare un locale impiega  ore il suo aiutante paolo  molto pi lento ed impiega  ore a completarne uno uguale lavorando insieme quanto impiegherebbero piero e paolo a imbiancare un locale', 'sono dati due numeri positivi non necessariamente interi la loro somma  uguale a sette volte il loro prodotto la loro differenza vale tre volte il loro prodotto se si calcola il rapporto tra il pi grande e il pi piccolo dei due numeri dati quanto vale questo rapporto sempre rispetto al prodotto dei due numeri dati', 'in ogni quadrato  stato scritto il risultato ottenuto addizionando i numeri naturali scritti nei cerchi che toccano questo quadrato questi otto numeri erano tutti diversi tra loro ma sette sono stati cancellati a voi ritrovarli indicando in particolare la somma dei quattro numeri che compaiono nellultima colonna a destra', 'sissi ha riposto sei gemme in un piccolo portagioie quadrato in modo che lo occupino senza lasciare spazio libero e senza sovrapposizioni la figura rappresenta la loro disposizione vista dal di sopra le gemme sono a forma di quadrilateri tutti simili fra loro i loro angoli sono uguali e i loro lati omologhi proporzionali in ogni quadrilatero vi sono due angoli retti opposti fra loro e ognuno dei due angoli restanti  formato da due lati uguali fra loro la superficie della piccola superficie grigia in alto a destra  di  mm qual  la superficie in mm  arrotondata allintero pi vicino della grande superficie grigia in basso a sinistra', 'quando mia figlia e nata  non ricordo che et avessi avevo per sicuramente superato i  anni e non ne avevo ancora  adesso se scambio le cifre della mia et ottengo quella di mia figlia quanti anni avevo quando  nata mia figlia', 'nellistituto di marco la stanza che ospita il laboratorio di informatica ha la forma di un triangolo rettangolo la postazione del professore  situata esattamente nel punto che ha la stessa distanza dai tre lati del triangolo a  cm da ciascuno di loro le lunghezze dei lati della stanza in cm sono dei numeri in progressione aritmetica quanti cm misura lipotenusa di questo triangolo rettangolo', 'in questa somma ogni lettera rappresenta una cifra e lettere diverse rappresentano cifre diverse sappiamo inoltre che r m z a indica un multiplo di  quale numero indica la parola e x t r a  r m z a  m a t h   e x t r a', 'lo scudo del capo della trib di mat  piatto e a forma di decagono regolare sulla faccia rivolta verso il nemico al fine di gettare su di lui la cattiva sorte sono tracciate tre corde che delimitano un piccolo triangolo indicato in nero nella figura la cui superficie  di  cm qual  la superficie in cm arrotondata allintero pi vicino dellintero scudo', ' nella sequenza di numeri scritta sopra addizionando tra loro tre cifre affiancate lavinia ottiene talvolta una somma uguale a  quante volte lavinia ottiene questa somma ', 'inserite tutti i numeri naturali da  a  nei cerchi ancora liberi in modo che la somma dei numeri scritti nei vertici di ogni quadrilatero sia uguale al numero riportato allinterno della regione quale i numero i  in particolare scriverete nel cerchio pi in alto', 'considerate tutti i triangoli rettangoli i cui cateti prolungano i lati del quadrato asot e in cui lipotenusa passa per o sapendo che  rcm qual  il valore minimo dellarea di questi triangoli', 'tre numeri interi positivi sono tali che i prodotti di uno di loro a turno per la somma degli altri due valgono    qual  la somma dei tre numeri', 'scrivete in ogni cerchio un numero intero da  a limiti inclusi in modo che i ognuno di questi numeri sia utilizzato almeno una volta ii ogni numero sia uguale alla somma degli altri numeri inclusi nei cerchi che si trovano alla sua destra nella stessa riga oppure alla sua destra nella stessa riga oppure esattamente sopra di lui nella stessa colonna oppure esattamente sotto di lui nella stessa colonna  stessa riga e stessa colonna anche se i cerchi non sono attaccati', 'dividete un quadrato in otto triangoli rettangoli diversi ma simili tra di loro e in cui la lunghezza del cateto maggiore  uguale al doppio di quella del cateto minore in figura che pure non rispetta le proporzioni vedete il risultato ottenuto ricordate che tutte le superfici dei triangoli espresse in cm sono dei numeri interi quanto vale al minimo larea del quadrato', 'due numeri positivi interi o frazionari sono tali per cui la differenza tra i loro inversi vale  mentre la differenza tra i quadrati dei loro inversi vale  quanto vale il prodotto del pi grande dei due numeri per linverso del pi piccolo date la risposta sotto forma di una frazione irriducibile', 'completate questo pentagono inserendo in ogni cerchio un numero intero maggiore di zero in modo che i  numeri siano tutti diversi ii la somma dei tre numeri posti su ogni segmento  sempre la stessa iii il numero maggiore sia il pi piccolo possibile', 'dividete questa figura in due parti sovrapponibili per questo seguite le linee tratteggiate nota  possibile che una parte sia sovrapponibile allaltra dopo essere stata ribaltata', 'cerano  persone al ballo mascherato anna ha ballato con  ragazzi chiara con  debora con  le altre ragazze via via hanno ballato con un ragazzo in pi della precedente amica fino a milena lultima ragazza del gruppo che ha ballato con tutti i ragazzi presenti al ballo quanti erano questi ragazzi', 'ogni casella dello schema deve contenere una delle cifre   o  nellultima riga in basso le cifre si seguono da sinistra a destra in ordine crescente non strettamente ovvero due cifre vicine possono essere uguali nella prima colonna a sinistra le cifre si seguono dal basso verso lalto in ordine crescente non strettamente completate lo schema in modo che per ogni quadrupla di caselle p q r s  tale che p e q sono sulla stessa riga cos come r e s mentre p e r sono sulla stessa colonna cos come q e s la somma delle cifre contenute in p e s sia diversa dalla somma delle cifre contenute in q e r a esempio nella figura la somma della cifra nella casella a e di quella nella casella b deve essere diversa da ', 'nel castello di matematica c una vetrata che rappresenta un giglio tutti gli archi di cerchio sono dei quarti di cerchio tutti i punti di contatto sono perfetti qual  la superficie della parte in grigio sulla figura in percentuale rispetto alla superficie del quadrato pi grande', 'nando  un appassionato di libri divora le enciclopedie i numeri delle due pagine che oggi sta studiando sono due numeri di tre cifre minori di  naturalmente quello della pagina di sinistra  un numero pari la scrittura di questi due numeri di tre cifre utilizza solo tre cifre diverse sono tre cifre consecutive una viene utilizzata tre volte unaltra due volte e la terza una volta solamente la somma delle sei cifre che compaiono nei due numeri di queste pagine  uguale a  qual  il numero della pagina di sinistra', 'collocate al posto dellasterisco degli opportuni segni di operazione impiegandoli tutti almeno una volta  somma sottrazione moltiplicazione divisione in modo  senza utilizzare le parentesi  che risulti     e sufficiente fornire una soluzione', 'per il suo compleanno salomone vuole tagliare la torta raffigurata a lato in quattro parti in modo che tutte le parti siano diverse o per la dimensione o per forma i tagli devono seguire le linee della quadrettatura salomone vuole che vi sia una ciliegia su ognuna delle parti indicate sul disegno come deve tagliare', 'si  svolto recentemente un importante summit interplanetario a cui hanno partecipato la delegazione dei marziani e quella dei terrestri i marziani hanno due gambe come i terrestri compresi i piedi e le loro dieci dita ma non hanno lo stesso numero di mani dei terrestri e una loro mano non ha lo stesso numero di dita dei terrestri al summit la delegazione dei marziani si  presentata con  componenti in pi di quella dei terrestri inoltre il numero totale di dita delle mani e dei piedi della delegazione marziana  inferiore di  unit al corrispondente numero della delegazione terrestre quanti erano in totale i partecipanti al summit', 'renato aveva disposto dei gettoni numerati sui cerchietti dei quattro esagoni della figura i numeri che comparivano su questi gettoni erano tutti diversi compresi tra  e  e la somma dei numeri di ciascun esagono era uguale a  come ricordato in figura a questo punto sua moglie erica approfitta un attimo della assenza del marito per pulire un po la figura ma un improvviso colpo di vento le fa cadere otto gettoni e disperata il marito ci teneva tanto e lei ricorda solo che non cerano n  n  aiutatela a completare la figura in due modi diversi', 'augusto ha una vecchia maglietta che ha disteso sul tavolo facendo due tagli rettilinei la ha tagliata in un certo numero di scampoli di tessuto per esempio lavesse tagliata come indicato nella figura avrebbe ottenuto  scampoli la banda mediana fornisce due scampoli in quanto passa per le aperture delle due maniche e quindi le due facce della maglietta formano due pezzi separati supponendo che augusto non sia autorizzato a spostare gli scampoli tagliati fra un taglio e un altro n a piegare la maglietta quanti scampoli pu ottenete al massimo con due tagli rettilinei disegnate questi tagli sulla figura', 'milena  malata e il medico le ha ordinato di prendere  gocce di una certa medicina la mamma le prepara allora un grande bicchiere dacqua nel quale diluisce perfettamente le  gocce milena ne beve met ma poi si rifiuta di andare avanti perch il gusto  troppo amaro allora la mamma paziente completa il bicchiere semivuoto con del succo darancia miscela tutto benissimo e chiede a milena di riprendere a bere di nuovo milena beve met del contenuto del bicchiere e il resto lo butta nel lavandino quante gocce avr ingerito in totale', 'trova le cifre che permettono di realizzare la sottrazione a fianco  ogni simbolo corrisponde a una cifra diversa da zero e da ognuna delle cifre corrispondenti a un  altro simbolo', 'la figura rappresenta le diverse aperture dellobiettivo di una macchina fotografica abbiamo tracciato tutti i segmenti che congiungono due punti di una quadrettatura regolare separati fra loro da unit su un contorno di un quadrato i cui lati misurano  unit al centro qual  la superficie che non  attraversata da alcun segmento rispondete sotto forma di frazione irriducibile della superficie totale quella del quadrato  x  attenzione locchio pu ingannare', 'la biblioteca di cald possiede molti libri edoardo ne ha contati  dario  patrizia  vi siete sbagliati  sentenzia nando  e in particolare quello che ha contato il numero pi vicino a quello esatto si  sbagliato di  un altro di  e laltro di  quanti libri possiede esattamente la biblioteca di cald', 'nelloperazione qui sotto ogni iettera indica una cifra due lettere diverse indicano cifre e due cifre diverse sono indicate da lettere diverse nessun numero comincia da zero dix huit   x zero dixhuit trovate ii piu piccolo valore possibile per dixhuit', 'con  cubetti uguali tra loro desiderio vuole realizzare una piramide a base quadrata dove ogni cubetto a partire dal secondo livello dal basso poggia su quattro cubetti del livello inferiore livello inferiore come in figura lobiettivo di desiderio  per di completare con i  cubetti a sua disposizione il maggior numero possibile di livelli quanti cubetti rimarranno inutilizzati ', 'desiderio non nasconde la propria passione per il cioccolato ieri ha comprato un certo numero di cioccolatini che costavano ciascuno  centesimi oggi ne ha comprato un numero doppio di unaltra qualit pi buona al prezzo ciascuno di  centesimi tra ieri e oggi ha speso quasi  euro conservando solo pochi spiccioli di resto meno di  centesimi quanti cioccolatini aveva comprato ieri', 'sistemate i numeri interi da  a  nei dischi della figura in modo che le quattro somme dei tre numeri allineati siano uguali qual  il prodotto dei quattro numeri scritti nei vertici del quadrato centrale', 'dividete la figura in tre parti perfettamente sovrapponibili per sovrapporre le parti della figura  possibile che qualcuna di loro vada ruotata', 'scrivete i numeri interi da  a  nelle nove caselle triangolari della figura in modo che i prodotti delle tre o delle cinque caselle di una stessa riga o di una stessa diagonale siano quelli indicati dalle frecce', 'mattia ha disposto  fiammiferi sul suo tavolo in modo da formare almeno un quadrato e almeno un triangolo si contino i quadrati e i triangoli di tutte le dimensioni che ne risultano ogni triangolo d diritto a  punti e ogni quadrato d diritto a  punti quanti punti matteo pu realizzare al massimo ogni estremit di un fiammifero deve essere in contatto con unestremit di un altro fiammifero o le estremit di altri fiammiferi e nessun fiammifero ne deve incrociare un altro', 'ognuno dei sette nani ha messo una mela su una tavola piana queste mele sono identiche fra loro e viste da sopra sono disposte come nella figura la quadrettatura  regolare il lato di ogni quadrato piccolo e il raggio di ogni cerchi hanno la stessa lunghezza ogni cerchio  centrato su un vertice della quadrettatura biancaneve vuole dividere linsieme delle mele ovvero la superficie grigia della figura in due parti superfici uguali trovate la linea di partizione sapendo che si tratta di un tratto rettilineo passante da almeno due vertici della quadrettatura quante soluzioni ammette il problema', 'con  fiammiferi lucia ha costruito una figura che contiene  quadrati  quello grande e  pi piccoli se leva un qualsiasi fiammifero le restano  quadrati quanti fiammiferi deve togliere lucia al minimo perch non le rimanga nessun quadrato', 'evidenziate alcune delle linee tratteggiate in modo da suddividere la figura in due parti uguali due parti sono considerate uguali se si possono sovrapporre eventualmente ruotandole o ribaltandole', 'jacob ha  cubetti identici di lego che unisce per formare un grande parallelepipedo poi dipinge di verde le facce esterne anche quella inferiore e toglie i cubetti con almeno una faccia verde con quelli rimasti ripete loperazione e cos via finch si accorge che se colorasse lultimo parallelepipedo che ha formato non gli resterebbero pi cubetti tutti bianchi  a questo punto si ferma al massimo quanti cubetti pu avere dipinto jacob di verde su almeno una faccia ', 'matilde e matteo si dividono un sacchetto di caramelle matteo ne prende una mathilde pi golosa ne prende due poi matteo tre e  matilde quattro e cos al proprio turno ognuno prende una caramella in pi   matilde  lultima a prendere caramelle e prende tutte le caramelle rimanenti  sapendo che ha  caramelle pi di matteo quante caramelle conteneva il sacchetto', 'disponete in ogni cerchio un numero diverso da  a  in modo che ogni numero posto fra tre cerchi dei piccoli triangoli  uguale a max  min  med dove max  il maggiore fra i numeri scritti in questi tre cerchi min  il minore e med quello scritto nel cerchio restante per esempio se il numero scritto fra tre cerchi   allora in questi tre cerchi si potrebbero scrivere i numeri   e  visto che  ', 'mattia dispone di una scacchiera rettangolare di  caselle e di un insieme di pezzi tutti della stessa forma rappresentati dalle figure grigie nel diagramma a lato quanti pezzi mattia pu disporre sulla scacchiera senza sovrapposizioni nota i pezzi possono essere rivoltati', 'un triangolo equilatero e un esagono regolare hanno lo stesso perimetro larea del triangolo  uguale a  cm qual  larea dellesagono', 'intendiamo scrivere in ordine crescente  numeri interi positivi e tutti diversi tra di loro tali che la loro somma sia uguale a  quante diverse soluzioni otteniamo', 'un giorno il matematico augustus de morgan che nacque e mor nel xix secolo cos rispose a che gli chiedeva la sua et  ho festeggiato i miei y anni nellanno il cui numero di quattro cifre era uguale al quadrato di y in che anno  nato augustus de morgan ', 'matilde vuole salire dal gradino pi basso al gradino pi alto della costruzione a fianco passando di volta in volta da un gradino a un altro immediatamente vicino e salendo sempre  disegnate il suo percorso', 'quando squilla il telefono di casa non lo lasciarlo suonare meno di tre volte ma mai pi di quattro  mia sorella che ha labitudine di contare tutto dice che nel corso della giornata il telefono squill  volte  io ho ricevuto tutte le chiamate ma non ho chiamato nessuno quante volte ho preso il la cornetta per rispondere al telefono', 'la figura illustra un aereo furtivo visto da sotto il cui naso  a destra ogni cerchio rappresenta un numero diverso da  a  di modi di comunicazione discreti scrivete tali numeri in ogni cerchio in modo che la somma dei numeri scritti nei cerchi che formano ognuno degli otto allineamenti di tre cerchi sia sempre ', 'su ognuno dei  vertici della rete si pu posizionare un pedone bianco o un pedone nero oppure si pu lasciare il vertice libero non si devono posizionare tre pedoni dello stesso colore ai vertici di un triangolo equilatero quale che siano la sua taglia e la sua dimensione un pedone bianco  gi stato posizionato posizionate il maggior numero possibile di pedoni', 'allinterno del quadrato bianco sono stati tracciati due segmenti che congiungono un suo vertice con la met di un altro lato poi nellangolo cos formato  stato collocato un quadrato rosso pi piccolo quello bianco ha unarea di  cm qual  larea del quadrato rosso', 'scrivete la lista dei primi  numeri interi      cancellate i primi due e scrivete la loro somma alla fine della lista     continuate cos cancellando i primi due rimasti e riportando la loro somma alla fine della lista       non stancatevi  continuate allo stesso modo finche vi rimane un solo numero qual  la somma di tutti i numeri scritti compresi quelli iniziali', 'per festeggiare la fine della scuola jacob e il suo amico luca decidono di passare le vacanze facendo un lungo viaggio a piedi per andare a trovare la nonna di jacob il viaggio di  km dura  giorni i primi giorni i due amici fanno  km al giorno poi dopo un certo numero di giorni accorgendosi di essere in ritardo aumentano la dose quotidiana a  km cos arrivano esattamente in  giorni dalla nonna di jacob dopo quanti giorni dalla partenza hanno aumentato il numero quotidiano di km', 'per la competizione matematica galattica  stato costruito un superpodio a dieci posti vedi il disegno  quanti cubi sono stati necessari per realizzarlo ', 'phil omath ha appena colto un fiore di giramath ne toglie i petali ad uno ad uno dicendo  io amo la matematica un po  primo petalo  molto secondo petalo appassionatamente  petalo alla follia   petalo per niente   petalo un po   petalo molto  petalo   appassionatamente ottavo petalo   il fiore di giramath  un fiore straordinario quando  colto ha  petali ma la cosa pi sorprendente   che non appena vengono strappati cinque petali ne spunta istantaneamente uno nuovo  quando phil ha strappato lultimo petalo del fiore quanti petali ha strappato in totale contando lultimo e quello che cosa ha detto', 'sostituite le cifre da  a  al posto delle lettere a lettere diverse vanno sostituite cifre diverse e a lettere uguali la stessa cifra in modo tale che siano verificate entrambe le somme quella di destra si ottiene dalla prima leggendone i numeri da destra a sinistra qualche numero pu cominciare per  ma a  diverso da   infine per quanto riguarda i numeri con due cifre de  maggiore di ed che  maggiore di gf il quale a sua volta  maggiore di fg  abc  de fg  hij  cba   ed  gf   jih', 'quanti triangoli vedi in figura', 'allentrata dello stadio di mathland si trova una scultura conica alta  m nella quale il raggio della base posta al suolo misura  m a due metri dal centro della base del cono si trova unasta verticale alta  m  in cima alla quale c un proiettore molto potente che illumina tutta la zona qual  larea sul suolo dellombra del cono', 'jacob abita in una via molto lunga al numero  tutte le case della via sono numerate in ordine dal numero  senza saltare nessun numero e senza utilizzare numeri bis le case situate sul lato sinistro hanno i numeri dispari quelle sul lato destro i numeri pari di fronte alla casa n c la casa n di fronte al n c il n e cos via rientrando da scuola e partendo dal numero  jacob guarda a sinistra e conta tutti i  che vede quanti ne conta', 'oggi renato ha un numero di anni doppio di quelli del figlio ma  anni fa i suoi anni erano tre volte quelli del figlio quanti anni aveva renato quando il figlio  nato', 'matilde ha pitturato di rosso tutte le facce accessibili dei cubi che compongono la torre disegnata a lato ma non ha potuto pitturare la base della torre che appoggia  sul suo tavolo se matilde smonta la  torre quanti cubi con esattamente   facce pitturate di rosso trovera ', 'lauto di phil omatt  registrata in un dipartimento contrassegnato da un numero di due cifre la somma di queste due cifre  uguale alla differenza tra  il numero del dipartimento di valdemarne e il numero del dipartimento di phil qual  il numero di questo dipartimento', 'riempite le  caselle con  cifre diverse nessuna pu essere uguale a  oppure a  la loro somma deve essere uguale a  devono infine essere ordinate da sinistra verso destra dalla pi piccola alla pi grande', 'quanti quadrati si possono contare nel disegno', 'nando possiede un campo quasi quadrato ma non proprio quadrato le sue dimensioni espresse da numeri interi di decametri differiscono esattamente per un decametro intenzionato a preparare la sua successione nando divide il campo in tre parti triangolari come vedete in figura le misure dei lati dei triangoli sono espresse da numeri interi di decametri e le loro aree sono diverse tra loro qual  al minimo in dm larea del campo di nando', 'consideriamo i numeri di cinque cifre pari e tutte diverse tra loro e sistemiamoli in ordine crescente qual  il esimo numero sapendo che la prima cifra  sempre diversa da  ', 'carla liliana e milena non ci tengono a far sapere la loro et a marco che  un po curioso rispondono solo che carla ha  anni pi di milena mentre liliana ha  anni pi di milena e inoltre che la somma delle loro et   quanti anni ha carla', 'i disegno a lato rappresenta un plastico del palazzo che ospitera la sede del comitato internazionale dei giochi matematici quale  il numero minimo di facce che tale plastico puo avere compresa lo faccia che appoggia sul suolo ', 'in syldavia la moneta ufficiale  la corona syldaviana ma gli abitanti grandi collezionisti infiniti nei loro scambi usano di tutto francobolli da collezione calamite e spille queste sono del tutto fuori moda ma dopo  anni  una corona saldava vale sempre x francobolli da collezione y spille o z calamite x y z sono tre numeri interi consecutivi non necessariamente in questo ordine inoltre sappiamo che  calamite valgono una corona pi di  spille  francobolli valgono due corone pi  calamite e  francobolli valgono due corone e  spille ho scambiato al tasso ufficiale una corona con francobolli una con spille perni e una terza con calamite quanti oggetti ricevo', 'collocate tutte le cifre  nelle caselle della figura in modo da ottenere il pi piccolo risultato possibile', 'una formica si sposta su questo schema a maglie quadrate per andare dal punto d al punto a seguendo il percorso pi breve deve per evitare ad ogni costo la trappola rappresentata in nero in figura  in quanti modi diversi pu effettuare questo spostamento nota  la formica si sposta unicamente sui sentieri orizzontali e verticali', 'anche i pittori moderni si ispirano spesso a forme geometriche in questo quadro si vede un triangolo rettangolo la cui area vale  cm e la misura dei cui lati  espressa da un numero intero di cm quanto vale la somma dei due diametri quello del cerchio grande e quello del cerchio piccolo', 'nando ha scritto dieci numeri interi positivi consecutivi e nessuno di questi ha come somma delle sue cifre un numero divisibile per  qual  al minimo il pi piccolo di questi dieci numeri', 'ii trcno romapisa chc parte a mezzogiomo impicga h per arrivare a destinazione ii treno della sera ii quale fa ii triplo delle fermatc impicga h tutte le formate hanno la stessa durata compresa fra  e  minuti quando i due treni non sono formi  viaggiano alla stessa velocita quante fermate fa ii treno delta sera ', 'ci sono due piramidi una a base triangolare e laltra a base quadrata gli spigoli delle due piramidi hanno la stessa lunghezza incollate le due piramidi attraverso una delle loro facce triangolari  e i triangoli che vengono in questo modo a contatto coincidono perfettamente qual e ii numero delle faccedel solido cosl ottenuto', 'francesco e jose giocano a la frazione pi vicina una frazione  scelta a caso i due avversari a turno danno una frazione che soddisfi le tre condizioni seguenti  non  uguale a   la differenza tra il numeratore e il denominatore non deve superare i   deve essere una migliore approssimazione di  rispetto alla frazione trovata dallavversario  come due spadaccini formidabile i due avversari si affrontano in modo tanto appassionato quanto frazionati fino a quando uno di loro dice una frazione che pone fine al duello qual  lultima frazione annunciata', 'annerite cinque caselle della griglia in figura in modo che con quelle rimaste la somma dei numeri di ogni riga e di ogni colonna sia sempre la stessa', 'il postino saverio ritira la posta dalle casette da lettere della citt della matematica parte dal deposito d e ritira la posta da tutte le cassette terminando dalla cassetta a e tornando poi al deposito dove deposita la posta ritirata  in quale ordine deve passare dalle cassetta  se non vuole mai passare due volte dalla stessa cassetta ', 'in figura vedete tre cerchi tangenti a due a due i cui raggi sono proporzionali a  e  qual  il rapporto tra larea della zona scura e quella del cerchio grande', 'giovanni ha scritto di seguito e tra loro attaccati tutti i numeri da  a  per formare un unico numero qual e ii piu piccolo numero che si puo ottenere cancelando  cifre di que ungo numero', 'la mia amica anna ha preso ii treno a parigi alle hquesto treno impiega abitualmente  ore e  minuti per arrivare a strasburgo io arrivo alla stazione di strasburgo per riceverla alle l h e leggo sul tabellone degli arrivi che ii treno viaggia con i  minuti di ritardo quanto tempo devo aspettare la mia amica', 'ce un cubo ottenuto incollando  piccoli cubetti uguali tra di loro adesso si vogliono di nuovo avere i  cubetti separati quanti tagli saranno necessarial minimo per ottenere i  cubetti potendo tra un taglio e laltro spostare e ridisporre come meglio si crede le parti ottenute', 'i miei amici ed io formiamo una bella squadra di pallamano composta da  giocatori tra noi non ci sono vedette e siamo molto solidali per questo prima di cominciare una partita ognuno di noi stringe la mano a tutti gli altri quante strette di mano ci scambiamo prima di ogni partita', 'in questa addizione ogni simbolo rimpiazza sempre la stessa cifra e due simboli diversi rimpiazzano due cifre diverse ritrovate laddizione nota la scrittura decimale di un numero a pi cifre non comincia mai con ', 'la figura rappresenta una carta  x  del porto militare del paese della matematica e tre foto aeree rappresentano tre pezzi parziali del porto  eventualmente sovrapposti prese nello stesso momento le caselle occupate da due navi differenti non possono toccarsi neppure in diagonale le navi hanno le loro estremit arrotondate e sono tutte di larghezza  vi  una portaerei di lunghezza  due controtorpedinieri di lunghezza  e tre motovedette di lunghezza  completate la carta sapendo che non vi  alcuna foto la cui orientazione sia corretta ovvero ognuna ha subito una rotazione', 'per la sua nuova casa desiderio ha acquistato una cisterna costituita da un cilindro e due semisfere che vedete in figura la lunghezza l e il diametro d sono espressi da un numero intero di dm desiderio  un bravo e diligente matematico  ha calcolato la superficie totale della cisternaottenendo  m e anche il suo volume che  di  m qual  il valore di d', 'si sommino sette numeri naturali dispari consecutivi la lorn somma e ii cubo di un numern intern naturale qua e ii piit grande dei sette interi', 'centoquaranta ciclisti prendono parte al prologo del giro d ltalia si tratta di una cronometro individuate i corridori partono ogni  minuti  primo parte alle hl matteo rossie ii esimo a partire a che ora partira', 'un cubo di spigolo n  diviso in piccoli cubi unitari n   si supponga che su ogni cubo unitario si sia scritto un numero in modo che la somma dei numeri scritti sui cubi che formano una colonna  o riga parallela a un certo spigolo del cubo sia sempre la stessa e non sia zero il numero scritto su uno dei cubi unitari  la meta di questa somma da questo cubo unitario passano tre piani paralleli alle facce del cubo la somma dei numeri scritti sui cubi che non sono tagliati da questi piani  la met della somma di tutti i numeri scritti sulla totalita dei cubi in cui il cubo grande e scomposto quale e ii valore di n ', 'mattias e matilde hanno inventato un curioso collegamento tra il calcolo e lortografia dicono i numeri di  in  partendo dal numero  ma se il numero che devono dire contiene una o pi lettere e il salto successivo  aumentato del numero di lettere e esempio se uno dice quarantasette il salto successivo sar di  arrivando a cinquantadue oppure dal numero trentasette il salto successivo sarebbe di  numeri cio direbbero quarantatre mattias comincia con i primi tre numeri della lista uno quattro sette matilde dice i tre numeri successivi dodici quindici diciotto cos di seguito qual  il diciassettesimo numero della lista', 'simboli uguali rappresentano la stessa cifra il numero rappresentato dalla seconda riga  uguale alla somma delle tre cifre del numero rappresentato dalla prima riga il numero rappresentato dalla terza riga  uguale alla somma delle due cifre del numero rappresentato dalla seconda riga qual  il numero rappresentato dalla prima riga', 'la figura rappresenta due ventagli con quattro stecche che si sovrappongono come in figura considerate ora la stessa situazione ma con due ventagli di  stecche quanti sono i triangoli che ora potreste leggere in figura', 'seguendo le linee della quadrettatura dividete in  parti perfettamente sovrapponibili eventualmente mediante una rotazione o un ribaltamento il terreno rappresentato dalla figura in modo che ogni parte contenga uno e un solo albero come aiutino il contorno di una delle  parti risulta in figura gi evidenziato', 'ii piccolo fibonacci propone alla sua maestra un nuovo gioco di calcolo mentale i  scolari della classe devono l uno dopo l altro pronunciare il numero che risulta dalla somma dei due numeri precedenti ii primo dice l  il secondo dice l  il terzo dice  poi gli altri continuano dicendo nellordine         quale sara ii numero pronunciato dallultimo scoiaro', 'quattro ciclisti alessandro bruno carlo e davide prendono parte a una corsa a cronometro  primo parte alle ore h poi le partenze si susseguono ogni  minuti le ore di arrivo sono le h h h e h quello che e partito immediatamente prima di bruno e irnmediatamente dopo davide ha impiegato due minuti in piu del vincitore alessandro e arrivato al traguardo prima di carlo ritrovare la classifica della corsa dal piu veloce al piu lento sapendo che non vi e stato exrequo', 'due parallelepipedi rettangoli i cui spigoli misurano tutti dei numeri interi di centimetri confrontano le loro rispettive qualit io sono un cubo dice il primo tu non puoi dire aitrettanto  certo ma la mia base e comunque un quadrato e la mia altezza e uguale allunita  cm ci che non  il tuo caso i due parallelepipedi hanno lo stesso volume inferiore a  cm  quale e questo volume ', 'giacomo possiede una scala doppia scorrevole ognuna delle due parti  lunga  m i loro  pioli sono regolarmente disposti e distanziati tra loro di  cm la parte alta della scala doppia possiede due ganci sul piolo inferiore vedi figura che servono per agganciarla ad un piolo della sua parte bassa per ragioni di sicurezza questi ganci non possono appoggiarsi ne sullultimo piolo ab ne sul penultimo piolo cd della parte bassa qual  laltezza massima possibile della scala senza violare le regole per la sicurezza', 'tot aveva impostato quattro operazioni ma ha macchiato con linchiostro il risultato dellultima le prime tre sono giuste la quarta  tale che la divisione d un risultato intero e il divisore  diverso da  scrivete una cifra da  a  in ogni casella utilizzando tutte le nove cifre in ogni linea le cifre scritte in ogni casella devono essere ordinate da sinistra a destra in ordine decrescente', 'quanti angoli retti ci sono in questa figura ', 'larea della figura che a sinistra rappresenta il pino pi piccolo  di  cm quella del pino medio  di  cm tutti i triangoli della figura sono uguali tra loro e anche tutti i rettangoli sono uguali tra loro qual  in cm larea del pino grande che vedete a destra', 'ii giovane malik si e servito di un programma di calcolo numerico per calcolare ii prodotto di due numeri interi volendo poi mettere in neretto ii suo risultato si e sbagliato e ha attivato la funzione ordina tale funzione ordina in ordine crescente le cifre di tutti i numeri che appaiono sullo schermo malik vede cosi apparire i numeri scritti qui a  jato aiutatelo a ritrovare ii prodotto corretto', 'il tempo concesso per la prova relativa alla categoria c  di due ore essa  cominciata alle h e deve finire alle h romano consegna tre quarti dora prima della fine tommaso consegna unora e mezza dopo linizio della prova massimo consegna a met del tempo concesso  camilla consegna alle h nicola consegna  minuti dopo linizio della prova classifica i cinque partecipanti secondo lordine di consegna scrivere le iniziali dei nomi', 'con xx cubetti anna aveva costruito un grande cubo ogni spigolo  formato da nove cubetti chiara per farle un dispetto ha tolto dal cubo un certo numero di cubetti come si vede in figura quanti cubetti ha tolto chiara ', 'romeo ha  biglie vuole metterle in cinque sacchetti in modo che ci siano sempre due biglie in pi in un sacchetto rispetto a quello alla sua sinistra riempie il primo sacchetto a sinistra poi quello immediatamente alla destra del primo cos di seguito fino allultimo di destra alla fine ha sistemato tutte le sue cento biglie quante biglie ha messo nel primo sacchetto', 'sostituite alle lettere da a fino a i i numeri naturali da  a  scritti una e una sola volta  in modo che   la somma dei numeri relativi ai vertici del quadrato a sia uguale alla somma dei numeri relativi ai vertici del quadrato b aumentata della somma di quelli del quadrato c   risulti a  c  defg  hi ', 'una classe decide di produrre unopera darte triangolare lidea e di dividere un triangolo bianco in quattro triangoli e di colorare in nero ii triangolo i centrale figura i i nostri amici dividono poi ognuno dei tre triangoli bianchi cosi ottenuti allo stesso modo colorando ancora in nero ii triangolo centrale figura  essi fanno la stessa cosa due altrc volte quanti triangoli neri vi saranno nella figura  ', 'padre nando possiede un terreno che ha la forma di un trapezio rettangolo il terreno pu essere visto come lunione di un rettangolo la misura dei cui lati  espressa da un numero intero di dam e la cui area  uguale a  dam e di un triangolo rettangolo isoscele quanto vale in dam al massimo larea di tutto il terreno di padre nando', 'nella mia via le case  da un lato  sono indicate con i numeri pari dallaltro con i numeri dispari la mia casa  al numero  se avessero cominciato la numerazione partendo dallaltra estremit della via essa sarebbe al numero  quante case ci sono nello stesso lato della mia casa', 'oggi luca chiara e anna hanno in totale  anni quando luca  nato  dopo il   chiara e anna avevano entrambe pi di  anni anna ha un anno in meno di chiara let di chiara  un multiplo di  quale  let di luca']\n",
            "['jacob ha  cubetti identici di lego che unisce per formare un grande parallelepipedo poi dipinge di verde le facce esterne anche quella inferiore e toglie i cubetti con almeno una faccia verde con quelli rimasti ripete loperazione e cos via finch si accorge che se colorasse lultimo parallelepipedo che ha formato non gli resterebbero pi cubetti tutti bianchi  a questo punto si ferma al massimo quanti cubetti pu avere dipinto jacob di verde su almeno una faccia ', 'matilde e matteo si dividono un sacchetto di caramelle matteo ne prende una mathilde pi golosa ne prende due poi matteo tre e  matilde quattro e cos al proprio turno ognuno prende una caramella in pi   matilde  lultima a prendere caramelle e prende tutte le caramelle rimanenti  sapendo che ha  caramelle pi di matteo quante caramelle conteneva il sacchetto', 'disponete in ogni cerchio un numero diverso da  a  in modo che ogni numero posto fra tre cerchi dei piccoli triangoli  uguale a max  min  med dove max  il maggiore fra i numeri scritti in questi tre cerchi min  il minore e med quello scritto nel cerchio restante per esempio se il numero scritto fra tre cerchi   allora in questi tre cerchi si potrebbero scrivere i numeri   e  visto che  ', 'mattia dispone di una scacchiera rettangolare di  caselle e di un insieme di pezzi tutti della stessa forma rappresentati dalle figure grigie nel diagramma a lato quanti pezzi mattia pu disporre sulla scacchiera senza sovrapposizioni nota i pezzi possono essere rivoltati', 'un triangolo equilatero e un esagono regolare hanno lo stesso perimetro larea del triangolo  uguale a  cm qual  larea dellesagono', 'intendiamo scrivere in ordine crescente  numeri interi positivi e tutti diversi tra di loro tali che la loro somma sia uguale a  quante diverse soluzioni otteniamo', 'un giorno il matematico augustus de morgan che nacque e mor nel xix secolo cos rispose a che gli chiedeva la sua et  ho festeggiato i miei y anni nellanno il cui numero di quattro cifre era uguale al quadrato di y in che anno  nato augustus de morgan ', 'matilde vuole salire dal gradino pi basso al gradino pi alto della costruzione a fianco passando di volta in volta da un gradino a un altro immediatamente vicino e salendo sempre  disegnate il suo percorso', 'quando squilla il telefono di casa non lo lasciarlo suonare meno di tre volte ma mai pi di quattro  mia sorella che ha labitudine di contare tutto dice che nel corso della giornata il telefono squill  volte  io ho ricevuto tutte le chiamate ma non ho chiamato nessuno quante volte ho preso il la cornetta per rispondere al telefono', 'la figura illustra un aereo furtivo visto da sotto il cui naso  a destra ogni cerchio rappresenta un numero diverso da  a  di modi di comunicazione discreti scrivete tali numeri in ogni cerchio in modo che la somma dei numeri scritti nei cerchi che formano ognuno degli otto allineamenti di tre cerchi sia sempre ', 'su ognuno dei  vertici della rete si pu posizionare un pedone bianco o un pedone nero oppure si pu lasciare il vertice libero non si devono posizionare tre pedoni dello stesso colore ai vertici di un triangolo equilatero quale che siano la sua taglia e la sua dimensione un pedone bianco  gi stato posizionato posizionate il maggior numero possibile di pedoni', 'allinterno del quadrato bianco sono stati tracciati due segmenti che congiungono un suo vertice con la met di un altro lato poi nellangolo cos formato  stato collocato un quadrato rosso pi piccolo quello bianco ha unarea di  cm qual  larea del quadrato rosso', 'scrivete la lista dei primi  numeri interi      cancellate i primi due e scrivete la loro somma alla fine della lista     continuate cos cancellando i primi due rimasti e riportando la loro somma alla fine della lista       non stancatevi  continuate allo stesso modo finche vi rimane un solo numero qual  la somma di tutti i numeri scritti compresi quelli iniziali', 'per festeggiare la fine della scuola jacob e il suo amico luca decidono di passare le vacanze facendo un lungo viaggio a piedi per andare a trovare la nonna di jacob il viaggio di  km dura  giorni i primi giorni i due amici fanno  km al giorno poi dopo un certo numero di giorni accorgendosi di essere in ritardo aumentano la dose quotidiana a  km cos arrivano esattamente in  giorni dalla nonna di jacob dopo quanti giorni dalla partenza hanno aumentato il numero quotidiano di km', 'per la competizione matematica galattica  stato costruito un superpodio a dieci posti vedi il disegno  quanti cubi sono stati necessari per realizzarlo ', 'phil omath ha appena colto un fiore di giramath ne toglie i petali ad uno ad uno dicendo  io amo la matematica un po  primo petalo  molto secondo petalo appassionatamente  petalo alla follia   petalo per niente   petalo un po   petalo molto  petalo   appassionatamente ottavo petalo   il fiore di giramath  un fiore straordinario quando  colto ha  petali ma la cosa pi sorprendente   che non appena vengono strappati cinque petali ne spunta istantaneamente uno nuovo  quando phil ha strappato lultimo petalo del fiore quanti petali ha strappato in totale contando lultimo e quello che cosa ha detto', 'sostituite le cifre da  a  al posto delle lettere a lettere diverse vanno sostituite cifre diverse e a lettere uguali la stessa cifra in modo tale che siano verificate entrambe le somme quella di destra si ottiene dalla prima leggendone i numeri da destra a sinistra qualche numero pu cominciare per  ma a  diverso da   infine per quanto riguarda i numeri con due cifre de  maggiore di ed che  maggiore di gf il quale a sua volta  maggiore di fg  abc  de fg  hij  cba   ed  gf   jih', 'quanti triangoli vedi in figura', 'allentrata dello stadio di mathland si trova una scultura conica alta  m nella quale il raggio della base posta al suolo misura  m a due metri dal centro della base del cono si trova unasta verticale alta  m  in cima alla quale c un proiettore molto potente che illumina tutta la zona qual  larea sul suolo dellombra del cono', 'jacob abita in una via molto lunga al numero  tutte le case della via sono numerate in ordine dal numero  senza saltare nessun numero e senza utilizzare numeri bis le case situate sul lato sinistro hanno i numeri dispari quelle sul lato destro i numeri pari di fronte alla casa n c la casa n di fronte al n c il n e cos via rientrando da scuola e partendo dal numero  jacob guarda a sinistra e conta tutti i  che vede quanti ne conta', 'oggi renato ha un numero di anni doppio di quelli del figlio ma  anni fa i suoi anni erano tre volte quelli del figlio quanti anni aveva renato quando il figlio  nato', 'matilde ha pitturato di rosso tutte le facce accessibili dei cubi che compongono la torre disegnata a lato ma non ha potuto pitturare la base della torre che appoggia  sul suo tavolo se matilde smonta la  torre quanti cubi con esattamente   facce pitturate di rosso trovera ', 'lauto di phil omatt  registrata in un dipartimento contrassegnato da un numero di due cifre la somma di queste due cifre  uguale alla differenza tra  il numero del dipartimento di valdemarne e il numero del dipartimento di phil qual  il numero di questo dipartimento', 'riempite le  caselle con  cifre diverse nessuna pu essere uguale a  oppure a  la loro somma deve essere uguale a  devono infine essere ordinate da sinistra verso destra dalla pi piccola alla pi grande', 'quanti quadrati si possono contare nel disegno', 'nando possiede un campo quasi quadrato ma non proprio quadrato le sue dimensioni espresse da numeri interi di decametri differiscono esattamente per un decametro intenzionato a preparare la sua successione nando divide il campo in tre parti triangolari come vedete in figura le misure dei lati dei triangoli sono espresse da numeri interi di decametri e le loro aree sono diverse tra loro qual  al minimo in dm larea del campo di nando', 'consideriamo i numeri di cinque cifre pari e tutte diverse tra loro e sistemiamoli in ordine crescente qual  il esimo numero sapendo che la prima cifra  sempre diversa da  ', 'carla liliana e milena non ci tengono a far sapere la loro et a marco che  un po curioso rispondono solo che carla ha  anni pi di milena mentre liliana ha  anni pi di milena e inoltre che la somma delle loro et   quanti anni ha carla', 'i disegno a lato rappresenta un plastico del palazzo che ospitera la sede del comitato internazionale dei giochi matematici quale  il numero minimo di facce che tale plastico puo avere compresa lo faccia che appoggia sul suolo ', 'in syldavia la moneta ufficiale  la corona syldaviana ma gli abitanti grandi collezionisti infiniti nei loro scambi usano di tutto francobolli da collezione calamite e spille queste sono del tutto fuori moda ma dopo  anni  una corona saldava vale sempre x francobolli da collezione y spille o z calamite x y z sono tre numeri interi consecutivi non necessariamente in questo ordine inoltre sappiamo che  calamite valgono una corona pi di  spille  francobolli valgono due corone pi  calamite e  francobolli valgono due corone e  spille ho scambiato al tasso ufficiale una corona con francobolli una con spille perni e una terza con calamite quanti oggetti ricevo', 'collocate tutte le cifre  nelle caselle della figura in modo da ottenere il pi piccolo risultato possibile', 'una formica si sposta su questo schema a maglie quadrate per andare dal punto d al punto a seguendo il percorso pi breve deve per evitare ad ogni costo la trappola rappresentata in nero in figura  in quanti modi diversi pu effettuare questo spostamento nota  la formica si sposta unicamente sui sentieri orizzontali e verticali', 'anche i pittori moderni si ispirano spesso a forme geometriche in questo quadro si vede un triangolo rettangolo la cui area vale  cm e la misura dei cui lati  espressa da un numero intero di cm quanto vale la somma dei due diametri quello del cerchio grande e quello del cerchio piccolo', 'nando ha scritto dieci numeri interi positivi consecutivi e nessuno di questi ha come somma delle sue cifre un numero divisibile per  qual  al minimo il pi piccolo di questi dieci numeri', 'ii trcno romapisa chc parte a mezzogiomo impicga h per arrivare a destinazione ii treno della sera ii quale fa ii triplo delle fermatc impicga h tutte le formate hanno la stessa durata compresa fra  e  minuti quando i due treni non sono formi  viaggiano alla stessa velocita quante fermate fa ii treno delta sera ', 'ci sono due piramidi una a base triangolare e laltra a base quadrata gli spigoli delle due piramidi hanno la stessa lunghezza incollate le due piramidi attraverso una delle loro facce triangolari  e i triangoli che vengono in questo modo a contatto coincidono perfettamente qual e ii numero delle faccedel solido cosl ottenuto', 'francesco e jose giocano a la frazione pi vicina una frazione  scelta a caso i due avversari a turno danno una frazione che soddisfi le tre condizioni seguenti  non  uguale a   la differenza tra il numeratore e il denominatore non deve superare i   deve essere una migliore approssimazione di  rispetto alla frazione trovata dallavversario  come due spadaccini formidabile i due avversari si affrontano in modo tanto appassionato quanto frazionati fino a quando uno di loro dice una frazione che pone fine al duello qual  lultima frazione annunciata', 'annerite cinque caselle della griglia in figura in modo che con quelle rimaste la somma dei numeri di ogni riga e di ogni colonna sia sempre la stessa', 'il postino saverio ritira la posta dalle casette da lettere della citt della matematica parte dal deposito d e ritira la posta da tutte le cassette terminando dalla cassetta a e tornando poi al deposito dove deposita la posta ritirata  in quale ordine deve passare dalle cassetta  se non vuole mai passare due volte dalla stessa cassetta ', 'in figura vedete tre cerchi tangenti a due a due i cui raggi sono proporzionali a  e  qual  il rapporto tra larea della zona scura e quella del cerchio grande', 'giovanni ha scritto di seguito e tra loro attaccati tutti i numeri da  a  per formare un unico numero qual e ii piu piccolo numero che si puo ottenere cancelando  cifre di que ungo numero', 'la mia amica anna ha preso ii treno a parigi alle hquesto treno impiega abitualmente  ore e  minuti per arrivare a strasburgo io arrivo alla stazione di strasburgo per riceverla alle l h e leggo sul tabellone degli arrivi che ii treno viaggia con i  minuti di ritardo quanto tempo devo aspettare la mia amica', 'ce un cubo ottenuto incollando  piccoli cubetti uguali tra di loro adesso si vogliono di nuovo avere i  cubetti separati quanti tagli saranno necessarial minimo per ottenere i  cubetti potendo tra un taglio e laltro spostare e ridisporre come meglio si crede le parti ottenute', 'i miei amici ed io formiamo una bella squadra di pallamano composta da  giocatori tra noi non ci sono vedette e siamo molto solidali per questo prima di cominciare una partita ognuno di noi stringe la mano a tutti gli altri quante strette di mano ci scambiamo prima di ogni partita', 'in questa addizione ogni simbolo rimpiazza sempre la stessa cifra e due simboli diversi rimpiazzano due cifre diverse ritrovate laddizione nota la scrittura decimale di un numero a pi cifre non comincia mai con ', 'la figura rappresenta una carta  x  del porto militare del paese della matematica e tre foto aeree rappresentano tre pezzi parziali del porto  eventualmente sovrapposti prese nello stesso momento le caselle occupate da due navi differenti non possono toccarsi neppure in diagonale le navi hanno le loro estremit arrotondate e sono tutte di larghezza  vi  una portaerei di lunghezza  due controtorpedinieri di lunghezza  e tre motovedette di lunghezza  completate la carta sapendo che non vi  alcuna foto la cui orientazione sia corretta ovvero ognuna ha subito una rotazione', 'per la sua nuova casa desiderio ha acquistato una cisterna costituita da un cilindro e due semisfere che vedete in figura la lunghezza l e il diametro d sono espressi da un numero intero di dm desiderio  un bravo e diligente matematico  ha calcolato la superficie totale della cisternaottenendo  m e anche il suo volume che  di  m qual  il valore di d', 'si sommino sette numeri naturali dispari consecutivi la lorn somma e ii cubo di un numern intern naturale qua e ii piit grande dei sette interi', 'centoquaranta ciclisti prendono parte al prologo del giro d ltalia si tratta di una cronometro individuate i corridori partono ogni  minuti  primo parte alle hl matteo rossie ii esimo a partire a che ora partira', 'un cubo di spigolo n  diviso in piccoli cubi unitari n   si supponga che su ogni cubo unitario si sia scritto un numero in modo che la somma dei numeri scritti sui cubi che formano una colonna  o riga parallela a un certo spigolo del cubo sia sempre la stessa e non sia zero il numero scritto su uno dei cubi unitari  la meta di questa somma da questo cubo unitario passano tre piani paralleli alle facce del cubo la somma dei numeri scritti sui cubi che non sono tagliati da questi piani  la met della somma di tutti i numeri scritti sulla totalita dei cubi in cui il cubo grande e scomposto quale e ii valore di n ', 'mattias e matilde hanno inventato un curioso collegamento tra il calcolo e lortografia dicono i numeri di  in  partendo dal numero  ma se il numero che devono dire contiene una o pi lettere e il salto successivo  aumentato del numero di lettere e esempio se uno dice quarantasette il salto successivo sar di  arrivando a cinquantadue oppure dal numero trentasette il salto successivo sarebbe di  numeri cio direbbero quarantatre mattias comincia con i primi tre numeri della lista uno quattro sette matilde dice i tre numeri successivi dodici quindici diciotto cos di seguito qual  il diciassettesimo numero della lista', 'simboli uguali rappresentano la stessa cifra il numero rappresentato dalla seconda riga  uguale alla somma delle tre cifre del numero rappresentato dalla prima riga il numero rappresentato dalla terza riga  uguale alla somma delle due cifre del numero rappresentato dalla seconda riga qual  il numero rappresentato dalla prima riga', 'la figura rappresenta due ventagli con quattro stecche che si sovrappongono come in figura considerate ora la stessa situazione ma con due ventagli di  stecche quanti sono i triangoli che ora potreste leggere in figura', 'seguendo le linee della quadrettatura dividete in  parti perfettamente sovrapponibili eventualmente mediante una rotazione o un ribaltamento il terreno rappresentato dalla figura in modo che ogni parte contenga uno e un solo albero come aiutino il contorno di una delle  parti risulta in figura gi evidenziato', 'ii piccolo fibonacci propone alla sua maestra un nuovo gioco di calcolo mentale i  scolari della classe devono l uno dopo l altro pronunciare il numero che risulta dalla somma dei due numeri precedenti ii primo dice l  il secondo dice l  il terzo dice  poi gli altri continuano dicendo nellordine         quale sara ii numero pronunciato dallultimo scoiaro', 'quattro ciclisti alessandro bruno carlo e davide prendono parte a una corsa a cronometro  primo parte alle ore h poi le partenze si susseguono ogni  minuti le ore di arrivo sono le h h h e h quello che e partito immediatamente prima di bruno e irnmediatamente dopo davide ha impiegato due minuti in piu del vincitore alessandro e arrivato al traguardo prima di carlo ritrovare la classifica della corsa dal piu veloce al piu lento sapendo che non vi e stato exrequo', 'due parallelepipedi rettangoli i cui spigoli misurano tutti dei numeri interi di centimetri confrontano le loro rispettive qualit io sono un cubo dice il primo tu non puoi dire aitrettanto  certo ma la mia base e comunque un quadrato e la mia altezza e uguale allunita  cm ci che non  il tuo caso i due parallelepipedi hanno lo stesso volume inferiore a  cm  quale e questo volume ', 'giacomo possiede una scala doppia scorrevole ognuna delle due parti  lunga  m i loro  pioli sono regolarmente disposti e distanziati tra loro di  cm la parte alta della scala doppia possiede due ganci sul piolo inferiore vedi figura che servono per agganciarla ad un piolo della sua parte bassa per ragioni di sicurezza questi ganci non possono appoggiarsi ne sullultimo piolo ab ne sul penultimo piolo cd della parte bassa qual  laltezza massima possibile della scala senza violare le regole per la sicurezza', 'tot aveva impostato quattro operazioni ma ha macchiato con linchiostro il risultato dellultima le prime tre sono giuste la quarta  tale che la divisione d un risultato intero e il divisore  diverso da  scrivete una cifra da  a  in ogni casella utilizzando tutte le nove cifre in ogni linea le cifre scritte in ogni casella devono essere ordinate da sinistra a destra in ordine decrescente', 'quanti angoli retti ci sono in questa figura ', 'larea della figura che a sinistra rappresenta il pino pi piccolo  di  cm quella del pino medio  di  cm tutti i triangoli della figura sono uguali tra loro e anche tutti i rettangoli sono uguali tra loro qual  in cm larea del pino grande che vedete a destra', 'ii giovane malik si e servito di un programma di calcolo numerico per calcolare ii prodotto di due numeri interi volendo poi mettere in neretto ii suo risultato si e sbagliato e ha attivato la funzione ordina tale funzione ordina in ordine crescente le cifre di tutti i numeri che appaiono sullo schermo malik vede cosi apparire i numeri scritti qui a  jato aiutatelo a ritrovare ii prodotto corretto', 'il tempo concesso per la prova relativa alla categoria c  di due ore essa  cominciata alle h e deve finire alle h romano consegna tre quarti dora prima della fine tommaso consegna unora e mezza dopo linizio della prova massimo consegna a met del tempo concesso  camilla consegna alle h nicola consegna  minuti dopo linizio della prova classifica i cinque partecipanti secondo lordine di consegna scrivere le iniziali dei nomi', 'con xx cubetti anna aveva costruito un grande cubo ogni spigolo  formato da nove cubetti chiara per farle un dispetto ha tolto dal cubo un certo numero di cubetti come si vede in figura quanti cubetti ha tolto chiara ', 'romeo ha  biglie vuole metterle in cinque sacchetti in modo che ci siano sempre due biglie in pi in un sacchetto rispetto a quello alla sua sinistra riempie il primo sacchetto a sinistra poi quello immediatamente alla destra del primo cos di seguito fino allultimo di destra alla fine ha sistemato tutte le sue cento biglie quante biglie ha messo nel primo sacchetto', 'sostituite alle lettere da a fino a i i numeri naturali da  a  scritti una e una sola volta  in modo che   la somma dei numeri relativi ai vertici del quadrato a sia uguale alla somma dei numeri relativi ai vertici del quadrato b aumentata della somma di quelli del quadrato c   risulti a  c  defg  hi ', 'una classe decide di produrre unopera darte triangolare lidea e di dividere un triangolo bianco in quattro triangoli e di colorare in nero ii triangolo i centrale figura i i nostri amici dividono poi ognuno dei tre triangoli bianchi cosi ottenuti allo stesso modo colorando ancora in nero ii triangolo centrale figura  essi fanno la stessa cosa due altrc volte quanti triangoli neri vi saranno nella figura  ', 'padre nando possiede un terreno che ha la forma di un trapezio rettangolo il terreno pu essere visto come lunione di un rettangolo la misura dei cui lati  espressa da un numero intero di dam e la cui area  uguale a  dam e di un triangolo rettangolo isoscele quanto vale in dam al massimo larea di tutto il terreno di padre nando', 'nella mia via le case  da un lato  sono indicate con i numeri pari dallaltro con i numeri dispari la mia casa  al numero  se avessero cominciato la numerazione partendo dallaltra estremit della via essa sarebbe al numero  quante case ci sono nello stesso lato della mia casa', 'oggi luca chiara e anna hanno in totale  anni quando luca  nato  dopo il   chiara e anna avevano entrambe pi di  anni anna ha un anno in meno di chiara let di chiara  un multiplo di  quale  let di luca']\n"
          ]
        }
      ]
    },
    {
      "cell_type": "markdown",
      "source": [
        "Scelta della dimensione dell'embedding: 100, che è convenzionale per Word2Vec"
      ],
      "metadata": {
        "id": "8U6WmTznX22n"
      }
    },
    {
      "cell_type": "code",
      "source": [
        "embed_dim = 100 # size of Word2Vec embeddings\n"
      ],
      "metadata": {
        "id": "LbevuU9yKIJi"
      },
      "execution_count": 10,
      "outputs": []
    },
    {
      "cell_type": "markdown",
      "source": [
        "Conteggio di tutte le parole che occorrono tra tutto il dataset(training+validation+test).\n",
        "\n",
        "lista_tutte_parole= lista di tutte le parole, anche ripetute.\n",
        "\n",
        "parole_training_no_dup = set, qui non sono dublicate le parole. Mi darà la grandezza del dizionario."
      ],
      "metadata": {
        "id": "HUlgqvcZYS6w"
      }
    },
    {
      "cell_type": "code",
      "source": [
        "lista_tutte_parole= []\n",
        "for sentence in tutti_gli_esercizi:\n",
        "    words = sentence.split()\n",
        "    for word in words:\n",
        "        lista_tutte_parole.append(word)\n",
        "\n",
        "parole_training_no_dup= set(lista_tutte_parole)\n",
        "print(parole_training_no_dup)\n",
        "\n",
        "# number of unique words\n",
        "words_number = len(parole_training_no_dup)\n",
        "\n",
        "vocab_size = words_number # qui stabilisco grandezza dizionario\n",
        "\n",
        "\n",
        "print(words_number)\n"
      ],
      "metadata": {
        "colab": {
          "base_uri": "https://localhost:8080/"
        },
        "id": "OGX5eUQJYRvl",
        "outputId": "87b1d7f3-cfbf-43dc-be13-a86942309e83"
      },
      "execution_count": 16,
      "outputs": [
        {
          "output_type": "stream",
          "name": "stdout",
          "text": [
            "{'fatto', 'dadi', 'rettangolariquanti', 'effettuarsi', 'estremit', 'uninfinit', 'luscita', 'attraversano', 'tracciare', 'entrambe', 'federazione', 'abcdef', 'acque', 'riportando', 'be', 'perfezionista', 'fora', 'identica', 'soddisfatto', 'manca', 'grigia', 'aiutarlo', 'popolazione', 'dubbio', 'sapori', 'abxyz', 'magico', 'pescato', 'stato', 'lintera', 'cactus', 'lavorer', 'esista', 'paese', 'riuscito', 'diverso', 'i', 'conti', 'colora', 'scriverle', 'vernice', 'inversi', 'imballaggio', 'scarpe', 'ottobre', 'geocity', 'cambiarne', 'laboratorio', 'allunita', 'avevo', 'aver', 'indica', 'animale', 'affiancate', 'strategia', 'lascia', 'scriverne', 'quadratidisegnate', 'disegnato', 'esaurire', 'pross', 'mattina', 'spiccioli', 'volino', 'novit', 't', 'petalo', 'gare', 'rimane', 'domando', 'nuovo', 'meno', 'ulteriormente', 'accumulando', 'che', 'ab', 'dialogo', 'numeratore', 'spigoli', 'finiscono', 'lunione', 'raffigurato', 'descrive', 'cigm', 'visitato', 'tipo', 'ai', 'possiede', 'larchitetto', 'portagioie', 'lucky', 'disponi', 'cerchi', 'semiretta', 'ri', 'citt', 'mosse', 'sviluppato', 'annoia', 'sentenzia', 'sospensione', 'saltano', 'atleta', 'testa', 'aei', 'perche', 'dallisola', 'pitturare', 'trasporta', 'averli', 'sottrae', 'notte', 'dato', 'aule', 'naturalmente', 'domanda', 'rimpiazza', 'effettuare', 'voce', 'rossi', 'camera', 'cronometro', 'ce', 'giusto', 'propone', 'crespelle', 'laltro', 'egli', 'colorandole', 'thematik', 'treno', 'pierre', 'rispettivamente', 'ritrovare', 'nonni', 'guardando', 'termite', 'nello', 'messo', 'tenendo', 'drn', 'fiorisce', 'risultino', 'arrotonda', 'vero', 'mandoro', 'segucnte', 'aiutante', 'diciottesima', 'formando', 'perno', 'paola', 'spostano', 'lampadina', 'asiatici', 'stampare', 'circondare', 'pedoni', 'simmetrica', 'palla', 'identico', 'rimbalzino', 'pitturato', 'lunga', 'eliane', 'compare', 'dargli', 'trovare', 'bici', 'capo', 'parcheggiare', 'somme', 'rispettando', 'risultato', 'riempito', 'spostarsi', 'pring', 'interamente', 'dura', 'decidono', 'sequenze', 'noti', 'undici', 'imposte', 'dellobiettivo', 'tornare', 'porterebbe', 'gioyanni', 'primo', 'od', 'corta', 'raptus', 'cona', 'fragola', 'risultano', 'colpi', 'inizia', 'delegazione', 'capovolgendoli', 'piedi', 'devi', 'sergio', 'formidabile', 'successivi', 'dovr', 'venire', 'impossibile', 'ifiammiferi', 'semicircolare', 'arrivi', 'bisogno', 'veramente', 'incluse', 'citta', 'stanza', 'fornite', 'dapprima', 'richiesti', 'puntualit', 'correr', 'coda', 'mago', 'sommare', 'diamante', 'preparare', 'dellultimo', 'ruote', 'superiore', 'giacomo', 'negozio', 'interrogativo', 'sovrapporli', 'cassa', 'assegnato', 'ospitera', 'sono', 'vincere', 'passaggi', 'sazieta', 'coperta', 'ritornare', 'passi', 'lestremit', 'vuote', 'interplanetario', 'congiungono', 'ordina', 'assumere', 'esagonale', 'rispetta', 'eliana', 'romano', 'simone', 'certamente', 'originale', 'dopo', 'goda', 'papche', 'mura', 'collana', 'faccedel', 'caramelle', 'porto', 'sino', 'divisioni', 'ricevere', 'que', 'lilly', 'rigidi', 'ruotate', 'partire', 'hai', 'termina', 'lego', 'opposte', 'dentro', 'vogliono', 'successioni', 'sole', 'siete', 'lorientazione', 'ribaltare', 'ripetuti', 'pesi', 'ultimo', 'maestra', 'net', 'tornando', 'arrivata', 'domani', 'piramide', 'dispone', 'realizzarlo', 'fiocco', 'lasciare', 'scritture', 'centenario', 'insufficiente', 'denominatori', 'costantemente', 'tabella', 'francese', 'precise', 'tentativi', 'alcune', 'coincidere', 'coperto', 'compaiono', 'tracciate', 'ottavo', 'cerchietti', 'ordinamento', 'viaggiano', 'fondazione', 'eseguono', 'unarmatura', 'spiaggia', 'piccole', 'mathilde', 'avr', 'aeree', 'supermercato', 'conteneva', 'suoni', 'fiume', 'appaia', 'prodotto', 'intern', 'trovi', 'sommino', 'liberi', 'pittori', 'corrette', 'senso', 'palo', 'contare', 'pochi', 'suddivisione', 'scrittura', 'corto', 'hi', 'sconto', 'rema', 'figliha', 'indicata', 'volume', 'uscir', 'vincente', 'unaccetta', 'palestra', 'partito', 'spirato', 'scientifiche', 'tre', 'sovrapposizioni', 'disporre', 'nessun', 'allontanandosi', 'spostare', 'ritomo', 'aspetto', 'allispettore', 'lavastoviglie', 'disposte', 'lidea', 'dei', 'ognuna', 'condominio', 'sega', 'spente', 'nacque', 'traguardo', 'segnalazione', 'nonniin', 'separano', 'accese', 'timbri', 'contigui', 'rosse', 'levando', 'centrato', 'casco', 'lontani', 'gatti', 'succo', 'forse', 'somma', 'creato', 'formata', 'assomigliano', 'cancellate', 'lasomma', 'jacopo', 'lie', 'solido', 'gianfranco', 'arrotondata', 'quadrilatero', 'muro', 'quadrilateri', 'klkc', 'rombi', 'letti', 'vari', 'papi', 'molta', 'dabitudine', 'riquadro', 'trappola', 'ventiquattresima', 'fausta', 'vista', 'passanoesattamente', 'cannuccia', 'dispettosa', 'scheletri', 'ricordo', 'biblioteca', 'giudicate', 'labirinti', 'comunicazione', 'disse', 'enciclopedie', 'ms', 'arriverei', 'lamata', 'cera', 'francobolli', 'evidenzia', 'omologhi', 'riprodotta', 'finisce', 'reticolo', 'state', 'numericamente', 'pqrs', 'moda', 'tessere', 'quotidiana', 'assai', 'nati', 'iniziale', 'continua', 'metri', 'lestate', 'modello', 'bisnonno', 'telefono', 'lanno', 'collocata', 'restante', 'nessuno', 'grosse', 'persone', 'veloce', 'condizione', 'essendoci', 'normale', 'aiutarvi', 'anagrammi', 'scomparse', 'camminato', 'distratto', 'mathsinger', 'moltiplicando', 'dallavventura', 'millennionota', 'iscritti', 'nostradaplus', 'sostituire', 'mediana', 'scambiato', 'aumentare', 'potrebbero', 'coincidono', 'rotazione', 'battetre', 'nellandare', 'rete', 'da', 'strappati', 'rettangolariquante', 'legger', 'elefante', 'locale', 'annientata', 'riposo', 'campanile', 'ribaltate', 'ulivo', 'urtando', 'osservato', 'nonno', 'tribordo', 'tabellone', 'soluzione', 'case', 'riportata', 'circoletto', 'basi', 'moderni', 'numerico', 'dimenticando', 'presentata', 'legata', 'syldavia', 'percorsa', 'ricordate', 'dovete', 'issare', 'tratteggiata', 'clotilde', 'battaglia', 'pure', 'striscia', 'tasche', 'eliminazione', 'maggio', 'salendo', 'giramath', 'ricoperto', 'inserire', 'spigolo', 'labitudine', 'mangiato', 'prato', 'tracy', 'comandata', 'prendeme', 'razionale', 'ripartendo', 'rcsto', 'spicchi', 'trasferimenti', 'avessero', 'regioni', 'evidenziate', 'componenti', 'bicolore', 'nastro', 'ijia', 'potendo', 'centimetre', 'marziani', 'favorito', 'attenta', 'pavimentato', 'cancelando', 'oppure', 'appaiono', 'candele', 'scia', 'cancellateli', 'drer', 'odia', 'pentamino', 'robot', 'arriva', 'colori', 'scultura', 'pronunciare', 'partita', 'papg', 'maniche', 'panchina', 'solito', 'ribaltata', 'nellanno', 'anna', 'sconti', 'girati', 'indizi', 'uscire', 'arrampicarsi', 'zio', 'informatica', 'lultimo', 'nulla', 'alle', 'avete', 'matassa', 'quali', 'sul', 'lesplorazione', 'deserta', 'composizione', 'monumento', 'cancellati', 'rosso', 'toglie', 'costruito', 'ganci', 'io', 'correttamente', 'alcuni', 'agguato', 'attenzione', 'vruore', 'cortesia', 'hl', 'grande', 'ordine', 'regole', 'bordo', 'cassetta', 'sabbia', 'tratteggiatecompleta', 'perso', 'dentate', 'stirando', 'mai', 'sicuri', 'jacob', 'uscito', 'frequenza', 'convesso', 'scritto', 'trevertici', 'altrettante', 'contenenti', 'controllano', 'lacquisto', 'genitori', 'propriet', 'dita', 'trovandosi', 'iterativamente', 'vassoi', 'aggiungete', 'cubi', 'tuo', 'tagliarli', 'computer', 'divora', 'ripetere', 'signor', 'desiderio', 'sprint', 'perduto', 'dimpresa', 'unisce', 'crescita', 'realizzata', 'mano', 'mescola', 'neppure', 'lettura', 'posizionato', 'osservatore', 'crociata', 'sala', 'farlo', 'tracciandone', 'aiutate', 'svolgendo', 'foglio', 'degli', 'ricino', 'ponte', 'leggermente', 'velocita', 'risulti', 'gioia', 'portarlo', 'verniciati', 'mattoncini', 'base', 'numern', 'necessariamente', 'vicine', 'muovere', 'stampante', 'spugna', 'maggiore', 'largo', 'disposizione', 'mia', 'perni', 'rapidamente', 'casette', 'esperta', 'eredita', 'qual', 'battere', 'portasfortuna', 'decide', 'massimo', 'collegare', 'patire', 'riguarda', 'passato', 'volta', 'restituisce', 'dicembre', 'visita', 'solo', 'dozzine', 'basamento', 'trottola', 'metter', 'unorigine', 'unit', 'girasoli', 'vincitore', 'parallelogramma', 'osservare', 'etin', 'assemblandoli', 'quadratino', 'morgan', 'leggendo', 'suonare', 'lapertura', 'costituito', 'positiva', 'muoverlo', 'pianeta', 'contaminata', 'nasa', 'nellultima', 'ferro', 'suo', 'linee', 'questanno', 'cerchio', 'impegnata', 'vostro', 'pasticcio', 'kevin', 'prezzo', 'stadio', 'andata', 'colorati', 'signori', 'trovano', 'vicina', 'weekend', 'alberi', 'sceglie', 'bicchiere', 'coordinate', 'biglie', 'alforche', 'tot', 'proporzioni', 'tesserine', 'vicini', 'diagonale', 'diminuita', 'applica', 'esse', 'tagliatori', 'intendono', 'invertendo', 'coltello', 'parallele', 'passante', 'addizionato', 'dallangolo', 'durato', 'peggy', 'aneora', 'matita', 'davvero', 'su', 'cartone', 'quadrettini', 'pazienza', 'constata', 'dangolo', 'quello', 'dipinge', 'prolungano', 'chc', 'solitario', 'ci', 'disegnata', 'probabilit', 'mettete', 'perfetto', 'lavoro', 'chris', 'esima', 'numeratori', 'nome', 'ciliegia', 'dipartimento', 'carla', 'ricevute', 'tesoro', 'finche', 'annerito', 'ricoprire', 'disponiamo', 'movimento', 'solidi', 'interna', 'terniate', 'indicazioni', 'formato', 'geppetto', 'iii', 'acuto', 'l', 'anticipo', 'centoquaranta', 'rivoltarle', 'agenti', 'fasi', 'numerato', 'sottrazione', 'attraversata', 'terminare', 'programmare', 'archeologi', 'riassemblati', 'livello', 'caselle', 'ruotandoli', 'fare', 'incollano', 'struttura', 'teorema', 'procedimento', 'composte', 'tom', 'cinquantadue', 'secondo', 'laltra', 'esemp', 'male', 'scommesso', 'rettangolo', 'posato', 'parzialmente', 'mediano', 'evadere', 'completarne', 'grazie', 'limita', 'lenta', 'nel', 'legale', 'ferma', 'ripete', 'elastica', 'uni', 'venuto', 'funziona', 'comprato', 'allaltra', 'tutto', 'quaj', 'dsda', 'limiti', 'acquistarlo', 'larmatura', 'targa', 'sbagliato', 'nemico', 'semicerchio', 'torrone', 'scrivete', 'posata', 'nostra', 'leggendone', 'effettua', 'angoli', 'giornata', 'coste', 'cammini', 'kmh', 'totalita', 'situata', 'gara', 'med', 'accorgiamo', 'cartolaio', 'diametri', 'intemperie', 'riveur', 'quarto', 'tagliata', 'ordinati', 'isole', 'laddizione', 'cubo', 'formare', 'strettamente', 'matematico', 'capanna', 'bernoccoli', 'nathan', 'merenda', 'portandoli', 'cattiva', 'rotonde', 'blocco', 'divina', 'jato', 'parallela', 'abbiano', 'cambiare', 'contorni', 'nellunica', 'unico', 'stancati', 'assalti', 'allinizio', 'supponendo', 'operazioni', 'passeri', 'lartigiano', 'fabbrica', 'sepolto', 'graffe', 'rimpiazzano', 'triangolari', 'ridurre', 'unestremit', 'marcati', 'raggiungere', 'lun', 'costellazione', 'bernardo', 'trascurare', 'evitare', 'raggruppandone', 'poter', 'manipolazione', 'superpodio', 'sovrapposti', 'giuste', 'lepidemia', 'divorare', 'proteggerla', 'esso', 'chiamato', 'mappa', 'appoggialuca', 'ricostituirne', 'illumina', 'medio', 'caratteristica', 'spedizione', 'metropolitana', 'tasso', 'grado', 'paesi', 'avviato', 'palindromo', 'fianco', 'alluscita', 'lora', 'minori', 'intervenendo', 'magnifi', 'unoperazione', 'riparte', 'conterr', 'grandi', 'hildegard', 'hobby', 'pietra', 'circonferenza', 'rappresentata', 'torno', 'direttamente', 'ritaglio', 'curiosa', 'jose', 'virgola', 'mauro', 'cosi', 'trovata', 'specie', 'giglio', 'zucca', 'sullultimo', 'differenza', 'sotto', 'salici', 'vendere', 'casse', 'parecchi', 'comincio', 'mesi', 'compaia', 'identiche', 'appassionata', 'pero', 'misure', 'scoprire', 'liliana', 'scatolette', 'arriveranno', 'espresse', 'leone', 'allasse', 'ripetuto', 'decimale', 'diritto', 'rimanenti', 'ogni', 'persona', 'numerazione', 'scatoletta', 'festeggiato', 'marmo', 'antiorario', 'ombrelloni', 'zia', 'max', 'entra', 'sciando', 'cilindri', 'esempio', 'alloray', 'strette', 'tasti', 'dar', 'panita', 'programma', 'mim', 'lumaca', 'quadrettatura', 'salute', 'biglietti', 'classe', 'semafori', 'metterebbe', 'appena', 'passata', 'grosso', 'fette', 'discesa', 'villaggio', 'professor', 'scalzi', 'fonna', 'riconosce', 'destra', 'dellanno', 'tenete', 'era', 'gira', 'abc', 'dixhuit', 'regione', 'trasformato', 'considerate', 'economi', 'poggiano', 'seconda', 'disco', 'scrivcre', 'ancora', 'fogli', 'lavorare', 'pesca', 'proposito', 'punzona', 'malattia', 'norvegia', 'occorrer', 'camminando', 'dellaltro', 'boe', 'bravi', 'sentieri', 'carlo', 'funzione', 'impiegheranno', 'fornisce', 'disegnare', 'arrestandovi', 'contengono', 'valeria', 'contenuto', 'corrente', 'tocca', 'equilatero', 'fratellino', 'ecco', 'magica', 'saldava', 'partitoqual', 'pareggiare', 'albero', 'tal', 'magnifici', 'sullalbero', 'parte', 'lobiettivo', 'toccano', 'distanze', 'piramidi', 'damigiana', 'lanagramma', 'ponendo', 'santa', 'recinzione', 'cioccolato', 'considerato', 'li', 'sedici', 'rappresentato', 'viale', 'inversione', 'torri', 'ottenuto', 'esattamente', 'nellaltra', 'moto', 'allinglese', 'parola', 'dellarea', 'aiutatela', 'mancante', 'posizionate', 'mattine', 'quadrata', 'campo', 'invertono', 'tenute', 'completare', 'scoiaro', 'fabbricato', 'superare', 'passero', 'pentagoni', 'naso', 'mancava', 'complemento', 'sacco', 'mobile', 'trentasette', 'strada', 'trovato', 'dovrete', 'portaerei', 'dispari', 'saltato', 'laterali', 'autorizzato', 'indicando', 'lingotto', 'dai', 'disperata', 'sorgenti', 'gemellare', 'cerini', 'periodici', 'collegati', 'applicando', 'medi', 'posa', 'voti', 'contigue', 'collezionisti', 'bricolage', 'saltando', 'cittadini', 'bill', 'compito', 'radio', 'pensato', 'strappato', 'stati', 'proporzionali', 'tempo', 'giocare', 'scegliere', 'appuntamento', 'presentino', 'coperchio', 'allarrivo', 'consente', 'esausta', 'sede', 'proboscidi', 'supporre', 'rigorosa', 'neicerchi', 'scriver', 'dora', 'poste', 'migliore', 'alluna', 'nb', 'paperone', 'abita', 'allintero', 'far', 'comunque', 'tranches', 'ruotare', 'lore', 'conica', 'rispondono', 'suoi', 'ago', 'ritira', 'particolarit', 'elementi', 'cena', 'raggio', 'note', 'predisposto', 'cotte', 'lanciano', 'vedo', 'incollare', 'fabrizio', 'evidenziato', 'leggenda', 'lexpiramide', 'centimetri', 'sincurvano', 'unicamente', 'ridotto', 'sorpresa', 'scavare', 'differente', 'leggo', 'certezza', 'ennagono', 'a', 'distanza', 'roma', 'varie', 'centrati', 'cassette', 'tagliato', 'verificate', 'periodo', 'accessibili', 'dominco', 'awersario', 'questa', 'gobbe', 'imballato', 'fabbro', 'disegnatele', 'occorsi', 'riuscite', 'altre', 'intendiamo', 'nwnerate', 'cifre', 'piega', 'dallacqua', 'cioe', 'giusti', 'addiziona', 'attivato', 'particolare', 'incontrata', 'assegnati', 'notato', 'identici', 'dallavversario', 'consistente', 'prendono', 'inverno', 'estremo', 'spaziali', 'variet', 'rappresenta', 'difetto', 'larghezza', 'differenti', 'ti', 'alcuneregole', 'immagine', 'nonsi', 'nemmeno', 'incassa', 'istantaneamente', 'distinti', 'potente', 'andr', 'marte', 'cominciare', 'almeno', 'pesano', 'risponda', 'allinfinito', 'romapisa', 'sfogliando', 'prossimo', 'sicuramente', 'frammenti', 'formano', 'nemici', 'trascurate', 'vicino', 'parziali', 'bari', 'spunta', 'distanziati', 'sposta', 'definitivamente', 'pur', 'fame', 'dividiamo', 'sai', 'gocce', 'stecche', 'et', 'lasse', 'cinque', 'ventiquattro', 'schizzo', 'sorprendentemente', 'nellistituto', 'raccolte', 'dinosauro', 'righe', 'militare', 'solaio', 'tu', 'frazionati', 'contenuti', 'moutte', 'tana', 'angolo', 'zone', 'riprendere', 'spegnerle', 'balletto', 'ijkl', 'impiegano', 'cubico', 'imbevuta', 'una', 'solamente', 'diagramma', 'xix', 'radianti', 'spenta', 'mezzogiomo', 'risposte', 'sar', 'impiegherebbe', 'deviare', 'attaccati', 'mare', 'decapitaretutti', 'cambiarlo', 'parco', 'scambio', 'tenuta', 'bicicletta', 'bucatocio', 'sensi', 'miliardi', 'lasciarlo', 'ridisporre', 'tolte', 'miscela', 'vino', 'autoadesive', 'puo', 'nascosta', 'jkjb', 'bevande', 'parallelepipedi', 'minpoi', 'quarta', 'collegate', 'tali', 'interno', 'y', 'settembre', 'marina', 'debordare', 'tramite', 'maestro', 'geometrica', 'doccia', 'utilizza', 'appassionato', 'opoche', 'isosceli', 'tornino', 'passaggio', 'economizzare', 'xiii', 'servire', 'jo', 'alveoli', 'tumo', 'qualit', 'continuiamo', 'esce', 'numero', 'riempita', 'persa', 'sistemazione', 'linverso', 'ricomincia', 'cosl', 'fienile', 'troiani', 'comparivano', 'portafoglio', 'vostre', 'nellistante', 'prelevereste', 'navicelle', 'cade', 'giomata', 'quadrati', 'numera', 'espressi', 'dellombra', 'illimitata', 'delta', 'vincenti', 'prende', 'veri', 'medico', 'seguire', 'rimarranno', 'casella', 'buone', 'aereo', 'ombra', 'preleva', 'parete', 'vale', 'scalini', 'potevano', 'fratclli', 'carlina', 'magnifica', 'piena', 'cos', 'aggiunti', 'dellintero', 'raggiunga', 'quelle', 'avanti', 'miglioh', 'summit', 'ricava', 'ricoprirlo', 'accorta', 'sapreste', 'qualsiasi', 'mazzo', 'lsoluzione', 'adriano', 'melina', 'troppo', 'dite', 'determinate', 'squill', 'segna', 'postino', 'caraffa', 'scampoli', 'fermarsi', 'tratta', 'suoneranno', 'ripassare', 'raddoppia', 'costituiti', 'gambo', 'sottrarle', 'potrete', 'irriducibile', 'penultimo', 'separato', 'occorrono', 'camilla', 'crescente', 'usato', 'aiutarti', 'fioritura', 'fg', 'dinosauri', 'mor', 'recht', 'calcolando', 'addobbare', 'inutilizzati', 'sequenza', 'due', 'situato', 'riceveranno', 'cassaforte', 'svincolo', 'dimensioni', 'cioccolata', 'ribaltandole', 'diritti', 'mattone', 'costa', 'professione', 'vetrina', 'galassia', 'esemplari', 'antenata', 'verticale', 'aitrettanto', 'uffici', 'tony', 'billy', 'bere', 'ritagliate', 'costavano', 'puzzle', 'r', 'sorpassa', 'loro', 'annunciata', 'scriverete', 'purtroppo', 'arrotondi', 'prepararmi', 'felice', 'z', 'dice', 'fossero', 'occupano', 'mostra', 'chi', 'sentir', 'lettera', 'xindi', 'qualche', 'quarantasette', 'volano', 'alcuna', 'ciccare', 'foste', 'pitturate', 'svolge', 'complessivamente', 'simulando', 'sapete', 'zoo', 'salvo', 'scambiamo', 'colto', 'disposti', 'soldatino', 'disegnandone', 'decametri', 'luci', 'contemporaneamente', 'luna', 'mezzora', 'facciano', 'congiunge', 'costo', 'fortemente', 'gradi', 'valori', 'piit', 'nuovi', 'atleti', 'sol', 'crepe', 'allintemo', 'ragazze', 'esca', 'entrambi', 'nonna', 'dfense', 'giorno', 'turnosposta', 'percorse', 'informa', 'decagono', 'dal', 'sopra', 'lotto', 'propria', 'sacchi', 'follia', 'riempite', 'criterio', 'gradini', 'sara', 'prova', 'muove', 'le', 'internazionale', 'sviluppa', 'tappe', 'boscaioli', 'ribaltamento', 'bravuomo', 'defg', 'scale', 'febbraio', 'consuma', 'serviranno', 'opposti', 'fermate', 'frasi', 'evidentemente', 'scarpa', 'lui', 'percorrere', 'soli', 'dicetown', 'separati', 'pulire', 'minimo', 'provato', 'pra', 'ragione', 'parigi', 'suddiviso', 'nando', 'sullaltro', 'corrispondono', 'ballo', 'barca', 'figlie', 'eventualmente', 'valdemarne', 'appoggiandola', 'vie', 'ciclisti', 'scope', 'forbici', 'etc', 'tortina', 'cento', 'trascurano', 'attraversandoli', 'muoversi', 'gemme', 'hanno', 'lunghezza', 'o', 'possa', 'partiranno', 'dispiegate', 'costruire', 'vengono', 'illustre', 'opposto', 'scavereste', 'certe', 'faccia', 'incontra', 'scuri', 'mettendosi', 'realizzare', 'piazzate', 'resterebbero', 'cornici', 'riceve', 'poligono', 'usate', 'nicoletta', 'compongono', 'mjmjmj', 'il', 'rosicchiare', 'sovrastante', 'crespella', 'dellangolo', 'divisore', 'litro', 'inserendo', 'otteniamo', 'rapporto', 'mentre', 'manger', 'lampade', 'spaziale', 'isoscele', 'misuri', 'terza', 'dott', 'nullo', 'attualmente', 'seguemeticolosamente', 'raggiunge', 'scolarsi', 'lunedi', 'maga', 'tardi', 'rappresenti', 'successivamente', 'riceverla', 'fotografica', 'pista', 'nelladdizionare', 'scritta', 'petroliferi', 'jipotenusa', 'ottenere', 'certi', 'gettoni', 'cristina', 'sta', 'rendi', 'mercato', 'fuori', 'complementato', 'piatti', 'spirale', 'math', 'quadri', 'staccionata', 'perci', 'empo', 'fuso', 'torre', 'eleonora', 'nelle', 'durata', 'realizzate', 'partenze', 'rette', 'componendo', 'eric', 'ricostruite', 'topo', 'affrontano', 'jos', 'minima', 'bus', 'arbitrariamente', 'disposto', 'tolto', 'impilato', 'diverte', 'classifica', 'altri', 'contorno', 'sissi', 'provare', 'cateto', 'giocato', 'maniere', 'exrequo', 'festa', 'tricubo', 'approfitta', 'puntini', 'tortine', 'ordini', 'determina', 'lauto', 'collocati', 'fatti', 'contatto', 'verificare', 'disponendoli', 'qualunque', 'cesenatico', 'nostre', 'esuccesso', 'suonando', 'riga', 'secolo', 'infine', 'granaio', 'matilde', 'sempre', 'lordine', 'fila', 'lenti', 'macellaio', 'equiripartita', 'cornetta', 'approssimazione', 'ruotandole', 'ninfea', 'potr', 'inizio', 'utto', 'piscina', 'occhiali', 'sbarriamo', 'piazziamo', 'tranne', 'sapere', 'mediante', 'divide', 'riproduzione', 'unepidemia', 'esimo', 'rivoltati', 'w', 'amelia', 'allineati', 'richiede', 'pianta', 'lesagono', 'simmetrici', 'confrontano', 'proprio', 'cancellando', 'dicono', 'adeguatamente', 'continuo', 'resistenza', 'semivuoto', 'continuare', 'media', 'diminuendo', 'rotta', 'so', 'orizzontale', 'lautista', 'stesse', 'sue', 'indicati', 'finire', 'passando', 'simili', 'griglie', 'esagoni', 'lunge', 'foratura', 'quanti', 'trovate', 'giornodel', 'cd', 'esatti', 'impiega', 'quartiere', 'spadaccini', 'della', 'molti', 'giocano', 'inventato', 'pesce', 'ricoprono', 'm', 'ha', 'biglietto', 'centesimi', 'elimina', 'chilometro', 'piccolo', 'tuttavia', 'mette', 'mat', 'creiamo', 'scelte', 'strana', 'servita', 'dalo', 'situazioni', 'bergamo', 'continuano', 'coppia', 'distributori', 'metodo', 'risistema', 'candela', 'distribuisce', 'mila', 'prirno', 'uno', 'kg', 'prendere', 'linsieme', 'b', 'maria', 'vrniciare', 'millenniocompletate', 'tentati', 'spostati', 'poligonali', 'morire', 'contato', 'amico', 'fragole', 'certo', 'bianchi', 'saverio', 'simbolo', 'tuie', 'riprndotta', 'alveare', 'istante', 'ero', 'ritagliare', 'rivolto', 'amerigo', 'vacanza', 'vendendola', 'nina', 'scudo', 'pensa', 'siamesi', 'min', 'mele', 'assemblato', 'contrassegnato', 'esposto', 'unarea', 'pile', 'verso', 'illuminata', 'ritrovate', 'prendo', 'banda', 'territoriali', 'preciso', 'negativa', 'capovolti', 'intomo', 'volo', 'tetraedro', 'verificata', 'macchinine', 'proboscide', 'guidare', 'celebre', 'mi', 'restanti', 'pallone', 'crescere', 'proprieta', 'supponi', 'scriversi', 'piantina', 'seguono', 'fetta', 'doverne', 'une', 'figurasenza', 'diate', 'arrotondate', 'deciso', 'combattuto', 'duello', 'ognuno', 'fai', 'guadagnato', 'esatte', 'allestrema', 'competizione', 'immaginate', 'cleo', 'batteristi', 'insieme', 'rotola', 'mathland', 'brani', 'inoltre', 'xx', 'magari', 'disegna', 'stampi', 'ragioni', 'porzione', 'avuto', 'fine', 'ao', 'ieri', 'solita', 'facendoli', 'sinistro', 'divida', 'arriver', 'sistemato', 'cellette', 'pesa', 'lispettore', 'trasparenti', 'informazioni', 'cura', 'compresi', 'mancia', 'madre', 'raggiungendo', 'impiegandoli', 'nellundicesima', 'appello', 'caramella', 'avremo', 'gestore', 'di', 'usati', 'funzionamento', 'dix', 'stringe', 'abbandonato', 'sovrapposto', 'dellacquario', 'tratteggiate', 'puntata', 'aaa', 'nessuna', 'nautiche', 'passo', 'casi', 'bisestili', 'eta', 'ricordato', 'ciascuno', 'lha', 'aree', 'abitudine', 'parta', 'forme', 'aiutatelo', 'improvviso', 'disgrazia', 'corrispondenti', 'laereo', 'contaminate', 'piatta', 'scolari', 'squadra', 'secondi', 'farle', 'fruttivendolo', 'retti', 'automatico', 'scambi', 'caso', 'ricostituire', 'approssimare', 'diligente', 'quarti', 'eliminate', 'mate', 'tanto', 'pentamini', 'lampadine', 'marziana', 'dario', 'necessari', 'tenga', 'intersezione', 'pagine', 'mangiare', 'gru', 'numerata', 'francia', 'chiusa', 'quadrupla', 'unitari', 'dati', 'seguente', 'sollecitarlo', 'sappiamo', 'paire', 'triplo', 'xy', 'ribalta', 'nuovifiammiferi', 'mettendole', 'avaro', 'imbianchino', 'davanti', 'cadere', 'diminuisce', 'cambia', 'darrivo', 'completa', 'utilizzandoli', 'prenda', 'film', 'necessarial', 'dischi', 'colorando', 'darci', 'dagli', 'polimeni', 'rispose', 'batteria', 'elefanti', 'elenco', 'stessi', 'regolari', 'togliere', 'letto', 'salomone', 'ad', 'decimetri', 'riempiendoli', 'contenesse', 'recano', 'modo', 'disegnatene', 'doppio', 'francesco', 'inserisci', 'otterr', 'salumiere', 'laiuto', 'ricreazione', 'divisibile', 'eo', 'valgono', 'leri', 'lanciare', 'divertirsi', 'lampone', 'ripetizioni', 'schema', 'regolare', 'cucina', 'perimetri', 'meta', 'attraversate', 'tessera', 'possiamo', 'notevole', 'abbiamo', 'modulo', 'distribuito', 'intaccato', 'sesta', 'nota', 'corridori', 'ripetete', 'bravo', 'preso', 'dovra', 'dovesse', 'superficie', 'scende', 'facciata', 'scrive', 'buco', 'boa', 'salice', 'cristoforo', 'piastrelle', 'utilizzando', 'posti', 'pesto', 'mangiano', 'padre', 'matto', 'ottengo', 'ch', 'entrata', 'batte', 'segni', 'ricevo', 'zona', 'molto', 'tripla', 'verniciate', 'attivare', 'saranno', 'millepiedi', 'avendo', 'nelfoglio', 'consecutive', 'prisma', 'antipatica', 'lintruso', 'immediatamente', 'ottenendone', 'tetramino', 'intanto', 'infestato', 'dicendo', 'successivo', 'facce', 'vuoto', 'tirreno', 'riuscire', 'ritmo', 'quella', 'sicuro', 'lavagna', 'scacchiera', 'puoi', 'basso', 'indizio', 'bocche', 'perch', 'allarcipelago', 'niente', 'deposito', 'prezioso', 'riprodotto', 'ma', 'frontiera', 'dado', 'supericie', 'scatola', 'fratelli', 'deposita', 'eseguire', 'bilancia', 'girata', 'mazzetto', 'aggiungi', 'tasca', 'ripetute', 'rovescia', 'strati', 'nuova', 'ducati', 'disponile', 'lanciando', 'settimana', 'incollando', 'scorso', 'situazione', 'galattica', 'cammelli', 'giugno', 'isola', 'strasburgo', 'premi', 'risponde', 'deitre', 'potete', 'scacchi', 'mangiati', 'palazzo', 'ii', 'irma', 'importanza', 'orologi', 'usano', 'cubiche', 'viste', 'curioso', 'ruotati', 'affilato', 'andare', 'togli', 'castiglione', 'durante', 'compiere', 'lavandino', 'comporta', 'corona', 'spostandosi', 'pirata', 'let', 'categorie', 'vela', 'regalare', 'cicd', 'nelladdizione', 'potra', 'occupata', 'adiacenti', 'trattino', 'arrotondato', 'piedistallo', 'cl', 'separazione', 'separate', 'nero', 'avere', 'dieci', 'arrivo', 'totale', 'posati', 'hij', 'tagliano', 'dallaltro', 'gioca', 'museo', 'anzich', 'giusta', 'tangolo', 'prodotti', 'incastra', 'incollino', 'ludovico', 'spiega', 'bc', 'incaricato', 'finito', 'diciassettesimo', 'multiplo', 'dellistante', 'peso', 'accesa', 'creare', 'cancellato', 'scivolare', 'pettorali', 'fratello', 'sia', 'segnala', 'rispondereste', 'fabiola', 'nipotino', 'orecchie', 'joutes', 'autista', 'sbarrato', 'posizionare', 'viaggio', 'musicista', 'completate', 'allanno', 'nato', 'percorrera', 'quadratini', 'fosse', 'piero', 'termine', 'espressa', 'centri', 'tronco', 'colorata', 'infilate', 'darte', 'eserciti', 'thomas', 'centimetro', 'levare', 'verniciare', 'contenente', 'millimetri', 'illustrate', 'sveglia', 'si', 'talpy', 'diminuito', 'ricorda', 'concesso', 'regola', 'anni', 'diverse', 'appartamento', 'completato', 'x', 'contenitori', 'ulisse', 'affettarlo', 'fortuna', 'figuraformano', 'verde', 'bongos', 'spazi', 'parla', 'ballato', 'medesima', 'non', 'moltiplicandolo', 'aventi', 'patate', 'tenere', 'agganciarla', 'dinsonnia', 'rettilinei', 'soddisfi', 'cinematografica', 'monete', 'tradizione', 'perimetro', 'dellultima', 'incredibilmente', 'maurizio', 'caff', 'multipli', 'futuro', 'semplici', 'cammina', 'guido', 'acquista', 'dividono', 'mezzo', 'resta', 'girare', 'appassionatamente', 'sig', 'ospitare', 'complesso', 'romeo', 'circondati', 'data', 'j', 'fotografa', 'colonna', 'quarantesima', 'appare', 'protezioni', 'schenno', 'restoin', 'elia', 'intermedi', 'trovera', 'mathcity', 'numcri', 'ribaltamenti', 'consideri', 'lecoq', 'mamma', 'modi', 'luca', 'dodici', 'pali', 'gocciola', 'rimangono', 'bambini', 'po', 'contamina', 'incollate', 'rotonda', 'pallina', 'aggiungere', 'risposto', 'miglia', 'cerchiati', 'lei', 'buona', 'corretta', 'attimo', 'melancholia', 'scarto', 'nautico', 'vento', 'giorni', 'al', 'promesso', 'danno', 'cannucce', 'considera', 'per', 'sarto', 'toccarsi', 'impiegando', 'sezione', 'unire', 'leva', 'decorati', 'rivoltare', 'orientato', 'mobili', 'ultime', 'partecipare', 'parallelo', 'continuando', 'lati', 'precedenti', 'unendo', 'castello', 'rimanga', 'strisce', 'otto', 'grigiobiancogrigiobiancogrigio', 'rinfusa', 'vietato', 'allesportazione', 'attraverso', 'scudi', 'migliaia', 'inseriti', 'turno', 'pap', 'addizionati', 'lavorasse', 'percentuale', 'comprende', 'grandezza', 'legge', 'dallaltra', 'divisibili', 'obbliga', 'gonfiabile', 'corde', 'lnoltre', 'ovvero', 'ingente', 'perdente', 'sorte', 'viene', 'verranno', 'acquario', 'partecipato', 'escluse', 'pareti', 'presenti', 'luclcy', 'amiche', 'rimontando', 'abitanti', 'rimarr', 'amica', 'apporre', 'posteriore', 'motorino', 'collocate', 'lungo', 'diametro', 'maggiori', 'dunque', 'ripeter', 'giocatore', 'pino', 'miei', 'bianche', 'intenzionato', 'piazzare', 'ugualmente', 'segnalato', 'gelose', 'controtorpedinieri', 'configurazione', 'scritti', 'adiacente', 'sbagliate', 'rappresentazione', 'dirvi', 'trattini', 'coincidenze', 'giunta', 'interessante', 'vedono', 'eccezione', 'relativo', 'riportato', 'produce', 'diretta', 'lortografia', 'decrescente', 'medicina', 'contate', 'sistente', 'bqbc', 'avversari', 'intorno', 'ora', 'naturali', 'semiperimetro', 'ammette', 'soddisfano', 'se', 'beva', 'via', 'va', 'alex', 'bandiera', 'impicga', 'studiando', 'dellinsieme', 'risolti', 'sicurezza', 'gallerie', 'marine', 'fino', 'cubetti', 'preferito', 'vuoti', 'preferiti', 'alain', 'salto', 'allinterno', 'retta', 'saltarne', 'buon', 'rimasti', 'bis', 'pizza', 'oppwe', 'spegnersi', 'forma', 'allineamento', 'mie', 'hm', 'dover', 'tocchi', 'italiano', 'dallultimo', 'diviso', 'effettuate', 'operare', 'matematica', 'positivo', 'ufficiale', 'delladdizione', 'stancatevi', 'stampato', 'quelli', 'giardino', 'errore', 'sembra', 'collegamento', 'numerati', 'punteggio', 'ottavio', 'contenute', 'spazio', 'con', 'perfettamente', 'sarebbero', 'valore', 'incifre', 'freccetta', 'ineshanno', 'comitato', 'situate', 'grigio', 'regine', 'generale', 'sollevata', 'precisa', 'pila', 'punteggiate', 'cifra', 'potuto', 'impiegherebbero', 'successiva', 'verticalmente', 'mattoncino', 'capisco', 'precede', 'colorare', 'abbandonare', 'dalle', 'thal', 'rende', 'centesimo', 'trascurabile', 'zero', 'conoscere', 'tracciati', 'spremilimoni', 'codice', 'traiettoria', 'vincitori', 'rimasto', 'compongononota', 'fra', 'questordine', 'utilizzato', 'fisso', 'bordi', 'tagliamo', 'natalina', 'composto', 'parti', 'ricopiando', 'mathlandia', 'trovarle', 'dallentrata', 'conoscono', 'restano', 'aumentata', 'fase', 'opi', 'federica', 'cioccolatini', 'caprette', 'calcolo', 'pedine', 'riordinarle', 'posizione', 'frase', 'dentata', 'nelloperazione', 'riportati', 'detta', 'ore', 'parentesi', 'mattias', 'voi', 'cubica', 'seconde', 'perde', 'malata', 'colorer', 'operati', 'squilla', 'carte', 'renda', 'nadia', 'collocare', 'susseguono', 'pezzi', 'iniziare', 'allasilo', 'svolta', 'piantato', 'gabriella', 'saltata', 'spessore', 'vacanzajacob', 'un', 'ordinata', 'cateti', 'rispettare', 'medici', 'lorigine', 'mondo', 'stessa', 'mattino', 'recante', 'terrestre', 'questattrezzo', 'spento', 'determinare', 'passanti', 'questo', 'salire', 'bella', 'untriangolo', 'vetrata', 'pronto', 'luce', 'impiegato', 'usando', 's', 'accende', 'd', 'sommit', 'dista', 'frazioni', 'lattraversano', 'franchi', 'tavola', 'jb', 'nodo', 'stavano', 'nessunaltra', 'illimitato', 'cedro', 'nuove', 'laltezza', 'progressioni', 'termate', 'vinto', 'compleanno', 'risulta', 'sistemare', 'oggetti', 'compagni', 'sovrapposizione', 'scooter', 'otterrete', 'quattordici', 'cg', 'primi', 'etichetta', 'guidoquanti', 'presentati', 'scura', 'sicura', 'incrocio', 'interni', 'marito', 'aggiunge', 'allenano', 'michele', 'capito', 'alessio', 'muoverti', 'ritrovarli', 'ingannare', 'lintero', 'germoglio', 'circolano', 'file', 'auto', 'butta', 'pesante', 'occupate', 'mathtown', 'apollonia', 'libano', 'nasconde', 'scomposto', 'sistematicamente', 'passare', 'riposto', 'sovrappongono', 'benissimo', 'modernizzazione', 'dalton', 'autoscontro', 'riesce', 'ununit', 'dallarea', 'risposta', 'abituato', 'spiro', 'spettivamente', 'traversata', 'ricorrenza', 'problema', 'altra', 'numerate', 'dia', 'permettono', 'diagonali', 'altrc', 'archi', 'partira', 'dellimbarcazione', 'plastico', 'dromedari', 'separa', 'arrivato', 'area', 'verificano', 'cima', 'capra', 'asot', 'dellet', 'tante', 'spinelli', 'anniversario', 'poiche', 'euro', 'sopporta', 'osserva', 'nei', 'netto', 'nicola', 'convergono', 'capace', 'calcola', 'fissata', 'seguite', 'contrario', 'dm', 'finale', 'cammino', 'sugli', 'arianna', 'lufficio', 'lunghe', 'supponga', 'formino', 'ciliegio', 'durare', 'progressione', 'minor', 'intervallo', 'avesse', 'rivoltato', 'sabato', 'passa', 'orientane', 'riportare', 'met', 'gioco', 'ripassa', 'posizioni', 'terreno', 'avvicinando', 'contro', 'operazione', 'diversa', 'grano', 'partono', 'incontreranno', 'tanti', 'metteresti', 'ia', 'pagarlo', 'postazione', 'affermativo', 'livelli', 'trapezio', 'pulce', 'complementati', 'afferma', 'dispongo', 'quatro', 'laterale', 'subito', 'esplorarlo', 'contra', 'raggiuito', 'sette', 'essere', 'pacchetto', 'nere', 'rispettivi', 'paga', 'costante', 'regina', 'biancaneve', 'massima', 'mangia', 'cisterna', 'mezza', 'congiungere', 'capovolgendolo', 'impilate', 'colorato', 'no', 'tutte', 'presente', 'pentagono', 'n', 'acquistato', 'mm', 'soffre', 'usuale', 'ventesimi', 'centrale', 'nulli', 'alcun', 'compone', 'numeri', 'funzionante', 'alberto', 'vedette', 'autostradale', 'sullaltra', 'fiero', 'mirko', 'anchessi', 'corridoio', 'indietro', 'unaltezza', 'chela', 'blocchi', 'metterle', 'successo', 'unimmagine', 'differiscono', 'armate', 'pannello', 'terzo', 'ribaltati', 'interseca', 'loperazione', 'recentemente', 'segnati', 'allora', 'verniciato', 'ffjm', 'aggiungendo', 'lettere', 'eredit', 'wl', 'diciotto', 'lavare', 'parallelamente', 'tener', 'copre', 'attraversare', 'fratellini', 'realizzato', 'famoso', 'gemelli', 'cubetto', 'stradale', 'sente', 'poltrona', 'diluisce', 'individui', 'forza', 'visitare', 'meglio', 'sibilline', 'nelladdizionarlo', 'patrizia', 'contagio', 'cesarin', 'composta', 'utilizzata', 'numerologo', 'classificatesi', 'aggiungono', 'ae', 'u', 'quel', 'g', 'tolgono', 'misura', 'unici', 'pedina', 'simultaneamente', 'phil', 'paolo', 'giochi', 'legno', 'opero', 'trovava', 'stanno', 'furtivo', 'pagina', 'metallica', 'sapendo', 'misurato', 'contenere', 'munita', 'poliedro', 'crede', 'prologo', 'allintersezione', 'adesso', 'definitiva', 'intestazione', 'magnifiche', 'delimitano', 'sovrapporre', 'pi', 'effetti', 'frontale', 'rimanere', 'assedio', 'orientazione', 'costretto', 'occupino', 'limone', 'piani', 'mente', 'rivolta', 'nellinserire', 'centro', 'disegnandolo', 'estetico', 'daccordo', 'successione', 'utilizzare', 'decametro', 'punta', 'verticali', 'fissato', 'corre', 'coprirlo', 'figure', 'mese', 'distinto', 'nera', 'scatole', 'nipoti', 'restare', 'triangolo', 'pini', 'torna', 'iniziato', 'qualcuna', 'puntitracciate', 'riconoscibili', 'esatto', 'sistemano', 'utilizzarli', 'registrare', 'megadirigente', 'f', 'cerchietto', 'diletta', 'parcheggia', 'aritmetica', 'syldaviana', 'minuti', 'stelle', 'necessario', 'sistema', 'prevedere', 'p', 'agenda', 'fotocopiato', 'iniziano', 'mettendone', 'ama', 'rispecchia', 'figlioper', 'disegno', 'cesario', 'dellesempio', 'scriviamo', 'ghiottoneria', 'abbastanza', 'poi', 'piatto', 'mantenga', 'pioli', 'funzionano', 'taglio', 'augustus', 'de', 'avevano', 'timbrano', 'taglia', 'cambiamenti', 'ruotano', 'ottenete', 'qualcuno', 'quadrettato', 'stazione', 'piana', 'minuto', 'importanti', 'devo', 'procedere', 'sistemata', 'rninore', 'festeggera', 'carta', 'allistante', 'famiglia', 'aritmetiche', 'escludano', 'gettare', 'tutti', 'decimi', 'ossia', 'voglia', 'parole', 'imbiancare', 'seguito', 'vivono', 'ricordando', 'coinquilini', 'spille', 'sola', 'regata', 'ettometri', 'realizza', 'presentano', 'pettorale', 'palloni', 'quaderno', 'rimanente', 'pozzi', 'segnale', 'raggiunto', 'allestremit', 'hotel', 'esagono', 'interi', 'tratteggiato', 'attraversato', 'rivestirla', 'buca', 'sovrapporsi', 'percorsi', 'allineate', 'dirigendosi', 'gusto', 'retto', 'hquesto', 'presto', 'vede', 'comincia', 'frugolo', 'congiungendo', 'uguali', 'poggia', 'percorso', 'razionali', 'trina', 'dico', 'comune', 'semisfere', 'etichette', 'collegata', 'collegano', 'malati', 'cui', 'come', 'ricostruire', 'abbia', 'gelato', 'tagli', 'naturale', 'q', 'comprarlail', 'palme', 'circuito', 'allo', 'cliccare', 'permette', 'latte', 'automatici', 'regalato', 'possono', 'palindroma', 'fanno', 'perpendicolari', 'bagnino', 'degl', 'avra', 'decimetro', 'trainante', 'salti', 'raccolto', 'sovrapporle', 'consjderarli', 'risultanomolto', 'rombo', 'posarli', 'mela', 'sostituiscono', 'archie', 'allangolo', 'prendendo', 'preferita', 'cancellano', 'figli', 'ob', 'discendendo', 'gia', 'possano', 'sorge', 'pecore', 'lampada', 'galleria', 'luned', 'schiera', 'ununica', 'city', 'risolto', 'protetti', 'accorge', 'indicare', 'ritorno', 'agli', 'oltre', 'semamani', 'bassa', 'videoregistratore', 'km', 'regalo', 'sorelle', 'facendo', 'diciassette', 'gennaio', 'momento', 'gf', 'uova', 'sei', 'e', 'leggete', 'detestando', 'dischetti', 'accorto', 'ella', 'andando', 'piegare', 'maglie', 'laura', 'cominciata', 'occuper', 'potreste', 'ca', 'sorella', 'ispirano', 'griglia', 'vettura', 'crociate', 'me', 'pronunciato', 'porte', 'dove', 'medesimo', 'spessori', 'sovrapponibile', 'evidenza', 'raffigurata', 'toutanmathon', 'nani', 'pelare', 'apparire', 'visibili', 'vedi', 'posto', 'mattia', 'considerati', 'jerba', 'taleche', 'bianco', 'rosi', 'mezzanotte', 'bipiramide', 'dodicesima', 'pone', 'appoggiarsi', 'salta', 'vi', 'retro', 'crocetesta', 'concorrenti', 'tacche', 'fate', 'diversi', 'unopera', 'blu', 'seguendo', 'quanto', 'camere', 'internazionali', 'leccezione', 'controllato', 'saprete', 'ed', 'mani', 'corda', 'disponendo', 'fermi', 'massiccia', 'destro', 'dose', 'libera', 'fig', 'abcd', 'moltiplicate', 'nascosti', 'approssimi', 'copie', 'tetramini', 'aumentato', 'prestare', 'anche', 'recinto', 'creata', 'comprese', 'previsto', 'cancellare', 'grigi', 'stagno', 'immaginario', 'messa', 'resteranno', 'potrebbe', 'copia', 'attratta', 'irriducibili', 'ltalia', 'voltae', 'trasmissione', 'lunica', 'freccette', 'ingerito', 'musicale', 'fuoco', 'partecipano', 'soltanto', 'aperture', 'rami', 'riempie', 'togliersi', 'neri', 'deve', 'avente', 'dozzina', 'conservando', 'premere', 'trcno', 'cdbc', 'cedri', 'quadrato', 'allultimo', 'caratteristiche', 'sostituendoli', 'corrispona', 'siamo', 'cifredisposte', 'contengano', 'colpidi', 'sincronizzati', 'serie', 'langolo', 'hc', 'vertici', 'navicella', 'completo', 'scivere', 'denaro', 'registrata', 'oa', 'superstiti', 'dellasterisco', 'passano', 'certa', 'inserito', 'arrotondati', 'annerite', 'ricominciamo', 'bravissimi', 'scrivendone', 'nascosto', 'fabbricare', 'inglese', 'ritrovo', 'bruno', 'figura', 'malik', 'poco', 'formate', 'questi', 'dellarrivo', 'invertito', 'metteranno', 'estemo', 'piegato', 'sottofondo', 'dolci', 'stanze', 'gli', 'bianchina', 'maggie', 'piolo', 'quellorologio', 'assemblati', 'suppone', 'disporne', 'domino', 'distanti', 'contano', 'resti', 'chiesto', 'persi', 'arance', 'sa', 'copertina', 'partenza', 'unite', 'morti', 'giocate', 'bagni', 'unautostrada', 'svegliato', 'gialli', 'mattoni', 'segare', 'dc', 'arrivava', 'marco', 'professore', 'alla', 'sbagliati', 'linea', 'rappresentano', 'premio', 'altrimenti', 'quarantuno', 'scivola', 'moltiplicato', 'pessima', 'lutilit', 'martino', 'sulla', 'ciascun', 'riproduce', 'tipi', 'contaminare', 'consumata', 'contenerle', 'barriere', 'lincasso', 'contati', 'veronica', 'reca', 'includa', 'scelti', 'impostato', 'chiamate', 'leggono', 'appropriato', 'annullano', 'cosa', 'nostri', 'quotidiano', 'esterne', 'mostro', 'intervenuta', 'giro', 'incrociarsi', 'ponete', 'possibile', 'ottenerne', 'stella', 'cerca', 'ungo', 'offra', 'luomo', 'geraldina', 'lima', 'tredici', 'indipendentemente', 'cba', 'minoresia', 'crepa', 'zampe', 'vera', 'orario', 'libri', 'essi', 'combina', 'aiutino', 'settore', 'aumenta', 'rimasta', 'dacqua', 'amaro', 'ottenute', 'fa', 'guadagna', 'chiede', 'borsellino', 'infatti', 'recanti', 'utilizzate', 'soddisfatta', 'possieda', 'ridistende', 'serata', 'tracciata', 'previste', 'comprarlo', 'visibile', 'discreti', 'huit', 'doveste', 'giffoni', 'sullisola', 'quattro', 'fiore', 'marzo', 'cristallo', 'vada', 'servono', 'arrivati', 'chiuderlo', 'incrociatidevono', 'direzione', 'dellennagono', 'applicata', 'utilizzano', 'mentale', 'procede', 'pulizia', 'misurano', 'nona', 'tavolo', 'germogli', 'specchi', 'ricominciate', 'fonnando', 'ospita', 'rimaste', 'soddisfare', 'matteo', 'sera', 'lo', 'insiemi', 'campestre', 'incollati', 'brevi', 'rispondete', 'darancia', 'diario', 'impila', 'rispetto', 'scuola', 'nono', 'famosa', 'scorrevole', 'ciascuna', 'scelta', 'coprire', 'pescaia', 'rompicapo', 'fissa', 'v', 'direzioni', 'scendono', 'venti', 'guardate', 'allineamenti', 'serio', 'simboli', 'consecutivi', 'lanciato', 'sindaco', 'mio', 'doro', 'festeggiare', 'essersi', 'riempiamola', 'reggere', 'elemento', 'raggiunger', 'chiss', 'traghetto', 'originali', 'maglietta', 'ji', 'annerire', 'rappresentati', 'quindi', 'musicali', 'relativi', 'stando', 'percorre', 'inseritaattenzione', 'incontro', 'eventuali', 'velocit', 'dalla', 'corridoi', 'togliendo', 'costruisce', 'giomo', 'mouete', 'figlia', 'opera', 'punte', 'omatt', 'verit', 'pwzona', 'moltiplicazione', 'sostituite', 'voltare', 'tamburo', 'cambiando', 'renato', 'disegnate', 'partizione', 'inizieranno', 'pcrlettamente', 'adulti', 'alta', 'dividerla', 'chiusi', 'k', 'larghezze', 'soddisfa', 'paziente', 'colorasse', 'ho', 'macchina', 'dam', 'voglio', 'lorologio', 'inserite', 'scrivono', 'esterno', 'composti', 'prossimi', 'monfort', 'indicheremo', 'immaginari', 'parallelepipedo', 'ordinato', 'continuate', 'prati', 'diventano', 'dedicata', 'ben', 'arrivate', 'sviluppo', 'segno', 'dire', 'lorn', 'scrivere', 'fortunatamente', 'tracciato', 'dividi', 'possibili', 'risultare', 'rapporti', 'rettangolari', 'avanzare', 'pomeriggio', 'triangolare', 'scegliete', 'studio', 'quasi', 'ripetono', 'stata', 'addizionando', 'cheogni', 'toccare', 'raggi', 'torroncino', 'davide', 'rubinetto', 'cavallo', 'servirle', 'luno', 'gallarate', 'lavversario', 'anagramma', 'posta', 'circolare', 'alfabetico', 'aiutare', 'aprire', 'donato', 'lento', 'macchiato', 'enrico', 'scala', 'marcate', 'maggior', 'la', 'stradain', 'ulivi', 'pieno', 'rotolare', 'rimbalzare', 'testacroce', 'categoria', 'poltrone', 'questultimo', 'scambiare', 'pianiluca', 'giallo', 'suddividere', 'noi', 'pitagoris', 'scavando', 'ira', 'dimenticato', 'stare', 'avrebbe', 'disegnati', 'calcolato', 'impilano', 'sarebbe', 'dellintera', 'parto', 'punti', 'circondato', 'pinocchio', 'calcoli', 'christine', 'assenza', 'formica', 'dipinto', 'tagliati', 'selvatica', 'ritmi', 'lasciando', 'addizioni', 'intere', 'pensava', 'nata', 'sinistra', 'collocato', 'prospero', 'costruzione', 'rinforzo', 'oggi', 'ar', 'viaggia', 'smonta', 'generoso', 'nodi', 'petali', 'chiara', 'altezza', 'tetraedri', 'larea', 'scienziati', 'esegue', 'pedone', 'terra', 'segnali', 'ordinate', 'pavimento', 'complementi', 'contiene', 'proiettata', 'darle', 'fermo', 'lipotenusa', 'mancanti', 'siano', 'partiva', 'moltiplicazioni', 'ritirata', 'illuminandosi', 'contenga', 'convenzione', 'mathville', 'situati', 'sostituendolo', 'produrre', 'posso', 'inferiore', 'costruita', 'finalisti', 'attrezzo', 'traccia', 'alessandro', 'puntate', 'catena', 'diretti', 'fattore', 'somrna', 'acqua', 'poggiato', 'figlio', 'teneva', 'lavorando', 'ragazzo', 'bene', 'dordine', 'geometriche', 'approssimati', 'raccogliendo', 'pezzo', 'bisogna', 'durano', 'lingotti', 'strutture', 'chiuso', 'appoggiato', 'vittoria', 'apparir', 'necessarie', 'incontri', 'tappeto', 'osservazione', 'dellazienda', 'conto', 'statistico', 'inventare', 'disponete', 'arrivando', 'percentuali', 'spese', 'dietro', 'semestre', 'grossi', 'classico', 'allultima', 'voto', 'sistemiamoli', 'fiammifero', 'percussionisti', 'rettilineo', 'pu', 'possiate', 'esatta', 'usi', 'grigie', 'ormai', 'nomi', 'arancia', 'ritaglia', 'ac', 'emette', 'fornire', 'volte', 'fiori', 'cominciato', 'esperto', 'appoggiata', 'quante', 'incontrato', 'dotato', 'partecipanti', 'federico', 'mercoled', 'intero', 'prepara', 'imitate', 'reso', 'fronte', 'approssimato', 'anello', 'rivende', 'interessato', 'mettere', 'doppia', 'campionati', 'gradino', 'appetito', 'pc', 'paio', 'dividete', 'ultima', 'passione', 'rimorsi', 'rendere', 'lucia', 'freccia', 'imbarcazioni', 'colorazione', 'incluso', 'filo', 'ritrovano', 'trovarsi', 'basta', 'lunghezze', 'prendete', 'rcm', 'milano', 'spesso', 'prof', 'concorso', 'corsa', 'amo', 'gambi', 'lire', 'camion', 'saltare', 'dopodomani', 'includere', 'piantati', 'jih', 'avranno', 'finch', 'totalmente', 'consistenti', 'fiammiferi', 'preventivare', 'lentrata', 'clac', 'formi', 'piace', 'completamente', 'chiamata', 'pagare', 'qui', 'frazione', 'strumenti', 'avessi', 'domenica', 'nella', 'triangoo', 'elastiche', 'destinazione', 'h', 'lunghi', 'brucia', 'capitan', 'casa', 'essa', 'ritrova', 'vuol', 'tratto', 'arrivano', 'devono', 'rifiuta', 'imprimono', 'giulia', 'salterello', 'deserto', 'sudoku', 'sommando', 'intrecciati', 'talvolta', 'torte', 'tocchino', 'frecce', 'soldi', 'piane', 'impressi', 'aumentano', 'inizialmente', 'modificati', 'rispondere', 'brillante', 'tagliate', 'suddivisa', 'linizio', 'indicate', 'caraibi', 'invece', 'quale', 'gio', 'tripletta', 'sufficienti', 'servito', 'diversequal', 'ottiene', 'kurt', 'uguale', 'sostiene', 'gono', 'gesso', 'aspettare', 'opportuni', 'segmento', 'libro', 'avversario', 'dallorigine', 'lappello', 'preziosa', 'lultima', 'sacchetto', 'contrariamente', 'anatre', 'lago', 'strano', 'circa', 'attuale', 'occupa', 'golf', 'verniciata', 'segue', 'unasta', 'rispettive', 'seghe', 'questaltro', 'illustrato', 'dovreste', 'unita', 'piccoli', 'frazionari', 'dellafigura', 'bocce', 'vincono', 'collegato', 'scuro', 'icone', 'apab', 'vecchio', 'scelto', 'gi', 'trib', 'dimensione', 'nellaula', 'condomini', 'ritardo', 'importante', 've', 'lotteria', 'amici', 'riflette', 'conta', 'consiste', 'ponti', 'torneo', 'marocco', 'megaufficio', 'lavesse', 'sistemate', 'annotare', 'vuole', 'vince', 'bagno', 'chiedeva', 'stesso', 'macchine', 'scoperto', 'allesterno', 'inclusi', 'assieme', 'marchesi', 'labirinto', 'segano', 'unenorme', 'pulita', 'divisa', 'allitaliana', 'vertice', 'sommate', 'schermo', 'elsa', 'sostituita', 'quando', 'quadrate', 'suonano', 'dallalto', 'noemi', 'ruotata', 'incrociare', 'altezze', 'sacchetti', 'accorgendosi', 'spostamento', 'misurate', 'voraci', 'ultimi', 'musica', 'diamanti', 'immagini', 'beve', 'serve', 'stoffa', 'buchi', 'corrispondente', 'croce', 'laspetter', 'proiettore', 'relativa', 'dispetto', 'vecchia', 'vorrebbe', 'schemi', 'colla', 'sovrapponibili', 'allaltro', 'cancella', 'profilo', 'precedente', 'motovedette', 'direbbero', 'assalto', 'bersaglio', 'cipressi', 'superi', 'nellesempio', 'giocando', 'sesto', 'armatura', 'incontrati', 'zer', 'quarantatre', 'nove', 'cisternaottenendo', 'alternativamente', 'vacanze', 'gp', 'fatta', 'angelo', 'daformare', 'costituite', 'passate', 'tra', 'papa', 'precisamente', 'vive', 'prime', 'suolo', 'incollato', 'muovendosi', 'cerano', 'listelli', 'golosa', 'edoardo', 'consideriamo', 'irnmediatamente', 'schoooer', 'bucato', 'quadruple', 'tessuto', 'pietre', 'qua', 'anziche', 'fibonacci', 'vuota', 'toc', 'linchiostro', 'rovesciano', 'navi', 'volate', 'diventa', 'successive', 'tragitto', 'quadro', 'sui', 'ventisette', 'tiene', 'proseguendo', 'tangenti', 'scolastici', 'nascite', 'costituita', 'margine', 'trafitto', 'parcheggio', 'mezzogiorno', 'vetture', 'debora', 'ne', 'prima', 'consegna', 'sceglietene', 'porta', 'edizione', 'all', 'superato', 'opposta', 'dica', 'sufficiente', 'podio', 'piccola', 'luogo', 'scrivera', 'millimetro', 'piu', 'appoggia', 'quellanno', 'dellaria', 'dallo', 'anelli', 'villa', 'processo', 'indicato', 'bordeaux', 'daltonico', 'arco', 'gambe', 'formiamo', 'pittore', 'sulle', 'punzonate', 'decine', 'solidali', 'mancano', 'dalluna', 'bianca', 'terrestri', 'affinche', 'autoadesiva', 'ettaro', 'persistenza', 'gatto', 'sovrappongano', 'toscana', 'richiesto', 'albigesi', 'seguenti', 'dun', 'lista', 'spesi', 'nellordine', 'stasera', 'informatico', 'milena', 'equilateri', 'passati', 'cronometrica', 'unanatra', 'quoziente', 'quindici', 'sentendosi', 'ottenuti', 'chiama', 'exaequo', 'divisione', 'colpito', 'consentite', 'architetto', 'lhobby', 'violare', 'crcd', 'misuranti', 'sovrapponendoli', 'addizione', 'logica', 'toccato', 'moneta', 'incroci', 'contando', 'chiedo', 'scavato', 'intersecarsi', 'dellautobus', 'direttore', 'bar', 'yorrebbe', 'fondo', 'aumentando', 'lato', 'schiacciarla', 'addormenta', 'condizioni', 'larrivo', 'membro', 'nazionale', 'segmenti', 'guarda', 'prosegue', 'attomo', 'foto', 'virginia', 'tasse', 'nascita', 'voltate', 'bambino', 'ribaltato', 'provate', 'maratona', 'paralleli', 'ragazzi', 'appoggiati', 'cnossos', 'allentrata', 'ppena', 'risolve', 'augusto', 'disteso', 'sale', 'riconoscimento', 'pensate', 'illustra', 'speso', 'verdi', 'continente', 'iodiata', 'tommaso', 'nonhanno', 'girasole', 'perfetti', 'trover', 'salgono', 'polimeno', 'topi', 'tagliare', 'portano', 'osservazioni', 'nellangolo', 'vedete', 'densit', 'sorgere', 'infiniti', 'compresa', 'accorgersi', 'indicano', 'iniziali', 'aveva', 'metterci', 'lattivit', 'colonne', 'lavinia', 'scrivetelo', 'ventagli', 'rappresentare', 'corrisponde', 'scrittoallinterno', 'arrivare', 'muri', 'compasso', 'linquinamento', 'consideratecome', 'stra', 'ragazza', 'corridore', 'positivi', 'tonno', 'zeri', 'cald', 'scoppiare', 'mar', 'delle', 'storia', 'superstizioso', 'presenta', 'metro', 'visto', 'c', 'erano', 'ottagoni', 'anno', 'occorre', 'avviando', 'avanzato', 'lomonima', 'corte', 'venezia', 'piatte', 'particolarmente', 'soppresso', 'sonapponibili', 'rana', 'straordinario', 'riportate', 'imposta', 'locchio', 'appunto', 'mascherato', 'denominatore', 'grossa', 'mazzetti', 'punto', 'calcolatrice', 'palline', 'ecc', 'lalto', 'scrivendo', 'giovanni', 'assimilato', 'cono', 'costruzioni', 'punteggi', 'cilindro', 'queste', 'allaria', 'sottostante', 'coincide', 'pianoe', 'partinon', 'risultati', 'anchessa', 'cominciate', 'daltra', 'omath', 'allineare', 'cancellata', 'unora', 'individuate', 'dellappuntamento', 'volendo', 'ricevuto', 'consentito', 'scritte', 'vedere', 'gran', 'orizzontali', 'ruotiamo', 'biagio', 'lateralmente', 'vanno', 'unitario', 'pesci', 'gruppo', 'libere', 'scopo', 'pulci', 'calcolate', 'muovete', 'sorprendente', 'altro', 'rossa', 'dellesagono', 'angeli', 'occupato', 'fotocopie', 'perpendicolare', 'soluzioni', 'nipote', 'fu', 'moglie', 'installato', 'quinto', 'quinti', 'talpa', 'mattonella', 'eccecc', 'utilizzarla', 'utilizzer', 'automobilistico', 'reciproca', 'giuseppe', 'abitualmente', 'mettendo', 'giocatori', 'cio', 'marianna', 'numerare', 'trova', 'dare', 'formati', 'cm', 'kc', 'calcolare', 'regolarmente', 'tengono', 'pallamano', 'conserva', 'riparo', 'ottenuta', 'compie', 'utilizzati', 'scontando', 'minore', 'quantit', 'colore', 'riuscita', 'presa', 'lintervallo', 'inonete', 'oreste', 'orizzontalmente', 'contrassegnata', 'moltiplica', 'itor', 'pari', 'punteggiata', 'tappa', 'africani', 'poterle', 'interruzione', 'del', 'piano', 'libero', 'dedica', 'sua', 'figurano', 'robertino', 'ruota', 'rappresentate', 'nudleri', 'matematici', 'maths', 'nostro', 'occupare', 'mantenendo', 'dividere', 'pietro', 'resto', 'iettera', 'sbarrati', 'terminando', 'nell', 'grammiquanto', 'miniscacchiera', 'significa', 'didier', 'barche', 'soko', 'piombo', 'tricolore', 'considerando', 'miglio', 'leggere', 'bel', 'classificata', 'laser', 'megadirigenteprima', 'rettangoli', 'date', 'detto', 'impegnati', 'ventesima', 'paletta', 'segreto', 'contadino', 'corretto', 'tale', 'verifica', 'gruzzolo', 'terzultimo', 'sullo', 'risistemare', 'svolto', 'andato', 'emi', 'erica', 'fermatc', 'suddivisioni', 'calcio', 'movimenti', 'tamaran', 'unaltra', 'contino', 'mandorli', 'prese', 'alto', 'giovane', 'torta', 'cortile', 'tricubi', 'grammi', 'rientrando', 'compreso', 'rettangolare', 'gettone', 'lasciato', 'nellallineamento', 'termini', 'anteriore', 'soldatini', 'montare', 'emessi', 'corone', 'attraversa', 'muovono', 'calamite', 'colpo', 'collezione', 'listante', 'plurigemellare', 'neretto', 'rossie', 'ignoto', 'colorate', 'treni', 'semplice', 'mj', 'mossa', 'affatto', 'senza', 'figurain', 'quadretti', 'superfici', 'partite', 'abolita', 'assemblando', 'tutta', 'dandone', 'disposta', 'regaler', 'equilibrio', 'triangoli', 'incolla', 'attorno', 'espresso', 'trebon', 'ovviamente', 'zanne', 'prender', 'pensata', 'ciclista', 'orologio', 'indipendente', 'smussati', 'riempia', 'stampa', 'in', 'dello', 'samurai', 'mettono', 'breve', 'corso', 'intelligenti', 'coccinelle', 'partendo', 'gianni', 'roccia'}\n",
            "4605\n"
          ]
        }
      ]
    },
    {
      "cell_type": "markdown",
      "source": [
        "Ora vado a tokenizzare il dizionario, fornendo padding sulla massima dimensione degli esercizi"
      ],
      "metadata": {
        "id": "WVNDJ-CBZ06w"
      }
    },
    {
      "cell_type": "code",
      "source": [
        "\n",
        "tokenizer = Tokenizer(num_words=words_number, split=' ')\n",
        "#tokenizer.fit_on_texts(train_data['esercizi'].values) # <= non posso fare, avrei per stesso indice del vocab parole diverse\n",
        "tokenizer.fit_on_texts(tutti_gli_esercizi) # <= ATTENTION HERE!\n",
        "\n",
        "X_train = tokenizer.texts_to_sequences(train_data['esercizi'].values)\n",
        "X_train = pad_sequences(X_train)  # Padding to make sequences of same length\n",
        "Y_train = pd.get_dummies(train_data['etichette']).values\n",
        "\n",
        "print('train')\n",
        "print(X_train)\n",
        "print(Y_train)\n",
        "\n",
        "# same for test data\n",
        "#tokenizer.fit_on_texts(test_data['sentence'].values)\n",
        "X_test = tokenizer.texts_to_sequences(test_data['esercizi'].values)\n",
        "#X_test = pad_sequences(X_test)\n",
        "X_test = pad_sequences(X_test,185)\n",
        "Y_test = pd.get_dummies(test_data['etichette']).values\n",
        "\n",
        "X_val= tokenizer.texts_to_sequences(lista_tutti_esercizi_validation)\n",
        "X_val= pad_sequences(X_val,185)\n",
        "Y_val = pd.get_dummies(lista_labels_validation)\n",
        "\n",
        "print('test')\n",
        "print(X_test)\n",
        "print(Y_test)\n",
        "\n",
        "# dictionary -> (word: integer)\n",
        "wordindex_dict = tokenizer.word_index\n",
        "\n",
        "\n",
        "\n"
      ],
      "metadata": {
        "colab": {
          "base_uri": "https://localhost:8080/"
        },
        "id": "TJC6iaKFKX7p",
        "outputId": "8bedb58d-a06b-45db-aa4d-6d0832c3a322"
      },
      "execution_count": 17,
      "outputs": [
        {
          "output_type": "stream",
          "name": "stdout",
          "text": [
            "train\n",
            "[[   0    0    0 ...    3   48 1014]\n",
            " [   0    0    0 ...   26 2413  617]\n",
            " [   0    0    0 ...   18  233  125]\n",
            " ...\n",
            " [   0    0    0 ... 1591   19  552]\n",
            " [   0    0    0 ...   27  974  150]\n",
            " [   0    0    0 ... 3768   19 1198]]\n",
            "[[1 0 0 ... 0 0 0]\n",
            " [0 1 0 ... 0 0 0]\n",
            " [0 0 1 ... 0 0 0]\n",
            " ...\n",
            " [0 0 0 ... 1 0 0]\n",
            " [0 0 0 ... 0 1 0]\n",
            " [0 0 0 ... 0 0 1]]\n",
            "test\n",
            "[[   0    0    0 ...   78  382  277]\n",
            " [   0    0    0 ...  968    5  552]\n",
            " [   0    0    0 ... 1592   75  764]\n",
            " ...\n",
            " [   0    0    0 ...  968    5  552]\n",
            " [   0    0    0 ... 1964  496   64]\n",
            " [   0    0    0 ... 4350   51 4351]]\n",
            "[[1 0 0 ... 0 0 0]\n",
            " [0 1 0 ... 0 0 0]\n",
            " [0 0 1 ... 0 0 0]\n",
            " ...\n",
            " [0 0 0 ... 1 0 0]\n",
            " [0 0 0 ... 1 0 0]\n",
            " [0 0 0 ... 1 0 0]]\n"
          ]
        }
      ]
    },
    {
      "cell_type": "code",
      "source": [
        "\n",
        "model_gamma1 = keras.Sequential()\n",
        "model_gamma1.add(keras.layers.Embedding(vocab_size, embed_dim, input_length=X_train.shape[1]))\n",
        "model_gamma1.add(keras.layers.GlobalAveragePooling1D())\n",
        "model_gamma1.add(keras.layers.Dense(16, activation=tf.nn.relu))\n",
        "model_gamma1.add(Dense(7, activation='softmax'))\n",
        "\n",
        "model_gamma1.summary()"
      ],
      "metadata": {
        "colab": {
          "base_uri": "https://localhost:8080/"
        },
        "id": "j3rT_Ja9LJ-J",
        "outputId": "18bc1e4b-51a0-4829-a124-93836b5b62b0"
      },
      "execution_count": 19,
      "outputs": [
        {
          "output_type": "stream",
          "name": "stdout",
          "text": [
            "Model: \"sequential\"\n",
            "_________________________________________________________________\n",
            " Layer (type)                Output Shape              Param #   \n",
            "=================================================================\n",
            " embedding (Embedding)       (None, 185, 100)          460500    \n",
            "                                                                 \n",
            " global_average_pooling1d (G  (None, 100)              0         \n",
            " lobalAveragePooling1D)                                          \n",
            "                                                                 \n",
            " dense (Dense)               (None, 16)                1616      \n",
            "                                                                 \n",
            " dense_1 (Dense)             (None, 7)                 119       \n",
            "                                                                 \n",
            "=================================================================\n",
            "Total params: 462,235\n",
            "Trainable params: 462,235\n",
            "Non-trainable params: 0\n",
            "_________________________________________________________________\n"
          ]
        }
      ]
    },
    {
      "cell_type": "code",
      "source": [
        "model_gamma1.compile(optimizer='adam',\n",
        "              loss='categorical_crossentropy',\n",
        "              metrics=['accuracy'])"
      ],
      "metadata": {
        "id": "z1RHFh9sLWVF"
      },
      "execution_count": 20,
      "outputs": []
    },
    {
      "cell_type": "code",
      "source": [
        "history = model_gamma1.fit(X_train,\n",
        "                    Y_train,\n",
        "                    epochs=69,\n",
        "                    batch_size=50,\n",
        "                    validation_data=(X_val, Y_val),\n",
        "                    verbose=1)"
      ],
      "metadata": {
        "colab": {
          "base_uri": "https://localhost:8080/"
        },
        "id": "FY3okkJ6LZD2",
        "outputId": "60e41710-2bc5-40dd-f939-59a260b5f849"
      },
      "execution_count": 21,
      "outputs": [
        {
          "output_type": "stream",
          "name": "stdout",
          "text": [
            "Epoch 1/69\n",
            "10/10 [==============================] - 2s 136ms/step - loss: 1.9476 - accuracy: 0.1449 - val_loss: 1.9448 - val_accuracy: 0.1571\n",
            "Epoch 2/69\n",
            "10/10 [==============================] - 0s 25ms/step - loss: 1.9420 - accuracy: 0.1884 - val_loss: 1.9424 - val_accuracy: 0.1571\n",
            "Epoch 3/69\n",
            "10/10 [==============================] - 0s 21ms/step - loss: 1.9381 - accuracy: 0.1925 - val_loss: 1.9401 - val_accuracy: 0.1429\n",
            "Epoch 4/69\n",
            "10/10 [==============================] - 0s 20ms/step - loss: 1.9330 - accuracy: 0.2319 - val_loss: 1.9372 - val_accuracy: 0.1857\n",
            "Epoch 5/69\n",
            "10/10 [==============================] - 0s 17ms/step - loss: 1.9273 - accuracy: 0.3313 - val_loss: 1.9337 - val_accuracy: 0.2857\n",
            "Epoch 6/69\n",
            "10/10 [==============================] - 1s 107ms/step - loss: 1.9200 - accuracy: 0.3851 - val_loss: 1.9291 - val_accuracy: 0.2714\n",
            "Epoch 7/69\n",
            "10/10 [==============================] - 0s 34ms/step - loss: 1.9116 - accuracy: 0.4099 - val_loss: 1.9240 - val_accuracy: 0.2714\n",
            "Epoch 8/69\n",
            "10/10 [==============================] - 0s 17ms/step - loss: 1.9004 - accuracy: 0.4161 - val_loss: 1.9171 - val_accuracy: 0.3429\n",
            "Epoch 9/69\n",
            "10/10 [==============================] - 0s 16ms/step - loss: 1.8868 - accuracy: 0.4886 - val_loss: 1.9083 - val_accuracy: 0.3857\n",
            "Epoch 10/69\n",
            "10/10 [==============================] - 0s 18ms/step - loss: 1.8692 - accuracy: 0.5694 - val_loss: 1.8966 - val_accuracy: 0.4000\n",
            "Epoch 11/69\n",
            "10/10 [==============================] - 0s 43ms/step - loss: 1.8504 - accuracy: 0.5756 - val_loss: 1.8834 - val_accuracy: 0.4000\n",
            "Epoch 12/69\n",
            "10/10 [==============================] - 0s 15ms/step - loss: 1.8246 - accuracy: 0.6149 - val_loss: 1.8691 - val_accuracy: 0.5000\n",
            "Epoch 13/69\n",
            "10/10 [==============================] - 0s 18ms/step - loss: 1.7963 - accuracy: 0.5963 - val_loss: 1.8502 - val_accuracy: 0.4857\n",
            "Epoch 14/69\n",
            "10/10 [==============================] - 0s 15ms/step - loss: 1.7656 - accuracy: 0.6294 - val_loss: 1.8295 - val_accuracy: 0.5286\n",
            "Epoch 15/69\n",
            "10/10 [==============================] - 0s 16ms/step - loss: 1.7275 - accuracy: 0.6315 - val_loss: 1.8067 - val_accuracy: 0.5143\n",
            "Epoch 16/69\n",
            "10/10 [==============================] - 0s 15ms/step - loss: 1.6891 - accuracy: 0.6211 - val_loss: 1.7825 - val_accuracy: 0.5000\n",
            "Epoch 17/69\n",
            "10/10 [==============================] - 0s 31ms/step - loss: 1.6484 - accuracy: 0.6356 - val_loss: 1.7585 - val_accuracy: 0.5143\n",
            "Epoch 18/69\n",
            "10/10 [==============================] - 0s 15ms/step - loss: 1.6012 - accuracy: 0.6605 - val_loss: 1.7252 - val_accuracy: 0.5000\n",
            "Epoch 19/69\n",
            "10/10 [==============================] - 0s 17ms/step - loss: 1.5521 - accuracy: 0.6190 - val_loss: 1.6993 - val_accuracy: 0.4857\n",
            "Epoch 20/69\n",
            "10/10 [==============================] - 0s 15ms/step - loss: 1.4998 - accuracy: 0.6335 - val_loss: 1.6632 - val_accuracy: 0.4857\n",
            "Epoch 21/69\n",
            "10/10 [==============================] - 0s 14ms/step - loss: 1.4468 - accuracy: 0.6563 - val_loss: 1.6314 - val_accuracy: 0.5143\n",
            "Epoch 22/69\n",
            "10/10 [==============================] - 0s 29ms/step - loss: 1.3924 - accuracy: 0.6791 - val_loss: 1.5980 - val_accuracy: 0.5286\n",
            "Epoch 23/69\n",
            "10/10 [==============================] - 1s 91ms/step - loss: 1.3385 - accuracy: 0.6770 - val_loss: 1.5656 - val_accuracy: 0.5286\n",
            "Epoch 24/69\n",
            "10/10 [==============================] - 0s 14ms/step - loss: 1.2852 - accuracy: 0.6936 - val_loss: 1.5313 - val_accuracy: 0.5571\n",
            "Epoch 25/69\n",
            "10/10 [==============================] - 0s 15ms/step - loss: 1.2323 - accuracy: 0.7619 - val_loss: 1.5016 - val_accuracy: 0.6000\n",
            "Epoch 26/69\n",
            "10/10 [==============================] - 0s 16ms/step - loss: 1.1801 - accuracy: 0.7640 - val_loss: 1.4695 - val_accuracy: 0.5857\n",
            "Epoch 27/69\n",
            "10/10 [==============================] - 0s 16ms/step - loss: 1.1293 - accuracy: 0.7867 - val_loss: 1.4380 - val_accuracy: 0.6143\n",
            "Epoch 28/69\n",
            "10/10 [==============================] - 0s 17ms/step - loss: 1.0801 - accuracy: 0.8137 - val_loss: 1.4100 - val_accuracy: 0.6857\n",
            "Epoch 29/69\n",
            "10/10 [==============================] - 0s 14ms/step - loss: 1.0334 - accuracy: 0.8571 - val_loss: 1.3810 - val_accuracy: 0.6714\n",
            "Epoch 30/69\n",
            "10/10 [==============================] - 1s 109ms/step - loss: 0.9882 - accuracy: 0.8758 - val_loss: 1.3563 - val_accuracy: 0.7000\n",
            "Epoch 31/69\n",
            "10/10 [==============================] - 0s 21ms/step - loss: 0.9441 - accuracy: 0.8944 - val_loss: 1.3276 - val_accuracy: 0.7286\n",
            "Epoch 32/69\n",
            "10/10 [==============================] - 0s 18ms/step - loss: 0.9064 - accuracy: 0.9006 - val_loss: 1.3046 - val_accuracy: 0.6714\n",
            "Epoch 33/69\n",
            "10/10 [==============================] - 0s 17ms/step - loss: 0.8635 - accuracy: 0.9089 - val_loss: 1.2798 - val_accuracy: 0.7429\n",
            "Epoch 34/69\n",
            "10/10 [==============================] - 0s 15ms/step - loss: 0.8274 - accuracy: 0.9006 - val_loss: 1.2606 - val_accuracy: 0.6857\n",
            "Epoch 35/69\n",
            "10/10 [==============================] - 0s 14ms/step - loss: 0.7894 - accuracy: 0.9172 - val_loss: 1.2387 - val_accuracy: 0.7143\n",
            "Epoch 36/69\n",
            "10/10 [==============================] - 0s 20ms/step - loss: 0.7556 - accuracy: 0.9317 - val_loss: 1.2147 - val_accuracy: 0.7429\n",
            "Epoch 37/69\n",
            "10/10 [==============================] - 0s 24ms/step - loss: 0.7237 - accuracy: 0.9213 - val_loss: 1.1964 - val_accuracy: 0.7143\n",
            "Epoch 38/69\n",
            "10/10 [==============================] - 0s 22ms/step - loss: 0.6924 - accuracy: 0.9130 - val_loss: 1.1834 - val_accuracy: 0.6143\n",
            "Epoch 39/69\n",
            "10/10 [==============================] - 0s 23ms/step - loss: 0.6604 - accuracy: 0.9379 - val_loss: 1.1587 - val_accuracy: 0.7143\n",
            "Epoch 40/69\n",
            "10/10 [==============================] - 0s 42ms/step - loss: 0.6328 - accuracy: 0.9441 - val_loss: 1.1522 - val_accuracy: 0.6714\n",
            "Epoch 41/69\n",
            "10/10 [==============================] - 0s 20ms/step - loss: 0.6042 - accuracy: 0.9482 - val_loss: 1.1197 - val_accuracy: 0.7429\n",
            "Epoch 42/69\n",
            "10/10 [==============================] - 0s 20ms/step - loss: 0.5790 - accuracy: 0.9503 - val_loss: 1.1217 - val_accuracy: 0.6571\n",
            "Epoch 43/69\n",
            "10/10 [==============================] - 0s 16ms/step - loss: 0.5538 - accuracy: 0.9524 - val_loss: 1.0923 - val_accuracy: 0.7143\n",
            "Epoch 44/69\n",
            "10/10 [==============================] - 0s 30ms/step - loss: 0.5289 - accuracy: 0.9545 - val_loss: 1.0849 - val_accuracy: 0.7000\n",
            "Epoch 45/69\n",
            "10/10 [==============================] - 0s 15ms/step - loss: 0.5061 - accuracy: 0.9545 - val_loss: 1.0657 - val_accuracy: 0.7000\n",
            "Epoch 46/69\n",
            "10/10 [==============================] - 0s 16ms/step - loss: 0.4834 - accuracy: 0.9524 - val_loss: 1.0505 - val_accuracy: 0.7143\n",
            "Epoch 47/69\n",
            "10/10 [==============================] - 0s 16ms/step - loss: 0.4636 - accuracy: 0.9545 - val_loss: 1.0444 - val_accuracy: 0.7000\n",
            "Epoch 48/69\n",
            "10/10 [==============================] - 0s 17ms/step - loss: 0.4424 - accuracy: 0.9586 - val_loss: 1.0221 - val_accuracy: 0.7000\n",
            "Epoch 49/69\n",
            "10/10 [==============================] - 0s 17ms/step - loss: 0.4237 - accuracy: 0.9545 - val_loss: 1.0286 - val_accuracy: 0.6571\n",
            "Epoch 50/69\n",
            "10/10 [==============================] - 0s 14ms/step - loss: 0.4060 - accuracy: 0.9586 - val_loss: 1.0026 - val_accuracy: 0.7143\n",
            "Epoch 51/69\n",
            "10/10 [==============================] - 0s 16ms/step - loss: 0.3876 - accuracy: 0.9586 - val_loss: 0.9991 - val_accuracy: 0.6857\n",
            "Epoch 52/69\n",
            "10/10 [==============================] - 0s 43ms/step - loss: 0.3708 - accuracy: 0.9607 - val_loss: 0.9800 - val_accuracy: 0.6857\n",
            "Epoch 53/69\n",
            "10/10 [==============================] - 0s 20ms/step - loss: 0.3558 - accuracy: 0.9648 - val_loss: 0.9748 - val_accuracy: 0.7000\n",
            "Epoch 54/69\n",
            "10/10 [==============================] - 0s 16ms/step - loss: 0.3419 - accuracy: 0.9689 - val_loss: 0.9758 - val_accuracy: 0.6714\n",
            "Epoch 55/69\n",
            "10/10 [==============================] - 0s 19ms/step - loss: 0.3248 - accuracy: 0.9710 - val_loss: 0.9462 - val_accuracy: 0.7000\n",
            "Epoch 56/69\n",
            "10/10 [==============================] - 0s 16ms/step - loss: 0.3131 - accuracy: 0.9669 - val_loss: 0.9481 - val_accuracy: 0.7000\n",
            "Epoch 57/69\n",
            "10/10 [==============================] - 1s 103ms/step - loss: 0.2998 - accuracy: 0.9793 - val_loss: 0.9482 - val_accuracy: 0.6571\n",
            "Epoch 58/69\n",
            "10/10 [==============================] - 0s 35ms/step - loss: 0.2860 - accuracy: 0.9772 - val_loss: 0.9309 - val_accuracy: 0.6857\n",
            "Epoch 59/69\n",
            "10/10 [==============================] - 0s 18ms/step - loss: 0.2756 - accuracy: 0.9752 - val_loss: 0.9332 - val_accuracy: 0.6714\n",
            "Epoch 60/69\n",
            "10/10 [==============================] - 0s 15ms/step - loss: 0.2642 - accuracy: 0.9793 - val_loss: 0.9267 - val_accuracy: 0.6714\n",
            "Epoch 61/69\n",
            "10/10 [==============================] - 0s 16ms/step - loss: 0.2536 - accuracy: 0.9814 - val_loss: 0.9084 - val_accuracy: 0.7000\n",
            "Epoch 62/69\n",
            "10/10 [==============================] - 0s 31ms/step - loss: 0.2439 - accuracy: 0.9793 - val_loss: 0.9146 - val_accuracy: 0.6714\n",
            "Epoch 63/69\n",
            "10/10 [==============================] - 0s 17ms/step - loss: 0.2328 - accuracy: 0.9814 - val_loss: 0.9029 - val_accuracy: 0.7000\n",
            "Epoch 64/69\n",
            "10/10 [==============================] - 0s 16ms/step - loss: 0.2250 - accuracy: 0.9814 - val_loss: 0.9000 - val_accuracy: 0.7000\n",
            "Epoch 65/69\n",
            "10/10 [==============================] - 0s 16ms/step - loss: 0.2177 - accuracy: 0.9814 - val_loss: 0.8925 - val_accuracy: 0.6857\n",
            "Epoch 66/69\n",
            "10/10 [==============================] - 0s 16ms/step - loss: 0.2077 - accuracy: 0.9855 - val_loss: 0.8989 - val_accuracy: 0.7000\n",
            "Epoch 67/69\n",
            "10/10 [==============================] - 0s 14ms/step - loss: 0.1989 - accuracy: 0.9834 - val_loss: 0.8866 - val_accuracy: 0.6857\n",
            "Epoch 68/69\n",
            "10/10 [==============================] - 0s 18ms/step - loss: 0.1918 - accuracy: 0.9834 - val_loss: 0.8814 - val_accuracy: 0.7000\n",
            "Epoch 69/69\n",
            "10/10 [==============================] - 0s 18ms/step - loss: 0.1840 - accuracy: 0.9876 - val_loss: 0.8873 - val_accuracy: 0.7000\n"
          ]
        }
      ]
    },
    {
      "cell_type": "code",
      "source": [
        "model_gamma1.predict(X_test)"
      ],
      "metadata": {
        "colab": {
          "base_uri": "https://localhost:8080/"
        },
        "id": "p86Gvs1GxTaM",
        "outputId": "92499b8f-8d5c-4dd2-be1f-5c2f16b65468"
      },
      "execution_count": 22,
      "outputs": [
        {
          "output_type": "stream",
          "name": "stdout",
          "text": [
            "6/6 [==============================] - 0s 5ms/step\n"
          ]
        },
        {
          "output_type": "execute_result",
          "data": {
            "text/plain": [
              "array([[9.20779407e-01, 2.17005610e-02, 1.13334725e-04, ...,\n",
              "        1.88128580e-03, 1.98128808e-04, 8.89063464e-04],\n",
              "       [5.11407200e-03, 2.45276496e-01, 9.81492642e-03, ...,\n",
              "        1.98496953e-01, 3.56543772e-02, 5.00801921e-01],\n",
              "       [3.33967693e-02, 5.90514839e-02, 3.17869544e-01, ...,\n",
              "        2.41195291e-01, 1.91699088e-01, 3.09743937e-02],\n",
              "       ...,\n",
              "       [2.52515059e-02, 2.94704386e-03, 1.82171613e-02, ...,\n",
              "        8.00900161e-01, 2.82474328e-03, 2.47472315e-03],\n",
              "       [1.33619428e-01, 2.66130418e-01, 4.98267263e-03, ...,\n",
              "        2.83196062e-01, 4.81403898e-03, 5.15807196e-02],\n",
              "       [7.37866713e-03, 3.36340144e-02, 6.24174550e-02, ...,\n",
              "        7.84237623e-01, 3.65441591e-02, 2.10481547e-02]], dtype=float32)"
            ]
          },
          "metadata": {},
          "execution_count": 22
        }
      ]
    },
    {
      "cell_type": "code",
      "source": [
        "results_gamma1 = model_gamma1.evaluate(X_test, Y_test)\n",
        "print('test loss, test acc:', results_gamma1)"
      ],
      "metadata": {
        "colab": {
          "base_uri": "https://localhost:8080/"
        },
        "id": "K3Tw9clkxVGT",
        "outputId": "b5c10287-57f9-45bd-bb6c-1d493e689cca"
      },
      "execution_count": 23,
      "outputs": [
        {
          "output_type": "stream",
          "name": "stdout",
          "text": [
            "6/6 [==============================] - 2s 340ms/step - loss: 1.0380 - accuracy: 0.6686\n",
            "test loss, test acc: [1.0379579067230225, 0.668571412563324]\n"
          ]
        }
      ]
    },
    {
      "cell_type": "code",
      "source": [
        "from gensim.models import Word2Vec\n",
        "import numpy as np\n",
        "\n",
        "# Define your dataset\n",
        "dataset = parole_training_no_dup\n",
        "\n",
        "# Train a Word2Vec model on the dataset\n",
        "model = Word2Vec(dataset, min_count=1, size=100, window=5)\n",
        "\n",
        "# Create a matrix of embeddings\n",
        "embeddings_matrix = np.zeros((len(dataset), model.vector_size))\n",
        "for i, sentence in enumerate(dataset):\n",
        "    sentence_embedding = np.zeros(model.vector_size)\n",
        "    n_words = 0\n",
        "    for word in sentence:\n",
        "        if word in model:\n",
        "            sentence_embedding += model[word]\n",
        "            n_words += 1\n",
        "    if n_words > 0:\n",
        "        sentence_embedding /= n_words\n",
        "    embeddings_matrix[i] = sentence_embedding\n",
        "\n",
        "# Print the embeddings matrix\n",
        "print(embeddings_matrix)"
      ],
      "metadata": {
        "colab": {
          "base_uri": "https://localhost:8080/"
        },
        "id": "EOJ5TW78f9gW",
        "outputId": "fe3934ca-5595-430c-a887-67a779b3727f"
      },
      "execution_count": 24,
      "outputs": [
        {
          "output_type": "stream",
          "name": "stderr",
          "text": [
            "WARNING:gensim.models.word2vec:Each 'sentences' item should be a list of words (usually unicode strings). First item here is instead plain <class 'str'>.\n",
            "WARNING:gensim.models.base_any2vec:under 10 jobs per worker: consider setting a smaller `batch_words' for smoother alpha decay\n",
            "<ipython-input-24-519009d9882f>:16: DeprecationWarning: Call to deprecated `__contains__` (Method will be removed in 4.0.0, use self.wv.__contains__() instead).\n",
            "  if word in model:\n",
            "<ipython-input-24-519009d9882f>:17: DeprecationWarning: Call to deprecated `__getitem__` (Method will be removed in 4.0.0, use self.wv.__getitem__() instead).\n",
            "  sentence_embedding += model[word]\n"
          ]
        },
        {
          "output_type": "stream",
          "name": "stdout",
          "text": [
            "[[-0.24627786  0.29530758  0.09390699 ...  0.14294146  0.02524463\n",
            "   0.02142262]\n",
            " [-0.24191707  0.29204823  0.09272763 ...  0.14047533  0.02731945\n",
            "   0.01771208]\n",
            " [-0.24869491  0.29817311  0.09423622 ...  0.14370907  0.02758391\n",
            "   0.01908958]\n",
            " ...\n",
            " [-0.24447583  0.29223825  0.09488011 ...  0.14133081  0.02843981\n",
            "   0.0182209 ]\n",
            " [-0.24801799  0.29958556  0.09183061 ...  0.1415661   0.02476754\n",
            "   0.01967303]\n",
            " [-0.24871808  0.29811319  0.09203356 ...  0.14352457  0.02563009\n",
            "   0.02078937]]\n"
          ]
        }
      ]
    },
    {
      "cell_type": "markdown",
      "source": [
        "lavoro ora con matrice di embeddings pre addestrata, sempre con schema del modello gamma 1"
      ],
      "metadata": {
        "id": "FsKLfJrc1r24"
      }
    },
    {
      "cell_type": "code",
      "source": [
        "modello_delta = Sequential()\n",
        "modello_delta.add(Embedding(vocab_size, embed_dim, weights=[embeddings_matrix], # Here we use the pre-trained embeddings\n",
        "                    input_length=X_train.shape[1], trainable=True))\n",
        "modello_delta.add(keras.layers.GlobalAveragePooling1D())\n",
        "modello_delta.add(keras.layers.Dense(16, activation=tf.nn.relu))\n",
        "modello_delta.add(Dense(7, activation='softmax'))\n",
        "\n",
        "modello_delta.summary()\n"
      ],
      "metadata": {
        "colab": {
          "base_uri": "https://localhost:8080/"
        },
        "id": "dw6bCbYJ1vbu",
        "outputId": "ada12ec6-e9fa-49ac-c8d8-ca2b2610d587"
      },
      "execution_count": 61,
      "outputs": [
        {
          "output_type": "stream",
          "name": "stdout",
          "text": [
            "Model: \"sequential_5\"\n",
            "_________________________________________________________________\n",
            " Layer (type)                Output Shape              Param #   \n",
            "=================================================================\n",
            " embedding_5 (Embedding)     (None, 185, 100)          460500    \n",
            "                                                                 \n",
            " global_average_pooling1d_4   (None, 100)              0         \n",
            " (GlobalAveragePooling1D)                                        \n",
            "                                                                 \n",
            " dense_13 (Dense)            (None, 16)                1616      \n",
            "                                                                 \n",
            " dense_14 (Dense)            (None, 7)                 119       \n",
            "                                                                 \n",
            "=================================================================\n",
            "Total params: 462,235\n",
            "Trainable params: 462,235\n",
            "Non-trainable params: 0\n",
            "_________________________________________________________________\n"
          ]
        }
      ]
    },
    {
      "cell_type": "code",
      "source": [
        "modello_delta.compile(optimizer='adam',\n",
        "              loss='categorical_crossentropy',\n",
        "              metrics=['accuracy'])\n",
        "\n"
      ],
      "metadata": {
        "id": "MZEiPBLB3MV0"
      },
      "execution_count": 62,
      "outputs": []
    },
    {
      "cell_type": "code",
      "source": [
        "history = modello_delta.fit(X_train,\n",
        "                    Y_train,\n",
        "                    epochs=73,\n",
        "                    batch_size=50,\n",
        "                    validation_data=(X_val, Y_val),\n",
        "                    verbose=1)"
      ],
      "metadata": {
        "colab": {
          "base_uri": "https://localhost:8080/"
        },
        "id": "NqDJ8x8a4Q6h",
        "outputId": "694cf7f9-79f5-48a5-e589-88edb6c75ac1"
      },
      "execution_count": 63,
      "outputs": [
        {
          "output_type": "stream",
          "name": "stdout",
          "text": [
            "Epoch 1/73\n",
            "10/10 [==============================] - 5s 243ms/step - loss: 1.9485 - accuracy: 0.1449 - val_loss: 1.9463 - val_accuracy: 0.1429\n",
            "Epoch 2/73\n",
            "10/10 [==============================] - 1s 74ms/step - loss: 1.9429 - accuracy: 0.1449 - val_loss: 1.9435 - val_accuracy: 0.1429\n",
            "Epoch 3/73\n",
            "10/10 [==============================] - 0s 26ms/step - loss: 1.9381 - accuracy: 0.2940 - val_loss: 1.9417 - val_accuracy: 0.3714\n",
            "Epoch 4/73\n",
            "10/10 [==============================] - 0s 36ms/step - loss: 1.9342 - accuracy: 0.3147 - val_loss: 1.9401 - val_accuracy: 0.2714\n",
            "Epoch 5/73\n",
            "10/10 [==============================] - 2s 213ms/step - loss: 1.9300 - accuracy: 0.3602 - val_loss: 1.9378 - val_accuracy: 0.2857\n",
            "Epoch 6/73\n",
            "10/10 [==============================] - 2s 218ms/step - loss: 1.9255 - accuracy: 0.2961 - val_loss: 1.9354 - val_accuracy: 0.1714\n",
            "Epoch 7/73\n",
            "10/10 [==============================] - 0s 18ms/step - loss: 1.9210 - accuracy: 0.1822 - val_loss: 1.9323 - val_accuracy: 0.1429\n",
            "Epoch 8/73\n",
            "10/10 [==============================] - 0s 50ms/step - loss: 1.9149 - accuracy: 0.2981 - val_loss: 1.9281 - val_accuracy: 0.2714\n",
            "Epoch 9/73\n",
            "10/10 [==============================] - 0s 18ms/step - loss: 1.9073 - accuracy: 0.2899 - val_loss: 1.9255 - val_accuracy: 0.1857\n",
            "Epoch 10/73\n",
            "10/10 [==============================] - 0s 20ms/step - loss: 1.8988 - accuracy: 0.3727 - val_loss: 1.9200 - val_accuracy: 0.3143\n",
            "Epoch 11/73\n",
            "10/10 [==============================] - 0s 20ms/step - loss: 1.8906 - accuracy: 0.4720 - val_loss: 1.9146 - val_accuracy: 0.3143\n",
            "Epoch 12/73\n",
            "10/10 [==============================] - 1s 121ms/step - loss: 1.8799 - accuracy: 0.4017 - val_loss: 1.9096 - val_accuracy: 0.2286\n",
            "Epoch 13/73\n",
            "10/10 [==============================] - 1s 62ms/step - loss: 1.8695 - accuracy: 0.3230 - val_loss: 1.9026 - val_accuracy: 0.2714\n",
            "Epoch 14/73\n",
            "10/10 [==============================] - 0s 25ms/step - loss: 1.8573 - accuracy: 0.4741 - val_loss: 1.8940 - val_accuracy: 0.3286\n",
            "Epoch 15/73\n",
            "10/10 [==============================] - 0s 26ms/step - loss: 1.8427 - accuracy: 0.4306 - val_loss: 1.8871 - val_accuracy: 0.2571\n",
            "Epoch 16/73\n",
            "10/10 [==============================] - 1s 106ms/step - loss: 1.8266 - accuracy: 0.3810 - val_loss: 1.8754 - val_accuracy: 0.2857\n",
            "Epoch 17/73\n",
            "10/10 [==============================] - 0s 24ms/step - loss: 1.8068 - accuracy: 0.4493 - val_loss: 1.8658 - val_accuracy: 0.2714\n",
            "Epoch 18/73\n",
            "10/10 [==============================] - 0s 23ms/step - loss: 1.7861 - accuracy: 0.4534 - val_loss: 1.8508 - val_accuracy: 0.3429\n",
            "Epoch 19/73\n",
            "10/10 [==============================] - 0s 22ms/step - loss: 1.7626 - accuracy: 0.4783 - val_loss: 1.8382 - val_accuracy: 0.3143\n",
            "Epoch 20/73\n",
            "10/10 [==============================] - 0s 22ms/step - loss: 1.7384 - accuracy: 0.5135 - val_loss: 1.8196 - val_accuracy: 0.3857\n",
            "Epoch 21/73\n",
            "10/10 [==============================] - 1s 104ms/step - loss: 1.7105 - accuracy: 0.4969 - val_loss: 1.8036 - val_accuracy: 0.3143\n",
            "Epoch 22/73\n",
            "10/10 [==============================] - 0s 49ms/step - loss: 1.6794 - accuracy: 0.5280 - val_loss: 1.7844 - val_accuracy: 0.3286\n",
            "Epoch 23/73\n",
            "10/10 [==============================] - 0s 17ms/step - loss: 1.6488 - accuracy: 0.5797 - val_loss: 1.7635 - val_accuracy: 0.3571\n",
            "Epoch 24/73\n",
            "10/10 [==============================] - 0s 17ms/step - loss: 1.6149 - accuracy: 0.5942 - val_loss: 1.7424 - val_accuracy: 0.3857\n",
            "Epoch 25/73\n",
            "10/10 [==============================] - 0s 17ms/step - loss: 1.5843 - accuracy: 0.6273 - val_loss: 1.7215 - val_accuracy: 0.3714\n",
            "Epoch 26/73\n",
            "10/10 [==============================] - 0s 18ms/step - loss: 1.5469 - accuracy: 0.6770 - val_loss: 1.6945 - val_accuracy: 0.4571\n",
            "Epoch 27/73\n",
            "10/10 [==============================] - 1s 103ms/step - loss: 1.5089 - accuracy: 0.6584 - val_loss: 1.6737 - val_accuracy: 0.4429\n",
            "Epoch 28/73\n",
            "10/10 [==============================] - 1s 133ms/step - loss: 1.4722 - accuracy: 0.6584 - val_loss: 1.6493 - val_accuracy: 0.4429\n",
            "Epoch 29/73\n",
            "10/10 [==============================] - 0s 22ms/step - loss: 1.4362 - accuracy: 0.7308 - val_loss: 1.6239 - val_accuracy: 0.5143\n",
            "Epoch 30/73\n",
            "10/10 [==============================] - 0s 15ms/step - loss: 1.3990 - accuracy: 0.7557 - val_loss: 1.5989 - val_accuracy: 0.5000\n",
            "Epoch 31/73\n",
            "10/10 [==============================] - 0s 16ms/step - loss: 1.3605 - accuracy: 0.7226 - val_loss: 1.5755 - val_accuracy: 0.4429\n",
            "Epoch 32/73\n",
            "10/10 [==============================] - 0s 47ms/step - loss: 1.3231 - accuracy: 0.7495 - val_loss: 1.5496 - val_accuracy: 0.5000\n",
            "Epoch 33/73\n",
            "10/10 [==============================] - 0s 17ms/step - loss: 1.2852 - accuracy: 0.8012 - val_loss: 1.5237 - val_accuracy: 0.5429\n",
            "Epoch 34/73\n",
            "10/10 [==============================] - 0s 17ms/step - loss: 1.2499 - accuracy: 0.7888 - val_loss: 1.5011 - val_accuracy: 0.5571\n",
            "Epoch 35/73\n",
            "10/10 [==============================] - 0s 20ms/step - loss: 1.2131 - accuracy: 0.8075 - val_loss: 1.4763 - val_accuracy: 0.5000\n",
            "Epoch 36/73\n",
            "10/10 [==============================] - 0s 15ms/step - loss: 1.1799 - accuracy: 0.8385 - val_loss: 1.4504 - val_accuracy: 0.5429\n",
            "Epoch 37/73\n",
            "10/10 [==============================] - 0s 16ms/step - loss: 1.1473 - accuracy: 0.8509 - val_loss: 1.4377 - val_accuracy: 0.5429\n",
            "Epoch 38/73\n",
            "10/10 [==============================] - 0s 43ms/step - loss: 1.1114 - accuracy: 0.8675 - val_loss: 1.4061 - val_accuracy: 0.5857\n",
            "Epoch 39/73\n",
            "10/10 [==============================] - 0s 27ms/step - loss: 1.0779 - accuracy: 0.8654 - val_loss: 1.3954 - val_accuracy: 0.5571\n",
            "Epoch 40/73\n",
            "10/10 [==============================] - 0s 24ms/step - loss: 1.0460 - accuracy: 0.8613 - val_loss: 1.3663 - val_accuracy: 0.5857\n",
            "Epoch 41/73\n",
            "10/10 [==============================] - 1s 58ms/step - loss: 1.0148 - accuracy: 0.8841 - val_loss: 1.3483 - val_accuracy: 0.5857\n",
            "Epoch 42/73\n",
            "10/10 [==============================] - 0s 26ms/step - loss: 0.9832 - accuracy: 0.8923 - val_loss: 1.3300 - val_accuracy: 0.5714\n",
            "Epoch 43/73\n",
            "10/10 [==============================] - 0s 22ms/step - loss: 0.9552 - accuracy: 0.8986 - val_loss: 1.3117 - val_accuracy: 0.5714\n",
            "Epoch 44/73\n",
            "10/10 [==============================] - 0s 27ms/step - loss: 0.9254 - accuracy: 0.8986 - val_loss: 1.2918 - val_accuracy: 0.6000\n",
            "Epoch 45/73\n",
            "10/10 [==============================] - 0s 49ms/step - loss: 0.8983 - accuracy: 0.8944 - val_loss: 1.2792 - val_accuracy: 0.5571\n",
            "Epoch 46/73\n",
            "10/10 [==============================] - 0s 21ms/step - loss: 0.8718 - accuracy: 0.8903 - val_loss: 1.2568 - val_accuracy: 0.5714\n",
            "Epoch 47/73\n",
            "10/10 [==============================] - 0s 15ms/step - loss: 0.8434 - accuracy: 0.9048 - val_loss: 1.2475 - val_accuracy: 0.6000\n",
            "Epoch 48/73\n",
            "10/10 [==============================] - 0s 20ms/step - loss: 0.8198 - accuracy: 0.9089 - val_loss: 1.2308 - val_accuracy: 0.6143\n",
            "Epoch 49/73\n",
            "10/10 [==============================] - 0s 20ms/step - loss: 0.7934 - accuracy: 0.9048 - val_loss: 1.2136 - val_accuracy: 0.6000\n",
            "Epoch 50/73\n",
            "10/10 [==============================] - 0s 17ms/step - loss: 0.7702 - accuracy: 0.9130 - val_loss: 1.2013 - val_accuracy: 0.6143\n",
            "Epoch 51/73\n",
            "10/10 [==============================] - 0s 19ms/step - loss: 0.7474 - accuracy: 0.9193 - val_loss: 1.1859 - val_accuracy: 0.6000\n",
            "Epoch 52/73\n",
            "10/10 [==============================] - 0s 17ms/step - loss: 0.7253 - accuracy: 0.9048 - val_loss: 1.1720 - val_accuracy: 0.6000\n",
            "Epoch 53/73\n",
            "10/10 [==============================] - 1s 107ms/step - loss: 0.7035 - accuracy: 0.9193 - val_loss: 1.1609 - val_accuracy: 0.6286\n",
            "Epoch 54/73\n",
            "10/10 [==============================] - 0s 47ms/step - loss: 0.6802 - accuracy: 0.9255 - val_loss: 1.1494 - val_accuracy: 0.6000\n",
            "Epoch 55/73\n",
            "10/10 [==============================] - 0s 21ms/step - loss: 0.6612 - accuracy: 0.9172 - val_loss: 1.1406 - val_accuracy: 0.6286\n",
            "Epoch 56/73\n",
            "10/10 [==============================] - 0s 23ms/step - loss: 0.6403 - accuracy: 0.9379 - val_loss: 1.1210 - val_accuracy: 0.6429\n",
            "Epoch 57/73\n",
            "10/10 [==============================] - 0s 49ms/step - loss: 0.6208 - accuracy: 0.9358 - val_loss: 1.1191 - val_accuracy: 0.6143\n",
            "Epoch 58/73\n",
            "10/10 [==============================] - 0s 23ms/step - loss: 0.6016 - accuracy: 0.9296 - val_loss: 1.1021 - val_accuracy: 0.6429\n",
            "Epoch 59/73\n",
            "10/10 [==============================] - 0s 20ms/step - loss: 0.5853 - accuracy: 0.9441 - val_loss: 1.0938 - val_accuracy: 0.6429\n",
            "Epoch 60/73\n",
            "10/10 [==============================] - 0s 17ms/step - loss: 0.5654 - accuracy: 0.9462 - val_loss: 1.0796 - val_accuracy: 0.6286\n",
            "Epoch 61/73\n",
            "10/10 [==============================] - 0s 17ms/step - loss: 0.5490 - accuracy: 0.9441 - val_loss: 1.0740 - val_accuracy: 0.6286\n",
            "Epoch 62/73\n",
            "10/10 [==============================] - 1s 107ms/step - loss: 0.5327 - accuracy: 0.9482 - val_loss: 1.0629 - val_accuracy: 0.6571\n",
            "Epoch 63/73\n",
            "10/10 [==============================] - 0s 48ms/step - loss: 0.5152 - accuracy: 0.9565 - val_loss: 1.0541 - val_accuracy: 0.6429\n",
            "Epoch 64/73\n",
            "10/10 [==============================] - 0s 21ms/step - loss: 0.5005 - accuracy: 0.9565 - val_loss: 1.0507 - val_accuracy: 0.6286\n",
            "Epoch 65/73\n",
            "10/10 [==============================] - 0s 22ms/step - loss: 0.4845 - accuracy: 0.9586 - val_loss: 1.0364 - val_accuracy: 0.6714\n",
            "Epoch 66/73\n",
            "10/10 [==============================] - 0s 17ms/step - loss: 0.4709 - accuracy: 0.9627 - val_loss: 1.0333 - val_accuracy: 0.6429\n",
            "Epoch 67/73\n",
            "10/10 [==============================] - 1s 107ms/step - loss: 0.4556 - accuracy: 0.9648 - val_loss: 1.0207 - val_accuracy: 0.6714\n",
            "Epoch 68/73\n",
            "10/10 [==============================] - 1s 114ms/step - loss: 0.4430 - accuracy: 0.9607 - val_loss: 1.0190 - val_accuracy: 0.6429\n",
            "Epoch 69/73\n",
            "10/10 [==============================] - 0s 25ms/step - loss: 0.4293 - accuracy: 0.9689 - val_loss: 1.0073 - val_accuracy: 0.6857\n",
            "Epoch 70/73\n",
            "10/10 [==============================] - 0s 23ms/step - loss: 0.4155 - accuracy: 0.9627 - val_loss: 0.9992 - val_accuracy: 0.6714\n",
            "Epoch 71/73\n",
            "10/10 [==============================] - 0s 25ms/step - loss: 0.4029 - accuracy: 0.9669 - val_loss: 0.9981 - val_accuracy: 0.6429\n",
            "Epoch 72/73\n",
            "10/10 [==============================] - 1s 119ms/step - loss: 0.3903 - accuracy: 0.9710 - val_loss: 0.9902 - val_accuracy: 0.6714\n",
            "Epoch 73/73\n",
            "10/10 [==============================] - 0s 45ms/step - loss: 0.3783 - accuracy: 0.9731 - val_loss: 0.9804 - val_accuracy: 0.6714\n"
          ]
        }
      ]
    },
    {
      "cell_type": "code",
      "source": [
        "modello_delta.predict(X_test)"
      ],
      "metadata": {
        "colab": {
          "base_uri": "https://localhost:8080/"
        },
        "id": "7y8miqCb8jHL",
        "outputId": "74c8255c-0f20-4cf7-a562-5eaec1973226"
      },
      "execution_count": 64,
      "outputs": [
        {
          "output_type": "stream",
          "name": "stdout",
          "text": [
            "6/6 [==============================] - 0s 4ms/step\n"
          ]
        },
        {
          "output_type": "execute_result",
          "data": {
            "text/plain": [
              "array([[8.0889302e-01, 5.4116198e-03, 3.1544664e-03, ..., 1.6081874e-01,\n",
              "        6.9456026e-03, 2.8278059e-04],\n",
              "       [1.8189548e-02, 5.5158502e-01, 4.7081131e-02, ..., 5.2792672e-02,\n",
              "        8.0751337e-02, 2.3550148e-01],\n",
              "       [9.7621180e-02, 1.0799896e-01, 3.5628870e-01, ..., 1.2896731e-01,\n",
              "        1.7879818e-01, 3.8070407e-02],\n",
              "       ...,\n",
              "       [3.6425775e-01, 3.0708604e-04, 2.4190322e-03, ..., 5.0371140e-01,\n",
              "        5.7420903e-03, 1.5835484e-04],\n",
              "       [1.7571589e-01, 6.7170352e-02, 3.1792998e-02, ..., 3.9982054e-01,\n",
              "        2.6125221e-02, 8.1211664e-02],\n",
              "       [1.8912481e-01, 1.6745046e-02, 7.0125304e-02, ..., 4.1198242e-01,\n",
              "        6.7921884e-02, 1.1880589e-02]], dtype=float32)"
            ]
          },
          "metadata": {},
          "execution_count": 64
        }
      ]
    },
    {
      "cell_type": "code",
      "source": [
        "results_delta = modello_delta.evaluate(X_test, Y_test)\n",
        "print('test loss, test acc:', results_delta)"
      ],
      "metadata": {
        "colab": {
          "base_uri": "https://localhost:8080/"
        },
        "id": "t0P0ZaER8lMm",
        "outputId": "e203ddcf-603f-485f-a58d-834ff37f2156"
      },
      "execution_count": 65,
      "outputs": [
        {
          "output_type": "stream",
          "name": "stdout",
          "text": [
            "6/6 [==============================] - 0s 4ms/step - loss: 0.9841 - accuracy: 0.7143\n",
            "test loss, test acc: [0.984061598777771, 0.7142857313156128]\n"
          ]
        }
      ]
    },
    {
      "cell_type": "markdown",
      "source": [
        "Stampo ora il valore dei pesi ottenuti dopo l'addestramento dal modello delta"
      ],
      "metadata": {
        "id": "WPeihbkeb8uy"
      }
    },
    {
      "cell_type": "code",
      "source": [
        "weights=[]\n",
        "weights = tf.Variable(modello_delta.layers[0].get_weights()[0][0:])\n",
        "print(weights)"
      ],
      "metadata": {
        "colab": {
          "base_uri": "https://localhost:8080/"
        },
        "id": "8QzO8wMVa-gs",
        "outputId": "420d99df-36eb-4f3d-daef-6a619ddc82c9"
      },
      "execution_count": 38,
      "outputs": [
        {
          "output_type": "stream",
          "name": "stdout",
          "text": [
            "<tf.Variable 'Variable:0' shape=(4605, 100) dtype=float32, numpy=\n",
            "array([[-0.3668298 ,  0.26437476,  0.13644516, ...,  0.16300407,\n",
            "         0.03271981,  0.04143437],\n",
            "       [-0.2711465 ,  0.3276586 ,  0.19852254, ...,  0.34107912,\n",
            "         0.24363956, -0.14333184],\n",
            "       [-0.5808889 ,  0.07986503,  0.20606129, ...,  0.14678146,\n",
            "         0.3637267 , -0.16667904],\n",
            "       ...,\n",
            "       [-0.24447584,  0.29223824,  0.09488011, ...,  0.14133081,\n",
            "         0.02843981,  0.0182209 ],\n",
            "       [-0.24801798,  0.29958555,  0.0918306 , ...,  0.1415661 ,\n",
            "         0.02476754,  0.01967303],\n",
            "       [-0.24871808,  0.2981132 ,  0.09203356, ...,  0.14352457,\n",
            "         0.02563009,  0.02078937]], dtype=float32)>\n"
          ]
        }
      ]
    },
    {
      "cell_type": "markdown",
      "source": [
        "Stampo la differenza tra pesi ottenuti dal training del modello e la matrice di embedding iniziale"
      ],
      "metadata": {
        "id": "FTIkk18CcCS_"
      }
    },
    {
      "cell_type": "code",
      "source": [
        "diff_emb= weights - embeddings_matrix\n",
        "print(diff_emb)"
      ],
      "metadata": {
        "colab": {
          "base_uri": "https://localhost:8080/"
        },
        "id": "M9gceMUYbYri",
        "outputId": "feb76eae-5fa8-4790-d893-97e86647ba3a"
      },
      "execution_count": 44,
      "outputs": [
        {
          "output_type": "stream",
          "name": "stdout",
          "text": [
            "tf.Tensor(\n",
            "[[-0.12055194 -0.03093281  0.04253818 ...  0.02006261  0.00747519\n",
            "   0.02001175]\n",
            " [-0.02922943  0.03561038  0.10579491 ...  0.20060378  0.2163201\n",
            "  -0.16104391]\n",
            " [-0.33219403 -0.21830806  0.11182507 ...  0.0030724   0.3361428\n",
            "  -0.18576862]\n",
            " ...\n",
            " [ 0.          0.          0.         ...  0.          0.\n",
            "   0.        ]\n",
            " [ 0.          0.          0.         ...  0.          0.\n",
            "   0.        ]\n",
            " [ 0.          0.          0.         ...  0.          0.\n",
            "   0.        ]], shape=(4605, 100), dtype=float32)\n"
          ]
        }
      ]
    },
    {
      "cell_type": "markdown",
      "source": [
        "capiamo ora con quale accuratezza il modello delta farebbe predizione sui dati di training e sui dati di test e validation"
      ],
      "metadata": {
        "id": "gEpLwkI3cJ_I"
      }
    },
    {
      "cell_type": "code",
      "source": [
        "modello_delta_2 = Sequential()\n",
        "modello_delta_2.add(Embedding(vocab_size, embed_dim, weights=[embeddings_matrix], # Here we use the pre-trained embeddings\n",
        "                    input_length=X_train.shape[1], trainable=False))\n",
        "modello_delta_2.add(keras.layers.GlobalAveragePooling1D())\n",
        "modello_delta_2.add(keras.layers.Dense(16, activation=tf.nn.relu))\n",
        "modello_delta_2.add(Dense(7, activation='softmax'))\n",
        "\n",
        "modello_delta_2.summary()\n"
      ],
      "metadata": {
        "colab": {
          "base_uri": "https://localhost:8080/"
        },
        "id": "3-YdHT10cYpS",
        "outputId": "ce371ca9-5208-465a-d602-d0a75761f359"
      },
      "execution_count": 45,
      "outputs": [
        {
          "output_type": "stream",
          "name": "stdout",
          "text": [
            "Model: \"sequential_2\"\n",
            "_________________________________________________________________\n",
            " Layer (type)                Output Shape              Param #   \n",
            "=================================================================\n",
            " embedding_2 (Embedding)     (None, 185, 100)          460500    \n",
            "                                                                 \n",
            " global_average_pooling1d_2   (None, 100)              0         \n",
            " (GlobalAveragePooling1D)                                        \n",
            "                                                                 \n",
            " dense_4 (Dense)             (None, 16)                1616      \n",
            "                                                                 \n",
            " dense_5 (Dense)             (None, 7)                 119       \n",
            "                                                                 \n",
            "=================================================================\n",
            "Total params: 462,235\n",
            "Trainable params: 1,735\n",
            "Non-trainable params: 460,500\n",
            "_________________________________________________________________\n"
          ]
        }
      ]
    },
    {
      "cell_type": "code",
      "source": [
        "modello_delta_2.compile(optimizer='adam',\n",
        "              loss='categorical_crossentropy',\n",
        "              metrics=['accuracy'])"
      ],
      "metadata": {
        "id": "LleyLwBbctRA"
      },
      "execution_count": 46,
      "outputs": []
    },
    {
      "cell_type": "code",
      "source": [
        "history = modello_delta_2.fit(X_train,\n",
        "                    Y_train,\n",
        "                    epochs=73,\n",
        "                    batch_size=50,\n",
        "                    validation_data=(X_val, Y_val),\n",
        "                    verbose=1)"
      ],
      "metadata": {
        "colab": {
          "base_uri": "https://localhost:8080/"
        },
        "id": "paIf5Bimc2cG",
        "outputId": "7b83edaa-56f5-4ba1-ba82-b9f10792a0d4"
      },
      "execution_count": 48,
      "outputs": [
        {
          "output_type": "stream",
          "name": "stdout",
          "text": [
            "Epoch 1/73\n",
            "10/10 [==============================] - 2s 100ms/step - loss: 1.9527 - accuracy: 0.1077 - val_loss: 1.9479 - val_accuracy: 0.1429\n",
            "Epoch 2/73\n",
            "10/10 [==============================] - 0s 8ms/step - loss: 1.9479 - accuracy: 0.1387 - val_loss: 1.9464 - val_accuracy: 0.1429\n",
            "Epoch 3/73\n",
            "10/10 [==============================] - 0s 8ms/step - loss: 1.9469 - accuracy: 0.1449 - val_loss: 1.9463 - val_accuracy: 0.1429\n",
            "Epoch 4/73\n",
            "10/10 [==============================] - 0s 9ms/step - loss: 1.9465 - accuracy: 0.1408 - val_loss: 1.9461 - val_accuracy: 0.1429\n",
            "Epoch 5/73\n",
            "10/10 [==============================] - 0s 7ms/step - loss: 1.9461 - accuracy: 0.1449 - val_loss: 1.9461 - val_accuracy: 0.1429\n",
            "Epoch 6/73\n",
            "10/10 [==============================] - 0s 7ms/step - loss: 1.9461 - accuracy: 0.1449 - val_loss: 1.9462 - val_accuracy: 0.1429\n",
            "Epoch 7/73\n",
            "10/10 [==============================] - 0s 7ms/step - loss: 1.9458 - accuracy: 0.1449 - val_loss: 1.9462 - val_accuracy: 0.1429\n",
            "Epoch 8/73\n",
            "10/10 [==============================] - 0s 7ms/step - loss: 1.9459 - accuracy: 0.1449 - val_loss: 1.9461 - val_accuracy: 0.1429\n",
            "Epoch 9/73\n",
            "10/10 [==============================] - 0s 7ms/step - loss: 1.9457 - accuracy: 0.1449 - val_loss: 1.9461 - val_accuracy: 0.1429\n",
            "Epoch 10/73\n",
            "10/10 [==============================] - 0s 10ms/step - loss: 1.9457 - accuracy: 0.1449 - val_loss: 1.9461 - val_accuracy: 0.1429\n",
            "Epoch 11/73\n",
            "10/10 [==============================] - 0s 9ms/step - loss: 1.9458 - accuracy: 0.1429 - val_loss: 1.9461 - val_accuracy: 0.1429\n",
            "Epoch 12/73\n",
            "10/10 [==============================] - 0s 7ms/step - loss: 1.9458 - accuracy: 0.1201 - val_loss: 1.9461 - val_accuracy: 0.1429\n",
            "Epoch 13/73\n",
            "10/10 [==============================] - 0s 7ms/step - loss: 1.9458 - accuracy: 0.1346 - val_loss: 1.9462 - val_accuracy: 0.1429\n",
            "Epoch 14/73\n",
            "10/10 [==============================] - 0s 9ms/step - loss: 1.9458 - accuracy: 0.1449 - val_loss: 1.9462 - val_accuracy: 0.1429\n",
            "Epoch 15/73\n",
            "10/10 [==============================] - 0s 8ms/step - loss: 1.9457 - accuracy: 0.1449 - val_loss: 1.9462 - val_accuracy: 0.1429\n",
            "Epoch 16/73\n",
            "10/10 [==============================] - 0s 7ms/step - loss: 1.9457 - accuracy: 0.1449 - val_loss: 1.9462 - val_accuracy: 0.1429\n",
            "Epoch 17/73\n",
            "10/10 [==============================] - 0s 9ms/step - loss: 1.9458 - accuracy: 0.1449 - val_loss: 1.9462 - val_accuracy: 0.1429\n",
            "Epoch 18/73\n",
            "10/10 [==============================] - 0s 9ms/step - loss: 1.9458 - accuracy: 0.1449 - val_loss: 1.9462 - val_accuracy: 0.1429\n",
            "Epoch 19/73\n",
            "10/10 [==============================] - 0s 9ms/step - loss: 1.9457 - accuracy: 0.1449 - val_loss: 1.9462 - val_accuracy: 0.1429\n",
            "Epoch 20/73\n",
            "10/10 [==============================] - 0s 9ms/step - loss: 1.9458 - accuracy: 0.1449 - val_loss: 1.9461 - val_accuracy: 0.1429\n",
            "Epoch 21/73\n",
            "10/10 [==============================] - 0s 8ms/step - loss: 1.9460 - accuracy: 0.1304 - val_loss: 1.9461 - val_accuracy: 0.1429\n",
            "Epoch 22/73\n",
            "10/10 [==============================] - 0s 8ms/step - loss: 1.9458 - accuracy: 0.1429 - val_loss: 1.9462 - val_accuracy: 0.1429\n",
            "Epoch 23/73\n",
            "10/10 [==============================] - 0s 9ms/step - loss: 1.9460 - accuracy: 0.1366 - val_loss: 1.9461 - val_accuracy: 0.1429\n",
            "Epoch 24/73\n",
            "10/10 [==============================] - 0s 7ms/step - loss: 1.9458 - accuracy: 0.1408 - val_loss: 1.9463 - val_accuracy: 0.1429\n",
            "Epoch 25/73\n",
            "10/10 [==============================] - 0s 9ms/step - loss: 1.9458 - accuracy: 0.1449 - val_loss: 1.9462 - val_accuracy: 0.1429\n",
            "Epoch 26/73\n",
            "10/10 [==============================] - 0s 13ms/step - loss: 1.9458 - accuracy: 0.1449 - val_loss: 1.9463 - val_accuracy: 0.1429\n",
            "Epoch 27/73\n",
            "10/10 [==============================] - 0s 12ms/step - loss: 1.9459 - accuracy: 0.1449 - val_loss: 1.9464 - val_accuracy: 0.1429\n",
            "Epoch 28/73\n",
            "10/10 [==============================] - 0s 11ms/step - loss: 1.9456 - accuracy: 0.1449 - val_loss: 1.9462 - val_accuracy: 0.1429\n",
            "Epoch 29/73\n",
            "10/10 [==============================] - 0s 11ms/step - loss: 1.9458 - accuracy: 0.1408 - val_loss: 1.9462 - val_accuracy: 0.1429\n",
            "Epoch 30/73\n",
            "10/10 [==============================] - 0s 12ms/step - loss: 1.9457 - accuracy: 0.1449 - val_loss: 1.9462 - val_accuracy: 0.1429\n",
            "Epoch 31/73\n",
            "10/10 [==============================] - 0s 10ms/step - loss: 1.9457 - accuracy: 0.1449 - val_loss: 1.9462 - val_accuracy: 0.1429\n",
            "Epoch 32/73\n",
            "10/10 [==============================] - 0s 10ms/step - loss: 1.9458 - accuracy: 0.1449 - val_loss: 1.9462 - val_accuracy: 0.1429\n",
            "Epoch 33/73\n",
            "10/10 [==============================] - 0s 11ms/step - loss: 1.9458 - accuracy: 0.1139 - val_loss: 1.9462 - val_accuracy: 0.1429\n",
            "Epoch 34/73\n",
            "10/10 [==============================] - 0s 14ms/step - loss: 1.9458 - accuracy: 0.1242 - val_loss: 1.9462 - val_accuracy: 0.1429\n",
            "Epoch 35/73\n",
            "10/10 [==============================] - 0s 10ms/step - loss: 1.9461 - accuracy: 0.1408 - val_loss: 1.9462 - val_accuracy: 0.1429\n",
            "Epoch 36/73\n",
            "10/10 [==============================] - 0s 12ms/step - loss: 1.9458 - accuracy: 0.1097 - val_loss: 1.9461 - val_accuracy: 0.1429\n",
            "Epoch 37/73\n",
            "10/10 [==============================] - 0s 10ms/step - loss: 1.9458 - accuracy: 0.1408 - val_loss: 1.9462 - val_accuracy: 0.1429\n",
            "Epoch 38/73\n",
            "10/10 [==============================] - 0s 11ms/step - loss: 1.9457 - accuracy: 0.1449 - val_loss: 1.9462 - val_accuracy: 0.1429\n",
            "Epoch 39/73\n",
            "10/10 [==============================] - 0s 10ms/step - loss: 1.9457 - accuracy: 0.1449 - val_loss: 1.9462 - val_accuracy: 0.1429\n",
            "Epoch 40/73\n",
            "10/10 [==============================] - 0s 11ms/step - loss: 1.9458 - accuracy: 0.1449 - val_loss: 1.9462 - val_accuracy: 0.1429\n",
            "Epoch 41/73\n",
            "10/10 [==============================] - 0s 13ms/step - loss: 1.9458 - accuracy: 0.1346 - val_loss: 1.9462 - val_accuracy: 0.1429\n",
            "Epoch 42/73\n",
            "10/10 [==============================] - 0s 8ms/step - loss: 1.9459 - accuracy: 0.1553 - val_loss: 1.9463 - val_accuracy: 0.1429\n",
            "Epoch 43/73\n",
            "10/10 [==============================] - 0s 37ms/step - loss: 1.9458 - accuracy: 0.1242 - val_loss: 1.9463 - val_accuracy: 0.1429\n",
            "Epoch 44/73\n",
            "10/10 [==============================] - 0s 11ms/step - loss: 1.9457 - accuracy: 0.1284 - val_loss: 1.9463 - val_accuracy: 0.0714\n",
            "Epoch 45/73\n",
            "10/10 [==============================] - 0s 10ms/step - loss: 1.9458 - accuracy: 0.1284 - val_loss: 1.9462 - val_accuracy: 0.1429\n",
            "Epoch 46/73\n",
            "10/10 [==============================] - 0s 9ms/step - loss: 1.9457 - accuracy: 0.1449 - val_loss: 1.9462 - val_accuracy: 0.1429\n",
            "Epoch 47/73\n",
            "10/10 [==============================] - 0s 8ms/step - loss: 1.9461 - accuracy: 0.1118 - val_loss: 1.9462 - val_accuracy: 0.1429\n",
            "Epoch 48/73\n",
            "10/10 [==============================] - 0s 12ms/step - loss: 1.9458 - accuracy: 0.1408 - val_loss: 1.9462 - val_accuracy: 0.1429\n",
            "Epoch 49/73\n",
            "10/10 [==============================] - 0s 10ms/step - loss: 1.9457 - accuracy: 0.1449 - val_loss: 1.9463 - val_accuracy: 0.1429\n",
            "Epoch 50/73\n",
            "10/10 [==============================] - 0s 8ms/step - loss: 1.9459 - accuracy: 0.1449 - val_loss: 1.9464 - val_accuracy: 0.1429\n",
            "Epoch 51/73\n",
            "10/10 [==============================] - 0s 8ms/step - loss: 1.9457 - accuracy: 0.1449 - val_loss: 1.9463 - val_accuracy: 0.1429\n",
            "Epoch 52/73\n",
            "10/10 [==============================] - 0s 9ms/step - loss: 1.9457 - accuracy: 0.1449 - val_loss: 1.9463 - val_accuracy: 0.1429\n",
            "Epoch 53/73\n",
            "10/10 [==============================] - 0s 7ms/step - loss: 1.9457 - accuracy: 0.1449 - val_loss: 1.9463 - val_accuracy: 0.1429\n",
            "Epoch 54/73\n",
            "10/10 [==============================] - 0s 8ms/step - loss: 1.9457 - accuracy: 0.1449 - val_loss: 1.9463 - val_accuracy: 0.1429\n",
            "Epoch 55/73\n",
            "10/10 [==============================] - 0s 8ms/step - loss: 1.9457 - accuracy: 0.1449 - val_loss: 1.9463 - val_accuracy: 0.1429\n",
            "Epoch 56/73\n",
            "10/10 [==============================] - 0s 8ms/step - loss: 1.9459 - accuracy: 0.1449 - val_loss: 1.9463 - val_accuracy: 0.1429\n",
            "Epoch 57/73\n",
            "10/10 [==============================] - 0s 9ms/step - loss: 1.9459 - accuracy: 0.1201 - val_loss: 1.9462 - val_accuracy: 0.1429\n",
            "Epoch 58/73\n",
            "10/10 [==============================] - 0s 10ms/step - loss: 1.9457 - accuracy: 0.1366 - val_loss: 1.9462 - val_accuracy: 0.1429\n",
            "Epoch 59/73\n",
            "10/10 [==============================] - 0s 7ms/step - loss: 1.9460 - accuracy: 0.1449 - val_loss: 1.9463 - val_accuracy: 0.1429\n",
            "Epoch 60/73\n",
            "10/10 [==============================] - 0s 7ms/step - loss: 1.9458 - accuracy: 0.1449 - val_loss: 1.9464 - val_accuracy: 0.1429\n",
            "Epoch 61/73\n",
            "10/10 [==============================] - 0s 8ms/step - loss: 1.9457 - accuracy: 0.1449 - val_loss: 1.9463 - val_accuracy: 0.1429\n",
            "Epoch 62/73\n",
            "10/10 [==============================] - 0s 8ms/step - loss: 1.9456 - accuracy: 0.1449 - val_loss: 1.9463 - val_accuracy: 0.1429\n",
            "Epoch 63/73\n",
            "10/10 [==============================] - 0s 28ms/step - loss: 1.9457 - accuracy: 0.1449 - val_loss: 1.9462 - val_accuracy: 0.1429\n",
            "Epoch 64/73\n",
            "10/10 [==============================] - 0s 9ms/step - loss: 1.9457 - accuracy: 0.1449 - val_loss: 1.9463 - val_accuracy: 0.1429\n",
            "Epoch 65/73\n",
            "10/10 [==============================] - 0s 9ms/step - loss: 1.9457 - accuracy: 0.1263 - val_loss: 1.9462 - val_accuracy: 0.1429\n",
            "Epoch 66/73\n",
            "10/10 [==============================] - 0s 7ms/step - loss: 1.9468 - accuracy: 0.1097 - val_loss: 1.9464 - val_accuracy: 0.1429\n",
            "Epoch 67/73\n",
            "10/10 [==============================] - 0s 8ms/step - loss: 1.9457 - accuracy: 0.1449 - val_loss: 1.9463 - val_accuracy: 0.1429\n",
            "Epoch 68/73\n",
            "10/10 [==============================] - 0s 7ms/step - loss: 1.9461 - accuracy: 0.1387 - val_loss: 1.9462 - val_accuracy: 0.1429\n",
            "Epoch 69/73\n",
            "10/10 [==============================] - 0s 7ms/step - loss: 1.9460 - accuracy: 0.1325 - val_loss: 1.9463 - val_accuracy: 0.1429\n",
            "Epoch 70/73\n",
            "10/10 [==============================] - 0s 8ms/step - loss: 1.9461 - accuracy: 0.1449 - val_loss: 1.9464 - val_accuracy: 0.1429\n",
            "Epoch 71/73\n",
            "10/10 [==============================] - 0s 8ms/step - loss: 1.9461 - accuracy: 0.1325 - val_loss: 1.9462 - val_accuracy: 0.1429\n",
            "Epoch 72/73\n",
            "10/10 [==============================] - 0s 9ms/step - loss: 1.9457 - accuracy: 0.1325 - val_loss: 1.9463 - val_accuracy: 0.1429\n",
            "Epoch 73/73\n",
            "10/10 [==============================] - 0s 7ms/step - loss: 1.9457 - accuracy: 0.1449 - val_loss: 1.9463 - val_accuracy: 0.1429\n"
          ]
        }
      ]
    },
    {
      "cell_type": "code",
      "source": [
        "modello_delta_2.predict(X_test)"
      ],
      "metadata": {
        "colab": {
          "base_uri": "https://localhost:8080/"
        },
        "id": "naQriWZvd9FN",
        "outputId": "b42e5abc-002d-4830-d95b-8fff6817b479"
      },
      "execution_count": 49,
      "outputs": [
        {
          "output_type": "stream",
          "name": "stdout",
          "text": [
            "6/6 [==============================] - 1s 156ms/step\n"
          ]
        },
        {
          "output_type": "execute_result",
          "data": {
            "text/plain": [
              "array([[0.1442812 , 0.14522946, 0.14621362, ..., 0.14137372, 0.1452607 ,\n",
              "        0.14381982],\n",
              "       [0.1442975 , 0.14522403, 0.14619039, ..., 0.14137082, 0.14524701,\n",
              "        0.14383005],\n",
              "       [0.14423804, 0.1452429 , 0.14624614, ..., 0.14139836, 0.14527513,\n",
              "        0.14380379],\n",
              "       ...,\n",
              "       [0.14435875, 0.14520505, 0.1461402 , ..., 0.14133728, 0.14522235,\n",
              "        0.14385757],\n",
              "       [0.14426343, 0.14523146, 0.14621395, ..., 0.1413916 , 0.14525695,\n",
              "        0.14381902],\n",
              "       [0.14426196, 0.14523876, 0.14622234, ..., 0.1413874 , 0.1452619 ,\n",
              "        0.1438163 ]], dtype=float32)"
            ]
          },
          "metadata": {},
          "execution_count": 49
        }
      ]
    },
    {
      "cell_type": "code",
      "source": [
        "results_delta_2 = modello_delta_2.evaluate(X_test, Y_test)\n",
        "print('test loss, test acc:', results_delta_2)"
      ],
      "metadata": {
        "colab": {
          "base_uri": "https://localhost:8080/"
        },
        "id": "ssTxKmU3d-fP",
        "outputId": "e494950c-d471-4de1-99b5-9ab13d7b7c20"
      },
      "execution_count": 52,
      "outputs": [
        {
          "output_type": "stream",
          "name": "stdout",
          "text": [
            "6/6 [==============================] - 0s 36ms/step - loss: 1.9443 - accuracy: 0.1829\n",
            "test loss, test acc: [1.9442572593688965, 0.18285714089870453]\n"
          ]
        }
      ]
    },
    {
      "cell_type": "markdown",
      "source": [
        "Modello delta_3:\n",
        "  Provo a costruire nuovi layer, con struttura romboidale, per capire se facendo rimanere gli embedding inziali di word2vec, addestrando solo i pesi dei layer successivi a quelli dello strato di embedding, posso ottenere un modello che mi predice con un accuratezza accettabile."
      ],
      "metadata": {
        "id": "6f-tO1J4ecYK"
      }
    },
    {
      "cell_type": "code",
      "source": [
        "modello_delta_3 = Sequential()\n",
        "modello_delta_3.add(Embedding(vocab_size, embed_dim, weights=[embeddings_matrix], # Here we use the pre-trained embeddings\n",
        "                    input_length=X_train.shape[1], trainable=False))\n",
        "modello_delta_3.add(keras.layers.GlobalAveragePooling1D())\n",
        "modello_delta_3.add(keras.layers.Dense(7, activation=tf.nn.relu))\n",
        "modello_delta_3.add(keras.layers.Dense(14, activation=tf.nn.relu))\n",
        "modello_delta_3.add(keras.layers.Dense(28, activation=tf.nn.relu))\n",
        "modello_delta_3.add(keras.layers.Dense(14, activation=tf.nn.relu))\n",
        "modello_delta_3.add(Dense(7, activation='softmax'))\n",
        "\n",
        "modello_delta_3.summary()\n"
      ],
      "metadata": {
        "colab": {
          "base_uri": "https://localhost:8080/"
        },
        "id": "bpCXo1H6e2RZ",
        "outputId": "c1d681f1-35da-423d-8fb0-3cf03fcea0dc"
      },
      "execution_count": 53,
      "outputs": [
        {
          "output_type": "stream",
          "name": "stdout",
          "text": [
            "Model: \"sequential_3\"\n",
            "_________________________________________________________________\n",
            " Layer (type)                Output Shape              Param #   \n",
            "=================================================================\n",
            " embedding_3 (Embedding)     (None, 185, 100)          460500    \n",
            "                                                                 \n",
            " global_average_pooling1d_3   (None, 100)              0         \n",
            " (GlobalAveragePooling1D)                                        \n",
            "                                                                 \n",
            " dense_6 (Dense)             (None, 7)                 707       \n",
            "                                                                 \n",
            " dense_7 (Dense)             (None, 14)                112       \n",
            "                                                                 \n",
            " dense_8 (Dense)             (None, 28)                420       \n",
            "                                                                 \n",
            " dense_9 (Dense)             (None, 14)                406       \n",
            "                                                                 \n",
            " dense_10 (Dense)            (None, 7)                 105       \n",
            "                                                                 \n",
            "=================================================================\n",
            "Total params: 462,250\n",
            "Trainable params: 1,750\n",
            "Non-trainable params: 460,500\n",
            "_________________________________________________________________\n"
          ]
        }
      ]
    },
    {
      "cell_type": "code",
      "source": [
        "modello_delta_3.compile(optimizer='adam',\n",
        "              loss='categorical_crossentropy',\n",
        "              metrics=['accuracy'])"
      ],
      "metadata": {
        "id": "wU6Nwvz1fNt0"
      },
      "execution_count": 54,
      "outputs": []
    },
    {
      "cell_type": "code",
      "source": [
        "history = modello_delta_3.fit(X_train,\n",
        "                    Y_train,\n",
        "                    epochs=70,\n",
        "                    batch_size=50,\n",
        "                    validation_data=(X_val, Y_val),\n",
        "                    verbose=1)"
      ],
      "metadata": {
        "colab": {
          "base_uri": "https://localhost:8080/"
        },
        "id": "lMueKJEnfV99",
        "outputId": "603b08c1-76d8-499e-a364-9662a5112fd4"
      },
      "execution_count": 55,
      "outputs": [
        {
          "output_type": "stream",
          "name": "stdout",
          "text": [
            "Epoch 1/70\n",
            "10/10 [==============================] - 2s 89ms/step - loss: 1.9470 - accuracy: 0.1449 - val_loss: 1.9461 - val_accuracy: 0.1429\n",
            "Epoch 2/70\n",
            "10/10 [==============================] - 0s 9ms/step - loss: 1.9462 - accuracy: 0.1449 - val_loss: 1.9460 - val_accuracy: 0.1429\n",
            "Epoch 3/70\n",
            "10/10 [==============================] - 0s 9ms/step - loss: 1.9462 - accuracy: 0.1346 - val_loss: 1.9460 - val_accuracy: 0.1429\n",
            "Epoch 4/70\n",
            "10/10 [==============================] - 0s 7ms/step - loss: 1.9461 - accuracy: 0.1449 - val_loss: 1.9459 - val_accuracy: 0.1429\n",
            "Epoch 5/70\n",
            "10/10 [==============================] - 0s 10ms/step - loss: 1.9459 - accuracy: 0.1449 - val_loss: 1.9459 - val_accuracy: 0.1429\n",
            "Epoch 6/70\n",
            "10/10 [==============================] - 0s 7ms/step - loss: 1.9459 - accuracy: 0.1449 - val_loss: 1.9459 - val_accuracy: 0.1429\n",
            "Epoch 7/70\n",
            "10/10 [==============================] - 0s 9ms/step - loss: 1.9459 - accuracy: 0.1449 - val_loss: 1.9459 - val_accuracy: 0.1429\n",
            "Epoch 8/70\n",
            "10/10 [==============================] - 0s 8ms/step - loss: 1.9459 - accuracy: 0.1449 - val_loss: 1.9459 - val_accuracy: 0.1429\n",
            "Epoch 9/70\n",
            "10/10 [==============================] - 0s 9ms/step - loss: 1.9459 - accuracy: 0.1449 - val_loss: 1.9459 - val_accuracy: 0.1429\n",
            "Epoch 10/70\n",
            "10/10 [==============================] - 0s 8ms/step - loss: 1.9459 - accuracy: 0.1449 - val_loss: 1.9459 - val_accuracy: 0.1429\n",
            "Epoch 11/70\n",
            "10/10 [==============================] - 0s 7ms/step - loss: 1.9458 - accuracy: 0.1449 - val_loss: 1.9459 - val_accuracy: 0.1429\n",
            "Epoch 12/70\n",
            "10/10 [==============================] - 0s 9ms/step - loss: 1.9458 - accuracy: 0.1449 - val_loss: 1.9460 - val_accuracy: 0.1429\n",
            "Epoch 13/70\n",
            "10/10 [==============================] - 1s 114ms/step - loss: 1.9458 - accuracy: 0.1449 - val_loss: 1.9460 - val_accuracy: 0.1429\n",
            "Epoch 14/70\n",
            "10/10 [==============================] - 0s 14ms/step - loss: 1.9458 - accuracy: 0.1449 - val_loss: 1.9460 - val_accuracy: 0.1429\n",
            "Epoch 15/70\n",
            "10/10 [==============================] - 0s 11ms/step - loss: 1.9458 - accuracy: 0.1449 - val_loss: 1.9460 - val_accuracy: 0.1429\n",
            "Epoch 16/70\n",
            "10/10 [==============================] - 0s 13ms/step - loss: 1.9458 - accuracy: 0.1449 - val_loss: 1.9460 - val_accuracy: 0.1429\n",
            "Epoch 17/70\n",
            "10/10 [==============================] - 0s 11ms/step - loss: 1.9458 - accuracy: 0.1449 - val_loss: 1.9460 - val_accuracy: 0.1429\n",
            "Epoch 18/70\n",
            "10/10 [==============================] - 0s 13ms/step - loss: 1.9458 - accuracy: 0.1449 - val_loss: 1.9460 - val_accuracy: 0.1429\n",
            "Epoch 19/70\n",
            "10/10 [==============================] - 0s 13ms/step - loss: 1.9458 - accuracy: 0.1449 - val_loss: 1.9460 - val_accuracy: 0.1429\n",
            "Epoch 20/70\n",
            "10/10 [==============================] - 1s 113ms/step - loss: 1.9459 - accuracy: 0.1449 - val_loss: 1.9460 - val_accuracy: 0.1429\n",
            "Epoch 21/70\n",
            "10/10 [==============================] - 0s 8ms/step - loss: 1.9457 - accuracy: 0.1449 - val_loss: 1.9460 - val_accuracy: 0.1429\n",
            "Epoch 22/70\n",
            "10/10 [==============================] - 0s 8ms/step - loss: 1.9457 - accuracy: 0.1449 - val_loss: 1.9460 - val_accuracy: 0.1429\n",
            "Epoch 23/70\n",
            "10/10 [==============================] - 0s 7ms/step - loss: 1.9457 - accuracy: 0.1449 - val_loss: 1.9460 - val_accuracy: 0.1429\n",
            "Epoch 24/70\n",
            "10/10 [==============================] - 0s 8ms/step - loss: 1.9458 - accuracy: 0.1366 - val_loss: 1.9460 - val_accuracy: 0.1429\n",
            "Epoch 25/70\n",
            "10/10 [==============================] - 0s 9ms/step - loss: 1.9458 - accuracy: 0.1387 - val_loss: 1.9460 - val_accuracy: 0.1429\n",
            "Epoch 26/70\n",
            "10/10 [==============================] - 0s 7ms/step - loss: 1.9458 - accuracy: 0.1449 - val_loss: 1.9460 - val_accuracy: 0.1429\n",
            "Epoch 27/70\n",
            "10/10 [==============================] - 0s 9ms/step - loss: 1.9457 - accuracy: 0.1346 - val_loss: 1.9460 - val_accuracy: 0.1429\n",
            "Epoch 28/70\n",
            "10/10 [==============================] - 0s 8ms/step - loss: 1.9458 - accuracy: 0.1201 - val_loss: 1.9460 - val_accuracy: 0.1429\n",
            "Epoch 29/70\n",
            "10/10 [==============================] - 0s 9ms/step - loss: 1.9457 - accuracy: 0.1366 - val_loss: 1.9460 - val_accuracy: 0.1429\n",
            "Epoch 30/70\n",
            "10/10 [==============================] - 0s 7ms/step - loss: 1.9457 - accuracy: 0.1263 - val_loss: 1.9460 - val_accuracy: 0.1429\n",
            "Epoch 31/70\n",
            "10/10 [==============================] - 0s 7ms/step - loss: 1.9457 - accuracy: 0.1449 - val_loss: 1.9460 - val_accuracy: 0.1429\n",
            "Epoch 32/70\n",
            "10/10 [==============================] - 0s 10ms/step - loss: 1.9457 - accuracy: 0.1387 - val_loss: 1.9461 - val_accuracy: 0.1429\n",
            "Epoch 33/70\n",
            "10/10 [==============================] - 1s 98ms/step - loss: 1.9457 - accuracy: 0.1449 - val_loss: 1.9461 - val_accuracy: 0.1429\n",
            "Epoch 34/70\n",
            "10/10 [==============================] - 1s 97ms/step - loss: 1.9457 - accuracy: 0.1222 - val_loss: 1.9461 - val_accuracy: 0.1429\n",
            "Epoch 35/70\n",
            "10/10 [==============================] - 0s 35ms/step - loss: 1.9457 - accuracy: 0.1449 - val_loss: 1.9461 - val_accuracy: 0.1429\n",
            "Epoch 36/70\n",
            "10/10 [==============================] - 0s 10ms/step - loss: 1.9457 - accuracy: 0.1449 - val_loss: 1.9461 - val_accuracy: 0.1429\n",
            "Epoch 37/70\n",
            "10/10 [==============================] - 0s 11ms/step - loss: 1.9457 - accuracy: 0.1449 - val_loss: 1.9461 - val_accuracy: 0.1429\n",
            "Epoch 38/70\n",
            "10/10 [==============================] - 0s 8ms/step - loss: 1.9456 - accuracy: 0.1449 - val_loss: 1.9461 - val_accuracy: 0.1429\n",
            "Epoch 39/70\n",
            "10/10 [==============================] - 0s 8ms/step - loss: 1.9458 - accuracy: 0.1304 - val_loss: 1.9461 - val_accuracy: 0.1429\n",
            "Epoch 40/70\n",
            "10/10 [==============================] - 0s 8ms/step - loss: 1.9456 - accuracy: 0.1449 - val_loss: 1.9461 - val_accuracy: 0.1429\n",
            "Epoch 41/70\n",
            "10/10 [==============================] - 0s 10ms/step - loss: 1.9457 - accuracy: 0.1449 - val_loss: 1.9461 - val_accuracy: 0.1429\n",
            "Epoch 42/70\n",
            "10/10 [==============================] - 0s 8ms/step - loss: 1.9457 - accuracy: 0.1449 - val_loss: 1.9461 - val_accuracy: 0.1429\n",
            "Epoch 43/70\n",
            "10/10 [==============================] - 0s 7ms/step - loss: 1.9457 - accuracy: 0.1387 - val_loss: 1.9461 - val_accuracy: 0.1429\n",
            "Epoch 44/70\n",
            "10/10 [==============================] - 0s 8ms/step - loss: 1.9457 - accuracy: 0.1263 - val_loss: 1.9461 - val_accuracy: 0.1429\n",
            "Epoch 45/70\n",
            "10/10 [==============================] - 0s 8ms/step - loss: 1.9457 - accuracy: 0.1077 - val_loss: 1.9461 - val_accuracy: 0.1429\n",
            "Epoch 46/70\n",
            "10/10 [==============================] - 0s 9ms/step - loss: 1.9458 - accuracy: 0.1139 - val_loss: 1.9461 - val_accuracy: 0.1429\n",
            "Epoch 47/70\n",
            "10/10 [==============================] - 0s 7ms/step - loss: 1.9457 - accuracy: 0.1325 - val_loss: 1.9461 - val_accuracy: 0.1429\n",
            "Epoch 48/70\n",
            "10/10 [==============================] - 0s 8ms/step - loss: 1.9456 - accuracy: 0.1449 - val_loss: 1.9461 - val_accuracy: 0.1429\n",
            "Epoch 49/70\n",
            "10/10 [==============================] - 0s 9ms/step - loss: 1.9456 - accuracy: 0.1387 - val_loss: 1.9461 - val_accuracy: 0.1429\n",
            "Epoch 50/70\n",
            "10/10 [==============================] - 0s 9ms/step - loss: 1.9456 - accuracy: 0.1449 - val_loss: 1.9461 - val_accuracy: 0.1429\n",
            "Epoch 51/70\n",
            "10/10 [==============================] - 0s 11ms/step - loss: 1.9456 - accuracy: 0.1449 - val_loss: 1.9461 - val_accuracy: 0.1429\n",
            "Epoch 52/70\n",
            "10/10 [==============================] - 0s 9ms/step - loss: 1.9456 - accuracy: 0.1366 - val_loss: 1.9461 - val_accuracy: 0.1429\n",
            "Epoch 53/70\n",
            "10/10 [==============================] - 0s 7ms/step - loss: 1.9457 - accuracy: 0.1449 - val_loss: 1.9461 - val_accuracy: 0.1429\n",
            "Epoch 54/70\n",
            "10/10 [==============================] - 0s 8ms/step - loss: 1.9456 - accuracy: 0.1449 - val_loss: 1.9461 - val_accuracy: 0.1429\n",
            "Epoch 55/70\n",
            "10/10 [==============================] - 0s 7ms/step - loss: 1.9457 - accuracy: 0.1449 - val_loss: 1.9461 - val_accuracy: 0.1429\n",
            "Epoch 56/70\n",
            "10/10 [==============================] - 0s 10ms/step - loss: 1.9457 - accuracy: 0.1449 - val_loss: 1.9462 - val_accuracy: 0.1429\n",
            "Epoch 57/70\n",
            "10/10 [==============================] - 0s 8ms/step - loss: 1.9456 - accuracy: 0.1201 - val_loss: 1.9462 - val_accuracy: 0.1429\n",
            "Epoch 58/70\n",
            "10/10 [==============================] - 0s 8ms/step - loss: 1.9457 - accuracy: 0.1449 - val_loss: 1.9462 - val_accuracy: 0.1429\n",
            "Epoch 59/70\n",
            "10/10 [==============================] - 0s 9ms/step - loss: 1.9456 - accuracy: 0.1449 - val_loss: 1.9462 - val_accuracy: 0.1429\n",
            "Epoch 60/70\n",
            "10/10 [==============================] - 0s 8ms/step - loss: 1.9457 - accuracy: 0.1449 - val_loss: 1.9462 - val_accuracy: 0.1429\n",
            "Epoch 61/70\n",
            "10/10 [==============================] - 0s 8ms/step - loss: 1.9457 - accuracy: 0.1449 - val_loss: 1.9462 - val_accuracy: 0.1429\n",
            "Epoch 62/70\n",
            "10/10 [==============================] - 0s 7ms/step - loss: 1.9456 - accuracy: 0.1449 - val_loss: 1.9462 - val_accuracy: 0.1429\n",
            "Epoch 63/70\n",
            "10/10 [==============================] - 0s 10ms/step - loss: 1.9457 - accuracy: 0.1449 - val_loss: 1.9462 - val_accuracy: 0.1429\n",
            "Epoch 64/70\n",
            "10/10 [==============================] - 0s 8ms/step - loss: 1.9457 - accuracy: 0.1449 - val_loss: 1.9462 - val_accuracy: 0.1429\n",
            "Epoch 65/70\n",
            "10/10 [==============================] - 0s 7ms/step - loss: 1.9456 - accuracy: 0.1449 - val_loss: 1.9462 - val_accuracy: 0.1429\n",
            "Epoch 66/70\n",
            "10/10 [==============================] - 0s 9ms/step - loss: 1.9456 - accuracy: 0.1304 - val_loss: 1.9462 - val_accuracy: 0.1429\n",
            "Epoch 67/70\n",
            "10/10 [==============================] - 0s 8ms/step - loss: 1.9457 - accuracy: 0.1449 - val_loss: 1.9462 - val_accuracy: 0.1429\n",
            "Epoch 68/70\n",
            "10/10 [==============================] - 0s 7ms/step - loss: 1.9456 - accuracy: 0.1242 - val_loss: 1.9462 - val_accuracy: 0.1429\n",
            "Epoch 69/70\n",
            "10/10 [==============================] - 0s 9ms/step - loss: 1.9456 - accuracy: 0.1429 - val_loss: 1.9462 - val_accuracy: 0.1429\n",
            "Epoch 70/70\n",
            "10/10 [==============================] - 0s 13ms/step - loss: 1.9457 - accuracy: 0.1304 - val_loss: 1.9462 - val_accuracy: 0.1429\n"
          ]
        }
      ]
    },
    {
      "cell_type": "markdown",
      "source": [
        "modello delta_4\n",
        "provo a eliminare lo strato di GlobalAveragPooling. lo sostituisco con 4 strati LSTM (2 bidirezionale e 2 unidirezionali)\n"
      ],
      "metadata": {
        "id": "zAs6nKuOfy1U"
      }
    },
    {
      "cell_type": "code",
      "source": [
        "lstm_out=10\n",
        "modello_delta_4 = Sequential()\n",
        "modello_delta_4.add(Embedding(vocab_size, embed_dim, weights=[embeddings_matrix], # Here we use the pre-trained embeddings\n",
        "                    input_length=X_train.shape[1], trainable=False))\n",
        "modello_delta_4.add(Bidirectional(LSTM(lstm_out, return_sequences=True, # this option must be used if we have more LSTM\n",
        "                             activation='tanh', dropout=0.2, recurrent_dropout=0.2)))\n",
        "modello_delta_4.add(LSTM(lstm_out, return_sequences=True))\n",
        "modello_delta_4.add(Bidirectional(LSTM(lstm_out, return_sequences=True, # this option must be used if we have more LSTM\n",
        "                             activation='tanh', dropout=0.2, recurrent_dropout=0.2)))\n",
        "modello_delta_4.add(LSTM(lstm_out))\n",
        "modello_delta_4.add(keras.layers.Dense(16, activation=tf.nn.relu))\n",
        "modello_delta_4.add(Dense(7, activation='softmax'))\n",
        "\n",
        "modello_delta_4.summary()"
      ],
      "metadata": {
        "colab": {
          "base_uri": "https://localhost:8080/"
        },
        "id": "IuI-IDuaf3Wp",
        "outputId": "4dd670b8-bcc5-4624-f7ca-20f0251036b0"
      },
      "execution_count": 56,
      "outputs": [
        {
          "output_type": "stream",
          "name": "stdout",
          "text": [
            "Model: \"sequential_4\"\n",
            "_________________________________________________________________\n",
            " Layer (type)                Output Shape              Param #   \n",
            "=================================================================\n",
            " embedding_4 (Embedding)     (None, 185, 100)          460500    \n",
            "                                                                 \n",
            " bidirectional (Bidirectiona  (None, 185, 20)          8880      \n",
            " l)                                                              \n",
            "                                                                 \n",
            " lstm_1 (LSTM)               (None, 185, 10)           1240      \n",
            "                                                                 \n",
            " bidirectional_1 (Bidirectio  (None, 185, 20)          1680      \n",
            " nal)                                                            \n",
            "                                                                 \n",
            " lstm_3 (LSTM)               (None, 10)                1240      \n",
            "                                                                 \n",
            " dense_11 (Dense)            (None, 16)                176       \n",
            "                                                                 \n",
            " dense_12 (Dense)            (None, 7)                 119       \n",
            "                                                                 \n",
            "=================================================================\n",
            "Total params: 473,835\n",
            "Trainable params: 13,335\n",
            "Non-trainable params: 460,500\n",
            "_________________________________________________________________\n"
          ]
        }
      ]
    },
    {
      "cell_type": "code",
      "source": [
        "modello_delta_4.compile(optimizer='adam',\n",
        "              loss='categorical_crossentropy',\n",
        "              metrics=['accuracy'])"
      ],
      "metadata": {
        "id": "e4eu127IggTe"
      },
      "execution_count": 57,
      "outputs": []
    },
    {
      "cell_type": "code",
      "source": [
        "history = modello_delta_4.fit(X_train,\n",
        "                    Y_train,\n",
        "                    epochs=70,\n",
        "                    batch_size=50,\n",
        "                    validation_data=(X_val, Y_val),\n",
        "                    verbose=1)"
      ],
      "metadata": {
        "colab": {
          "base_uri": "https://localhost:8080/"
        },
        "id": "sp3LABGDglgx",
        "outputId": "dc409044-b66a-4293-cf36-871121330850"
      },
      "execution_count": 58,
      "outputs": [
        {
          "output_type": "stream",
          "name": "stdout",
          "text": [
            "Epoch 1/70\n",
            "10/10 [==============================] - 33s 1s/step - loss: 1.9462 - accuracy: 0.1532 - val_loss: 1.9461 - val_accuracy: 0.1429\n",
            "Epoch 2/70\n",
            "10/10 [==============================] - 12s 1s/step - loss: 1.9462 - accuracy: 0.1346 - val_loss: 1.9463 - val_accuracy: 0.1429\n",
            "Epoch 3/70\n",
            "10/10 [==============================] - 11s 1s/step - loss: 1.9461 - accuracy: 0.1573 - val_loss: 1.9461 - val_accuracy: 0.1429\n",
            "Epoch 4/70\n",
            "10/10 [==============================] - 12s 1s/step - loss: 1.9460 - accuracy: 0.1449 - val_loss: 1.9461 - val_accuracy: 0.1429\n",
            "Epoch 5/70\n",
            "10/10 [==============================] - 11s 1s/step - loss: 1.9460 - accuracy: 0.1284 - val_loss: 1.9461 - val_accuracy: 0.1429\n",
            "Epoch 6/70\n",
            "10/10 [==============================] - 12s 1s/step - loss: 1.9460 - accuracy: 0.1325 - val_loss: 1.9460 - val_accuracy: 0.1429\n",
            "Epoch 7/70\n",
            "10/10 [==============================] - 12s 1s/step - loss: 1.9459 - accuracy: 0.1429 - val_loss: 1.9460 - val_accuracy: 0.1429\n",
            "Epoch 8/70\n",
            "10/10 [==============================] - 12s 1s/step - loss: 1.9460 - accuracy: 0.1159 - val_loss: 1.9461 - val_accuracy: 0.1429\n",
            "Epoch 9/70\n",
            "10/10 [==============================] - 12s 1s/step - loss: 1.9470 - accuracy: 0.1366 - val_loss: 1.9462 - val_accuracy: 0.1429\n",
            "Epoch 10/70\n",
            "10/10 [==============================] - 11s 1s/step - loss: 1.9461 - accuracy: 0.1429 - val_loss: 1.9461 - val_accuracy: 0.1429\n",
            "Epoch 11/70\n",
            "10/10 [==============================] - 12s 1s/step - loss: 1.9455 - accuracy: 0.1532 - val_loss: 1.9460 - val_accuracy: 0.1429\n",
            "Epoch 12/70\n",
            "10/10 [==============================] - 12s 1s/step - loss: 1.9459 - accuracy: 0.1429 - val_loss: 1.9461 - val_accuracy: 0.1429\n",
            "Epoch 13/70\n",
            "10/10 [==============================] - 13s 1s/step - loss: 1.9457 - accuracy: 0.1449 - val_loss: 1.9462 - val_accuracy: 0.1429\n",
            "Epoch 14/70\n",
            "10/10 [==============================] - 13s 1s/step - loss: 1.9459 - accuracy: 0.1449 - val_loss: 1.9461 - val_accuracy: 0.1429\n",
            "Epoch 15/70\n",
            "10/10 [==============================] - 13s 1s/step - loss: 1.9466 - accuracy: 0.1449 - val_loss: 1.9461 - val_accuracy: 0.1429\n",
            "Epoch 16/70\n",
            "10/10 [==============================] - 12s 1s/step - loss: 1.9455 - accuracy: 0.1511 - val_loss: 1.9461 - val_accuracy: 0.1429\n",
            "Epoch 17/70\n",
            "10/10 [==============================] - 12s 1s/step - loss: 1.9460 - accuracy: 0.1470 - val_loss: 1.9462 - val_accuracy: 0.1429\n",
            "Epoch 18/70\n",
            "10/10 [==============================] - 12s 1s/step - loss: 1.9462 - accuracy: 0.1449 - val_loss: 1.9461 - val_accuracy: 0.1429\n",
            "Epoch 19/70\n",
            "10/10 [==============================] - 12s 1s/step - loss: 1.9458 - accuracy: 0.1366 - val_loss: 1.9461 - val_accuracy: 0.1429\n",
            "Epoch 20/70\n",
            "10/10 [==============================] - 12s 1s/step - loss: 1.9458 - accuracy: 0.1346 - val_loss: 1.9461 - val_accuracy: 0.1429\n",
            "Epoch 21/70\n",
            "10/10 [==============================] - 13s 1s/step - loss: 1.9459 - accuracy: 0.1408 - val_loss: 1.9461 - val_accuracy: 0.1429\n",
            "Epoch 22/70\n",
            "10/10 [==============================] - 13s 1s/step - loss: 1.9460 - accuracy: 0.1366 - val_loss: 1.9460 - val_accuracy: 0.1429\n",
            "Epoch 23/70\n",
            "10/10 [==============================] - 12s 1s/step - loss: 1.9458 - accuracy: 0.1304 - val_loss: 1.9461 - val_accuracy: 0.1000\n",
            "Epoch 24/70\n",
            "10/10 [==============================] - 12s 1s/step - loss: 1.9460 - accuracy: 0.1325 - val_loss: 1.9461 - val_accuracy: 0.1429\n",
            "Epoch 25/70\n",
            "10/10 [==============================] - 12s 1s/step - loss: 1.9457 - accuracy: 0.1491 - val_loss: 1.9461 - val_accuracy: 0.1429\n",
            "Epoch 26/70\n",
            "10/10 [==============================] - 12s 1s/step - loss: 1.9460 - accuracy: 0.1532 - val_loss: 1.9461 - val_accuracy: 0.1429\n",
            "Epoch 27/70\n",
            "10/10 [==============================] - 12s 1s/step - loss: 1.9464 - accuracy: 0.1284 - val_loss: 1.9461 - val_accuracy: 0.1429\n",
            "Epoch 28/70\n",
            "10/10 [==============================] - 12s 1s/step - loss: 1.9461 - accuracy: 0.1263 - val_loss: 1.9462 - val_accuracy: 0.1429\n",
            "Epoch 29/70\n",
            "10/10 [==============================] - 12s 1s/step - loss: 1.9459 - accuracy: 0.1366 - val_loss: 1.9461 - val_accuracy: 0.1429\n",
            "Epoch 30/70\n",
            "10/10 [==============================] - 12s 1s/step - loss: 1.9458 - accuracy: 0.1408 - val_loss: 1.9462 - val_accuracy: 0.1429\n",
            "Epoch 31/70\n",
            "10/10 [==============================] - 12s 1s/step - loss: 1.9456 - accuracy: 0.1366 - val_loss: 1.9462 - val_accuracy: 0.1286\n",
            "Epoch 32/70\n",
            "10/10 [==============================] - 13s 1s/step - loss: 1.9458 - accuracy: 0.1325 - val_loss: 1.9462 - val_accuracy: 0.1429\n",
            "Epoch 33/70\n",
            "10/10 [==============================] - 15s 1s/step - loss: 1.9457 - accuracy: 0.1387 - val_loss: 1.9462 - val_accuracy: 0.1429\n",
            "Epoch 34/70\n",
            "10/10 [==============================] - 13s 1s/step - loss: 1.9458 - accuracy: 0.1263 - val_loss: 1.9462 - val_accuracy: 0.1429\n",
            "Epoch 35/70\n",
            "10/10 [==============================] - 13s 1s/step - loss: 1.9459 - accuracy: 0.1304 - val_loss: 1.9461 - val_accuracy: 0.1429\n",
            "Epoch 36/70\n",
            "10/10 [==============================] - 14s 1s/step - loss: 1.9459 - accuracy: 0.1139 - val_loss: 1.9463 - val_accuracy: 0.1429\n",
            "Epoch 37/70\n",
            "10/10 [==============================] - 13s 1s/step - loss: 1.9458 - accuracy: 0.1449 - val_loss: 1.9463 - val_accuracy: 0.1429\n",
            "Epoch 38/70\n",
            "10/10 [==============================] - 12s 1s/step - loss: 1.9461 - accuracy: 0.1263 - val_loss: 1.9462 - val_accuracy: 0.1429\n",
            "Epoch 39/70\n",
            "10/10 [==============================] - 12s 1s/step - loss: 1.9455 - accuracy: 0.1470 - val_loss: 1.9461 - val_accuracy: 0.1429\n",
            "Epoch 40/70\n",
            "10/10 [==============================] - 13s 1s/step - loss: 1.9459 - accuracy: 0.1346 - val_loss: 1.9461 - val_accuracy: 0.1429\n",
            "Epoch 41/70\n",
            "10/10 [==============================] - 12s 1s/step - loss: 1.9458 - accuracy: 0.1263 - val_loss: 1.9462 - val_accuracy: 0.1429\n",
            "Epoch 42/70\n",
            "10/10 [==============================] - 12s 1s/step - loss: 1.9460 - accuracy: 0.1242 - val_loss: 1.9463 - val_accuracy: 0.1429\n",
            "Epoch 43/70\n",
            "10/10 [==============================] - 12s 1s/step - loss: 1.9455 - accuracy: 0.1573 - val_loss: 1.9462 - val_accuracy: 0.1429\n",
            "Epoch 44/70\n",
            "10/10 [==============================] - 12s 1s/step - loss: 1.9457 - accuracy: 0.1449 - val_loss: 1.9461 - val_accuracy: 0.1429\n",
            "Epoch 45/70\n",
            "10/10 [==============================] - 13s 1s/step - loss: 1.9458 - accuracy: 0.1429 - val_loss: 1.9461 - val_accuracy: 0.1429\n",
            "Epoch 46/70\n",
            "10/10 [==============================] - 13s 1s/step - loss: 1.9457 - accuracy: 0.1284 - val_loss: 1.9461 - val_accuracy: 0.1429\n",
            "Epoch 47/70\n",
            "10/10 [==============================] - 12s 1s/step - loss: 1.9457 - accuracy: 0.1387 - val_loss: 1.9461 - val_accuracy: 0.1429\n",
            "Epoch 48/70\n",
            "10/10 [==============================] - 12s 1s/step - loss: 1.9457 - accuracy: 0.1449 - val_loss: 1.9462 - val_accuracy: 0.1429\n",
            "Epoch 49/70\n",
            "10/10 [==============================] - 13s 1s/step - loss: 1.9458 - accuracy: 0.1470 - val_loss: 1.9462 - val_accuracy: 0.1429\n",
            "Epoch 50/70\n",
            "10/10 [==============================] - 12s 1s/step - loss: 1.9457 - accuracy: 0.1408 - val_loss: 1.9462 - val_accuracy: 0.1429\n",
            "Epoch 51/70\n",
            "10/10 [==============================] - 13s 1s/step - loss: 1.9457 - accuracy: 0.1470 - val_loss: 1.9462 - val_accuracy: 0.1429\n",
            "Epoch 52/70\n",
            "10/10 [==============================] - 12s 1s/step - loss: 1.9458 - accuracy: 0.1325 - val_loss: 1.9463 - val_accuracy: 0.1429\n",
            "Epoch 53/70\n",
            "10/10 [==============================] - 13s 1s/step - loss: 1.9458 - accuracy: 0.1222 - val_loss: 1.9463 - val_accuracy: 0.1429\n",
            "Epoch 54/70\n",
            "10/10 [==============================] - 12s 1s/step - loss: 1.9460 - accuracy: 0.1429 - val_loss: 1.9462 - val_accuracy: 0.1429\n",
            "Epoch 55/70\n",
            "10/10 [==============================] - 12s 1s/step - loss: 1.9459 - accuracy: 0.1366 - val_loss: 1.9462 - val_accuracy: 0.1429\n",
            "Epoch 56/70\n",
            "10/10 [==============================] - 12s 1s/step - loss: 1.9456 - accuracy: 0.1491 - val_loss: 1.9462 - val_accuracy: 0.1429\n",
            "Epoch 57/70\n",
            "10/10 [==============================] - 12s 1s/step - loss: 1.9457 - accuracy: 0.1263 - val_loss: 1.9462 - val_accuracy: 0.1429\n",
            "Epoch 58/70\n",
            "10/10 [==============================] - 12s 1s/step - loss: 1.9459 - accuracy: 0.1325 - val_loss: 1.9463 - val_accuracy: 0.1429\n",
            "Epoch 59/70\n",
            "10/10 [==============================] - 12s 1s/step - loss: 1.9457 - accuracy: 0.1263 - val_loss: 1.9462 - val_accuracy: 0.1429\n",
            "Epoch 60/70\n",
            "10/10 [==============================] - 12s 1s/step - loss: 1.9457 - accuracy: 0.1346 - val_loss: 1.9462 - val_accuracy: 0.1429\n",
            "Epoch 61/70\n",
            "10/10 [==============================] - 13s 1s/step - loss: 1.9458 - accuracy: 0.1470 - val_loss: 1.9462 - val_accuracy: 0.1429\n",
            "Epoch 62/70\n",
            "10/10 [==============================] - 12s 1s/step - loss: 1.9458 - accuracy: 0.1449 - val_loss: 1.9462 - val_accuracy: 0.1429\n",
            "Epoch 63/70\n",
            "10/10 [==============================] - 12s 1s/step - loss: 1.9459 - accuracy: 0.1304 - val_loss: 1.9462 - val_accuracy: 0.1429\n",
            "Epoch 64/70\n",
            "10/10 [==============================] - 12s 1s/step - loss: 1.9457 - accuracy: 0.1304 - val_loss: 1.9462 - val_accuracy: 0.1429\n",
            "Epoch 65/70\n",
            "10/10 [==============================] - 11s 1s/step - loss: 1.9459 - accuracy: 0.1449 - val_loss: 1.9462 - val_accuracy: 0.1429\n",
            "Epoch 66/70\n",
            "10/10 [==============================] - 12s 1s/step - loss: 1.9460 - accuracy: 0.1180 - val_loss: 1.9462 - val_accuracy: 0.1429\n",
            "Epoch 67/70\n",
            "10/10 [==============================] - 12s 1s/step - loss: 1.9458 - accuracy: 0.1366 - val_loss: 1.9462 - val_accuracy: 0.1571\n",
            "Epoch 68/70\n",
            "10/10 [==============================] - 12s 1s/step - loss: 1.9457 - accuracy: 0.1304 - val_loss: 1.9462 - val_accuracy: 0.1429\n",
            "Epoch 69/70\n",
            "10/10 [==============================] - 12s 1s/step - loss: 1.9461 - accuracy: 0.1346 - val_loss: 1.9461 - val_accuracy: 0.1429\n",
            "Epoch 70/70\n",
            "10/10 [==============================] - 13s 1s/step - loss: 1.9457 - accuracy: 0.1449 - val_loss: 1.9461 - val_accuracy: 0.1429\n"
          ]
        }
      ]
    },
    {
      "cell_type": "markdown",
      "source": [
        "**In sintesi, mantenendo i valori degli embedding invariati, e provando vari modelli, anche con stessa struttura del gamma 1, non si riesce a costruire un modello che sappia predire gli esercizi matematici.\n",
        "I valori restituiti dalla matrice di embedding dell'Word2Vec non riescono a coprire la rilevanza dei significati delle parole immerse in un contesto più tecnico, in termini di differenza di specificità dell'argomento proposto dall'esercizio. Sono infatti valori più generali e inerenti a un linguaggio non troppo dettagliato per questo specifico problema.**\n",
        "\n",
        "\n",
        "**Bisogna quindi apprendere dei nuovi valori che ci qualificano le parole in ambiente più specifico, addestrando quindi necessariamente nuovi pesi per gli embeddings.**"
      ],
      "metadata": {
        "id": "1oMvCvfytWOD"
      }
    },
    {
      "cell_type": "markdown",
      "source": [
        "Risultati:\n",
        "\n",
        "con il modello gamma 1 il massimo risultato ottenuto in termini di accuratezza è stato con 70 epoche, avendo ottenuto un'accuratezza di:\n",
        "\n",
        "*   0.9772 sui dati di training\n",
        "*   0.7714 sul validation set (ultima epoca)\n",
        "*   0.72 sui dati di test\n",
        "\n",
        "\n",
        "con il modello delta 1 il massimo valore di accuratezza (considerando preponderanti i dati di test) è stato ottenuto per 72 epoche.\n",
        "accuracy:\n",
        "\n",
        "*   0.9607 sui dati di training\n",
        "*   0.6143 sul validation set (ultima epoca)\n",
        "*   0.7085 sui dati di test\n",
        "\n",
        "Il fatto di addestrare il modello partendo da una matrice di embeddings, ottenuta tramite word2vec, non porta a maggiori livelli di accuratezza, anzi.\n"
      ],
      "metadata": {
        "id": "dMNv5gEc_NHX"
      }
    }
  ]
}